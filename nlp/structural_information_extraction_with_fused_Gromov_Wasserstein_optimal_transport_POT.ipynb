{
  "nbformat": 4,
  "nbformat_minor": 0,
  "metadata": {
    "colab": {
      "provenance": []
    },
    "kernelspec": {
      "name": "python3",
      "display_name": "Python 3"
    },
    "language_info": {
      "name": "python"
    },
    "widgets": {
      "application/vnd.jupyter.widget-state+json": {
        "86a4fdd56a704aed875d9d5ed8ed4089": {
          "model_module": "@jupyter-widgets/controls",
          "model_name": "HBoxModel",
          "model_module_version": "1.5.0",
          "state": {
            "_dom_classes": [],
            "_model_module": "@jupyter-widgets/controls",
            "_model_module_version": "1.5.0",
            "_model_name": "HBoxModel",
            "_view_count": null,
            "_view_module": "@jupyter-widgets/controls",
            "_view_module_version": "1.5.0",
            "_view_name": "HBoxView",
            "box_style": "",
            "children": [
              "IPY_MODEL_546411475c124665b8603eea3cc4b6a8",
              "IPY_MODEL_f7972395a46a4b20b9851fb0de2a5760",
              "IPY_MODEL_8ff22119361047379ffb1fde0c0f0c19"
            ],
            "layout": "IPY_MODEL_ea2f86507b2e4d79ae0424c7fcdd1880"
          }
        },
        "546411475c124665b8603eea3cc4b6a8": {
          "model_module": "@jupyter-widgets/controls",
          "model_name": "HTMLModel",
          "model_module_version": "1.5.0",
          "state": {
            "_dom_classes": [],
            "_model_module": "@jupyter-widgets/controls",
            "_model_module_version": "1.5.0",
            "_model_name": "HTMLModel",
            "_view_count": null,
            "_view_module": "@jupyter-widgets/controls",
            "_view_module_version": "1.5.0",
            "_view_name": "HTMLView",
            "description": "",
            "description_tooltip": null,
            "layout": "IPY_MODEL_c61db4f3135c42078bdef4cbf79143bb",
            "placeholder": "​",
            "style": "IPY_MODEL_764538258c60425bbfb7ad00a6637dbc",
            "value": "Downloading: 100%"
          }
        },
        "f7972395a46a4b20b9851fb0de2a5760": {
          "model_module": "@jupyter-widgets/controls",
          "model_name": "FloatProgressModel",
          "model_module_version": "1.5.0",
          "state": {
            "_dom_classes": [],
            "_model_module": "@jupyter-widgets/controls",
            "_model_module_version": "1.5.0",
            "_model_name": "FloatProgressModel",
            "_view_count": null,
            "_view_module": "@jupyter-widgets/controls",
            "_view_module_version": "1.5.0",
            "_view_name": "ProgressView",
            "bar_style": "success",
            "description": "",
            "description_tooltip": null,
            "layout": "IPY_MODEL_6385d2aa95834b72a5c206cd3de495a7",
            "max": 257706,
            "min": 0,
            "orientation": "horizontal",
            "style": "IPY_MODEL_ab002bdf1ce24066955dff6f83d69428",
            "value": 257706
          }
        },
        "8ff22119361047379ffb1fde0c0f0c19": {
          "model_module": "@jupyter-widgets/controls",
          "model_name": "HTMLModel",
          "model_module_version": "1.5.0",
          "state": {
            "_dom_classes": [],
            "_model_module": "@jupyter-widgets/controls",
            "_model_module_version": "1.5.0",
            "_model_name": "HTMLModel",
            "_view_count": null,
            "_view_module": "@jupyter-widgets/controls",
            "_view_module_version": "1.5.0",
            "_view_name": "HTMLView",
            "description": "",
            "description_tooltip": null,
            "layout": "IPY_MODEL_246d232efd024cd395f0fd79de6275fc",
            "placeholder": "​",
            "style": "IPY_MODEL_6f838632c8e340b280879b52099fc16a",
            "value": " 252k/252k [00:00&lt;00:00, 1.27MB/s]"
          }
        },
        "ea2f86507b2e4d79ae0424c7fcdd1880": {
          "model_module": "@jupyter-widgets/base",
          "model_name": "LayoutModel",
          "model_module_version": "1.2.0",
          "state": {
            "_model_module": "@jupyter-widgets/base",
            "_model_module_version": "1.2.0",
            "_model_name": "LayoutModel",
            "_view_count": null,
            "_view_module": "@jupyter-widgets/base",
            "_view_module_version": "1.2.0",
            "_view_name": "LayoutView",
            "align_content": null,
            "align_items": null,
            "align_self": null,
            "border": null,
            "bottom": null,
            "display": null,
            "flex": null,
            "flex_flow": null,
            "grid_area": null,
            "grid_auto_columns": null,
            "grid_auto_flow": null,
            "grid_auto_rows": null,
            "grid_column": null,
            "grid_gap": null,
            "grid_row": null,
            "grid_template_areas": null,
            "grid_template_columns": null,
            "grid_template_rows": null,
            "height": null,
            "justify_content": null,
            "justify_items": null,
            "left": null,
            "margin": null,
            "max_height": null,
            "max_width": null,
            "min_height": null,
            "min_width": null,
            "object_fit": null,
            "object_position": null,
            "order": null,
            "overflow": null,
            "overflow_x": null,
            "overflow_y": null,
            "padding": null,
            "right": null,
            "top": null,
            "visibility": null,
            "width": null
          }
        },
        "c61db4f3135c42078bdef4cbf79143bb": {
          "model_module": "@jupyter-widgets/base",
          "model_name": "LayoutModel",
          "model_module_version": "1.2.0",
          "state": {
            "_model_module": "@jupyter-widgets/base",
            "_model_module_version": "1.2.0",
            "_model_name": "LayoutModel",
            "_view_count": null,
            "_view_module": "@jupyter-widgets/base",
            "_view_module_version": "1.2.0",
            "_view_name": "LayoutView",
            "align_content": null,
            "align_items": null,
            "align_self": null,
            "border": null,
            "bottom": null,
            "display": null,
            "flex": null,
            "flex_flow": null,
            "grid_area": null,
            "grid_auto_columns": null,
            "grid_auto_flow": null,
            "grid_auto_rows": null,
            "grid_column": null,
            "grid_gap": null,
            "grid_row": null,
            "grid_template_areas": null,
            "grid_template_columns": null,
            "grid_template_rows": null,
            "height": null,
            "justify_content": null,
            "justify_items": null,
            "left": null,
            "margin": null,
            "max_height": null,
            "max_width": null,
            "min_height": null,
            "min_width": null,
            "object_fit": null,
            "object_position": null,
            "order": null,
            "overflow": null,
            "overflow_x": null,
            "overflow_y": null,
            "padding": null,
            "right": null,
            "top": null,
            "visibility": null,
            "width": null
          }
        },
        "764538258c60425bbfb7ad00a6637dbc": {
          "model_module": "@jupyter-widgets/controls",
          "model_name": "DescriptionStyleModel",
          "model_module_version": "1.5.0",
          "state": {
            "_model_module": "@jupyter-widgets/controls",
            "_model_module_version": "1.5.0",
            "_model_name": "DescriptionStyleModel",
            "_view_count": null,
            "_view_module": "@jupyter-widgets/base",
            "_view_module_version": "1.2.0",
            "_view_name": "StyleView",
            "description_width": ""
          }
        },
        "6385d2aa95834b72a5c206cd3de495a7": {
          "model_module": "@jupyter-widgets/base",
          "model_name": "LayoutModel",
          "model_module_version": "1.2.0",
          "state": {
            "_model_module": "@jupyter-widgets/base",
            "_model_module_version": "1.2.0",
            "_model_name": "LayoutModel",
            "_view_count": null,
            "_view_module": "@jupyter-widgets/base",
            "_view_module_version": "1.2.0",
            "_view_name": "LayoutView",
            "align_content": null,
            "align_items": null,
            "align_self": null,
            "border": null,
            "bottom": null,
            "display": null,
            "flex": null,
            "flex_flow": null,
            "grid_area": null,
            "grid_auto_columns": null,
            "grid_auto_flow": null,
            "grid_auto_rows": null,
            "grid_column": null,
            "grid_gap": null,
            "grid_row": null,
            "grid_template_areas": null,
            "grid_template_columns": null,
            "grid_template_rows": null,
            "height": null,
            "justify_content": null,
            "justify_items": null,
            "left": null,
            "margin": null,
            "max_height": null,
            "max_width": null,
            "min_height": null,
            "min_width": null,
            "object_fit": null,
            "object_position": null,
            "order": null,
            "overflow": null,
            "overflow_x": null,
            "overflow_y": null,
            "padding": null,
            "right": null,
            "top": null,
            "visibility": null,
            "width": null
          }
        },
        "ab002bdf1ce24066955dff6f83d69428": {
          "model_module": "@jupyter-widgets/controls",
          "model_name": "ProgressStyleModel",
          "model_module_version": "1.5.0",
          "state": {
            "_model_module": "@jupyter-widgets/controls",
            "_model_module_version": "1.5.0",
            "_model_name": "ProgressStyleModel",
            "_view_count": null,
            "_view_module": "@jupyter-widgets/base",
            "_view_module_version": "1.2.0",
            "_view_name": "StyleView",
            "bar_color": null,
            "description_width": ""
          }
        },
        "246d232efd024cd395f0fd79de6275fc": {
          "model_module": "@jupyter-widgets/base",
          "model_name": "LayoutModel",
          "model_module_version": "1.2.0",
          "state": {
            "_model_module": "@jupyter-widgets/base",
            "_model_module_version": "1.2.0",
            "_model_name": "LayoutModel",
            "_view_count": null,
            "_view_module": "@jupyter-widgets/base",
            "_view_module_version": "1.2.0",
            "_view_name": "LayoutView",
            "align_content": null,
            "align_items": null,
            "align_self": null,
            "border": null,
            "bottom": null,
            "display": null,
            "flex": null,
            "flex_flow": null,
            "grid_area": null,
            "grid_auto_columns": null,
            "grid_auto_flow": null,
            "grid_auto_rows": null,
            "grid_column": null,
            "grid_gap": null,
            "grid_row": null,
            "grid_template_areas": null,
            "grid_template_columns": null,
            "grid_template_rows": null,
            "height": null,
            "justify_content": null,
            "justify_items": null,
            "left": null,
            "margin": null,
            "max_height": null,
            "max_width": null,
            "min_height": null,
            "min_width": null,
            "object_fit": null,
            "object_position": null,
            "order": null,
            "overflow": null,
            "overflow_x": null,
            "overflow_y": null,
            "padding": null,
            "right": null,
            "top": null,
            "visibility": null,
            "width": null
          }
        },
        "6f838632c8e340b280879b52099fc16a": {
          "model_module": "@jupyter-widgets/controls",
          "model_name": "DescriptionStyleModel",
          "model_module_version": "1.5.0",
          "state": {
            "_model_module": "@jupyter-widgets/controls",
            "_model_module_version": "1.5.0",
            "_model_name": "DescriptionStyleModel",
            "_view_count": null,
            "_view_module": "@jupyter-widgets/base",
            "_view_module_version": "1.2.0",
            "_view_name": "StyleView",
            "description_width": ""
          }
        },
        "b5ceba56108742408958998a2b7829bd": {
          "model_module": "@jupyter-widgets/controls",
          "model_name": "HBoxModel",
          "model_module_version": "1.5.0",
          "state": {
            "_dom_classes": [],
            "_model_module": "@jupyter-widgets/controls",
            "_model_module_version": "1.5.0",
            "_model_name": "HBoxModel",
            "_view_count": null,
            "_view_module": "@jupyter-widgets/controls",
            "_view_module_version": "1.5.0",
            "_view_name": "HBoxView",
            "box_style": "",
            "children": [
              "IPY_MODEL_ff1875d9a25b4e758850523c6e19fcde",
              "IPY_MODEL_fd0d238ef0ae40409d559a4bd9e233e7",
              "IPY_MODEL_636e3da00c8e4988b0e73a0eb3d6f226"
            ],
            "layout": "IPY_MODEL_f0bb12dd8f474993bc48a97ae2d43575"
          }
        },
        "ff1875d9a25b4e758850523c6e19fcde": {
          "model_module": "@jupyter-widgets/controls",
          "model_name": "HTMLModel",
          "model_module_version": "1.5.0",
          "state": {
            "_dom_classes": [],
            "_model_module": "@jupyter-widgets/controls",
            "_model_module_version": "1.5.0",
            "_model_name": "HTMLModel",
            "_view_count": null,
            "_view_module": "@jupyter-widgets/controls",
            "_view_module_version": "1.5.0",
            "_view_name": "HTMLView",
            "description": "",
            "description_tooltip": null,
            "layout": "IPY_MODEL_daaba7e94aba4f0ea324983435cd1646",
            "placeholder": "​",
            "style": "IPY_MODEL_521c056f6f674af8b7200f59e67202a3",
            "value": "Downloading: 100%"
          }
        },
        "fd0d238ef0ae40409d559a4bd9e233e7": {
          "model_module": "@jupyter-widgets/controls",
          "model_name": "FloatProgressModel",
          "model_module_version": "1.5.0",
          "state": {
            "_dom_classes": [],
            "_model_module": "@jupyter-widgets/controls",
            "_model_module_version": "1.5.0",
            "_model_name": "FloatProgressModel",
            "_view_count": null,
            "_view_module": "@jupyter-widgets/controls",
            "_view_module_version": "1.5.0",
            "_view_name": "ProgressView",
            "bar_style": "success",
            "description": "",
            "description_tooltip": null,
            "layout": "IPY_MODEL_8909fda429424c069ce04f5b918d30a7",
            "max": 2,
            "min": 0,
            "orientation": "horizontal",
            "style": "IPY_MODEL_782f56fbaae84a7fa42e73dfd55f9e84",
            "value": 2
          }
        },
        "636e3da00c8e4988b0e73a0eb3d6f226": {
          "model_module": "@jupyter-widgets/controls",
          "model_name": "HTMLModel",
          "model_module_version": "1.5.0",
          "state": {
            "_dom_classes": [],
            "_model_module": "@jupyter-widgets/controls",
            "_model_module_version": "1.5.0",
            "_model_name": "HTMLModel",
            "_view_count": null,
            "_view_module": "@jupyter-widgets/controls",
            "_view_module_version": "1.5.0",
            "_view_name": "HTMLView",
            "description": "",
            "description_tooltip": null,
            "layout": "IPY_MODEL_ee2bd929860d4821869a74edd595050a",
            "placeholder": "​",
            "style": "IPY_MODEL_c03db232c82c4872baa0944a8331bbf0",
            "value": " 2.00/2.00 [00:00&lt;00:00, 38.9B/s]"
          }
        },
        "f0bb12dd8f474993bc48a97ae2d43575": {
          "model_module": "@jupyter-widgets/base",
          "model_name": "LayoutModel",
          "model_module_version": "1.2.0",
          "state": {
            "_model_module": "@jupyter-widgets/base",
            "_model_module_version": "1.2.0",
            "_model_name": "LayoutModel",
            "_view_count": null,
            "_view_module": "@jupyter-widgets/base",
            "_view_module_version": "1.2.0",
            "_view_name": "LayoutView",
            "align_content": null,
            "align_items": null,
            "align_self": null,
            "border": null,
            "bottom": null,
            "display": null,
            "flex": null,
            "flex_flow": null,
            "grid_area": null,
            "grid_auto_columns": null,
            "grid_auto_flow": null,
            "grid_auto_rows": null,
            "grid_column": null,
            "grid_gap": null,
            "grid_row": null,
            "grid_template_areas": null,
            "grid_template_columns": null,
            "grid_template_rows": null,
            "height": null,
            "justify_content": null,
            "justify_items": null,
            "left": null,
            "margin": null,
            "max_height": null,
            "max_width": null,
            "min_height": null,
            "min_width": null,
            "object_fit": null,
            "object_position": null,
            "order": null,
            "overflow": null,
            "overflow_x": null,
            "overflow_y": null,
            "padding": null,
            "right": null,
            "top": null,
            "visibility": null,
            "width": null
          }
        },
        "daaba7e94aba4f0ea324983435cd1646": {
          "model_module": "@jupyter-widgets/base",
          "model_name": "LayoutModel",
          "model_module_version": "1.2.0",
          "state": {
            "_model_module": "@jupyter-widgets/base",
            "_model_module_version": "1.2.0",
            "_model_name": "LayoutModel",
            "_view_count": null,
            "_view_module": "@jupyter-widgets/base",
            "_view_module_version": "1.2.0",
            "_view_name": "LayoutView",
            "align_content": null,
            "align_items": null,
            "align_self": null,
            "border": null,
            "bottom": null,
            "display": null,
            "flex": null,
            "flex_flow": null,
            "grid_area": null,
            "grid_auto_columns": null,
            "grid_auto_flow": null,
            "grid_auto_rows": null,
            "grid_column": null,
            "grid_gap": null,
            "grid_row": null,
            "grid_template_areas": null,
            "grid_template_columns": null,
            "grid_template_rows": null,
            "height": null,
            "justify_content": null,
            "justify_items": null,
            "left": null,
            "margin": null,
            "max_height": null,
            "max_width": null,
            "min_height": null,
            "min_width": null,
            "object_fit": null,
            "object_position": null,
            "order": null,
            "overflow": null,
            "overflow_x": null,
            "overflow_y": null,
            "padding": null,
            "right": null,
            "top": null,
            "visibility": null,
            "width": null
          }
        },
        "521c056f6f674af8b7200f59e67202a3": {
          "model_module": "@jupyter-widgets/controls",
          "model_name": "DescriptionStyleModel",
          "model_module_version": "1.5.0",
          "state": {
            "_model_module": "@jupyter-widgets/controls",
            "_model_module_version": "1.5.0",
            "_model_name": "DescriptionStyleModel",
            "_view_count": null,
            "_view_module": "@jupyter-widgets/base",
            "_view_module_version": "1.2.0",
            "_view_name": "StyleView",
            "description_width": ""
          }
        },
        "8909fda429424c069ce04f5b918d30a7": {
          "model_module": "@jupyter-widgets/base",
          "model_name": "LayoutModel",
          "model_module_version": "1.2.0",
          "state": {
            "_model_module": "@jupyter-widgets/base",
            "_model_module_version": "1.2.0",
            "_model_name": "LayoutModel",
            "_view_count": null,
            "_view_module": "@jupyter-widgets/base",
            "_view_module_version": "1.2.0",
            "_view_name": "LayoutView",
            "align_content": null,
            "align_items": null,
            "align_self": null,
            "border": null,
            "bottom": null,
            "display": null,
            "flex": null,
            "flex_flow": null,
            "grid_area": null,
            "grid_auto_columns": null,
            "grid_auto_flow": null,
            "grid_auto_rows": null,
            "grid_column": null,
            "grid_gap": null,
            "grid_row": null,
            "grid_template_areas": null,
            "grid_template_columns": null,
            "grid_template_rows": null,
            "height": null,
            "justify_content": null,
            "justify_items": null,
            "left": null,
            "margin": null,
            "max_height": null,
            "max_width": null,
            "min_height": null,
            "min_width": null,
            "object_fit": null,
            "object_position": null,
            "order": null,
            "overflow": null,
            "overflow_x": null,
            "overflow_y": null,
            "padding": null,
            "right": null,
            "top": null,
            "visibility": null,
            "width": null
          }
        },
        "782f56fbaae84a7fa42e73dfd55f9e84": {
          "model_module": "@jupyter-widgets/controls",
          "model_name": "ProgressStyleModel",
          "model_module_version": "1.5.0",
          "state": {
            "_model_module": "@jupyter-widgets/controls",
            "_model_module_version": "1.5.0",
            "_model_name": "ProgressStyleModel",
            "_view_count": null,
            "_view_module": "@jupyter-widgets/base",
            "_view_module_version": "1.2.0",
            "_view_name": "StyleView",
            "bar_color": null,
            "description_width": ""
          }
        },
        "ee2bd929860d4821869a74edd595050a": {
          "model_module": "@jupyter-widgets/base",
          "model_name": "LayoutModel",
          "model_module_version": "1.2.0",
          "state": {
            "_model_module": "@jupyter-widgets/base",
            "_model_module_version": "1.2.0",
            "_model_name": "LayoutModel",
            "_view_count": null,
            "_view_module": "@jupyter-widgets/base",
            "_view_module_version": "1.2.0",
            "_view_name": "LayoutView",
            "align_content": null,
            "align_items": null,
            "align_self": null,
            "border": null,
            "bottom": null,
            "display": null,
            "flex": null,
            "flex_flow": null,
            "grid_area": null,
            "grid_auto_columns": null,
            "grid_auto_flow": null,
            "grid_auto_rows": null,
            "grid_column": null,
            "grid_gap": null,
            "grid_row": null,
            "grid_template_areas": null,
            "grid_template_columns": null,
            "grid_template_rows": null,
            "height": null,
            "justify_content": null,
            "justify_items": null,
            "left": null,
            "margin": null,
            "max_height": null,
            "max_width": null,
            "min_height": null,
            "min_width": null,
            "object_fit": null,
            "object_position": null,
            "order": null,
            "overflow": null,
            "overflow_x": null,
            "overflow_y": null,
            "padding": null,
            "right": null,
            "top": null,
            "visibility": null,
            "width": null
          }
        },
        "c03db232c82c4872baa0944a8331bbf0": {
          "model_module": "@jupyter-widgets/controls",
          "model_name": "DescriptionStyleModel",
          "model_module_version": "1.5.0",
          "state": {
            "_model_module": "@jupyter-widgets/controls",
            "_model_module_version": "1.5.0",
            "_model_name": "DescriptionStyleModel",
            "_view_count": null,
            "_view_module": "@jupyter-widgets/base",
            "_view_module_version": "1.2.0",
            "_view_name": "StyleView",
            "description_width": ""
          }
        },
        "c0b28f1d87bb482682c45a2640091e74": {
          "model_module": "@jupyter-widgets/controls",
          "model_name": "HBoxModel",
          "model_module_version": "1.5.0",
          "state": {
            "_dom_classes": [],
            "_model_module": "@jupyter-widgets/controls",
            "_model_module_version": "1.5.0",
            "_model_name": "HBoxModel",
            "_view_count": null,
            "_view_module": "@jupyter-widgets/controls",
            "_view_module_version": "1.5.0",
            "_view_name": "HBoxView",
            "box_style": "",
            "children": [
              "IPY_MODEL_d49936e029594131873096f8b2d17691",
              "IPY_MODEL_753fac54078d4cddba218f170075660e",
              "IPY_MODEL_2e0b95b407154550a25375be9c2c83b1"
            ],
            "layout": "IPY_MODEL_89487134ba2d47babded0d309547535f"
          }
        },
        "d49936e029594131873096f8b2d17691": {
          "model_module": "@jupyter-widgets/controls",
          "model_name": "HTMLModel",
          "model_module_version": "1.5.0",
          "state": {
            "_dom_classes": [],
            "_model_module": "@jupyter-widgets/controls",
            "_model_module_version": "1.5.0",
            "_model_name": "HTMLModel",
            "_view_count": null,
            "_view_module": "@jupyter-widgets/controls",
            "_view_module_version": "1.5.0",
            "_view_name": "HTMLView",
            "description": "",
            "description_tooltip": null,
            "layout": "IPY_MODEL_5baf1f8735f1437fb3e44c4003005db8",
            "placeholder": "​",
            "style": "IPY_MODEL_24914a7b052541568e33958d29312621",
            "value": "Downloading: 100%"
          }
        },
        "753fac54078d4cddba218f170075660e": {
          "model_module": "@jupyter-widgets/controls",
          "model_name": "FloatProgressModel",
          "model_module_version": "1.5.0",
          "state": {
            "_dom_classes": [],
            "_model_module": "@jupyter-widgets/controls",
            "_model_module_version": "1.5.0",
            "_model_name": "FloatProgressModel",
            "_view_count": null,
            "_view_module": "@jupyter-widgets/controls",
            "_view_module_version": "1.5.0",
            "_view_name": "ProgressView",
            "bar_style": "success",
            "description": "",
            "description_tooltip": null,
            "layout": "IPY_MODEL_7cff14e85f734ea4a9aef7d118dcbc49",
            "max": 112,
            "min": 0,
            "orientation": "horizontal",
            "style": "IPY_MODEL_129a10bdb91b4000b2c4d28b0957b38f",
            "value": 112
          }
        },
        "2e0b95b407154550a25375be9c2c83b1": {
          "model_module": "@jupyter-widgets/controls",
          "model_name": "HTMLModel",
          "model_module_version": "1.5.0",
          "state": {
            "_dom_classes": [],
            "_model_module": "@jupyter-widgets/controls",
            "_model_module_version": "1.5.0",
            "_model_name": "HTMLModel",
            "_view_count": null,
            "_view_module": "@jupyter-widgets/controls",
            "_view_module_version": "1.5.0",
            "_view_name": "HTMLView",
            "description": "",
            "description_tooltip": null,
            "layout": "IPY_MODEL_87d7eff1584241ddadf2a46124eaf31f",
            "placeholder": "​",
            "style": "IPY_MODEL_8cd356842f2c437fbfb41e55b1c48e22",
            "value": " 112/112 [00:00&lt;00:00, 2.69kB/s]"
          }
        },
        "89487134ba2d47babded0d309547535f": {
          "model_module": "@jupyter-widgets/base",
          "model_name": "LayoutModel",
          "model_module_version": "1.2.0",
          "state": {
            "_model_module": "@jupyter-widgets/base",
            "_model_module_version": "1.2.0",
            "_model_name": "LayoutModel",
            "_view_count": null,
            "_view_module": "@jupyter-widgets/base",
            "_view_module_version": "1.2.0",
            "_view_name": "LayoutView",
            "align_content": null,
            "align_items": null,
            "align_self": null,
            "border": null,
            "bottom": null,
            "display": null,
            "flex": null,
            "flex_flow": null,
            "grid_area": null,
            "grid_auto_columns": null,
            "grid_auto_flow": null,
            "grid_auto_rows": null,
            "grid_column": null,
            "grid_gap": null,
            "grid_row": null,
            "grid_template_areas": null,
            "grid_template_columns": null,
            "grid_template_rows": null,
            "height": null,
            "justify_content": null,
            "justify_items": null,
            "left": null,
            "margin": null,
            "max_height": null,
            "max_width": null,
            "min_height": null,
            "min_width": null,
            "object_fit": null,
            "object_position": null,
            "order": null,
            "overflow": null,
            "overflow_x": null,
            "overflow_y": null,
            "padding": null,
            "right": null,
            "top": null,
            "visibility": null,
            "width": null
          }
        },
        "5baf1f8735f1437fb3e44c4003005db8": {
          "model_module": "@jupyter-widgets/base",
          "model_name": "LayoutModel",
          "model_module_version": "1.2.0",
          "state": {
            "_model_module": "@jupyter-widgets/base",
            "_model_module_version": "1.2.0",
            "_model_name": "LayoutModel",
            "_view_count": null,
            "_view_module": "@jupyter-widgets/base",
            "_view_module_version": "1.2.0",
            "_view_name": "LayoutView",
            "align_content": null,
            "align_items": null,
            "align_self": null,
            "border": null,
            "bottom": null,
            "display": null,
            "flex": null,
            "flex_flow": null,
            "grid_area": null,
            "grid_auto_columns": null,
            "grid_auto_flow": null,
            "grid_auto_rows": null,
            "grid_column": null,
            "grid_gap": null,
            "grid_row": null,
            "grid_template_areas": null,
            "grid_template_columns": null,
            "grid_template_rows": null,
            "height": null,
            "justify_content": null,
            "justify_items": null,
            "left": null,
            "margin": null,
            "max_height": null,
            "max_width": null,
            "min_height": null,
            "min_width": null,
            "object_fit": null,
            "object_position": null,
            "order": null,
            "overflow": null,
            "overflow_x": null,
            "overflow_y": null,
            "padding": null,
            "right": null,
            "top": null,
            "visibility": null,
            "width": null
          }
        },
        "24914a7b052541568e33958d29312621": {
          "model_module": "@jupyter-widgets/controls",
          "model_name": "DescriptionStyleModel",
          "model_module_version": "1.5.0",
          "state": {
            "_model_module": "@jupyter-widgets/controls",
            "_model_module_version": "1.5.0",
            "_model_name": "DescriptionStyleModel",
            "_view_count": null,
            "_view_module": "@jupyter-widgets/base",
            "_view_module_version": "1.2.0",
            "_view_name": "StyleView",
            "description_width": ""
          }
        },
        "7cff14e85f734ea4a9aef7d118dcbc49": {
          "model_module": "@jupyter-widgets/base",
          "model_name": "LayoutModel",
          "model_module_version": "1.2.0",
          "state": {
            "_model_module": "@jupyter-widgets/base",
            "_model_module_version": "1.2.0",
            "_model_name": "LayoutModel",
            "_view_count": null,
            "_view_module": "@jupyter-widgets/base",
            "_view_module_version": "1.2.0",
            "_view_name": "LayoutView",
            "align_content": null,
            "align_items": null,
            "align_self": null,
            "border": null,
            "bottom": null,
            "display": null,
            "flex": null,
            "flex_flow": null,
            "grid_area": null,
            "grid_auto_columns": null,
            "grid_auto_flow": null,
            "grid_auto_rows": null,
            "grid_column": null,
            "grid_gap": null,
            "grid_row": null,
            "grid_template_areas": null,
            "grid_template_columns": null,
            "grid_template_rows": null,
            "height": null,
            "justify_content": null,
            "justify_items": null,
            "left": null,
            "margin": null,
            "max_height": null,
            "max_width": null,
            "min_height": null,
            "min_width": null,
            "object_fit": null,
            "object_position": null,
            "order": null,
            "overflow": null,
            "overflow_x": null,
            "overflow_y": null,
            "padding": null,
            "right": null,
            "top": null,
            "visibility": null,
            "width": null
          }
        },
        "129a10bdb91b4000b2c4d28b0957b38f": {
          "model_module": "@jupyter-widgets/controls",
          "model_name": "ProgressStyleModel",
          "model_module_version": "1.5.0",
          "state": {
            "_model_module": "@jupyter-widgets/controls",
            "_model_module_version": "1.5.0",
            "_model_name": "ProgressStyleModel",
            "_view_count": null,
            "_view_module": "@jupyter-widgets/base",
            "_view_module_version": "1.2.0",
            "_view_name": "StyleView",
            "bar_color": null,
            "description_width": ""
          }
        },
        "87d7eff1584241ddadf2a46124eaf31f": {
          "model_module": "@jupyter-widgets/base",
          "model_name": "LayoutModel",
          "model_module_version": "1.2.0",
          "state": {
            "_model_module": "@jupyter-widgets/base",
            "_model_module_version": "1.2.0",
            "_model_name": "LayoutModel",
            "_view_count": null,
            "_view_module": "@jupyter-widgets/base",
            "_view_module_version": "1.2.0",
            "_view_name": "LayoutView",
            "align_content": null,
            "align_items": null,
            "align_self": null,
            "border": null,
            "bottom": null,
            "display": null,
            "flex": null,
            "flex_flow": null,
            "grid_area": null,
            "grid_auto_columns": null,
            "grid_auto_flow": null,
            "grid_auto_rows": null,
            "grid_column": null,
            "grid_gap": null,
            "grid_row": null,
            "grid_template_areas": null,
            "grid_template_columns": null,
            "grid_template_rows": null,
            "height": null,
            "justify_content": null,
            "justify_items": null,
            "left": null,
            "margin": null,
            "max_height": null,
            "max_width": null,
            "min_height": null,
            "min_width": null,
            "object_fit": null,
            "object_position": null,
            "order": null,
            "overflow": null,
            "overflow_x": null,
            "overflow_y": null,
            "padding": null,
            "right": null,
            "top": null,
            "visibility": null,
            "width": null
          }
        },
        "8cd356842f2c437fbfb41e55b1c48e22": {
          "model_module": "@jupyter-widgets/controls",
          "model_name": "DescriptionStyleModel",
          "model_module_version": "1.5.0",
          "state": {
            "_model_module": "@jupyter-widgets/controls",
            "_model_module_version": "1.5.0",
            "_model_name": "DescriptionStyleModel",
            "_view_count": null,
            "_view_module": "@jupyter-widgets/base",
            "_view_module_version": "1.2.0",
            "_view_name": "StyleView",
            "description_width": ""
          }
        },
        "bbc82f5cef6744019e5d812936d6e464": {
          "model_module": "@jupyter-widgets/controls",
          "model_name": "HBoxModel",
          "model_module_version": "1.5.0",
          "state": {
            "_dom_classes": [],
            "_model_module": "@jupyter-widgets/controls",
            "_model_module_version": "1.5.0",
            "_model_name": "HBoxModel",
            "_view_count": null,
            "_view_module": "@jupyter-widgets/controls",
            "_view_module_version": "1.5.0",
            "_view_name": "HBoxView",
            "box_style": "",
            "children": [
              "IPY_MODEL_3cc9d71b29c24a2fb3f22d585e05bd6d",
              "IPY_MODEL_dcd7c89741e54b1c8984a9cbe755263f",
              "IPY_MODEL_55196fcc60684eb9b233415e5ec63aa5"
            ],
            "layout": "IPY_MODEL_5ce62e1efc2b44c6bdfd8cbdc5644262"
          }
        },
        "3cc9d71b29c24a2fb3f22d585e05bd6d": {
          "model_module": "@jupyter-widgets/controls",
          "model_name": "HTMLModel",
          "model_module_version": "1.5.0",
          "state": {
            "_dom_classes": [],
            "_model_module": "@jupyter-widgets/controls",
            "_model_module_version": "1.5.0",
            "_model_name": "HTMLModel",
            "_view_count": null,
            "_view_module": "@jupyter-widgets/controls",
            "_view_module_version": "1.5.0",
            "_view_name": "HTMLView",
            "description": "",
            "description_tooltip": null,
            "layout": "IPY_MODEL_f2167ebd11074f139de995bd5080daf6",
            "placeholder": "​",
            "style": "IPY_MODEL_d9547f8065ea420ba28317416846a1fb",
            "value": "Downloading: 100%"
          }
        },
        "dcd7c89741e54b1c8984a9cbe755263f": {
          "model_module": "@jupyter-widgets/controls",
          "model_name": "FloatProgressModel",
          "model_module_version": "1.5.0",
          "state": {
            "_dom_classes": [],
            "_model_module": "@jupyter-widgets/controls",
            "_model_module_version": "1.5.0",
            "_model_name": "FloatProgressModel",
            "_view_count": null,
            "_view_module": "@jupyter-widgets/controls",
            "_view_module_version": "1.5.0",
            "_view_name": "ProgressView",
            "bar_style": "success",
            "description": "",
            "description_tooltip": null,
            "layout": "IPY_MODEL_350e8e83e0294b0db21cfe45c37e6cf6",
            "max": 241,
            "min": 0,
            "orientation": "horizontal",
            "style": "IPY_MODEL_524f9f4d039d42ca9f8e9ce77d6f31c2",
            "value": 241
          }
        },
        "55196fcc60684eb9b233415e5ec63aa5": {
          "model_module": "@jupyter-widgets/controls",
          "model_name": "HTMLModel",
          "model_module_version": "1.5.0",
          "state": {
            "_dom_classes": [],
            "_model_module": "@jupyter-widgets/controls",
            "_model_module_version": "1.5.0",
            "_model_name": "HTMLModel",
            "_view_count": null,
            "_view_module": "@jupyter-widgets/controls",
            "_view_module_version": "1.5.0",
            "_view_name": "HTMLView",
            "description": "",
            "description_tooltip": null,
            "layout": "IPY_MODEL_eee0f2d544fb43a5b46b09bfde649c96",
            "placeholder": "​",
            "style": "IPY_MODEL_01ac8bd38ca04424bf6cdc1b404c3535",
            "value": " 241/241 [00:00&lt;00:00, 2.86kB/s]"
          }
        },
        "5ce62e1efc2b44c6bdfd8cbdc5644262": {
          "model_module": "@jupyter-widgets/base",
          "model_name": "LayoutModel",
          "model_module_version": "1.2.0",
          "state": {
            "_model_module": "@jupyter-widgets/base",
            "_model_module_version": "1.2.0",
            "_model_name": "LayoutModel",
            "_view_count": null,
            "_view_module": "@jupyter-widgets/base",
            "_view_module_version": "1.2.0",
            "_view_name": "LayoutView",
            "align_content": null,
            "align_items": null,
            "align_self": null,
            "border": null,
            "bottom": null,
            "display": null,
            "flex": null,
            "flex_flow": null,
            "grid_area": null,
            "grid_auto_columns": null,
            "grid_auto_flow": null,
            "grid_auto_rows": null,
            "grid_column": null,
            "grid_gap": null,
            "grid_row": null,
            "grid_template_areas": null,
            "grid_template_columns": null,
            "grid_template_rows": null,
            "height": null,
            "justify_content": null,
            "justify_items": null,
            "left": null,
            "margin": null,
            "max_height": null,
            "max_width": null,
            "min_height": null,
            "min_width": null,
            "object_fit": null,
            "object_position": null,
            "order": null,
            "overflow": null,
            "overflow_x": null,
            "overflow_y": null,
            "padding": null,
            "right": null,
            "top": null,
            "visibility": null,
            "width": null
          }
        },
        "f2167ebd11074f139de995bd5080daf6": {
          "model_module": "@jupyter-widgets/base",
          "model_name": "LayoutModel",
          "model_module_version": "1.2.0",
          "state": {
            "_model_module": "@jupyter-widgets/base",
            "_model_module_version": "1.2.0",
            "_model_name": "LayoutModel",
            "_view_count": null,
            "_view_module": "@jupyter-widgets/base",
            "_view_module_version": "1.2.0",
            "_view_name": "LayoutView",
            "align_content": null,
            "align_items": null,
            "align_self": null,
            "border": null,
            "bottom": null,
            "display": null,
            "flex": null,
            "flex_flow": null,
            "grid_area": null,
            "grid_auto_columns": null,
            "grid_auto_flow": null,
            "grid_auto_rows": null,
            "grid_column": null,
            "grid_gap": null,
            "grid_row": null,
            "grid_template_areas": null,
            "grid_template_columns": null,
            "grid_template_rows": null,
            "height": null,
            "justify_content": null,
            "justify_items": null,
            "left": null,
            "margin": null,
            "max_height": null,
            "max_width": null,
            "min_height": null,
            "min_width": null,
            "object_fit": null,
            "object_position": null,
            "order": null,
            "overflow": null,
            "overflow_x": null,
            "overflow_y": null,
            "padding": null,
            "right": null,
            "top": null,
            "visibility": null,
            "width": null
          }
        },
        "d9547f8065ea420ba28317416846a1fb": {
          "model_module": "@jupyter-widgets/controls",
          "model_name": "DescriptionStyleModel",
          "model_module_version": "1.5.0",
          "state": {
            "_model_module": "@jupyter-widgets/controls",
            "_model_module_version": "1.5.0",
            "_model_name": "DescriptionStyleModel",
            "_view_count": null,
            "_view_module": "@jupyter-widgets/base",
            "_view_module_version": "1.2.0",
            "_view_name": "StyleView",
            "description_width": ""
          }
        },
        "350e8e83e0294b0db21cfe45c37e6cf6": {
          "model_module": "@jupyter-widgets/base",
          "model_name": "LayoutModel",
          "model_module_version": "1.2.0",
          "state": {
            "_model_module": "@jupyter-widgets/base",
            "_model_module_version": "1.2.0",
            "_model_name": "LayoutModel",
            "_view_count": null,
            "_view_module": "@jupyter-widgets/base",
            "_view_module_version": "1.2.0",
            "_view_name": "LayoutView",
            "align_content": null,
            "align_items": null,
            "align_self": null,
            "border": null,
            "bottom": null,
            "display": null,
            "flex": null,
            "flex_flow": null,
            "grid_area": null,
            "grid_auto_columns": null,
            "grid_auto_flow": null,
            "grid_auto_rows": null,
            "grid_column": null,
            "grid_gap": null,
            "grid_row": null,
            "grid_template_areas": null,
            "grid_template_columns": null,
            "grid_template_rows": null,
            "height": null,
            "justify_content": null,
            "justify_items": null,
            "left": null,
            "margin": null,
            "max_height": null,
            "max_width": null,
            "min_height": null,
            "min_width": null,
            "object_fit": null,
            "object_position": null,
            "order": null,
            "overflow": null,
            "overflow_x": null,
            "overflow_y": null,
            "padding": null,
            "right": null,
            "top": null,
            "visibility": null,
            "width": null
          }
        },
        "524f9f4d039d42ca9f8e9ce77d6f31c2": {
          "model_module": "@jupyter-widgets/controls",
          "model_name": "ProgressStyleModel",
          "model_module_version": "1.5.0",
          "state": {
            "_model_module": "@jupyter-widgets/controls",
            "_model_module_version": "1.5.0",
            "_model_name": "ProgressStyleModel",
            "_view_count": null,
            "_view_module": "@jupyter-widgets/base",
            "_view_module_version": "1.2.0",
            "_view_name": "StyleView",
            "bar_color": null,
            "description_width": ""
          }
        },
        "eee0f2d544fb43a5b46b09bfde649c96": {
          "model_module": "@jupyter-widgets/base",
          "model_name": "LayoutModel",
          "model_module_version": "1.2.0",
          "state": {
            "_model_module": "@jupyter-widgets/base",
            "_model_module_version": "1.2.0",
            "_model_name": "LayoutModel",
            "_view_count": null,
            "_view_module": "@jupyter-widgets/base",
            "_view_module_version": "1.2.0",
            "_view_name": "LayoutView",
            "align_content": null,
            "align_items": null,
            "align_self": null,
            "border": null,
            "bottom": null,
            "display": null,
            "flex": null,
            "flex_flow": null,
            "grid_area": null,
            "grid_auto_columns": null,
            "grid_auto_flow": null,
            "grid_auto_rows": null,
            "grid_column": null,
            "grid_gap": null,
            "grid_row": null,
            "grid_template_areas": null,
            "grid_template_columns": null,
            "grid_template_rows": null,
            "height": null,
            "justify_content": null,
            "justify_items": null,
            "left": null,
            "margin": null,
            "max_height": null,
            "max_width": null,
            "min_height": null,
            "min_width": null,
            "object_fit": null,
            "object_position": null,
            "order": null,
            "overflow": null,
            "overflow_x": null,
            "overflow_y": null,
            "padding": null,
            "right": null,
            "top": null,
            "visibility": null,
            "width": null
          }
        },
        "01ac8bd38ca04424bf6cdc1b404c3535": {
          "model_module": "@jupyter-widgets/controls",
          "model_name": "DescriptionStyleModel",
          "model_module_version": "1.5.0",
          "state": {
            "_model_module": "@jupyter-widgets/controls",
            "_model_module_version": "1.5.0",
            "_model_name": "DescriptionStyleModel",
            "_view_count": null,
            "_view_module": "@jupyter-widgets/base",
            "_view_module_version": "1.2.0",
            "_view_name": "StyleView",
            "description_width": ""
          }
        },
        "5431c8d2af9b42089fa8b609dbd54763": {
          "model_module": "@jupyter-widgets/controls",
          "model_name": "HBoxModel",
          "model_module_version": "1.5.0",
          "state": {
            "_dom_classes": [],
            "_model_module": "@jupyter-widgets/controls",
            "_model_module_version": "1.5.0",
            "_model_name": "HBoxModel",
            "_view_count": null,
            "_view_module": "@jupyter-widgets/controls",
            "_view_module_version": "1.5.0",
            "_view_name": "HBoxView",
            "box_style": "",
            "children": [
              "IPY_MODEL_fe23ad51a3234ec19481db9f0b379e36",
              "IPY_MODEL_1e149a231c8c46c3b49ea032b6b28369",
              "IPY_MODEL_60c05d9b4ab94d30b264407367ddcc62"
            ],
            "layout": "IPY_MODEL_76a68c581e9b42c3926cb69b8e37c1cf"
          }
        },
        "fe23ad51a3234ec19481db9f0b379e36": {
          "model_module": "@jupyter-widgets/controls",
          "model_name": "HTMLModel",
          "model_module_version": "1.5.0",
          "state": {
            "_dom_classes": [],
            "_model_module": "@jupyter-widgets/controls",
            "_model_module_version": "1.5.0",
            "_model_name": "HTMLModel",
            "_view_count": null,
            "_view_module": "@jupyter-widgets/controls",
            "_view_module_version": "1.5.0",
            "_view_name": "HTMLView",
            "description": "",
            "description_tooltip": null,
            "layout": "IPY_MODEL_4abeb749e373455dacafaec5d509e5f8",
            "placeholder": "​",
            "style": "IPY_MODEL_c8056dea4ed94798999e4b8e122044bb",
            "value": "Downloading: 100%"
          }
        },
        "1e149a231c8c46c3b49ea032b6b28369": {
          "model_module": "@jupyter-widgets/controls",
          "model_name": "FloatProgressModel",
          "model_module_version": "1.5.0",
          "state": {
            "_dom_classes": [],
            "_model_module": "@jupyter-widgets/controls",
            "_model_module_version": "1.5.0",
            "_model_name": "FloatProgressModel",
            "_view_count": null,
            "_view_module": "@jupyter-widgets/controls",
            "_view_module_version": "1.5.0",
            "_view_name": "ProgressView",
            "bar_style": "success",
            "description": "",
            "description_tooltip": null,
            "layout": "IPY_MODEL_9913380276bc451f8ae9098609e128be",
            "max": 730,
            "min": 0,
            "orientation": "horizontal",
            "style": "IPY_MODEL_73e5116e8f9b4ce189859134ae72b10c",
            "value": 730
          }
        },
        "60c05d9b4ab94d30b264407367ddcc62": {
          "model_module": "@jupyter-widgets/controls",
          "model_name": "HTMLModel",
          "model_module_version": "1.5.0",
          "state": {
            "_dom_classes": [],
            "_model_module": "@jupyter-widgets/controls",
            "_model_module_version": "1.5.0",
            "_model_name": "HTMLModel",
            "_view_count": null,
            "_view_module": "@jupyter-widgets/controls",
            "_view_module_version": "1.5.0",
            "_view_name": "HTMLView",
            "description": "",
            "description_tooltip": null,
            "layout": "IPY_MODEL_ffbe76c4a1494276b8604ffb1d0f0c41",
            "placeholder": "​",
            "style": "IPY_MODEL_b8b7b01b25054ef4960d64caf0ca5d35",
            "value": " 730/730 [00:00&lt;00:00, 20.5kB/s]"
          }
        },
        "76a68c581e9b42c3926cb69b8e37c1cf": {
          "model_module": "@jupyter-widgets/base",
          "model_name": "LayoutModel",
          "model_module_version": "1.2.0",
          "state": {
            "_model_module": "@jupyter-widgets/base",
            "_model_module_version": "1.2.0",
            "_model_name": "LayoutModel",
            "_view_count": null,
            "_view_module": "@jupyter-widgets/base",
            "_view_module_version": "1.2.0",
            "_view_name": "LayoutView",
            "align_content": null,
            "align_items": null,
            "align_self": null,
            "border": null,
            "bottom": null,
            "display": null,
            "flex": null,
            "flex_flow": null,
            "grid_area": null,
            "grid_auto_columns": null,
            "grid_auto_flow": null,
            "grid_auto_rows": null,
            "grid_column": null,
            "grid_gap": null,
            "grid_row": null,
            "grid_template_areas": null,
            "grid_template_columns": null,
            "grid_template_rows": null,
            "height": null,
            "justify_content": null,
            "justify_items": null,
            "left": null,
            "margin": null,
            "max_height": null,
            "max_width": null,
            "min_height": null,
            "min_width": null,
            "object_fit": null,
            "object_position": null,
            "order": null,
            "overflow": null,
            "overflow_x": null,
            "overflow_y": null,
            "padding": null,
            "right": null,
            "top": null,
            "visibility": null,
            "width": null
          }
        },
        "4abeb749e373455dacafaec5d509e5f8": {
          "model_module": "@jupyter-widgets/base",
          "model_name": "LayoutModel",
          "model_module_version": "1.2.0",
          "state": {
            "_model_module": "@jupyter-widgets/base",
            "_model_module_version": "1.2.0",
            "_model_name": "LayoutModel",
            "_view_count": null,
            "_view_module": "@jupyter-widgets/base",
            "_view_module_version": "1.2.0",
            "_view_name": "LayoutView",
            "align_content": null,
            "align_items": null,
            "align_self": null,
            "border": null,
            "bottom": null,
            "display": null,
            "flex": null,
            "flex_flow": null,
            "grid_area": null,
            "grid_auto_columns": null,
            "grid_auto_flow": null,
            "grid_auto_rows": null,
            "grid_column": null,
            "grid_gap": null,
            "grid_row": null,
            "grid_template_areas": null,
            "grid_template_columns": null,
            "grid_template_rows": null,
            "height": null,
            "justify_content": null,
            "justify_items": null,
            "left": null,
            "margin": null,
            "max_height": null,
            "max_width": null,
            "min_height": null,
            "min_width": null,
            "object_fit": null,
            "object_position": null,
            "order": null,
            "overflow": null,
            "overflow_x": null,
            "overflow_y": null,
            "padding": null,
            "right": null,
            "top": null,
            "visibility": null,
            "width": null
          }
        },
        "c8056dea4ed94798999e4b8e122044bb": {
          "model_module": "@jupyter-widgets/controls",
          "model_name": "DescriptionStyleModel",
          "model_module_version": "1.5.0",
          "state": {
            "_model_module": "@jupyter-widgets/controls",
            "_model_module_version": "1.5.0",
            "_model_name": "DescriptionStyleModel",
            "_view_count": null,
            "_view_module": "@jupyter-widgets/base",
            "_view_module_version": "1.2.0",
            "_view_name": "StyleView",
            "description_width": ""
          }
        },
        "9913380276bc451f8ae9098609e128be": {
          "model_module": "@jupyter-widgets/base",
          "model_name": "LayoutModel",
          "model_module_version": "1.2.0",
          "state": {
            "_model_module": "@jupyter-widgets/base",
            "_model_module_version": "1.2.0",
            "_model_name": "LayoutModel",
            "_view_count": null,
            "_view_module": "@jupyter-widgets/base",
            "_view_module_version": "1.2.0",
            "_view_name": "LayoutView",
            "align_content": null,
            "align_items": null,
            "align_self": null,
            "border": null,
            "bottom": null,
            "display": null,
            "flex": null,
            "flex_flow": null,
            "grid_area": null,
            "grid_auto_columns": null,
            "grid_auto_flow": null,
            "grid_auto_rows": null,
            "grid_column": null,
            "grid_gap": null,
            "grid_row": null,
            "grid_template_areas": null,
            "grid_template_columns": null,
            "grid_template_rows": null,
            "height": null,
            "justify_content": null,
            "justify_items": null,
            "left": null,
            "margin": null,
            "max_height": null,
            "max_width": null,
            "min_height": null,
            "min_width": null,
            "object_fit": null,
            "object_position": null,
            "order": null,
            "overflow": null,
            "overflow_x": null,
            "overflow_y": null,
            "padding": null,
            "right": null,
            "top": null,
            "visibility": null,
            "width": null
          }
        },
        "73e5116e8f9b4ce189859134ae72b10c": {
          "model_module": "@jupyter-widgets/controls",
          "model_name": "ProgressStyleModel",
          "model_module_version": "1.5.0",
          "state": {
            "_model_module": "@jupyter-widgets/controls",
            "_model_module_version": "1.5.0",
            "_model_name": "ProgressStyleModel",
            "_view_count": null,
            "_view_module": "@jupyter-widgets/base",
            "_view_module_version": "1.2.0",
            "_view_name": "StyleView",
            "bar_color": null,
            "description_width": ""
          }
        },
        "ffbe76c4a1494276b8604ffb1d0f0c41": {
          "model_module": "@jupyter-widgets/base",
          "model_name": "LayoutModel",
          "model_module_version": "1.2.0",
          "state": {
            "_model_module": "@jupyter-widgets/base",
            "_model_module_version": "1.2.0",
            "_model_name": "LayoutModel",
            "_view_count": null,
            "_view_module": "@jupyter-widgets/base",
            "_view_module_version": "1.2.0",
            "_view_name": "LayoutView",
            "align_content": null,
            "align_items": null,
            "align_self": null,
            "border": null,
            "bottom": null,
            "display": null,
            "flex": null,
            "flex_flow": null,
            "grid_area": null,
            "grid_auto_columns": null,
            "grid_auto_flow": null,
            "grid_auto_rows": null,
            "grid_column": null,
            "grid_gap": null,
            "grid_row": null,
            "grid_template_areas": null,
            "grid_template_columns": null,
            "grid_template_rows": null,
            "height": null,
            "justify_content": null,
            "justify_items": null,
            "left": null,
            "margin": null,
            "max_height": null,
            "max_width": null,
            "min_height": null,
            "min_width": null,
            "object_fit": null,
            "object_position": null,
            "order": null,
            "overflow": null,
            "overflow_x": null,
            "overflow_y": null,
            "padding": null,
            "right": null,
            "top": null,
            "visibility": null,
            "width": null
          }
        },
        "b8b7b01b25054ef4960d64caf0ca5d35": {
          "model_module": "@jupyter-widgets/controls",
          "model_name": "DescriptionStyleModel",
          "model_module_version": "1.5.0",
          "state": {
            "_model_module": "@jupyter-widgets/controls",
            "_model_module_version": "1.5.0",
            "_model_name": "DescriptionStyleModel",
            "_view_count": null,
            "_view_module": "@jupyter-widgets/base",
            "_view_module_version": "1.2.0",
            "_view_name": "StyleView",
            "description_width": ""
          }
        },
        "6bf559f2ba494c3b9757fca7241e6230": {
          "model_module": "@jupyter-widgets/controls",
          "model_name": "HBoxModel",
          "model_module_version": "1.5.0",
          "state": {
            "_dom_classes": [],
            "_model_module": "@jupyter-widgets/controls",
            "_model_module_version": "1.5.0",
            "_model_name": "HBoxModel",
            "_view_count": null,
            "_view_module": "@jupyter-widgets/controls",
            "_view_module_version": "1.5.0",
            "_view_name": "HBoxView",
            "box_style": "",
            "children": [
              "IPY_MODEL_429db80690954c2aa9822e151244b0af",
              "IPY_MODEL_5168c37934984d138a8a75e7ee789fed",
              "IPY_MODEL_e3b25eb102c84d5d816f114843760dd6"
            ],
            "layout": "IPY_MODEL_bbc157fea9df4ef5b461d8feaa452d35"
          }
        },
        "429db80690954c2aa9822e151244b0af": {
          "model_module": "@jupyter-widgets/controls",
          "model_name": "HTMLModel",
          "model_module_version": "1.5.0",
          "state": {
            "_dom_classes": [],
            "_model_module": "@jupyter-widgets/controls",
            "_model_module_version": "1.5.0",
            "_model_name": "HTMLModel",
            "_view_count": null,
            "_view_module": "@jupyter-widgets/controls",
            "_view_module_version": "1.5.0",
            "_view_name": "HTMLView",
            "description": "",
            "description_tooltip": null,
            "layout": "IPY_MODEL_9418d044be2642f9bacb516ec8ad1047",
            "placeholder": "​",
            "style": "IPY_MODEL_09251c17e1954a2980818a003a545379",
            "value": "Downloading: 100%"
          }
        },
        "5168c37934984d138a8a75e7ee789fed": {
          "model_module": "@jupyter-widgets/controls",
          "model_name": "FloatProgressModel",
          "model_module_version": "1.5.0",
          "state": {
            "_dom_classes": [],
            "_model_module": "@jupyter-widgets/controls",
            "_model_module_version": "1.5.0",
            "_model_name": "FloatProgressModel",
            "_view_count": null,
            "_view_module": "@jupyter-widgets/controls",
            "_view_module_version": "1.5.0",
            "_view_name": "ProgressView",
            "bar_style": "success",
            "description": "",
            "description_tooltip": null,
            "layout": "IPY_MODEL_6040e24630204b4b9ce757bdd6ad5950",
            "max": 442517175,
            "min": 0,
            "orientation": "horizontal",
            "style": "IPY_MODEL_973f16d829ba4f87aa262e90a279c5fa",
            "value": 442517175
          }
        },
        "e3b25eb102c84d5d816f114843760dd6": {
          "model_module": "@jupyter-widgets/controls",
          "model_name": "HTMLModel",
          "model_module_version": "1.5.0",
          "state": {
            "_dom_classes": [],
            "_model_module": "@jupyter-widgets/controls",
            "_model_module_version": "1.5.0",
            "_model_name": "HTMLModel",
            "_view_count": null,
            "_view_module": "@jupyter-widgets/controls",
            "_view_module_version": "1.5.0",
            "_view_name": "HTMLView",
            "description": "",
            "description_tooltip": null,
            "layout": "IPY_MODEL_67629f49baae44ab881a0f8b00c805ae",
            "placeholder": "​",
            "style": "IPY_MODEL_b5d8d43829a6412685afdb2be3bd2459",
            "value": " 422M/422M [00:30&lt;00:00, 17.7MB/s]"
          }
        },
        "bbc157fea9df4ef5b461d8feaa452d35": {
          "model_module": "@jupyter-widgets/base",
          "model_name": "LayoutModel",
          "model_module_version": "1.2.0",
          "state": {
            "_model_module": "@jupyter-widgets/base",
            "_model_module_version": "1.2.0",
            "_model_name": "LayoutModel",
            "_view_count": null,
            "_view_module": "@jupyter-widgets/base",
            "_view_module_version": "1.2.0",
            "_view_name": "LayoutView",
            "align_content": null,
            "align_items": null,
            "align_self": null,
            "border": null,
            "bottom": null,
            "display": null,
            "flex": null,
            "flex_flow": null,
            "grid_area": null,
            "grid_auto_columns": null,
            "grid_auto_flow": null,
            "grid_auto_rows": null,
            "grid_column": null,
            "grid_gap": null,
            "grid_row": null,
            "grid_template_areas": null,
            "grid_template_columns": null,
            "grid_template_rows": null,
            "height": null,
            "justify_content": null,
            "justify_items": null,
            "left": null,
            "margin": null,
            "max_height": null,
            "max_width": null,
            "min_height": null,
            "min_width": null,
            "object_fit": null,
            "object_position": null,
            "order": null,
            "overflow": null,
            "overflow_x": null,
            "overflow_y": null,
            "padding": null,
            "right": null,
            "top": null,
            "visibility": null,
            "width": null
          }
        },
        "9418d044be2642f9bacb516ec8ad1047": {
          "model_module": "@jupyter-widgets/base",
          "model_name": "LayoutModel",
          "model_module_version": "1.2.0",
          "state": {
            "_model_module": "@jupyter-widgets/base",
            "_model_module_version": "1.2.0",
            "_model_name": "LayoutModel",
            "_view_count": null,
            "_view_module": "@jupyter-widgets/base",
            "_view_module_version": "1.2.0",
            "_view_name": "LayoutView",
            "align_content": null,
            "align_items": null,
            "align_self": null,
            "border": null,
            "bottom": null,
            "display": null,
            "flex": null,
            "flex_flow": null,
            "grid_area": null,
            "grid_auto_columns": null,
            "grid_auto_flow": null,
            "grid_auto_rows": null,
            "grid_column": null,
            "grid_gap": null,
            "grid_row": null,
            "grid_template_areas": null,
            "grid_template_columns": null,
            "grid_template_rows": null,
            "height": null,
            "justify_content": null,
            "justify_items": null,
            "left": null,
            "margin": null,
            "max_height": null,
            "max_width": null,
            "min_height": null,
            "min_width": null,
            "object_fit": null,
            "object_position": null,
            "order": null,
            "overflow": null,
            "overflow_x": null,
            "overflow_y": null,
            "padding": null,
            "right": null,
            "top": null,
            "visibility": null,
            "width": null
          }
        },
        "09251c17e1954a2980818a003a545379": {
          "model_module": "@jupyter-widgets/controls",
          "model_name": "DescriptionStyleModel",
          "model_module_version": "1.5.0",
          "state": {
            "_model_module": "@jupyter-widgets/controls",
            "_model_module_version": "1.5.0",
            "_model_name": "DescriptionStyleModel",
            "_view_count": null,
            "_view_module": "@jupyter-widgets/base",
            "_view_module_version": "1.2.0",
            "_view_name": "StyleView",
            "description_width": ""
          }
        },
        "6040e24630204b4b9ce757bdd6ad5950": {
          "model_module": "@jupyter-widgets/base",
          "model_name": "LayoutModel",
          "model_module_version": "1.2.0",
          "state": {
            "_model_module": "@jupyter-widgets/base",
            "_model_module_version": "1.2.0",
            "_model_name": "LayoutModel",
            "_view_count": null,
            "_view_module": "@jupyter-widgets/base",
            "_view_module_version": "1.2.0",
            "_view_name": "LayoutView",
            "align_content": null,
            "align_items": null,
            "align_self": null,
            "border": null,
            "bottom": null,
            "display": null,
            "flex": null,
            "flex_flow": null,
            "grid_area": null,
            "grid_auto_columns": null,
            "grid_auto_flow": null,
            "grid_auto_rows": null,
            "grid_column": null,
            "grid_gap": null,
            "grid_row": null,
            "grid_template_areas": null,
            "grid_template_columns": null,
            "grid_template_rows": null,
            "height": null,
            "justify_content": null,
            "justify_items": null,
            "left": null,
            "margin": null,
            "max_height": null,
            "max_width": null,
            "min_height": null,
            "min_width": null,
            "object_fit": null,
            "object_position": null,
            "order": null,
            "overflow": null,
            "overflow_x": null,
            "overflow_y": null,
            "padding": null,
            "right": null,
            "top": null,
            "visibility": null,
            "width": null
          }
        },
        "973f16d829ba4f87aa262e90a279c5fa": {
          "model_module": "@jupyter-widgets/controls",
          "model_name": "ProgressStyleModel",
          "model_module_version": "1.5.0",
          "state": {
            "_model_module": "@jupyter-widgets/controls",
            "_model_module_version": "1.5.0",
            "_model_name": "ProgressStyleModel",
            "_view_count": null,
            "_view_module": "@jupyter-widgets/base",
            "_view_module_version": "1.2.0",
            "_view_name": "StyleView",
            "bar_color": null,
            "description_width": ""
          }
        },
        "67629f49baae44ab881a0f8b00c805ae": {
          "model_module": "@jupyter-widgets/base",
          "model_name": "LayoutModel",
          "model_module_version": "1.2.0",
          "state": {
            "_model_module": "@jupyter-widgets/base",
            "_model_module_version": "1.2.0",
            "_model_name": "LayoutModel",
            "_view_count": null,
            "_view_module": "@jupyter-widgets/base",
            "_view_module_version": "1.2.0",
            "_view_name": "LayoutView",
            "align_content": null,
            "align_items": null,
            "align_self": null,
            "border": null,
            "bottom": null,
            "display": null,
            "flex": null,
            "flex_flow": null,
            "grid_area": null,
            "grid_auto_columns": null,
            "grid_auto_flow": null,
            "grid_auto_rows": null,
            "grid_column": null,
            "grid_gap": null,
            "grid_row": null,
            "grid_template_areas": null,
            "grid_template_columns": null,
            "grid_template_rows": null,
            "height": null,
            "justify_content": null,
            "justify_items": null,
            "left": null,
            "margin": null,
            "max_height": null,
            "max_width": null,
            "min_height": null,
            "min_width": null,
            "object_fit": null,
            "object_position": null,
            "order": null,
            "overflow": null,
            "overflow_x": null,
            "overflow_y": null,
            "padding": null,
            "right": null,
            "top": null,
            "visibility": null,
            "width": null
          }
        },
        "b5d8d43829a6412685afdb2be3bd2459": {
          "model_module": "@jupyter-widgets/controls",
          "model_name": "DescriptionStyleModel",
          "model_module_version": "1.5.0",
          "state": {
            "_model_module": "@jupyter-widgets/controls",
            "_model_module_version": "1.5.0",
            "_model_name": "DescriptionStyleModel",
            "_view_count": null,
            "_view_module": "@jupyter-widgets/base",
            "_view_module_version": "1.2.0",
            "_view_name": "StyleView",
            "description_width": ""
          }
        }
      }
    }
  },
  "cells": [
    {
      "cell_type": "markdown",
      "source": [
        "# Fused-Gromov-Wasserstein距離による最適輸送を用いて、対応する項目の検索クエリをノードとするレイアウト・グラフと、２次元に項目（単語や文章の塊）が配置された帳票の間のアラインメントを行う\n",
        "\n",
        "\n",
        "## 例題\n",
        "\n",
        "### レイアウト・グラフ\n",
        "\n",
        "    0:営業許可証\n",
        "        |\n",
        "    1:営業者住所 ─ 2:*\n",
        "        |             |\n",
        "    3:営業者氏名 ─ 4:*\n",
        "        | \n",
        "    5:*\n",
        "        | \n",
        "    6:有効期限\n",
        "        | \n",
        "    7:00年00月00日\n",
        "\n",
        "\n",
        "### 帳票\n",
        "\n",
        "    0:\"営業許可証\"\n",
        "\n",
        "    1:\"営業者住所\"    2:\"神奈川県横浜市西区みなとみらい\"\n",
        "    3:\"営業者氏名\"    4:\"日鉄太郎\"\n",
        "\n",
        "    5:\"余分な文章が長々と書かれている部分が\\n入っていることってありますよね。\"\n",
        "\n",
        "    6:\"有効期限\"\n",
        "    7:\"令和10年4月14日\"\n",
        "\n",
        "\n",
        "\n"
      ],
      "metadata": {
        "id": "SakAoELznQ9y"
      }
    },
    {
      "cell_type": "markdown",
      "source": [
        "# ライブラリの準備"
      ],
      "metadata": {
        "id": "4pe-6mS0e9k6"
      }
    },
    {
      "cell_type": "code",
      "execution_count": null,
      "metadata": {
        "id": "p1pfeUB3FBTU"
      },
      "outputs": [],
      "source": [
        "%%capture\n",
        "!apt install graphviz libgraphviz-dev\n",
        "!pip install pot networkx pygraphviz\n",
        "!pip install transformers fugashi ipadic\n",
        "!pip install japanize-matplotlib"
      ]
    },
    {
      "cell_type": "markdown",
      "source": [
        "# Sentence-BERTモデル定義"
      ],
      "metadata": {
        "id": "Raz9DhUee8i7"
      }
    },
    {
      "cell_type": "code",
      "source": [
        "from transformers import BertJapaneseTokenizer, BertModel\n",
        "import torch\n",
        "\n",
        "\n",
        "class SentenceBertJapanese:\n",
        "    def __init__(self, model_name_or_path, device=None):\n",
        "        self.tokenizer = BertJapaneseTokenizer.from_pretrained(model_name_or_path)\n",
        "        self.model = BertModel.from_pretrained(model_name_or_path)\n",
        "        self.model.eval()\n",
        "\n",
        "        if device is None:\n",
        "            device = \"cuda\" if torch.cuda.is_available() else \"cpu\"\n",
        "        self.device = torch.device(device)\n",
        "        self.model.to(device)\n",
        "\n",
        "    def _mean_pooling(self, model_output, attention_mask):\n",
        "        token_embeddings = model_output[0] #First element of model_output contains all token embeddings\n",
        "        input_mask_expanded = attention_mask.unsqueeze(-1).expand(token_embeddings.size()).float()\n",
        "        return torch.sum(token_embeddings * input_mask_expanded, 1) / torch.clamp(input_mask_expanded.sum(1), min=1e-9)\n",
        "\n",
        "    @torch.inference_mode()\n",
        "    def encode(self, sentences, batch_size=8):\n",
        "        all_embeddings = []\n",
        "        iterator = range(0, len(sentences), batch_size)\n",
        "        for batch_idx in iterator:\n",
        "            batch = sentences[batch_idx:batch_idx + batch_size]\n",
        "\n",
        "            encoded_input = self.tokenizer.batch_encode_plus(batch, padding=\"longest\", \n",
        "                                           truncation=True, return_tensors=\"pt\").to(self.device)\n",
        "            model_output = self.model(**encoded_input)\n",
        "            sentence_embeddings = self._mean_pooling(model_output, encoded_input[\"attention_mask\"]).to('cpu')\n",
        "\n",
        "            all_embeddings.extend(sentence_embeddings)\n",
        "\n",
        "        # return torch.stack(all_embeddings).numpy()\n",
        "        return torch.stack(all_embeddings)"
      ],
      "metadata": {
        "id": "f8cSw2CQfDvU"
      },
      "execution_count": null,
      "outputs": []
    },
    {
      "cell_type": "code",
      "source": [
        "text_model = SentenceBertJapanese(\"sonoisa/sentence-bert-base-ja-mean-tokens\")"
      ],
      "metadata": {
        "colab": {
          "base_uri": "https://localhost:8080/",
          "height": 282,
          "referenced_widgets": [
            "86a4fdd56a704aed875d9d5ed8ed4089",
            "546411475c124665b8603eea3cc4b6a8",
            "f7972395a46a4b20b9851fb0de2a5760",
            "8ff22119361047379ffb1fde0c0f0c19",
            "ea2f86507b2e4d79ae0424c7fcdd1880",
            "c61db4f3135c42078bdef4cbf79143bb",
            "764538258c60425bbfb7ad00a6637dbc",
            "6385d2aa95834b72a5c206cd3de495a7",
            "ab002bdf1ce24066955dff6f83d69428",
            "246d232efd024cd395f0fd79de6275fc",
            "6f838632c8e340b280879b52099fc16a",
            "b5ceba56108742408958998a2b7829bd",
            "ff1875d9a25b4e758850523c6e19fcde",
            "fd0d238ef0ae40409d559a4bd9e233e7",
            "636e3da00c8e4988b0e73a0eb3d6f226",
            "f0bb12dd8f474993bc48a97ae2d43575",
            "daaba7e94aba4f0ea324983435cd1646",
            "521c056f6f674af8b7200f59e67202a3",
            "8909fda429424c069ce04f5b918d30a7",
            "782f56fbaae84a7fa42e73dfd55f9e84",
            "ee2bd929860d4821869a74edd595050a",
            "c03db232c82c4872baa0944a8331bbf0",
            "c0b28f1d87bb482682c45a2640091e74",
            "d49936e029594131873096f8b2d17691",
            "753fac54078d4cddba218f170075660e",
            "2e0b95b407154550a25375be9c2c83b1",
            "89487134ba2d47babded0d309547535f",
            "5baf1f8735f1437fb3e44c4003005db8",
            "24914a7b052541568e33958d29312621",
            "7cff14e85f734ea4a9aef7d118dcbc49",
            "129a10bdb91b4000b2c4d28b0957b38f",
            "87d7eff1584241ddadf2a46124eaf31f",
            "8cd356842f2c437fbfb41e55b1c48e22",
            "bbc82f5cef6744019e5d812936d6e464",
            "3cc9d71b29c24a2fb3f22d585e05bd6d",
            "dcd7c89741e54b1c8984a9cbe755263f",
            "55196fcc60684eb9b233415e5ec63aa5",
            "5ce62e1efc2b44c6bdfd8cbdc5644262",
            "f2167ebd11074f139de995bd5080daf6",
            "d9547f8065ea420ba28317416846a1fb",
            "350e8e83e0294b0db21cfe45c37e6cf6",
            "524f9f4d039d42ca9f8e9ce77d6f31c2",
            "eee0f2d544fb43a5b46b09bfde649c96",
            "01ac8bd38ca04424bf6cdc1b404c3535",
            "5431c8d2af9b42089fa8b609dbd54763",
            "fe23ad51a3234ec19481db9f0b379e36",
            "1e149a231c8c46c3b49ea032b6b28369",
            "60c05d9b4ab94d30b264407367ddcc62",
            "76a68c581e9b42c3926cb69b8e37c1cf",
            "4abeb749e373455dacafaec5d509e5f8",
            "c8056dea4ed94798999e4b8e122044bb",
            "9913380276bc451f8ae9098609e128be",
            "73e5116e8f9b4ce189859134ae72b10c",
            "ffbe76c4a1494276b8604ffb1d0f0c41",
            "b8b7b01b25054ef4960d64caf0ca5d35",
            "6bf559f2ba494c3b9757fca7241e6230",
            "429db80690954c2aa9822e151244b0af",
            "5168c37934984d138a8a75e7ee789fed",
            "e3b25eb102c84d5d816f114843760dd6",
            "bbc157fea9df4ef5b461d8feaa452d35",
            "9418d044be2642f9bacb516ec8ad1047",
            "09251c17e1954a2980818a003a545379",
            "6040e24630204b4b9ce757bdd6ad5950",
            "973f16d829ba4f87aa262e90a279c5fa",
            "67629f49baae44ab881a0f8b00c805ae",
            "b5d8d43829a6412685afdb2be3bd2459"
          ]
        },
        "id": "tM5SFpoLfXjh",
        "outputId": "d36fcd96-ff1a-4fbd-86bf-7f657fbd7a39"
      },
      "execution_count": null,
      "outputs": [
        {
          "output_type": "display_data",
          "data": {
            "text/plain": [
              "Downloading:   0%|          | 0.00/252k [00:00<?, ?B/s]"
            ],
            "application/vnd.jupyter.widget-view+json": {
              "version_major": 2,
              "version_minor": 0,
              "model_id": "86a4fdd56a704aed875d9d5ed8ed4089"
            }
          },
          "metadata": {}
        },
        {
          "output_type": "display_data",
          "data": {
            "text/plain": [
              "Downloading:   0%|          | 0.00/2.00 [00:00<?, ?B/s]"
            ],
            "application/vnd.jupyter.widget-view+json": {
              "version_major": 2,
              "version_minor": 0,
              "model_id": "b5ceba56108742408958998a2b7829bd"
            }
          },
          "metadata": {}
        },
        {
          "output_type": "display_data",
          "data": {
            "text/plain": [
              "Downloading:   0%|          | 0.00/112 [00:00<?, ?B/s]"
            ],
            "application/vnd.jupyter.widget-view+json": {
              "version_major": 2,
              "version_minor": 0,
              "model_id": "c0b28f1d87bb482682c45a2640091e74"
            }
          },
          "metadata": {}
        },
        {
          "output_type": "display_data",
          "data": {
            "text/plain": [
              "Downloading:   0%|          | 0.00/241 [00:00<?, ?B/s]"
            ],
            "application/vnd.jupyter.widget-view+json": {
              "version_major": 2,
              "version_minor": 0,
              "model_id": "bbc82f5cef6744019e5d812936d6e464"
            }
          },
          "metadata": {}
        },
        {
          "output_type": "display_data",
          "data": {
            "text/plain": [
              "Downloading:   0%|          | 0.00/730 [00:00<?, ?B/s]"
            ],
            "application/vnd.jupyter.widget-view+json": {
              "version_major": 2,
              "version_minor": 0,
              "model_id": "5431c8d2af9b42089fa8b609dbd54763"
            }
          },
          "metadata": {}
        },
        {
          "output_type": "stream",
          "name": "stderr",
          "text": [
            "The tokenizer class you load from this checkpoint is not the same type as the class this function is called from. It may result in unexpected tokenization. \n",
            "The tokenizer class you load from this checkpoint is 'BertTokenizer'. \n",
            "The class this function is called from is 'BertJapaneseTokenizer'.\n"
          ]
        },
        {
          "output_type": "display_data",
          "data": {
            "text/plain": [
              "Downloading:   0%|          | 0.00/422M [00:00<?, ?B/s]"
            ],
            "application/vnd.jupyter.widget-view+json": {
              "version_major": 2,
              "version_minor": 0,
              "model_id": "6bf559f2ba494c3b9757fca7241e6230"
            }
          },
          "metadata": {}
        }
      ]
    },
    {
      "cell_type": "markdown",
      "source": [
        "# 実験データ定義"
      ],
      "metadata": {
        "id": "R1igbtUzfrK5"
      }
    },
    {
      "cell_type": "markdown",
      "source": [
        "レイアウト・グラフの定義\n",
        "\n",
        "    0:営業許可証\n",
        "        |\n",
        "    1:営業者住所 ─ 2:*\n",
        "        |             |\n",
        "    3:営業者氏名 ─ 4:*\n",
        "        | \n",
        "    5:*\n",
        "        | \n",
        "    6:有効期限\n",
        "        | \n",
        "    7:00年00月00日\n",
        "\n",
        "定義方法\n",
        "\n",
        "- ノード: 対応する帳票上の項目を検索するためのクエリ。BM25等でヒットする検索キーワードであること。検索キーワードが思い浮かばない項目である場合はワイルドカード\"*\"とする。\n",
        "- エッジ: 対応する帳票において隣り合う項目であればそのノード同士をエッジで結ぶ（マンハッタン距離でみて近い項目を結ぶ）。それ以外は結ばない。"
      ],
      "metadata": {
        "id": "dm3qOc0opoaX"
      }
    },
    {
      "cell_type": "code",
      "source": [
        "from IPython.display import display_svg\n",
        "import networkx as nx\n",
        "import graphviz\n",
        "\n",
        "\n",
        "graph = nx.Graph()\n",
        "nx.add_path(graph, [0, 1, 2])\n",
        "nx.add_path(graph, [1, 3, 4])\n",
        "nx.add_path(graph, [3, 5, 6, 7])\n",
        "nx.add_path(graph, [2, 4])\n",
        "\n",
        "node_labels = [\"営業許可証\", \"営業者住所\", \"*\", \n",
        "               \"営業者氏名\", \"*\", \"*\", \"有効期限\", \"00年00月00日\", \n",
        "               ]\n",
        "label_map = {node: f\"{node}:{label}\" for node, label in zip(graph.nodes, node_labels)}\n",
        "\n",
        "graphviz.Source(nx.nx_agraph.to_agraph(nx.relabel_nodes(graph, label_map)))"
      ],
      "metadata": {
        "colab": {
          "base_uri": "https://localhost:8080/",
          "height": 559
        },
        "id": "ngHuvL-yfxOq",
        "outputId": "cdf96fbf-9eb4-4e4b-a70d-95caba2b3ef5"
      },
      "execution_count": null,
      "outputs": [
        {
          "output_type": "execute_result",
          "data": {
            "text/plain": [
              "<graphviz.files.Source at 0x7fd9aec8d2d0>"
            ],
            "image/svg+xml": "<?xml version=\"1.0\" encoding=\"UTF-8\" standalone=\"no\"?>\n<!DOCTYPE svg PUBLIC \"-//W3C//DTD SVG 1.1//EN\"\n \"http://www.w3.org/Graphics/SVG/1.1/DTD/svg11.dtd\">\n<!-- Generated by graphviz version 2.40.1 (20161225.0304)\n -->\n<!-- Pages: 1 -->\n<svg width=\"219pt\" height=\"404pt\"\n viewBox=\"0.00 0.00 219.39 404.00\" xmlns=\"http://www.w3.org/2000/svg\" xmlns:xlink=\"http://www.w3.org/1999/xlink\">\n<g id=\"graph0\" class=\"graph\" transform=\"scale(1 1) rotate(0) translate(4 400)\">\n<polygon fill=\"#ffffff\" stroke=\"transparent\" points=\"-4,4 -4,-400 215.3933,-400 215.3933,4 -4,4\"/>\n<!-- 0:営業許可証 -->\n<g id=\"node1\" class=\"node\">\n<title>0:営業許可証</title>\n<ellipse fill=\"none\" stroke=\"#000000\" cx=\"81\" cy=\"-378\" rx=\"64.189\" ry=\"18\"/>\n<text text-anchor=\"middle\" x=\"81\" y=\"-374.3\" font-family=\"Times,serif\" font-size=\"14.00\" fill=\"#000000\">0:営業許可証</text>\n</g>\n<!-- 1:営業者住所 -->\n<g id=\"node2\" class=\"node\">\n<title>1:営業者住所</title>\n<ellipse fill=\"none\" stroke=\"#000000\" cx=\"81\" cy=\"-306\" rx=\"64.189\" ry=\"18\"/>\n<text text-anchor=\"middle\" x=\"81\" y=\"-302.3\" font-family=\"Times,serif\" font-size=\"14.00\" fill=\"#000000\">1:営業者住所</text>\n</g>\n<!-- 0:営業許可証&#45;&#45;1:営業者住所 -->\n<g id=\"edge1\" class=\"edge\">\n<title>0:営業許可証&#45;&#45;1:営業者住所</title>\n<path fill=\"none\" stroke=\"#000000\" d=\"M81,-359.8314C81,-349 81,-335.2876 81,-324.4133\"/>\n</g>\n<!-- 2:* -->\n<g id=\"node3\" class=\"node\">\n<title>2:*</title>\n<ellipse fill=\"none\" stroke=\"#000000\" cx=\"27\" cy=\"-234\" rx=\"27\" ry=\"18\"/>\n<text text-anchor=\"middle\" x=\"27\" y=\"-230.3\" font-family=\"Times,serif\" font-size=\"14.00\" fill=\"#000000\">2:*</text>\n</g>\n<!-- 1:営業者住所&#45;&#45;2:* -->\n<g id=\"edge2\" class=\"edge\">\n<title>1:営業者住所&#45;&#45;2:*</title>\n<path fill=\"none\" stroke=\"#000000\" d=\"M67.6517,-288.2022C58.9066,-276.5422 47.5687,-261.4249 39.0892,-250.119\"/>\n</g>\n<!-- 3:営業者氏名 -->\n<g id=\"node4\" class=\"node\">\n<title>3:営業者氏名</title>\n<ellipse fill=\"none\" stroke=\"#000000\" cx=\"136\" cy=\"-234\" rx=\"64.189\" ry=\"18\"/>\n<text text-anchor=\"middle\" x=\"136\" y=\"-230.3\" font-family=\"Times,serif\" font-size=\"14.00\" fill=\"#000000\">3:営業者氏名</text>\n</g>\n<!-- 1:営業者住所&#45;&#45;3:営業者氏名 -->\n<g id=\"edge3\" class=\"edge\">\n<title>1:営業者住所&#45;&#45;3:営業者氏名</title>\n<path fill=\"none\" stroke=\"#000000\" d=\"M94.5955,-288.2022C103.0572,-277.1252 113.9022,-262.928 122.3703,-251.8425\"/>\n</g>\n<!-- 4:* -->\n<g id=\"node5\" class=\"node\">\n<title>4:*</title>\n<ellipse fill=\"none\" stroke=\"#000000\" cx=\"45\" cy=\"-162\" rx=\"27\" ry=\"18\"/>\n<text text-anchor=\"middle\" x=\"45\" y=\"-158.3\" font-family=\"Times,serif\" font-size=\"14.00\" fill=\"#000000\">4:*</text>\n</g>\n<!-- 2:*&#45;&#45;4:* -->\n<g id=\"edge4\" class=\"edge\">\n<title>2:*&#45;&#45;4:*</title>\n<path fill=\"none\" stroke=\"#000000\" d=\"M31.4494,-216.2022C34.2187,-205.1252 37.768,-190.928 40.5394,-179.8425\"/>\n</g>\n<!-- 3:営業者氏名&#45;&#45;4:* -->\n<g id=\"edge5\" class=\"edge\">\n<title>3:営業者氏名&#45;&#45;4:*</title>\n<path fill=\"none\" stroke=\"#000000\" d=\"M114.4343,-216.937C98.5616,-204.3784 77.2565,-187.5216 62.4498,-175.8064\"/>\n</g>\n<!-- 5:* -->\n<g id=\"node6\" class=\"node\">\n<title>5:*</title>\n<ellipse fill=\"none\" stroke=\"#000000\" cx=\"136\" cy=\"-162\" rx=\"27\" ry=\"18\"/>\n<text text-anchor=\"middle\" x=\"136\" y=\"-158.3\" font-family=\"Times,serif\" font-size=\"14.00\" fill=\"#000000\">5:*</text>\n</g>\n<!-- 3:営業者氏名&#45;&#45;5:* -->\n<g id=\"edge6\" class=\"edge\">\n<title>3:営業者氏名&#45;&#45;5:*</title>\n<path fill=\"none\" stroke=\"#000000\" d=\"M136,-215.8314C136,-205 136,-191.2876 136,-180.4133\"/>\n</g>\n<!-- 6:有効期限 -->\n<g id=\"node7\" class=\"node\">\n<title>6:有効期限</title>\n<ellipse fill=\"none\" stroke=\"#000000\" cx=\"136\" cy=\"-90\" rx=\"55.4913\" ry=\"18\"/>\n<text text-anchor=\"middle\" x=\"136\" y=\"-86.3\" font-family=\"Times,serif\" font-size=\"14.00\" fill=\"#000000\">6:有効期限</text>\n</g>\n<!-- 5:*&#45;&#45;6:有効期限 -->\n<g id=\"edge7\" class=\"edge\">\n<title>5:*&#45;&#45;6:有効期限</title>\n<path fill=\"none\" stroke=\"#000000\" d=\"M136,-143.8314C136,-133 136,-119.2876 136,-108.4133\"/>\n</g>\n<!-- 7:00年00月00日 -->\n<g id=\"node8\" class=\"node\">\n<title>7:00年00月00日</title>\n<ellipse fill=\"none\" stroke=\"#000000\" cx=\"136\" cy=\"-18\" rx=\"75.2868\" ry=\"18\"/>\n<text text-anchor=\"middle\" x=\"136\" y=\"-14.3\" font-family=\"Times,serif\" font-size=\"14.00\" fill=\"#000000\">7:00年00月00日</text>\n</g>\n<!-- 6:有効期限&#45;&#45;7:00年00月00日 -->\n<g id=\"edge8\" class=\"edge\">\n<title>6:有効期限&#45;&#45;7:00年00月00日</title>\n<path fill=\"none\" stroke=\"#000000\" d=\"M136,-71.8314C136,-61 136,-47.2876 136,-36.4133\"/>\n</g>\n</g>\n</svg>\n"
          },
          "metadata": {},
          "execution_count": 4
        }
      ]
    },
    {
      "cell_type": "markdown",
      "source": [
        "グラフ内の距離行列\n",
        "\n",
        "グラフのホップ数を用いる"
      ],
      "metadata": {
        "id": "_eyK1cfbwy7f"
      }
    },
    {
      "cell_type": "code",
      "source": [
        "import numpy as np\n",
        "\n",
        "node_count = len(graph.nodes)\n",
        "\n",
        "C1 = np.full((node_count, node_count), node_count, dtype=np.float32)\n",
        "\n",
        "\n",
        "for from_index, tos in nx.all_pairs_shortest_path_length(graph):\n",
        "    for to_index, distance in tos.items():\n",
        "        C1[from_index, to_index] = distance\n",
        "\n",
        "C1"
      ],
      "metadata": {
        "colab": {
          "base_uri": "https://localhost:8080/"
        },
        "id": "GZgQvbchvhg4",
        "outputId": "e885bf36-b35d-4976-b9c3-3884c8275390"
      },
      "execution_count": null,
      "outputs": [
        {
          "output_type": "execute_result",
          "data": {
            "text/plain": [
              "array([[0., 1., 2., 2., 3., 3., 4., 5.],\n",
              "       [1., 0., 1., 1., 2., 2., 3., 4.],\n",
              "       [2., 1., 0., 2., 1., 3., 4., 5.],\n",
              "       [2., 1., 2., 0., 1., 1., 2., 3.],\n",
              "       [3., 2., 1., 1., 0., 2., 3., 4.],\n",
              "       [3., 2., 3., 1., 2., 0., 1., 2.],\n",
              "       [4., 3., 4., 2., 3., 1., 0., 1.],\n",
              "       [5., 4., 5., 3., 4., 2., 1., 0.]], dtype=float32)"
            ]
          },
          "metadata": {},
          "execution_count": 5
        }
      ]
    },
    {
      "cell_type": "markdown",
      "source": [
        "帳票の定義\n",
        "\n",
        "    営業許可証\n",
        "\n",
        "    営業者住所    神奈川県横浜市西区みなとみらい\n",
        "    営業者氏名    日鉄太郎\n",
        "\n",
        "    有効期限\n",
        "    令和10年4月14日\n"
      ],
      "metadata": {
        "id": "TSGVSsGPrboR"
      }
    },
    {
      "cell_type": "code",
      "source": [
        "import matplotlib.pyplot as pl\n",
        "import japanize_matplotlib\n",
        "\n",
        "\n",
        "form_items = [\n",
        "              {\"text\":\"営業許可証\", \"xy\":(0.4, 0.9)},\n",
        "              {\"text\":\"営業者住所\", \"xy\":(0.1, 0.7)},\n",
        "              {\"text\":\"神奈川県横浜市西区みなとみらい\", \"xy\":(0.4, 0.7)},\n",
        "              {\"text\":\"営業者氏名\", \"xy\":(0.1, 0.6)},\n",
        "              {\"text\":\"日鉄太郎\", \"xy\":(0.4, 0.6)},\n",
        "              {\"text\":\"余分な文章が長々と書かれている部分が\\n入っていることってありますよね。\", \"xy\":(0.1, 0.4)},\n",
        "              {\"text\":\"有効期限\", \"xy\":(0.1, 0.2)},\n",
        "              {\"text\":\"令和10年4月14日\", \"xy\":(0.1, 0.1)},\n",
        "              ]\n",
        "\n",
        "fig = pl.figure(figsize=(8, 8))\n",
        "ax = fig.add_subplot(1, 1, 1)\n",
        "for i, item in enumerate(form_items):\n",
        "    ax.text(item[\"xy\"][0], item[\"xy\"][1], f\"{i}:\" + item[\"text\"], fontsize=16, horizontalalignment=\"left\")\n",
        "\n",
        "fig.show()"
      ],
      "metadata": {
        "colab": {
          "base_uri": "https://localhost:8080/",
          "height": 485
        },
        "id": "lvT0x-Enra_a",
        "outputId": "7dfcaf3d-12ef-4ced-e332-12f51e80a803"
      },
      "execution_count": null,
      "outputs": [
        {
          "output_type": "display_data",
          "data": {
            "text/plain": [
              "<Figure size 576x576 with 1 Axes>"
            ],
            "image/png": "[encoded data removed]"
          },
          "metadata": {
            "needs_background": "light"
          }
        }
      ]
    },
    {
      "cell_type": "markdown",
      "source": [
        "帳票内の距離\n",
        "\n",
        "マンハッタン距離を用いる"
      ],
      "metadata": {
        "id": "FatmCeakzNJM"
      }
    },
    {
      "cell_type": "code",
      "source": [
        "import numpy as np\n",
        "from scipy.spatial.distance import cdist\n",
        "\n",
        "item_count = len(form_items)\n",
        "\n",
        "C2 = np.zeros((item_count, item_count), dtype=np.float32)\n",
        "\n",
        "for i, item_i in enumerate(form_items):\n",
        "    xyi = item_i[\"xy\"]\n",
        "    for j, item_j in enumerate(form_items):\n",
        "        xyj = item_j[\"xy\"]\n",
        "        distance = cdist(np.array([xyi], dtype=np.float32), np.array([xyj], dtype=np.float32), metric=\"cityblock\")\n",
        "        # distance = cdist(np.array([xyi], dtype=np.float32), np.array([xyj], dtype=np.float32), metric=\"euclid\")\n",
        "        C2[i, j] = distance\n",
        "\n",
        "C2"
      ],
      "metadata": {
        "colab": {
          "base_uri": "https://localhost:8080/"
        },
        "id": "Q5nhN0o6zKE1",
        "outputId": "1e447a8f-1af0-4f4c-ea31-455797cc68b5"
      },
      "execution_count": null,
      "outputs": [
        {
          "output_type": "execute_result",
          "data": {
            "text/plain": [
              "array([[0.        , 0.5       , 0.19999999, 0.59999996, 0.29999995,\n",
              "        0.79999995, 1.        , 1.1       ],\n",
              "       [0.5       , 0.        , 0.3       , 0.09999996, 0.39999998,\n",
              "        0.29999998, 0.5       , 0.59999996],\n",
              "       [0.19999999, 0.3       , 0.        , 0.39999998, 0.09999996,\n",
              "        0.59999996, 0.8       , 0.9       ],\n",
              "       [0.59999996, 0.09999996, 0.39999998, 0.        , 0.3       ,\n",
              "        0.20000002, 0.40000004, 0.5       ],\n",
              "       [0.29999995, 0.39999998, 0.09999996, 0.3       , 0.        ,\n",
              "        0.5       , 0.70000005, 0.8       ],\n",
              "       [0.79999995, 0.29999998, 0.59999996, 0.20000002, 0.5       ,\n",
              "        0.        , 0.2       , 0.3       ],\n",
              "       [1.        , 0.5       , 0.8       , 0.40000004, 0.70000005,\n",
              "        0.2       , 0.        , 0.1       ],\n",
              "       [1.1       , 0.59999996, 0.9       , 0.5       , 0.8       ,\n",
              "        0.3       , 0.1       , 0.        ]], dtype=float32)"
            ]
          },
          "metadata": {},
          "execution_count": 7
        }
      ]
    },
    {
      "cell_type": "markdown",
      "source": [
        "レイアウト・グラフのノード数と帳票の項目数は一致しなければならない。"
      ],
      "metadata": {
        "id": "hmc7mcSsaKkQ"
      }
    },
    {
      "cell_type": "code",
      "source": [
        "assert len(form_items) == len(node_labels), \"レイアウト・グラフのノード数と帳票の項目数は一致しなければならない。\""
      ],
      "metadata": {
        "id": "XpwYPjsGaKF7"
      },
      "execution_count": null,
      "outputs": []
    },
    {
      "cell_type": "markdown",
      "source": [
        "レイアウト・グラフと帳票の間の距離\n",
        "\n",
        "共通の尺度として、基本的に文ベクトルのコサイン距離を用いる。  \n",
        "レイアウト・グラフのテキストが\"*\"（ワイルドカード）である場合、帳票のどのテキストとも距離が0なるようにする。"
      ],
      "metadata": {
        "id": "yXf9I6qm1Id_"
      }
    },
    {
      "cell_type": "code",
      "source": [
        "form_sentence_vectors = text_model.encode([item[\"text\"] for item in form_items])\n",
        "form_sentence_vectors = (form_sentence_vectors / form_sentence_vectors.norm(dim=-1, keepdim=True)).numpy()\n",
        "\n",
        "zero_sentence_vector = np.zeros((768,), dtype=np.float32)\n",
        "graph_sentence_vectors = []\n",
        "\n",
        "for node_text in node_labels:\n",
        "    if node_text == \"*\":\n",
        "        sentence_vector = zero_sentence_vector\n",
        "    else:\n",
        "        sentence_vector = text_model.encode([node_text])[0]\n",
        "        sentence_vector = (sentence_vector / sentence_vector.norm()).numpy()\n",
        "    graph_sentence_vectors.append(sentence_vector)\n",
        "\n",
        "graph_sentence_vectors = np.stack(graph_sentence_vectors)\n",
        "\n",
        "M = 1 - (graph_sentence_vectors @ form_sentence_vectors.T)\n",
        "\n",
        "for i, node_text in enumerate(node_labels):\n",
        "    if node_text == \"*\":\n",
        "        M[i, :] = 0\n",
        "\n",
        "M"
      ],
      "metadata": {
        "id": "xl9LWsvB1McZ",
        "colab": {
          "base_uri": "https://localhost:8080/"
        },
        "outputId": "bf9cdca6-cc35-4601-f877-7e59c6868c5e"
      },
      "execution_count": null,
      "outputs": [
        {
          "output_type": "execute_result",
          "data": {
            "text/plain": [
              "array([[ 1.1920929e-07,  3.4579206e-01,  8.6697286e-01,  2.8756034e-01,\n",
              "         7.9042923e-01,  8.6540902e-01,  7.2676492e-01,  9.0127987e-01],\n",
              "       [ 3.4579194e-01, -1.1920929e-07,  9.0693498e-01,  1.6739148e-01,\n",
              "         6.8828046e-01,  8.6367649e-01,  7.3611766e-01,  8.3444321e-01],\n",
              "       [ 0.0000000e+00,  0.0000000e+00,  0.0000000e+00,  0.0000000e+00,\n",
              "         0.0000000e+00,  0.0000000e+00,  0.0000000e+00,  0.0000000e+00],\n",
              "       [ 2.8756034e-01,  1.6739148e-01,  8.2537711e-01, -7.1525574e-07,\n",
              "         7.2743708e-01,  8.7208104e-01,  7.7493298e-01,  8.7928259e-01],\n",
              "       [ 0.0000000e+00,  0.0000000e+00,  0.0000000e+00,  0.0000000e+00,\n",
              "         0.0000000e+00,  0.0000000e+00,  0.0000000e+00,  0.0000000e+00],\n",
              "       [ 0.0000000e+00,  0.0000000e+00,  0.0000000e+00,  0.0000000e+00,\n",
              "         0.0000000e+00,  0.0000000e+00,  0.0000000e+00,  0.0000000e+00],\n",
              "       [ 7.2676480e-01,  7.3611760e-01,  8.5796094e-01,  7.7493298e-01,\n",
              "         7.5787938e-01,  5.6888443e-01, -4.7683716e-07,  7.4915361e-01],\n",
              "       [ 9.1184002e-01,  7.5884569e-01,  9.4116157e-01,  7.6603264e-01,\n",
              "         7.5928056e-01,  9.2843014e-01,  7.8478932e-01,  7.5880319e-01]],\n",
              "      dtype=float32)"
            ]
          },
          "metadata": {},
          "execution_count": 9
        }
      ]
    },
    {
      "cell_type": "markdown",
      "source": [
        "# アラインメントの実行"
      ],
      "metadata": {
        "id": "L8IGRlEVbvMp"
      }
    },
    {
      "cell_type": "code",
      "source": [
        "import matplotlib.pyplot as pl\n",
        "import numpy as np\n",
        "import ot\n",
        "from ot.gromov import gromov_wasserstein, fused_gromov_wasserstein"
      ],
      "metadata": {
        "id": "0GKWpBiIPxLq"
      },
      "execution_count": null,
      "outputs": []
    },
    {
      "cell_type": "code",
      "source": [
        "pl.close(1)\n",
        "pl.figure(1, (6, 6))\n",
        "fs = 15\n",
        "gs = pl.GridSpec(2, 2)\n",
        "\n",
        "ax1 = pl.subplot(gs[1:, :1])\n",
        "pl.imshow(C1, interpolation='nearest')\n",
        "pl.title(\"$C_1$\", fontsize=fs)\n",
        "# ax1.set_aspect('auto')\n",
        "\n",
        "ax2 = pl.subplot(gs[:1, 1:])\n",
        "pl.imshow(C2, interpolation='nearest')\n",
        "pl.title(\"$C_2$\", fontsize=fs)\n",
        "# ax2.set_aspect('auto')\n",
        "\n",
        "ax3 = pl.subplot(gs[1:, 1:], sharex=ax2, sharey=ax1)\n",
        "pl.imshow(M, interpolation='nearest')\n",
        "pl.title(\"$M_{AB}$\", fontsize=fs)\n",
        "pl.tight_layout()\n",
        "# ax3.set_aspect('auto')\n",
        "pl.show()"
      ],
      "metadata": {
        "colab": {
          "base_uri": "https://localhost:8080/",
          "height": 441
        },
        "id": "GnI3Ri-QRQAX",
        "outputId": "89610d1c-d49e-4b7f-9343-802b2f1fa37c"
      },
      "execution_count": null,
      "outputs": [
        {
          "output_type": "display_data",
          "data": {
            "text/plain": [
              "<Figure size 432x432 with 3 Axes>"
            ],
            "image/png": "[encoded data removed]"
          },
          "metadata": {
            "needs_background": "light"
          }
        }
      ]
    },
    {
      "cell_type": "code",
      "source": [
        "p = ot.unif(node_count)\n",
        "q = ot.unif(item_count)\n",
        "\n",
        "alpha = 0.5\n",
        "\n",
        "# Fused Gromov-Wasserstein距離を用いた最適輸送計画\n",
        "Gwg, logw = fused_gromov_wasserstein(M, C1, C2, p, q, loss_fun='square_loss', alpha=alpha, verbose=True, log=True)\n",
        "\n",
        "# Wasserstein距離を用いた最適輸送計画\n",
        "Got = ot.emd([], [], M)\n",
        "\n",
        "# Gromov-Wasserstein距離を用いた最適輸送計画\n",
        "Gg, log = gromov_wasserstein(C1, C2, p, q, loss_fun='square_loss', verbose=True, log=True)"
      ],
      "metadata": {
        "colab": {
          "base_uri": "https://localhost:8080/"
        },
        "id": "IvUo378nRSB8",
        "outputId": "668fc17c-50fc-47b9-fec6-fbf5e1c727a3"
      },
      "execution_count": null,
      "outputs": [
        {
          "output_type": "stream",
          "name": "stdout",
          "text": [
            "It.  |Loss        |Relative loss|Absolute loss\n",
            "------------------------------------------------\n",
            "    0|2.688061e+00|0.000000e+00|0.000000e+00\n",
            "    1|2.150394e+00|2.500318e-01|5.376669e-01\n",
            "    2|2.150394e+00|0.000000e+00|0.000000e+00\n",
            "It.  |Loss        |Relative loss|Absolute loss\n",
            "------------------------------------------------\n",
            "    0|4.975469e+00|0.000000e+00|0.000000e+00\n",
            "    1|4.580938e+00|8.612457e-02|3.945313e-01\n",
            "    2|4.580938e+00|0.000000e+00|0.000000e+00\n"
          ]
        }
      ]
    },
    {
      "cell_type": "markdown",
      "source": [
        "アラインメントの結果\n",
        "\n",
        "- Fused-Gromov-Wasserstein: 項目の内容とレイアウトの両方の類似性を用いたアラインメント。これが最良であるはず。\n",
        "- Wasserstein: 項目の内容の類似性のみを用いたアラインメント（レイアウト情報は用いない）\n",
        "- Gromov-Wassertstein: レイアウトの類似性のみを用いたアラインメント（項目の内容情報は用いない)"
      ],
      "metadata": {
        "id": "PspfEleiiHjw"
      }
    },
    {
      "cell_type": "code",
      "source": [
        "cmap = 'Blues'\n",
        "fs = 15\n",
        "pl.figure(2, (10, 5))\n",
        "pl.clf()\n",
        "\n",
        "pl.subplot(1, 3, 1)\n",
        "pl.imshow(Gwg, cmap=cmap, interpolation='nearest')\n",
        "pl.title('Fused-Gromov-Wasserstein ($M+C_1,C_2$)')\n",
        "\n",
        "pl.subplot(1, 3, 2)\n",
        "pl.imshow(Got, cmap=cmap, interpolation='nearest')\n",
        "pl.title('Wasserstein ($M$ only)')\n",
        "\n",
        "pl.subplot(1, 3, 3)\n",
        "pl.imshow(Gg, cmap=cmap, interpolation='nearest')\n",
        "pl.title('Gromov-Wasserstein ($C_1,C_2$ only)')\n",
        "\n",
        "pl.tight_layout()\n",
        "pl.show()"
      ],
      "metadata": {
        "colab": {
          "base_uri": "https://localhost:8080/",
          "height": 245
        },
        "id": "ctnom0myRVJG",
        "outputId": "dd9ef225-de0b-4e21-d0d7-daf79fa73b92"
      },
      "execution_count": null,
      "outputs": [
        {
          "output_type": "display_data",
          "data": {
            "text/plain": [
              "<Figure size 720x360 with 3 Axes>"
            ],
            "image/png": "[encoded data removed]"
          },
          "metadata": {
            "needs_background": "light"
          }
        }
      ]
    },
    {
      "cell_type": "code",
      "source": [],
      "metadata": {
        "id": "fcsPo0GeRZ4g"
      },
      "execution_count": null,
      "outputs": []
    }
  ]
}