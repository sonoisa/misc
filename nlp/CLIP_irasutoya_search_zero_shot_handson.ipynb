{
  "cells": [
    {
      "cell_type": "markdown",
      "metadata": {
        "id": "UexpkI250ndG"
      },
      "source": [
        "# いらすとや画像をCLIPで検索する\n",
        "\n",
        "CLIPとは: https://qiita.com/sonoisa/items/00e8e2861147842f0237"
      ]
    },
    {
      "cell_type": "code",
      "execution_count": 1,
      "metadata": {
        "colab": {
          "base_uri": "https://localhost:8080/"
        },
        "id": "ttEtOIZF0tyB",
        "outputId": "e5d7ac92-7b55-4c2a-ae91-bca698b7d551"
      },
      "outputs": [
        {
          "output_type": "stream",
          "name": "stdout",
          "text": [
            "Tue Apr 19 13:32:52 2022       \n",
            "+-----------------------------------------------------------------------------+\n",
            "| NVIDIA-SMI 460.32.03    Driver Version: 460.32.03    CUDA Version: 11.2     |\n",
            "|-------------------------------+----------------------+----------------------+\n",
            "| GPU  Name        Persistence-M| Bus-Id        Disp.A | Volatile Uncorr. ECC |\n",
            "| Fan  Temp  Perf  Pwr:Usage/Cap|         Memory-Usage | GPU-Util  Compute M. |\n",
            "|                               |                      |               MIG M. |\n",
            "|===============================+======================+======================|\n",
            "|   0  Tesla V100-SXM2...  Off  | 00000000:00:04.0 Off |                    0 |\n",
            "| N/A   33C    P0    22W / 300W |      0MiB / 16160MiB |      0%      Default |\n",
            "|                               |                      |                  N/A |\n",
            "+-------------------------------+----------------------+----------------------+\n",
            "                                                                               \n",
            "+-----------------------------------------------------------------------------+\n",
            "| Processes:                                                                  |\n",
            "|  GPU   GI   CI        PID   Type   Process name                  GPU Memory |\n",
            "|        ID   ID                                                   Usage      |\n",
            "|=============================================================================|\n",
            "|  No running processes found                                                 |\n",
            "+-----------------------------------------------------------------------------+\n"
          ]
        }
      ],
      "source": [
        "!nvidia-smi"
      ]
    },
    {
      "cell_type": "markdown",
      "source": [
        "# 準備"
      ],
      "metadata": {
        "id": "uVYKQRQfhl-h"
      }
    },
    {
      "cell_type": "markdown",
      "source": [
        "### パスワード設定\n",
        "\n",
        "※勉強会に用いるデータセットの解凍にはパスワードが必要です（一般には公開しません）。  \n",
        "※次の変数 RESOURCES_PASSWORD に解凍用の秘密のパスワードを設定してから、以降の処理を実行してください。"
      ],
      "metadata": {
        "id": "v5NE014lAlKU"
      }
    },
    {
      "cell_type": "code",
      "source": [
        "# データセットの解凍用パスワード\n",
        "RESOURCES_PASSWORD = \"\""
      ],
      "metadata": {
        "id": "axzEp12jAhOY"
      },
      "execution_count": 2,
      "outputs": []
    },
    {
      "cell_type": "markdown",
      "source": [
        "### いらすとやメタデータ\n",
        "\n",
        "次の属性を持ったオブジェクトのリスト\n",
        "\n",
        "* \"page\": そのイラストのページのURL\n",
        "* \"title\": そのイラストのタイトル\n",
        "* \"desc\": そのイラストの説明文\n",
        "* \"imgs\": そのイラストの画像のURLのリスト（複数件の場合があるため）"
      ],
      "metadata": {
        "id": "5hvHf86F3Oui"
      }
    },
    {
      "cell_type": "code",
      "execution_count": 3,
      "metadata": {
        "id": "c_3yi2M1Wpgd",
        "colab": {
          "base_uri": "https://localhost:8080/"
        },
        "outputId": "22bc3a2e-3c30-4289-fa34-7b5d7ef88317"
      },
      "outputs": [
        {
          "output_type": "stream",
          "name": "stdout",
          "text": [
            "Downloading...\n",
            "From: https://drive.google.com/uc?export=view&id=1NQ66ZynRY63SIlk2i4OhMj837YDucLR9\n",
            "To: /content/ii20210224.zip\n",
            "\r  0% 0.00/3.63M [00:00<?, ?B/s]\r100% 3.63M/3.63M [00:00<00:00, 259MB/s]\n"
          ]
        }
      ],
      "source": [
        "!gdown \"https://drive.google.com/uc?export=view&id=1NQ66ZynRY63SIlk2i4OhMj837YDucLR9\""
      ]
    },
    {
      "cell_type": "markdown",
      "source": [
        "### いらすとや画像データ\n",
        "\n",
        "いらすとやメタデータに対応する画像を224x224サイズになるよう前処理したもの\n"
      ],
      "metadata": {
        "id": "HOHWB0Ha476i"
      }
    },
    {
      "cell_type": "code",
      "execution_count": 4,
      "metadata": {
        "id": "6cV1AUAsCTFr",
        "colab": {
          "base_uri": "https://localhost:8080/"
        },
        "outputId": "119e8b26-9f40-4676-d70a-099e71151c87"
      },
      "outputs": [
        {
          "output_type": "stream",
          "name": "stdout",
          "text": [
            "Downloading...\n",
            "From: https://drive.google.com/uc?export=view&id=17Tt0OHBm0_aMcvn9h-sCdFYtd7nnic4C\n",
            "To: /content/images_224x224.zip\n",
            "100% 1.53G/1.53G [00:23<00:00, 66.2MB/s]\n"
          ]
        }
      ],
      "source": [
        "!gdown \"https://drive.google.com/uc?export=view&id=17Tt0OHBm0_aMcvn9h-sCdFYtd7nnic4C\""
      ]
    },
    {
      "cell_type": "markdown",
      "source": [
        "メタデータと画像データを解凍する"
      ],
      "metadata": {
        "id": "wJP6fb8pB94_"
      }
    },
    {
      "cell_type": "code",
      "source": [
        "!unzip -P {RESOURCES_PASSWORD} ii20210224.zip\n",
        "!unzip -qq -P {RESOURCES_PASSWORD} images_224x224.zip"
      ],
      "metadata": {
        "colab": {
          "base_uri": "https://localhost:8080/"
        },
        "id": "lU_Dr2WzB9dj",
        "outputId": "4aa661a4-4309-4b9b-d9a8-2d26a2bcc151"
      },
      "execution_count": 5,
      "outputs": [
        {
          "output_type": "stream",
          "name": "stdout",
          "text": [
            "Archive:  ii20210224.zip\n",
            "  inflating: irasuto_items.json      \n"
          ]
        }
      ]
    },
    {
      "cell_type": "markdown",
      "metadata": {
        "id": "TPIpQyqm0tbW"
      },
      "source": [
        "# 依存ライブラリの読み込み"
      ]
    },
    {
      "cell_type": "code",
      "execution_count": 6,
      "metadata": {
        "id": "ZR12XanMwV3v"
      },
      "outputs": [],
      "source": [
        "%%capture\n",
        "!pip install transformers==4.14.0 pytorch_lightning==1.5.7 fugashi ipadic ja-sentence-segmenter pyarrow"
      ]
    },
    {
      "cell_type": "code",
      "source": [
        "!git clone https://github.com/sonoisa/clip-japanese"
      ],
      "metadata": {
        "colab": {
          "base_uri": "https://localhost:8080/"
        },
        "id": "K9W9D01bvUyu",
        "outputId": "36fd8a48-c4d4-4d75-9b11-94c46b80daa6"
      },
      "execution_count": 7,
      "outputs": [
        {
          "output_type": "stream",
          "name": "stdout",
          "text": [
            "Cloning into 'clip-japanese'...\n",
            "remote: Enumerating objects: 36, done.\u001b[K\n",
            "remote: Counting objects: 100% (36/36), done.\u001b[K\n",
            "remote: Compressing objects: 100% (35/35), done.\u001b[K\n",
            "remote: Total 36 (delta 7), reused 0 (delta 0), pack-reused 0\u001b[K\n",
            "Unpacking objects: 100% (36/36), done.\n"
          ]
        }
      ]
    },
    {
      "cell_type": "markdown",
      "metadata": {
        "id": "fgybggnr0be4"
      },
      "source": [
        "# いらすとや画像を前処理する"
      ]
    },
    {
      "cell_type": "markdown",
      "metadata": {
        "id": "754s5Z3b0iaI"
      },
      "source": [
        "# CLIP用クラスを定義し、モデルを読み込み"
      ]
    },
    {
      "cell_type": "code",
      "execution_count": 1,
      "metadata": {
        "id": "81pJWB_hz9Hd"
      },
      "outputs": [],
      "source": [
        "import os\n",
        "import torch\n",
        "from torch import nn\n",
        "from transformers import AutoModel, AutoTokenizer\n",
        "from huggingface_hub import hf_hub_download\n",
        "\n",
        "\n",
        "class ClipTextModel(nn.Module):\n",
        "    def __init__(self, model_name_or_path, device=None):\n",
        "        super(ClipTextModel, self).__init__()\n",
        "\n",
        "        if os.path.exists(model_name_or_path):\n",
        "            # load from file system\n",
        "            output_linear_state_dict = torch.load(os.path.join(model_name_or_path, \"output_linear.bin\"))\n",
        "        else:\n",
        "            # download from the Hugging Face model hub\n",
        "            filename = hf_hub_download(repo_id=model_name_or_path, filename=\"output_linear.bin\")\n",
        "            output_linear_state_dict = torch.load(filename)\n",
        "\n",
        "        self.model = AutoModel.from_pretrained(model_name_or_path)\n",
        "        config = self.model.config\n",
        "\n",
        "        self.max_cls_depth = 6\n",
        "\n",
        "        sentence_vector_size = output_linear_state_dict[\"bias\"].shape[0]\n",
        "        self.sentence_vector_size = sentence_vector_size\n",
        "        self.output_linear = nn.Linear(self.max_cls_depth * config.hidden_size, sentence_vector_size)\n",
        "        self.output_linear.load_state_dict(output_linear_state_dict)\n",
        "\n",
        "        self.tokenizer = AutoTokenizer.from_pretrained(model_name_or_path, \n",
        "                                                       is_fast=True, do_lower_case=True)\n",
        "\n",
        "        self.eval()\n",
        "\n",
        "        if device is None:\n",
        "            device = \"cuda\" if torch.cuda.is_available() else \"cpu\"\n",
        "        self.device = torch.device(device)\n",
        "        self.to(self.device)\n",
        "\n",
        "    def forward(\n",
        "        self,\n",
        "        input_ids=None,\n",
        "        attention_mask=None,\n",
        "        token_type_ids=None,\n",
        "    ):\n",
        "        output_states = self.model(\n",
        "            input_ids,\n",
        "            attention_mask=attention_mask,\n",
        "            token_type_ids=token_type_ids,\n",
        "            position_ids=None,\n",
        "            head_mask=None,\n",
        "            inputs_embeds=None,\n",
        "            output_attentions=None,\n",
        "            output_hidden_states=True,\n",
        "            return_dict=True,\n",
        "        )\n",
        "        token_embeddings = output_states[0]\n",
        "        input_mask_expanded = attention_mask.unsqueeze(-1).expand(token_embeddings.size()).float()\n",
        "        hidden_states = output_states[\"hidden_states\"]\n",
        "\n",
        "        output_vectors = []\n",
        "\n",
        "        for i in range(1, self.max_cls_depth + 1):\n",
        "            cls_token = hidden_states[-1 * i][:, 0]\n",
        "            output_vectors.append(cls_token)\n",
        "\n",
        "        output_vector = torch.cat(output_vectors, dim=1)\n",
        "        logits = self.output_linear(output_vector)\n",
        "\n",
        "        output = (logits,) + output_states[2:]\n",
        "        return output\n",
        "\n",
        "    @torch.no_grad()\n",
        "    def encode_text(self, texts, batch_size=8, max_length=64):\n",
        "        self.eval()\n",
        "        all_embeddings = []\n",
        "        iterator = range(0, len(texts), batch_size)\n",
        "        for batch_idx in iterator:\n",
        "            batch = texts[batch_idx:batch_idx + batch_size]\n",
        "\n",
        "            encoded_input = self.tokenizer.batch_encode_plus(\n",
        "                batch, max_length=max_length, padding=\"longest\", \n",
        "                truncation=True, return_tensors=\"pt\").to(self.device)\n",
        "            model_output = self(**encoded_input)\n",
        "            text_embeddings = model_output[0].cpu()\n",
        "\n",
        "            all_embeddings.extend(text_embeddings)\n",
        "\n",
        "        # return torch.stack(all_embeddings).numpy()\n",
        "        return torch.stack(all_embeddings)        \n",
        "\n",
        "    def save(self, output_dir):\n",
        "        self.model.save_pretrained(output_dir)\n",
        "        self.tokenizer.save_pretrained(output_dir)\n",
        "        torch.save(self.output_linear.state_dict(), os.path.join(output_dir, \"output_linear.bin\"))\n"
      ]
    },
    {
      "cell_type": "code",
      "execution_count": 2,
      "metadata": {
        "id": "Me-bU3cj0Cz_"
      },
      "outputs": [],
      "source": [
        "import os\n",
        "import torch\n",
        "from torch import nn\n",
        "import transformers\n",
        "from huggingface_hub import hf_hub_download\n",
        "\n",
        "\n",
        "class ClipVisionModel(nn.Module):\n",
        "    def __init__(self, model_name_or_path, device=None):\n",
        "        super(ClipVisionModel, self).__init__()\n",
        "\n",
        "        if os.path.exists(model_name_or_path):\n",
        "            # load from file system\n",
        "            visual_projection_state_dict = torch.load(os.path.join(model_name_or_path, \"visual_projection.bin\"))\n",
        "        else:\n",
        "            # download from the Hugging Face model hub\n",
        "            filename = hf_hub_download(repo_id=model_name_or_path, filename=\"visual_projection.bin\")\n",
        "            visual_projection_state_dict = torch.load(filename)\n",
        "\n",
        "        self.model = transformers.CLIPVisionModel.from_pretrained(model_name_or_path)\n",
        "        config = self.model.config\n",
        "\n",
        "        self.feature_extractor = transformers.CLIPFeatureExtractor.from_pretrained(model_name_or_path)\n",
        "\n",
        "        vision_embed_dim = config.hidden_size\n",
        "        projection_dim = 512\n",
        "\n",
        "        self.visual_projection = nn.Linear(vision_embed_dim, projection_dim, bias=False)\n",
        "        self.visual_projection.load_state_dict(visual_projection_state_dict)\n",
        "\n",
        "        self.eval()\n",
        "\n",
        "        if device is None:\n",
        "            device = \"cuda\" if torch.cuda.is_available() else \"cpu\"\n",
        "        self.device = torch.device(device)\n",
        "        self.to(self.device)\n",
        "\n",
        "    def forward(\n",
        "        self,\n",
        "        pixel_values=None,\n",
        "        output_attentions=None,\n",
        "        output_hidden_states=None,\n",
        "        return_dict=None,\n",
        "    ):\n",
        "        output_states = self.model(\n",
        "            pixel_values=pixel_values,\n",
        "            output_attentions=output_attentions,\n",
        "            output_hidden_states=output_hidden_states,\n",
        "            return_dict=return_dict,\n",
        "        )\n",
        "        image_embeds = self.visual_projection(output_states[1])\n",
        "\n",
        "        return image_embeds\n",
        "\n",
        "    @torch.no_grad()\n",
        "    def encode_image(self, images, batch_size=8):\n",
        "        self.eval()\n",
        "        all_embeddings = []\n",
        "        iterator = range(0, len(images), batch_size)\n",
        "        for batch_idx in iterator:\n",
        "            batch = images[batch_idx:batch_idx + batch_size]\n",
        "\n",
        "            encoded_input = self.feature_extractor(batch, return_tensors=\"pt\").to(self.device)\n",
        "            model_output = self(**encoded_input)\n",
        "            image_embeddings = model_output.cpu()\n",
        "\n",
        "            all_embeddings.extend(image_embeddings)\n",
        "\n",
        "        # return torch.stack(all_embeddings).numpy()\n",
        "        return torch.stack(all_embeddings)        \n",
        "\n",
        "    @staticmethod\n",
        "    def remove_alpha_channel(image):\n",
        "        image.convert(\"RGBA\")\n",
        "        alpha = image.convert('RGBA').split()[-1]\n",
        "        background = Image.new(\"RGBA\", image.size, (255, 255, 255))\n",
        "        background.paste(image, mask=alpha)\n",
        "        image = background.convert(\"RGB\")\n",
        "        return image\n",
        "\n",
        "    def save(self, output_dir):\n",
        "        self.model.save_pretrained(output_dir)\n",
        "        self.feature_extractor.save_pretrained(output_dir)\n",
        "        torch.save(self.visual_projection.state_dict(), os.path.join(output_dir, \"visual_projection.bin\"))\n"
      ]
    },
    {
      "cell_type": "code",
      "execution_count": 3,
      "metadata": {
        "id": "OXa1Gqvvy4BK"
      },
      "outputs": [],
      "source": [
        "import os\n",
        "import torch\n",
        "from torch import nn\n",
        "from huggingface_hub import snapshot_download\n",
        "\n",
        "\n",
        "class ClipModel(nn.Module):\n",
        "    def __init__(self, model_name_or_path, device=None):\n",
        "        super(ClipModel, self).__init__()\n",
        "\n",
        "        if os.path.exists(model_name_or_path):\n",
        "            # load from file system\n",
        "            repo_dir = model_name_or_path\n",
        "        else:\n",
        "            # download from the Hugging Face model hub\n",
        "            repo_dir = snapshot_download(model_name_or_path)\n",
        "\n",
        "        self.text_model = ClipTextModel(repo_dir, device=device)\n",
        "        self.vision_model = ClipVisionModel(os.path.join(repo_dir, \"vision_model\"), device=device)\n",
        "\n",
        "        with torch.no_grad():\n",
        "            logit_scale = nn.Parameter(torch.ones([]) * 2.6592)\n",
        "            logit_scale.set_(torch.load(os.path.join(repo_dir, \"logit_scale.bin\")).clone().cpu())\n",
        "            self.logit_scale = logit_scale\n",
        "\n",
        "        self.eval()\n",
        "\n",
        "        if device is None:\n",
        "            device = \"cuda\" if torch.cuda.is_available() else \"cpu\"\n",
        "        self.device = torch.device(device)\n",
        "        self.to(self.device)\n",
        "\n",
        "    def forward(self, pixel_values, input_ids, attention_mask, token_type_ids):\n",
        "        image_features = self.vision_model(pixel_values=pixel_values)\n",
        "        text_features = self.text_model(input_ids=input_ids, \n",
        "                                        attention_mask=attention_mask, \n",
        "                                        token_type_ids=token_type_ids)[0]\n",
        "\n",
        "        image_features = image_features / image_features.norm(dim=-1, keepdim=True)\n",
        "        text_features = text_features / text_features.norm(dim=-1, keepdim=True)\n",
        "\n",
        "        logit_scale = self.logit_scale.exp()\n",
        "        logits_per_image = logit_scale * image_features @ text_features.t()\n",
        "        logits_per_text = logits_per_image.t()\n",
        "\n",
        "        return logits_per_image, logits_per_text\n",
        "\n",
        "    def save(self, output_dir):\n",
        "        torch.save(self.logit_scale, os.path.join(output_dir, \"logit_scale.bin\"))\n",
        "        self.text_model.save(output_dir)\n",
        "        self.vision_model.save(os.path.join(output_dir, \"vision_model\"))"
      ]
    },
    {
      "cell_type": "markdown",
      "metadata": {
        "id": "jDxNKu4NXBOC"
      },
      "source": [
        "# 日本語CLIPモデルを読み込む"
      ]
    },
    {
      "cell_type": "code",
      "execution_count": 4,
      "metadata": {
        "id": "pn63CjCA0GQx"
      },
      "outputs": [],
      "source": [
        "import torch\n",
        "\n",
        "device = \"cuda\" if torch.cuda.is_available() else \"cpu\"\n",
        "model = ClipModel(\"sonoisa/clip-vit-b-32-japanese-v1\", device=device)"
      ]
    },
    {
      "cell_type": "markdown",
      "metadata": {
        "id": "2zt44QMsBsms"
      },
      "source": [
        "# ゼロショット用のデータセットを作る"
      ]
    },
    {
      "cell_type": "markdown",
      "source": [
        "文の正規化処理の定義"
      ],
      "metadata": {
        "id": "nkOiv9NJoI65"
      }
    },
    {
      "cell_type": "code",
      "execution_count": 5,
      "metadata": {
        "id": "gAuNeNpECPZ0"
      },
      "outputs": [],
      "source": [
        "# https://github.com/neologd/mecab-ipadic-neologd/wiki/Regexp.ja から引用・一部改変\n",
        "from __future__ import unicode_literals\n",
        "import re\n",
        "import unicodedata\n",
        "\n",
        "def unicode_normalize(cls, s):\n",
        "    pt = re.compile('([{}]+)'.format(cls))\n",
        "\n",
        "    def norm(c):\n",
        "        return unicodedata.normalize('NFKC', c) if pt.match(c) else c\n",
        "\n",
        "    s = ''.join(norm(x) for x in re.split(pt, s))\n",
        "    s = re.sub('－', '-', s)\n",
        "    return s\n",
        "\n",
        "def remove_extra_spaces(s):\n",
        "    s = re.sub('[ 　]+', ' ', s)\n",
        "    blocks = ''.join(('\\u4E00-\\u9FFF',  # CJK UNIFIED IDEOGRAPHS\n",
        "                      '\\u3040-\\u309F',  # HIRAGANA\n",
        "                      '\\u30A0-\\u30FF',  # KATAKANA\n",
        "                      '\\u3000-\\u303F',  # CJK SYMBOLS AND PUNCTUATION\n",
        "                      '\\uFF00-\\uFFEF'   # HALFWIDTH AND FULLWIDTH FORMS\n",
        "                      ))\n",
        "    basic_latin = '\\u0000-\\u007F'\n",
        "\n",
        "    def remove_space_between(cls1, cls2, s):\n",
        "        p = re.compile('([{}]) ([{}])'.format(cls1, cls2))\n",
        "        while p.search(s):\n",
        "            s = p.sub(r'\\1\\2', s)\n",
        "        return s\n",
        "\n",
        "    s = remove_space_between(blocks, blocks, s)\n",
        "    s = remove_space_between(blocks, basic_latin, s)\n",
        "    s = remove_space_between(basic_latin, blocks, s)\n",
        "    return s\n",
        "\n",
        "def normalize_neologd(s):\n",
        "    s = s.strip()\n",
        "    s = unicode_normalize('０-９Ａ-Ｚａ-ｚ｡-ﾟ', s)\n",
        "\n",
        "    def maketrans(f, t):\n",
        "        return {ord(x): ord(y) for x, y in zip(f, t)}\n",
        "\n",
        "    s = re.sub('[˗֊‐‑‒–⁃⁻₋−]+', '-', s)  # normalize hyphens\n",
        "    s = re.sub('[﹣－ｰ—―─━ー]+', 'ー', s)  # normalize choonpus\n",
        "    s = re.sub('[~∼∾〜〰～]+', '〜', s)  # normalize tildes (modified by Isao Sonobe)\n",
        "    s = s.translate(\n",
        "        maketrans('!\"#$%&\\'()*+,-./:;<=>?@[¥]^_`{|}~｡､･｢｣',\n",
        "              '！”＃＄％＆’（）＊＋，－．／：；＜＝＞？＠［￥］＾＿｀｛｜｝〜。、・「」'))\n",
        "\n",
        "    s = remove_extra_spaces(s)\n",
        "    s = unicode_normalize('！”＃＄％＆’（）＊＋，－．／：；＜＞？＠［￥］＾＿｀｛｜｝〜', s)  # keep ＝,・,「,」\n",
        "    s = re.sub('[’]', '\\'', s)\n",
        "    s = re.sub('[”]', '\"', s)\n",
        "    s = s.lower()\n",
        "    return s\n",
        "\n",
        "def normalize_text(text):\n",
        "    return normalize_neologd(text)"
      ]
    },
    {
      "cell_type": "markdown",
      "source": [
        "文分割処理の定義"
      ],
      "metadata": {
        "id": "_y4B_I2moL9B"
      }
    },
    {
      "cell_type": "code",
      "execution_count": 6,
      "metadata": {
        "id": "3sFDOSuXEM1w"
      },
      "outputs": [],
      "source": [
        "import functools\n",
        "from ja_sentence_segmenter.common.pipeline import make_pipeline\n",
        "from ja_sentence_segmenter.concatenate.simple_concatenator import concatenate_matching\n",
        "from ja_sentence_segmenter.split.simple_splitter import split_newline, split_punctuation\n",
        "\n",
        "split_punc2 = functools.partial(split_punctuation, punctuations=r\"。!?\")\n",
        "concat_tail_no = functools.partial(concatenate_matching, former_matching_rule=r\"^(?P<result>.+)(の)$\", \n",
        "                                   remove_former_matched=False)\n",
        "segmenter = make_pipeline(split_newline, concat_tail_no, split_punc2)"
      ]
    },
    {
      "cell_type": "markdown",
      "source": [
        "画像のURLをローカルに存在する画像ファイルへのパスに読み替える処理の定義"
      ],
      "metadata": {
        "id": "iw_IfP7woQBL"
      }
    },
    {
      "cell_type": "code",
      "execution_count": 7,
      "metadata": {
        "id": "3tnREgdmTuj4"
      },
      "outputs": [],
      "source": [
        "import os\n",
        "import urllib\n",
        "\n",
        "def get_image_files(item_index, image_urls):\n",
        "    image_files = []\n",
        "    new_image_urls = []\n",
        "    for image_url in image_urls:\n",
        "        image_filename = urllib.parse.urlparse(image_url).path.rsplit(\"/\", 1)[-1]\n",
        "        image_filepath = f\"/content/images_224x224/{item_index}/{image_filename}\"\n",
        "        if os.path.isfile(image_filepath):\n",
        "            image_files.append(image_filepath)\n",
        "            new_image_urls.append(image_url)\n",
        "    return image_files, new_image_urls"
      ]
    },
    {
      "cell_type": "markdown",
      "source": [
        "いらすとやデータの読み込み"
      ],
      "metadata": {
        "id": "Po0Q8Ncoolg9"
      }
    },
    {
      "cell_type": "code",
      "execution_count": 8,
      "metadata": {
        "id": "vJoxu9o9CJTL"
      },
      "outputs": [],
      "source": [
        "import json\n",
        "\n",
        "with open(\"/content/irasuto_items.json\", \"r\", encoding=\"utf-8\") as f_in:\n",
        "    items = json.load(f_in)"
      ]
    },
    {
      "cell_type": "markdown",
      "source": [
        "タイトルと説明文を正規化する"
      ],
      "metadata": {
        "id": "AE54fgrFoswx"
      }
    },
    {
      "cell_type": "code",
      "execution_count": 9,
      "metadata": {
        "id": "OT8iHLqUCwSZ"
      },
      "outputs": [],
      "source": [
        "for item in items:\n",
        "    if \"LINEスタンプ\" in item[\"title\"] or \"LINEのスタンプ\" in item[\"title\"]:\n",
        "        continue\n",
        "\n",
        "    try:\n",
        "        title = item[\"title\"]\n",
        "        normalized_title = normalize_text(title)\n",
        "        item[\"normalized_title\"] = normalized_title\n",
        "\n",
        "        desc = item[\"desc\"]\n",
        "        if desc.strip() == \"\":\n",
        "            # 説明文がない場合は、タイトルを説明文にする\n",
        "            item[\"normalized_desc\"] = normalized_title\n",
        "            item[\"desc\"] = title\n",
        "        else:\n",
        "            normalized_desc = normalize_text(desc)\n",
        "            normalized_desc = list(segmenter(normalized_desc))[0]  # 最初の一文を説明文として採用する。\n",
        "            item[\"normalized_desc\"] = normalized_desc\n",
        "    except Exception as e:\n",
        "        print(e, item)\n",
        "        continue"
      ]
    },
    {
      "cell_type": "markdown",
      "source": [
        "いらすとやの全データについて、説明文と画像の埋め込みを計算する"
      ],
      "metadata": {
        "id": "epuyYuyvo0z3"
      }
    },
    {
      "cell_type": "code",
      "execution_count": 10,
      "metadata": {
        "id": "5v98wpxtE8gL",
        "colab": {
          "base_uri": "https://localhost:8080/"
        },
        "outputId": "82284456-4b9b-4453-d786-fe60f7e9c21b"
      },
      "outputs": [
        {
          "output_type": "stream",
          "name": "stderr",
          "text": [
            "100%|██████████| 25007/25007 [14:35<00:00, 28.55it/s]\n"
          ]
        }
      ],
      "source": [
        "from tqdm import tqdm\n",
        "\n",
        "import pandas as pd\n",
        "from PIL import Image\n",
        "\n",
        "data = []\n",
        "for item_index, item in tqdm(enumerate(items), total=len(items)):\n",
        "    if \"normalized_title\" not in item or \"normalized_desc\" not in item:\n",
        "        continue\n",
        "    \n",
        "    page = item[\"page\"]\n",
        "    title = item[\"title\"]\n",
        "    desc = item[\"desc\"]\n",
        "    normalized_title = item[\"normalized_title\"]\n",
        "    normalized_desc = item[\"normalized_desc\"]\n",
        "    image_urls = item[\"imgs\"]\n",
        "    \n",
        "    image_files, image_urls = get_image_files(item_index, image_urls)\n",
        "    if len(image_files) == 0:\n",
        "        continue\n",
        "\n",
        "    try:\n",
        "        sentence_vector = model.text_model.encode_text([normalized_desc])[0].numpy()\n",
        "    except Exception as e:\n",
        "        print(e, item_index)\n",
        "        continue\n",
        "\n",
        "    try:\n",
        "        # アルファチャネルがある画像は入力できないため、アルファチャネルを削除する（白背景にする）。\n",
        "        images = [ClipVisionModel.remove_alpha_channel(Image.open(image_file)) for image_file in image_files]\n",
        "        image_vectors = model.vision_model.encode_image(images)\n",
        "\n",
        "        for image_vector, image_url, in zip(image_vectors, image_urls):\n",
        "            image_vector = image_vector.numpy()\n",
        "            data.append([item_index, page, title, normalized_title, desc, normalized_desc, \n",
        "                        image_urls, image_url, sentence_vector, image_vector])\n",
        "    except Exception as e:\n",
        "        print(e, item_index)\n",
        "        raise e\n",
        "\n",
        "columns = [\"item_index\", \"page\", \"title\", \"normalized_title\", \"description\", \"normalized_description\", \n",
        "           \"images\", \"image_url\", \"sentence_vector\", \"image_vector\"]\n",
        "df = pd.DataFrame(data, columns=columns)"
      ]
    },
    {
      "cell_type": "markdown",
      "metadata": {
        "id": "kEv-WK78h4Zh"
      },
      "source": [
        "# 検索実験"
      ]
    },
    {
      "cell_type": "code",
      "execution_count": 11,
      "metadata": {
        "id": "Z9B6gjiWhMDo"
      },
      "outputs": [],
      "source": [
        "import numpy as np\n",
        "\n",
        "# 検索対象となる全イラストの文の埋め込みベクトル\n",
        "target_sentence_vectors = np.stack(df[\"sentence_vector\"])\n",
        "\n",
        "# 検索対象となる全イラストの画像の埋め込みベクトル\n",
        "target_image_vectors = np.stack(df[\"image_vector\"])"
      ]
    },
    {
      "cell_type": "code",
      "execution_count": 42,
      "metadata": {
        "id": "dcvBW6tc3_bP"
      },
      "outputs": [],
      "source": [
        "import scipy.spatial\n",
        "from html import escape\n",
        "from PIL import Image\n",
        "from IPython.display import display, HTML, clear_output\n",
        "\n",
        "# テキストの埋め込み\n",
        "def encode_text(text, model):\n",
        "    text = normalize_text(text)\n",
        "    text_embedding = model.text_model.encode_text([text]).numpy()\n",
        "    return text_embedding\n",
        "\n",
        "# 画像の埋め込み\n",
        "def encode_image(image_filename, model):\n",
        "    image = Image.open(image_filename)\n",
        "    image_embedding = model.vision_model.encode_image([image]).numpy()\n",
        "    return image_embedding\n",
        "\n",
        "# 検索の実行\n",
        "def search_irasuto(query_embedding, target_vectors, closest_n=10):\n",
        "    distances = scipy.spatial.distance.cdist(\n",
        "        query_embedding, target_vectors, metric=\"cosine\"\n",
        "    )[0]\n",
        "\n",
        "    results = zip(range(len(distances)), distances)\n",
        "    results = sorted(results, key=lambda x: x[1])\n",
        "\n",
        "    for i, (idx, distance) in enumerate(results[0:closest_n]):\n",
        "        page_url = df.iloc[idx][\"page\"]\n",
        "        desc = df.iloc[idx][\"description\"]\n",
        "        img_url = df.iloc[idx][\"image_url\"]\n",
        "        display(HTML(f\"<div><a href='{page_url}' target='_blank' rel='noopener noreferrer'>\" + \\\n",
        "                     f\"<img src='{img_url}' width='100'>{distance / 2:.4f}: {desc}</a><div>\"))\n",
        "    "
      ]
    },
    {
      "cell_type": "code",
      "execution_count": 43,
      "metadata": {
        "id": "fA4Ykc-MdQSR",
        "colab": {
          "base_uri": "https://localhost:8080/",
          "height": 519
        },
        "outputId": "a2b1dda7-041e-4895-9673-6cf4b42cd1a9"
      },
      "outputs": [
        {
          "output_type": "display_data",
          "data": {
            "text/plain": [
              "<IPython.core.display.HTML object>"
            ],
            "text/html": [
              "<div><a href='https://www.irasutoya.com/2019/12/blog-post_27.html' target='_blank' rel='noopener noreferrer'><img src='https://1.bp.blogspot.com/-gRz4258lYSs/XdttfpRzyEI/AAAAAAABWIw/V0TopHXLoEwCm4NzhCZAk0BatyZJ6SmIACNcBGAsYHQ/s450/jitensya_dekochari.png' width='100'>0.3491: デコトラのような装飾が施された自転車のイラストです。</a><div>"
            ]
          },
          "metadata": {}
        },
        {
          "output_type": "display_data",
          "data": {
            "text/plain": [
              "<IPython.core.display.HTML object>"
            ],
            "text/html": [
              "<div><a href='https://www.irasutoya.com/2018/05/vr6dof.html' target='_blank' rel='noopener noreferrer'><img src='https://2.bp.blogspot.com/-54PaAjuNmgE/WwUdT-7717I/AAAAAAABMVc/zzgxyc9F7A8ZfAruS9tWcEUg8QJ3RcFEACLcBGAs/s410/vr_motion_tracking_6dof.png' width='100'>0.3497: 頭の回転や傾きに加え、上下左右前後の動きにも連動して仮想空間を映し出すVRゴーグルをかぶった人のイラストです。</a><div>"
            ]
          },
          "metadata": {}
        },
        {
          "output_type": "display_data",
          "data": {
            "text/plain": [
              "<IPython.core.display.HTML object>"
            ],
            "text/html": [
              "<div><a href='https://www.irasutoya.com/2015/05/blog-post_100.html' target='_blank' rel='noopener noreferrer'><img src='https://2.bp.blogspot.com/-a9CjAhlwBNw/VUIJllGXeBI/AAAAAAAAtWY/7lLrm5ts5nA/s400/space_kasei_tansa.png' width='100'>0.3527: 遠隔で火星など遠くの惑星を探査をするために使われる、宇宙探査機（マーズ・ローバー）のイラストです。</a><div>"
            ]
          },
          "metadata": {}
        },
        {
          "output_type": "display_data",
          "data": {
            "text/plain": [
              "<IPython.core.display.HTML object>"
            ],
            "text/html": [
              "<div><a href='https://www.irasutoya.com/2015/07/blog-post_933.html' target='_blank' rel='noopener noreferrer'><img src='https://3.bp.blogspot.com/-wwsqJJCnmng/VahRlfxhrnI/AAAAAAAAvs8/MWAj_IbBc_Q/s400/junk_kikai.png' width='100'>0.3528: ボロボロに壊れた機械（ジャンク）のイラストです。</a><div>"
            ]
          },
          "metadata": {}
        },
        {
          "output_type": "display_data",
          "data": {
            "text/plain": [
              "<IPython.core.display.HTML object>"
            ],
            "text/html": [
              "<div><a href='https://www.irasutoya.com/2020/08/blog-post_5.html' target='_blank' rel='noopener noreferrer'><img src='https://1.bp.blogspot.com/-94A2XmrRku8/XyI9d-GelTI/AAAAAAABaYs/-UxgVocGn5gl58yshiU_drRaNNnWIRh7ACNcBGAsYHQ/s400/syoudoku_machine.png' width='100'>0.3536: 自動運転で消毒剤を散布するロボットのイラストです。</a><div>"
            ]
          },
          "metadata": {}
        }
      ],
      "source": [
        "query_input = \"暴走したAIのイラスト\"\n",
        "\n",
        "query_embedding = encode_text(query_input, model)\n",
        "search_irasuto(query_embedding, target_image_vectors, closest_n=5)"
      ]
    },
    {
      "cell_type": "code",
      "execution_count": 44,
      "metadata": {
        "id": "MASCzVIX4KBs",
        "colab": {
          "base_uri": "https://localhost:8080/",
          "height": 561
        },
        "outputId": "12d87aee-e79c-46e4-8de4-513fa220f45f"
      },
      "outputs": [
        {
          "output_type": "display_data",
          "data": {
            "text/plain": [
              "<IPython.core.display.HTML object>"
            ],
            "text/html": [
              "<div><a href='https://www.irasutoya.com/2018/01/ai_56.html' target='_blank' rel='noopener noreferrer'><img src='https://3.bp.blogspot.com/-4ZXrEpcG74A/WlGpFb87TQI/AAAAAAABJkU/22NohgkRDOIQeh_V4QeDE0yVtBvUheRLACLcBGAs/s400/ai_image_gazou_ninshiki.png' width='100'>0.0230: AI（人工知能）のキャラクターが画像を認識しているイラストです。</a><div>"
            ]
          },
          "metadata": {}
        },
        {
          "output_type": "display_data",
          "data": {
            "text/plain": [
              "<IPython.core.display.HTML object>"
            ],
            "text/html": [
              "<div><a href='https://www.irasutoya.com/2018/01/ai_67.html' target='_blank' rel='noopener noreferrer'><img src='https://3.bp.blogspot.com/-C2s0Odthnhs/WlGpE022cNI/AAAAAAABJkQ/O3rwM1BtFtYUkf83QIarn9eiHA7jLgHSwCLcBGAs/s400/ai_heart_kokoro.png' width='100'>0.0239: 感情を持ってしまったAI（人工知能）のイラストです。</a><div>"
            ]
          },
          "metadata": {}
        },
        {
          "output_type": "display_data",
          "data": {
            "text/plain": [
              "<IPython.core.display.HTML object>"
            ],
            "text/html": [
              "<div><a href='https://www.irasutoya.com/2015/05/ai.html' target='_blank' rel='noopener noreferrer'><img src='https://4.bp.blogspot.com/-Anllqq6pDXw/VRUSesbvyAI/AAAAAAAAsrc/CIHz6vLsuTU/s400/computer_jinkou_chinou.png' width='100'>0.0272: コンピュータなどを使って人工的に人間の脳と同じような働きをする、人工知能（AI）のイラストです。</a><div>"
            ]
          },
          "metadata": {}
        },
        {
          "output_type": "display_data",
          "data": {
            "text/plain": [
              "<IPython.core.display.HTML object>"
            ],
            "text/html": [
              "<div><a href='https://www.irasutoya.com/2016/12/blog-post_169.html' target='_blank' rel='noopener noreferrer'><img src='https://3.bp.blogspot.com/-T9MXxX4htpQ/WEztOQr0AmI/AAAAAAABAUo/uIb2k0nOI4UZqFLQ-KYJ0NakfMF885aIACLcB/s400/ai_write.png' width='100'>0.0284: 人工知能（AI）のキャラクターが長い文章をスラスラと書いているイラストです。</a><div>"
            ]
          },
          "metadata": {}
        },
        {
          "output_type": "display_data",
          "data": {
            "text/plain": [
              "<IPython.core.display.HTML object>"
            ],
            "text/html": [
              "<div><a href='https://www.irasutoya.com/2018/01/ai_24.html' target='_blank' rel='noopener noreferrer'><img src='https://1.bp.blogspot.com/-_8SYZZElKrs/WlGpFpPYlHI/AAAAAAABJkY/f2nT1BHBhUMzI_iztmoUPpLZdbl5TDENwCLcBGAs/s400/ai_vs_ai_fight.png' width='100'>0.0330: AI（人工知能）のキャラクター同士で戦っているイラストです。</a><div>"
            ]
          },
          "metadata": {}
        }
      ],
      "source": [
        "query_input = \"暴走した人工知能のイラスト\"\n",
        "\n",
        "query_embedding = encode_text(query_input, model)\n",
        "search_irasuto(query_embedding, target_sentence_vectors, closest_n=5)"
      ]
    },
    {
      "cell_type": "code",
      "execution_count": 45,
      "metadata": {
        "id": "eJYyOOtOjhnj",
        "colab": {
          "base_uri": "https://localhost:8080/",
          "height": 556
        },
        "outputId": "554bbba1-44bc-48f5-e369-4bbf640e7a77"
      },
      "outputs": [
        {
          "output_type": "display_data",
          "data": {
            "text/plain": [
              "<IPython.core.display.HTML object>"
            ],
            "text/html": [
              "<div><a href='https://www.irasutoya.com/2018/01/ai_24.html' target='_blank' rel='noopener noreferrer'><img src='https://1.bp.blogspot.com/-_8SYZZElKrs/WlGpFpPYlHI/AAAAAAABJkY/f2nT1BHBhUMzI_iztmoUPpLZdbl5TDENwCLcBGAs/s400/ai_vs_ai_fight.png' width='100'>0.3510: AI（人工知能）のキャラクター同士で戦っているイラストです。</a><div>"
            ]
          },
          "metadata": {}
        },
        {
          "output_type": "display_data",
          "data": {
            "text/plain": [
              "<IPython.core.display.HTML object>"
            ],
            "text/html": [
              "<div><a href='https://www.irasutoya.com/2018/05/vr6dof.html' target='_blank' rel='noopener noreferrer'><img src='https://2.bp.blogspot.com/-54PaAjuNmgE/WwUdT-7717I/AAAAAAABMVc/zzgxyc9F7A8ZfAruS9tWcEUg8QJ3RcFEACLcBGAs/s410/vr_motion_tracking_6dof.png' width='100'>0.3529: 頭の回転や傾きに加え、上下左右前後の動きにも連動して仮想空間を映し出すVRゴーグルをかぶった人のイラストです。</a><div>"
            ]
          },
          "metadata": {}
        },
        {
          "output_type": "display_data",
          "data": {
            "text/plain": [
              "<IPython.core.display.HTML object>"
            ],
            "text/html": [
              "<div><a href='https://www.irasutoya.com/2018/08/blog-post_828.html' target='_blank' rel='noopener noreferrer'><img src='https://2.bp.blogspot.com/-PHW69E8l4DE/W2aRKUoipoI/AAAAAAABN2k/zRj1nHf71DgPbFtA7IiI8UVPrCSqpS69ACLcBGAs/s550/ai_oinukareru_singularity.png' width='100'>0.3553: 人工知能（AI）が人類の知性を超え、さらに予測のできない無限の進化をし始めるといわれる段階を表す、シンギュラリティ（技術的特異点）のイラストです。</a><div>"
            ]
          },
          "metadata": {}
        },
        {
          "output_type": "display_data",
          "data": {
            "text/plain": [
              "<IPython.core.display.HTML object>"
            ],
            "text/html": [
              "<div><a href='https://www.irasutoya.com/2018/03/ai_23.html' target='_blank' rel='noopener noreferrer'><img src='https://1.bp.blogspot.com/-fyYoL91_tQo/Wp0Nn-VLocI/AAAAAAABKiI/3J2ywEvlbwIhjFNsmF8qpluPOg2it_HAQCLcBGAs/s450/ai_kanabou_buki.png' width='100'>0.3557: 人類に反乱を起こそうと企てているAI（人工知能）のキャラクターです。</a><div>"
            ]
          },
          "metadata": {}
        },
        {
          "output_type": "display_data",
          "data": {
            "text/plain": [
              "<IPython.core.display.HTML object>"
            ],
            "text/html": [
              "<div><a href='https://www.irasutoya.com/2015/06/3d.html' target='_blank' rel='noopener noreferrer'><img src='https://1.bp.blogspot.com/-nSI4XJ72UfE/VXOT6erAFNI/AAAAAAAAuFE/XWD6GUtsi44/s400/machine_3d_scanner.png' width='100'>0.3561: レーザーを使って立体物の形状をスキャンする、3Dスキャナ（レーザースキャナー・3次元スキャナー）のイラストです。</a><div>"
            ]
          },
          "metadata": {}
        }
      ],
      "source": [
        "query_input = \"暴走した人工知能のイラスト\"\n",
        "\n",
        "query_embedding = encode_text(query_input, model)\n",
        "search_irasuto(query_embedding, target_image_vectors, closest_n=5)"
      ]
    },
    {
      "cell_type": "code",
      "execution_count": 46,
      "metadata": {
        "id": "ti0ECuaVdtMh",
        "colab": {
          "base_uri": "https://localhost:8080/",
          "height": 715
        },
        "outputId": "7d895880-d23e-4505-ff88-4bacd27c288a"
      },
      "outputs": [
        {
          "output_type": "display_data",
          "data": {
            "text/plain": [
              "<IPython.core.display.HTML object>"
            ],
            "text/html": [
              "<div><a href='https://www.irasutoya.com/2013/04/blog-post_9.html' target='_blank' rel='noopener noreferrer'><img src='https://3.bp.blogspot.com/-Td5AqfPep0E/UP06MpzpO_I/AAAAAAAAK5U/dLbBbUdMYCM/s400/hamaguri.png' width='100'>0.0263: 大きなはまぐりのイラストです。</a><div>"
            ]
          },
          "metadata": {}
        },
        {
          "output_type": "display_data",
          "data": {
            "text/plain": [
              "<IPython.core.display.HTML object>"
            ],
            "text/html": [
              "<div><a href='https://www.irasutoya.com/2019/09/blog-post_6.html' target='_blank' rel='noopener noreferrer'><img src='https://1.bp.blogspot.com/-8cHykghTraI/XXXOfJoqDXI/AAAAAAABUug/KU6_AOa9NPMBTZzipP7eNtjSM0kz2W7-QCLcBGAs/s550/figure_scrap_build.png' width='100'>0.0285: 古くなったものを壊し新しいものを一から作り上げているイラストです。</a><div>"
            ]
          },
          "metadata": {}
        },
        {
          "output_type": "display_data",
          "data": {
            "text/plain": [
              "<IPython.core.display.HTML object>"
            ],
            "text/html": [
              "<div><a href='https://www.irasutoya.com/2012/04/blog-post_5459.html' target='_blank' rel='noopener noreferrer'><img src='https://3.bp.blogspot.com/-vQSPQf-ytsc/T3K7QM3qaQI/AAAAAAAAE-s/6SB2q7ltxwg/s400/omikuji_daikichi.png' width='100'>0.0297: おみくじ（大吉）のイラストです。だるまが描かれています。</a><div>"
            ]
          },
          "metadata": {}
        },
        {
          "output_type": "display_data",
          "data": {
            "text/plain": [
              "<IPython.core.display.HTML object>"
            ],
            "text/html": [
              "<div><a href='https://www.irasutoya.com/2012/04/blog-post_07.html' target='_blank' rel='noopener noreferrer'><img src='https://3.bp.blogspot.com/-JLNa8mwZRnU/T3K7StR-bEI/AAAAAAAAE-8/rQrDomz5MSw/s400/omikuji_suekichi.png' width='100'>0.0315: おみくじ（末吉）のイラストです。打出の小槌が描かれています。</a><div>"
            ]
          },
          "metadata": {}
        },
        {
          "output_type": "display_data",
          "data": {
            "text/plain": [
              "<IPython.core.display.HTML object>"
            ],
            "text/html": [
              "<div><a href='https://www.irasutoya.com/2020/01/blog-post_177.html' target='_blank' rel='noopener noreferrer'><img src='https://1.bp.blogspot.com/-4q-nZ4pImTQ/XhaJvc87icI/AAAAAAABW38/wJYmSP-Nv6coHWgyFGzNHmmDHd0G30wEACNcBGAsYHQ/s450/taiiku_maehe_narae_chiisaku.png' width='100'>0.0330: 小さく前へならえのイラスト</a><div>"
            ]
          },
          "metadata": {}
        }
      ],
      "source": [
        "query_input = \"想像以上に大きかったイラスト\"\n",
        "\n",
        "query_embedding = encode_text(query_input, model)\n",
        "search_irasuto(query_embedding, target_sentence_vectors, closest_n=5)"
      ]
    },
    {
      "cell_type": "code",
      "execution_count": 47,
      "metadata": {
        "id": "C1sfAfypjn2E",
        "colab": {
          "base_uri": "https://localhost:8080/",
          "height": 610
        },
        "outputId": "d53eae08-e5ed-42c0-e9c1-197f8164397f"
      },
      "outputs": [
        {
          "output_type": "display_data",
          "data": {
            "text/plain": [
              "<IPython.core.display.HTML object>"
            ],
            "text/html": [
              "<div><a href='https://www.irasutoya.com/2018/05/blog-post_84.html' target='_blank' rel='noopener noreferrer'><img src='https://3.bp.blogspot.com/-uzr3ZP_vL_s/Ws2wLzKSiRI/AAAAAAABLbE/ztjDmAMb1Mou0NVYqgmq4vGkNglSpU20gCLcBGAs/s400/syakai_kyukutsu_woman.png' width='100'>0.3552: 女性が余裕のない環境の中で生活をしているイラストです。</a><div>"
            ]
          },
          "metadata": {}
        },
        {
          "output_type": "display_data",
          "data": {
            "text/plain": [
              "<IPython.core.display.HTML object>"
            ],
            "text/html": [
              "<div><a href='https://www.irasutoya.com/2016/08/blog-post_175.html' target='_blank' rel='noopener noreferrer'><img src='https://2.bp.blogspot.com/-mlB3OCfVu5Q/V5Xczy66fDI/AAAAAAAA8uU/yeFcuAMgP7Yq0OWQ6yY0pA4yd1e2GUbAACLcB/s450/hyouzan_ikkaku.png' width='100'>0.3593: 海面上に少しだけ現れた巨大な氷山のイラストです。</a><div>"
            ]
          },
          "metadata": {}
        },
        {
          "output_type": "display_data",
          "data": {
            "text/plain": [
              "<IPython.core.display.HTML object>"
            ],
            "text/html": [
              "<div><a href='https://www.irasutoya.com/2013/08/blog-post_4142.html' target='_blank' rel='noopener noreferrer'><img src='https://2.bp.blogspot.com/-3fMlXKUxIGc/Ufj1K0qAlAI/AAAAAAAAWnk/ajcq8PuAKuM/s400/taisyu_woman.png' width='100'>0.3601: 自分の体臭が臭くて気にしている女性のイラストです。</a><div>"
            ]
          },
          "metadata": {}
        },
        {
          "output_type": "display_data",
          "data": {
            "text/plain": [
              "<IPython.core.display.HTML object>"
            ],
            "text/html": [
              "<div><a href='https://www.irasutoya.com/2016/01/blog-post_710.html' target='_blank' rel='noopener noreferrer'><img src='https://2.bp.blogspot.com/-_j6Tp0wiZPs/VpjBuBCOXpI/AAAAAAAA278/cU3vl2a3yXE/s400/nozokimi_man.png' width='100'>0.3601: 電柱の影から、そっと何かを覗き見ている（ちら見している）男性のイラストです。</a><div>"
            ]
          },
          "metadata": {}
        },
        {
          "output_type": "display_data",
          "data": {
            "text/plain": [
              "<IPython.core.display.HTML object>"
            ],
            "text/html": [
              "<div><a href='https://www.irasutoya.com/2016/01/blog-post_792.html' target='_blank' rel='noopener noreferrer'><img src='https://2.bp.blogspot.com/-5qC4LUAIPpk/VpjBuvhstDI/AAAAAAAA28I/_7VuuZ_polg/s400/nozokimi_woman.png' width='100'>0.3602: 女性が物陰から何かを覗き見ている（ちら見している）イラストです。</a><div>"
            ]
          },
          "metadata": {}
        }
      ],
      "source": [
        "query_input = \"想像以上に大きかったという気持ちのイラスト\"\n",
        "\n",
        "query_embedding = encode_text(query_input, model)\n",
        "search_irasuto(query_embedding, target_image_vectors, closest_n=5)"
      ]
    },
    {
      "cell_type": "code",
      "execution_count": 48,
      "metadata": {
        "id": "wP3LX2YkkYkh",
        "colab": {
          "base_uri": "https://localhost:8080/",
          "height": 438
        },
        "outputId": "ebde0dfe-208a-4aad-81de-9a999c111349"
      },
      "outputs": [
        {
          "output_type": "display_data",
          "data": {
            "text/plain": [
              "<IPython.core.display.HTML object>"
            ],
            "text/html": [
              "<div><a href='https://www.irasutoya.com/2016/07/blog-post_28.html' target='_blank' rel='noopener noreferrer'><img src='https://4.bp.blogspot.com/-qRlUwhtNUjw/V2vXdJ7fQzI/AAAAAAAA72c/9st3fd4mAD4X2q6SLYpHmoAq8GtUvIHMACLcB/s600/bg_train.jpg' width='100'>0.3661: 椅子とドアと手すりと窓が描かれた電車の中の風景のイラストです。</a><div>"
            ]
          },
          "metadata": {}
        },
        {
          "output_type": "display_data",
          "data": {
            "text/plain": [
              "<IPython.core.display.HTML object>"
            ],
            "text/html": [
              "<div><a href='https://www.irasutoya.com/2020/03/blog-post_69.html' target='_blank' rel='noopener noreferrer'><img src='https://1.bp.blogspot.com/-Z9RP2vJ3eAo/Xlyfh0hKvsI/AAAAAAABXmI/jJRdSgsIpY4vpE72lXV_a5v0co400p1IACNcBGAsYHQ/s600/bg_room_syosai_book.jpg' width='100'>0.3667: 本が並べられた本棚と電気スタンドの置かれた大きな机が置かれた書斎のイラストです。</a><div>"
            ]
          },
          "metadata": {}
        },
        {
          "output_type": "display_data",
          "data": {
            "text/plain": [
              "<IPython.core.display.HTML object>"
            ],
            "text/html": [
              "<div><a href='https://www.irasutoya.com/2014/11/blog-post_9.html' target='_blank' rel='noopener noreferrer'><img src='https://4.bp.blogspot.com/-owAlmdp9WT4/VEETiEeNoDI/AAAAAAAAohA/FckLtE3nBq8/s400/osoushiki_sankotsu.png' width='100'>0.3676: 火葬した遺骨を海に撒いている、散骨のイラストです。</a><div>"
            ]
          },
          "metadata": {}
        },
        {
          "output_type": "display_data",
          "data": {
            "text/plain": [
              "<IPython.core.display.HTML object>"
            ],
            "text/html": [
              "<div><a href='https://www.irasutoya.com/2015/06/blog-post_30.html' target='_blank' rel='noopener noreferrer'><img src='https://3.bp.blogspot.com/-ySg3xYBM7TI/VXOTlsC8QQI/AAAAAAAAuBY/_2EwmSKgRPA/s400/family_gyakutai_hogo.png' width='100'>0.3677: 虐待（DV）を行っている親や保護者から、子供を守っている保護施設の職員のイラストです。</a><div>"
            ]
          },
          "metadata": {}
        },
        {
          "output_type": "display_data",
          "data": {
            "text/plain": [
              "<IPython.core.display.HTML object>"
            ],
            "text/html": [
              "<div><a href='https://www.irasutoya.com/2015/11/blog-post_999.html' target='_blank' rel='noopener noreferrer'><img src='https://3.bp.blogspot.com/-3TY06y7xlRg/VkxLxQigQZI/AAAAAAAA0qE/vFCg6B8lN70/s400/lady_ladies_first.png' width='100'>0.3678: 女性のためにドアを開けて先に通している、レディーファーストをする男性のイラストです。</a><div>"
            ]
          },
          "metadata": {}
        }
      ],
      "source": [
        "query_input = \"なんて素敵なんだと感動しているイラスト\"\n",
        "\n",
        "query_embedding = encode_text(query_input, model)\n",
        "search_irasuto(query_embedding, target_image_vectors, closest_n=5)"
      ]
    },
    {
      "cell_type": "code",
      "execution_count": 49,
      "metadata": {
        "id": "whOJchvQlJXO",
        "colab": {
          "base_uri": "https://localhost:8080/",
          "height": 762
        },
        "outputId": "8059c293-2671-4631-d93d-66145f4fac5d"
      },
      "outputs": [
        {
          "output_type": "display_data",
          "data": {
            "text/plain": [
              "<IPython.core.display.HTML object>"
            ],
            "text/html": [
              "<div><a href='https://www.irasutoya.com/2013/10/blog-post_2564.html' target='_blank' rel='noopener noreferrer'><img src='https://2.bp.blogspot.com/-YXAKgmQ0EI0/Udy6UyCougI/AAAAAAAAWDE/pnCoKtq7A68/s400/animal_habu.png' width='100'>0.3644: 沖縄などに住んでいる毒蛇、ハブのイラストです。</a><div>"
            ]
          },
          "metadata": {}
        },
        {
          "output_type": "display_data",
          "data": {
            "text/plain": [
              "<IPython.core.display.HTML object>"
            ],
            "text/html": [
              "<div><a href='https://www.irasutoya.com/2014/01/blog-post_816.html' target='_blank' rel='noopener noreferrer'><img src='https://3.bp.blogspot.com/-lIEl45JgPpA/UrlmsiRsk3I/AAAAAAAAcKI/5l-FewjdJJU/s400/petbottle_juice.png' width='100'>0.3648: 「Juice」と書かれた、ペットボトルに入ったジュースのイラストです。</a><div>"
            ]
          },
          "metadata": {}
        },
        {
          "output_type": "display_data",
          "data": {
            "text/plain": [
              "<IPython.core.display.HTML object>"
            ],
            "text/html": [
              "<div><a href='https://www.irasutoya.com/2017/11/blog-post_143.html' target='_blank' rel='noopener noreferrer'><img src='https://2.bp.blogspot.com/-ROy9SVYM3Jk/Wge7wBc5cfI/AAAAAAABIDE/nPPIIu0Kai0po86fKzkGOCbYWj_s5oeawCLcBGAs/s400/drink_rum.png' width='100'>0.3656: 瓶に入った、サトウキビから作られたお酒のラム酒のイラストです。</a><div>"
            ]
          },
          "metadata": {}
        },
        {
          "output_type": "display_data",
          "data": {
            "text/plain": [
              "<IPython.core.display.HTML object>"
            ],
            "text/html": [
              "<div><a href='https://www.irasutoya.com/2014/08/16.html' target='_blank' rel='noopener noreferrer'><img src='https://2.bp.blogspot.com/-_9JGFIJMRJY/U8XkS_C8uLI/AAAAAAAAiuw/EpYebri_K2c/s220/softcream13.png' width='100'>0.3657: バニラ、チョコ、チョコとバニラのミックス、ストロベリー、ストロベリーとバニラのミックス、ラベンダー、抹茶など、色々な色のソフトクリームのイラストです。</a><div>"
            ]
          },
          "metadata": {}
        },
        {
          "output_type": "display_data",
          "data": {
            "text/plain": [
              "<IPython.core.display.HTML object>"
            ],
            "text/html": [
              "<div><a href='https://www.irasutoya.com/2014/08/16.html' target='_blank' rel='noopener noreferrer'><img src='https://4.bp.blogspot.com/-qx6gEUV-0Ss/U8XkRCqj0yI/AAAAAAAAiuM/Ny2im7QLo40/s220/softcream10.png' width='100'>0.3657: バニラ、チョコ、チョコとバニラのミックス、ストロベリー、ストロベリーとバニラのミックス、ラベンダー、抹茶など、色々な色のソフトクリームのイラストです。</a><div>"
            ]
          },
          "metadata": {}
        }
      ],
      "source": [
        "query_input = \"これが欲しかったというイラスト\"\n",
        "\n",
        "query_embedding = encode_text(query_input, model)\n",
        "search_irasuto(query_embedding, target_image_vectors, closest_n=5)"
      ]
    },
    {
      "cell_type": "code",
      "execution_count": 50,
      "metadata": {
        "id": "vqCmoansliBN",
        "colab": {
          "base_uri": "https://localhost:8080/",
          "height": 667
        },
        "outputId": "5a4a7057-f456-4b4b-f6cc-7399f7c74cb1"
      },
      "outputs": [
        {
          "output_type": "display_data",
          "data": {
            "text/plain": [
              "<IPython.core.display.HTML object>"
            ],
            "text/html": [
              "<div><a href='https://www.irasutoya.com/2012/04/blog-post_6341.html' target='_blank' rel='noopener noreferrer'><img src='https://2.bp.blogspot.com/-h61ngruj0tE/T3K7RDUWmPI/AAAAAAAAE-0/KXtPY8fDwco/s400/omikuji_daikyou.png' width='100'>0.0272: おみくじ（大凶）のイラストです。梅の花が 描かれています。当たりたくはないですね・・・。</a><div>"
            ]
          },
          "metadata": {}
        },
        {
          "output_type": "display_data",
          "data": {
            "text/plain": [
              "<IPython.core.display.HTML object>"
            ],
            "text/html": [
              "<div><a href='https://www.irasutoya.com/2013/04/blog-post_9.html' target='_blank' rel='noopener noreferrer'><img src='https://3.bp.blogspot.com/-Td5AqfPep0E/UP06MpzpO_I/AAAAAAAAK5U/dLbBbUdMYCM/s400/hamaguri.png' width='100'>0.0298: 大きなはまぐりのイラストです。</a><div>"
            ]
          },
          "metadata": {}
        },
        {
          "output_type": "display_data",
          "data": {
            "text/plain": [
              "<IPython.core.display.HTML object>"
            ],
            "text/html": [
              "<div><a href='https://www.irasutoya.com/2018/10/blog-post_296.html' target='_blank' rel='noopener noreferrer'><img src='https://1.bp.blogspot.com/-Q9jOqnVqGuo/W64DqXTxwfI/AAAAAAABPIk/mn0XoaVlL2s_Sphqb-5WielV75A6JIEowCLcBGAs/s400/job_yarigai_sausyu.png' width='100'>0.0301: やりがいという言葉に騙されて都合のいいように労働させられている人のイラストです。</a><div>"
            ]
          },
          "metadata": {}
        },
        {
          "output_type": "display_data",
          "data": {
            "text/plain": [
              "<IPython.core.display.HTML object>"
            ],
            "text/html": [
              "<div><a href='https://www.irasutoya.com/2015/11/blog-post_578.html' target='_blank' rel='noopener noreferrer'><img src='https://2.bp.blogspot.com/-SX0XtPRZEM4/VixB8BhFbjI/AAAAAAAA0G0/t-zsMEricDM/s400/job_hihyouka_commentator.png' width='100'>0.0306: 世間の物事について個人的な見解で分析や批判をする、偉そうな批評家（評論家）のイラストです。</a><div>"
            ]
          },
          "metadata": {}
        },
        {
          "output_type": "display_data",
          "data": {
            "text/plain": [
              "<IPython.core.display.HTML object>"
            ],
            "text/html": [
              "<div><a href='https://www.irasutoya.com/2012/12/blog-post_516.html' target='_blank' rel='noopener noreferrer'><img src='https://4.bp.blogspot.com/-toaP1vMGZAM/UNbkIddJNqI/AAAAAAAAJTk/MeuaawYOaLw/s200/mark_question.png' width='100'>0.0307: はてなマーク（クエスチョンマーク）のイラストです。</a><div>"
            ]
          },
          "metadata": {}
        }
      ],
      "source": [
        "query_input = \"的確な言葉を選ぶのが大変だというイラスト\"\n",
        "\n",
        "query_embedding = encode_text(query_input, model)\n",
        "search_irasuto(query_embedding, target_sentence_vectors, closest_n=5)"
      ]
    },
    {
      "cell_type": "code",
      "execution_count": 51,
      "metadata": {
        "id": "ykukyT4ngCHg",
        "colab": {
          "base_uri": "https://localhost:8080/",
          "height": 466
        },
        "outputId": "30dab195-5e24-41c7-ba7e-6d629b68d689"
      },
      "outputs": [
        {
          "output_type": "display_data",
          "data": {
            "text/plain": [
              "<IPython.core.display.HTML object>"
            ],
            "text/html": [
              "<div><a href='https://www.irasutoya.com/2017/06/blog-post_65.html' target='_blank' rel='noopener noreferrer'><img src='https://2.bp.blogspot.com/-2RFQGjJC5I0/WRaTZtq0ivI/AAAAAAABEQk/rdVNjAPW6Y8p2oAAJwkDoLkeu1Pg2h8aACLcB/s400/life_wakaremichi_woman.png' width='100'>0.3588: 女性が人生の岐路にたち進むべき道を考えているイラストです。</a><div>"
            ]
          },
          "metadata": {}
        },
        {
          "output_type": "display_data",
          "data": {
            "text/plain": [
              "<IPython.core.display.HTML object>"
            ],
            "text/html": [
              "<div><a href='https://www.irasutoya.com/2019/05/ooda_4.html' target='_blank' rel='noopener noreferrer'><img src='https://2.bp.blogspot.com/-UmMfDsHwpZE/XLQr5A2IoJI/AAAAAAABSdY/OECSmZBqcXczSUXSgwQ6R2Yr63j1CHvSwCLcBGAs/s500/ooda_loop_long.png' width='100'>0.3591: ビジネスなどの戦略を考えるときに使われる、観察（Observe）、状況判断（Orient）、意思決定（Decide）、実行（Act）の繰り返し、OODA Loopを表したイラストです。</a><div>"
            ]
          },
          "metadata": {}
        },
        {
          "output_type": "display_data",
          "data": {
            "text/plain": [
              "<IPython.core.display.HTML object>"
            ],
            "text/html": [
              "<div><a href='https://www.irasutoya.com/2017/06/blog-post_80.html' target='_blank' rel='noopener noreferrer'><img src='https://4.bp.blogspot.com/-YeK4VpesZU8/WRaTYsdu1hI/AAAAAAABEQg/3Fr_ig8Ez-AUL_3JKHYjyMQ3O-R5MN9YgCLcB/s400/life_wakaremichi_man.png' width='100'>0.3595: 男性が人生の岐路で自分の行く末を考えているイラストです。</a><div>"
            ]
          },
          "metadata": {}
        },
        {
          "output_type": "display_data",
          "data": {
            "text/plain": [
              "<IPython.core.display.HTML object>"
            ],
            "text/html": [
              "<div><a href='https://www.irasutoya.com/2019/05/ooda.html' target='_blank' rel='noopener noreferrer'><img src='https://2.bp.blogspot.com/-YhMhDNplM2w/XLQvjC0LhOI/AAAAAAABSeI/bW-l75Yw_qkx22Bf3t6jHIun4947dgT7wCLcBGAs/s540/ooda_loop_icon_long.png' width='100'>0.3597: ビジネスなどの戦略を考えるときに使われる、観察（Observe）、状況判断（Orient）、意思決定（Decide）、実行（Act）の繰り返し、OODA Loopをアイコン付きで表したイラストです。</a><div>"
            ]
          },
          "metadata": {}
        },
        {
          "output_type": "display_data",
          "data": {
            "text/plain": [
              "<IPython.core.display.HTML object>"
            ],
            "text/html": [
              "<div><a href='https://www.irasutoya.com/2014/07/blog-post_4.html' target='_blank' rel='noopener noreferrer'><img src='https://1.bp.blogspot.com/-jcT-lNwcMdg/U5l6DGgn88I/AAAAAAAAhXk/fA0IfqbidUc/s450/rikon_jukunen.png' width='100'>0.3597: 喧嘩をした年配の夫婦が、引き裂かれているイラストです。</a><div>"
            ]
          },
          "metadata": {}
        }
      ],
      "source": [
        "query_input = \"的確な言葉を選ぶのが大変だというイラスト\"\n",
        "\n",
        "query_embedding = encode_text(query_input, model)\n",
        "search_irasuto(query_embedding, target_image_vectors, closest_n=5)"
      ]
    },
    {
      "cell_type": "code",
      "execution_count": 52,
      "metadata": {
        "id": "As0Iu0vZlnni",
        "colab": {
          "base_uri": "https://localhost:8080/",
          "height": 752
        },
        "outputId": "6ecf7d57-1c83-4a2e-be89-d7526c68ab99"
      },
      "outputs": [
        {
          "output_type": "display_data",
          "data": {
            "text/plain": [
              "<IPython.core.display.HTML object>"
            ],
            "text/html": [
              "<div><a href='https://www.irasutoya.com/2016/05/blog-post_88.html' target='_blank' rel='noopener noreferrer'><img src='https://2.bp.blogspot.com/-ZZeWGmd8jZA/VycdwhP3nYI/AAAAAAAA6So/N-0j6N7SP6IK81xq3oSiJUQ9v-4dmkDTwCLcB/s350/hakusyu_girl1.png' width='100'>0.0312: 女の子が拍手をして手をつけたり離したりしている様子を描いたイラストです。</a><div>"
            ]
          },
          "metadata": {}
        },
        {
          "output_type": "display_data",
          "data": {
            "text/plain": [
              "<IPython.core.display.HTML object>"
            ],
            "text/html": [
              "<div><a href='https://www.irasutoya.com/2016/05/blog-post_88.html' target='_blank' rel='noopener noreferrer'><img src='https://4.bp.blogspot.com/-te7nVoIexFE/Vycdxf0aR3I/AAAAAAAA6Ss/hqpTkrnkS5ANisStp3Zhi13m3KI0DX0EACLcB/s350/hakusyu_girl2.png' width='100'>0.0312: 女の子が拍手をして手をつけたり離したりしている様子を描いたイラストです。</a><div>"
            ]
          },
          "metadata": {}
        },
        {
          "output_type": "display_data",
          "data": {
            "text/plain": [
              "<IPython.core.display.HTML object>"
            ],
            "text/html": [
              "<div><a href='https://www.irasutoya.com/2016/05/blog-post_51.html' target='_blank' rel='noopener noreferrer'><img src='https://1.bp.blogspot.com/-yZWRaUcN7Os/VycdqEBDMZI/AAAAAAAA6Sc/vakco09cS9YY_gnsTjs58ocmvvWOE79RwCLcB/s350/hakusyu_boy1.png' width='100'>0.0335: 男の子が拍手をしている様子を描いたイラストです。</a><div>"
            ]
          },
          "metadata": {}
        },
        {
          "output_type": "display_data",
          "data": {
            "text/plain": [
              "<IPython.core.display.HTML object>"
            ],
            "text/html": [
              "<div><a href='https://www.irasutoya.com/2016/05/blog-post_51.html' target='_blank' rel='noopener noreferrer'><img src='https://3.bp.blogspot.com/-t0HtWlnYIFI/VycdrA-mMpI/AAAAAAAA6Sg/qmOWkkY7gRYYSxIQVnpTfpBA6G6_0mhawCLcB/s350/hakusyu_boy2.png' width='100'>0.0335: 男の子が拍手をしている様子を描いたイラストです。</a><div>"
            ]
          },
          "metadata": {}
        },
        {
          "output_type": "display_data",
          "data": {
            "text/plain": [
              "<IPython.core.display.HTML object>"
            ],
            "text/html": [
              "<div><a href='https://www.irasutoya.com/2015/01/blog-post_883.html' target='_blank' rel='noopener noreferrer'><img src='https://4.bp.blogspot.com/-PSd2xMIqM5M/VJ6Xcu17JhI/AAAAAAAAqLE/wSlWHEFvLIg/s400/hakusyu.png' width='100'>0.0393: 笑顔で拍手を送っている男性のイラストです。</a><div>"
            ]
          },
          "metadata": {}
        }
      ],
      "source": [
        "query_input = \"拍手をしている人のイラスト\"\n",
        "\n",
        "query_embedding = encode_text(query_input, model)\n",
        "search_irasuto(query_embedding, target_sentence_vectors, closest_n=5)"
      ]
    },
    {
      "cell_type": "code",
      "execution_count": 53,
      "metadata": {
        "id": "WABOXa-Jv4Fg",
        "colab": {
          "base_uri": "https://localhost:8080/",
          "height": 654
        },
        "outputId": "24976d01-d66a-48a6-8930-870d8021371c"
      },
      "outputs": [
        {
          "output_type": "display_data",
          "data": {
            "text/plain": [
              "<IPython.core.display.HTML object>"
            ],
            "text/html": [
              "<div><a href='https://www.irasutoya.com/2020/03/blog-post_50.html' target='_blank' rel='noopener noreferrer'><img src='https://1.bp.blogspot.com/-ZGRgzcHS0Ok/XhwqfshZbGI/AAAAAAABXAU/cNG8ddnBw1oPa3t9Nq4wxqZMl_DmAd7JACNcBGAsYHQ/s250/nail_art_manicure7_white.png' width='100'>0.3278: いろいろな色のマニキュアが塗られた手の爪（ネイルアート）のイラストです。</a><div>"
            ]
          },
          "metadata": {}
        },
        {
          "output_type": "display_data",
          "data": {
            "text/plain": [
              "<IPython.core.display.HTML object>"
            ],
            "text/html": [
              "<div><a href='https://www.irasutoya.com/2019/04/blog-post_16.html' target='_blank' rel='noopener noreferrer'><img src='https://2.bp.blogspot.com/-oefSYL94Ni8/XGjzRwSLSxI/AAAAAAABRnk/QJU0onQ8r7kZyc0jKEgg_HGzK-J6jsAdQCLcBGAs/s200/syushieisei1_alcohol.png' width='100'>0.3281: 手洗いの後にアルコール製剤を使って消毒や除菌を行う手指衛生のイラストです。</a><div>"
            ]
          },
          "metadata": {}
        },
        {
          "output_type": "display_data",
          "data": {
            "text/plain": [
              "<IPython.core.display.HTML object>"
            ],
            "text/html": [
              "<div><a href='https://www.irasutoya.com/2016/01/blog-post_3.html' target='_blank' rel='noopener noreferrer'><img src='https://1.bp.blogspot.com/-J9JyyWLmAoE/VnE4HOgE7CI/AAAAAAAA19E/TmQZOmL0cDE/s400/pose_kyosyu_hand.png' width='100'>0.3291: 挙手をした人の手だけを描いたイラストです。</a><div>"
            ]
          },
          "metadata": {}
        },
        {
          "output_type": "display_data",
          "data": {
            "text/plain": [
              "<IPython.core.display.HTML object>"
            ],
            "text/html": [
              "<div><a href='https://www.irasutoya.com/2016/05/blog-post_77.html' target='_blank' rel='noopener noreferrer'><img src='https://2.bp.blogspot.com/-_A7lm7Ek374/Vy2vuqOs3XI/AAAAAAAA6bE/Wa8QX_c-tlY-J9PxMIl9Rwkj36Z5y4dNACLcB/s400/body_hand_tenokou.png' width='100'>0.3298: 開いた手の手の甲を見せているイラストです。</a><div>"
            ]
          },
          "metadata": {}
        },
        {
          "output_type": "display_data",
          "data": {
            "text/plain": [
              "<IPython.core.display.HTML object>"
            ],
            "text/html": [
              "<div><a href='https://www.irasutoya.com/2014/11/blog-post_552.html' target='_blank' rel='noopener noreferrer'><img src='https://2.bp.blogspot.com/-W5vCTbHK2QI/VHPf-sXs3RI/AAAAAAAApNk/rq3eXso62Tc/s400/figure_tousenbo.png' width='100'>0.3299: 両手を大きく広げて、通せんぼをしている棒人間のイラストです。</a><div>"
            ]
          },
          "metadata": {}
        }
      ],
      "source": [
        "query_input = \"拍手をしている人のイラスト\"\n",
        "\n",
        "query_embedding = encode_text(query_input, model)\n",
        "search_irasuto(query_embedding, target_image_vectors, closest_n=5)"
      ]
    },
    {
      "cell_type": "code",
      "execution_count": 54,
      "metadata": {
        "id": "ss0P6NdWdV4f",
        "colab": {
          "base_uri": "https://localhost:8080/",
          "height": 528
        },
        "outputId": "a2cd1438-1728-45ab-ee28-840835815a48"
      },
      "outputs": [
        {
          "output_type": "display_data",
          "data": {
            "text/plain": [
              "<IPython.core.display.HTML object>"
            ],
            "text/html": [
              "<div><a href='https://www.irasutoya.com/2015/05/ai.html' target='_blank' rel='noopener noreferrer'><img src='https://4.bp.blogspot.com/-Anllqq6pDXw/VRUSesbvyAI/AAAAAAAAsrc/CIHz6vLsuTU/s400/computer_jinkou_chinou.png' width='100'>0.0290: コンピュータなどを使って人工的に人間の脳と同じような働きをする、人工知能（AI）のイラストです。</a><div>"
            ]
          },
          "metadata": {}
        },
        {
          "output_type": "display_data",
          "data": {
            "text/plain": [
              "<IPython.core.display.HTML object>"
            ],
            "text/html": [
              "<div><a href='https://www.irasutoya.com/2018/01/ai_56.html' target='_blank' rel='noopener noreferrer'><img src='https://3.bp.blogspot.com/-4ZXrEpcG74A/WlGpFb87TQI/AAAAAAABJkU/22NohgkRDOIQeh_V4QeDE0yVtBvUheRLACLcBGAs/s400/ai_image_gazou_ninshiki.png' width='100'>0.0301: AI（人工知能）のキャラクターが画像を認識しているイラストです。</a><div>"
            ]
          },
          "metadata": {}
        },
        {
          "output_type": "display_data",
          "data": {
            "text/plain": [
              "<IPython.core.display.HTML object>"
            ],
            "text/html": [
              "<div><a href='https://www.irasutoya.com/2016/12/blog-post_169.html' target='_blank' rel='noopener noreferrer'><img src='https://3.bp.blogspot.com/-T9MXxX4htpQ/WEztOQr0AmI/AAAAAAABAUo/uIb2k0nOI4UZqFLQ-KYJ0NakfMF885aIACLcB/s400/ai_write.png' width='100'>0.0307: 人工知能（AI）のキャラクターが長い文章をスラスラと書いているイラストです。</a><div>"
            ]
          },
          "metadata": {}
        },
        {
          "output_type": "display_data",
          "data": {
            "text/plain": [
              "<IPython.core.display.HTML object>"
            ],
            "text/html": [
              "<div><a href='https://www.irasutoya.com/2016/12/blog-post_651.html' target='_blank' rel='noopener noreferrer'><img src='https://4.bp.blogspot.com/-R4T0JYXCErc/WEztMTqHTeI/AAAAAAABAUc/Rklo_MYSLlIjHHi0HHk-HQ3BSD1TWLvngCLcB/s400/ai_paint.png' width='100'>0.0338: 人工知能（AI）のキャラクターが大きなキャンバスに向かって油絵を描いているイラストです。</a><div>"
            ]
          },
          "metadata": {}
        },
        {
          "output_type": "display_data",
          "data": {
            "text/plain": [
              "<IPython.core.display.HTML object>"
            ],
            "text/html": [
              "<div><a href='https://www.irasutoya.com/2017/10/blog-post_695.html' target='_blank' rel='noopener noreferrer'><img src='https://2.bp.blogspot.com/-AR-24fVM-DU/Wc8fxXl0S6I/AAAAAAABHIE/n9pAxeJcoiAKQC530kI0N30V_fSQBlDzQCLcBGAs/s400/media_digital.png' width='100'>0.0344: パソコン、ディスク、スマートフォンなどのデジタル化された媒体のイラストです。</a><div>"
            ]
          },
          "metadata": {}
        }
      ],
      "source": [
        "query_input = \"絵を描いている人工知能のイラスト\"\n",
        "\n",
        "query_embedding = encode_text(query_input, model)\n",
        "search_irasuto(query_embedding, target_sentence_vectors, closest_n=5)"
      ]
    },
    {
      "cell_type": "code",
      "execution_count": 55,
      "metadata": {
        "id": "N9E5L4XMjshH",
        "colab": {
          "base_uri": "https://localhost:8080/",
          "height": 528
        },
        "outputId": "4380d4f9-7a0c-4058-b7e7-431d60018efd"
      },
      "outputs": [
        {
          "output_type": "display_data",
          "data": {
            "text/plain": [
              "<IPython.core.display.HTML object>"
            ],
            "text/html": [
              "<div><a href='https://www.irasutoya.com/2016/12/blog-post_651.html' target='_blank' rel='noopener noreferrer'><img src='https://4.bp.blogspot.com/-R4T0JYXCErc/WEztMTqHTeI/AAAAAAABAUc/Rklo_MYSLlIjHHi0HHk-HQ3BSD1TWLvngCLcB/s400/ai_paint.png' width='100'>0.3479: 人工知能（AI）のキャラクターが大きなキャンバスに向かって油絵を描いているイラストです。</a><div>"
            ]
          },
          "metadata": {}
        },
        {
          "output_type": "display_data",
          "data": {
            "text/plain": [
              "<IPython.core.display.HTML object>"
            ],
            "text/html": [
              "<div><a href='https://www.irasutoya.com/2019/11/blog-post_317.html' target='_blank' rel='noopener noreferrer'><img src='https://1.bp.blogspot.com/--dcwmHpV7OY/Xbo7iA1vqvI/AAAAAAABV30/r2IQzbEuhQEw9bEe8x-x5M1meGQVy2c3wCNcBGAsYHQ/s400/sketch_gaban_man.png' width='100'>0.3509: イーゼルに乗せた画用紙に果物やパンなどの静物画を描いている男性のイラストです。</a><div>"
            ]
          },
          "metadata": {}
        },
        {
          "output_type": "display_data",
          "data": {
            "text/plain": [
              "<IPython.core.display.HTML object>"
            ],
            "text/html": [
              "<div><a href='https://www.irasutoya.com/2019/04/blog-post_36.html' target='_blank' rel='noopener noreferrer'><img src='https://2.bp.blogspot.com/-axC5lvtULtY/XJB4neUS5rI/AAAAAAABR4Y/F63fhyctXyYwYUAwcZf9M3oRZaRJBufUACLcBGAs/s400/car_jiko_nairinsa_gairinsa.png' width='100'>0.3511: 内輪差外輪差内輪差と外輪差自動車が曲がるときの前輪と後輪の軌道の差から生まれる、内輪差と外輪差を描いたイラストです。</a><div>"
            ]
          },
          "metadata": {}
        },
        {
          "output_type": "display_data",
          "data": {
            "text/plain": [
              "<IPython.core.display.HTML object>"
            ],
            "text/html": [
              "<div><a href='https://www.irasutoya.com/2019/11/blog-post_540.html' target='_blank' rel='noopener noreferrer'><img src='https://1.bp.blogspot.com/-Nxjc78gN9Bw/Xbo7iihFTCI/AAAAAAABV34/X5vzQscAhiI0e-H1OZMG2J4ODASdnpu8wCNcBGAsYHQ/s400/sketch_gaban_woman.png' width='100'>0.3513: 女性がイーゼルに画用紙を乗せて果物やパンなどの静物画を描いているイラストです。</a><div>"
            ]
          },
          "metadata": {}
        },
        {
          "output_type": "display_data",
          "data": {
            "text/plain": [
              "<IPython.core.display.HTML object>"
            ],
            "text/html": [
              "<div><a href='https://www.irasutoya.com/2018/08/blog-post_411.html' target='_blank' rel='noopener noreferrer'><img src='https://3.bp.blogspot.com/-gmL846JWvwY/W2gd0jBR0HI/AAAAAAABN44/eT0KmqV1rrIDMOPpYVFZCaWl9LZSgCPnwCLcBGAs/s400/picture_trickart.png' width='100'>0.3516: 紙を折りたたんだ状態で一定の角度から見ると立体的に見えるイラストを描いている様子を描いたイラストです。</a><div>"
            ]
          },
          "metadata": {}
        }
      ],
      "source": [
        "query_input = \"絵を描いている人工知能のイラスト\"\n",
        "\n",
        "query_embedding = encode_text(query_input, model)\n",
        "search_irasuto(query_embedding, target_image_vectors, closest_n=5)"
      ]
    },
    {
      "cell_type": "code",
      "execution_count": 56,
      "metadata": {
        "id": "5OpyFV6Dwkel",
        "colab": {
          "base_uri": "https://localhost:8080/",
          "height": 456
        },
        "outputId": "6b468957-7b9b-4f76-f5c0-edbcb7daa3c2"
      },
      "outputs": [
        {
          "output_type": "display_data",
          "data": {
            "text/plain": [
              "<IPython.core.display.HTML object>"
            ],
            "text/html": [
              "<div><a href='https://www.irasutoya.com/2020/12/blog-post_21.html' target='_blank' rel='noopener noreferrer'><img src='https://1.bp.blogspot.com/-Skbz-I6EANA/X8s3UakhODI/AAAAAAABcmA/Z9wGKYQbYE8pYgVYVYra2eII80zdRPIaACNcBGAsYHQ/s400/body_virus_juyoutai.png' width='100'>0.0180: コロナウイルスのスパイクと受容体が結合して細胞内に侵入している様子を描いたイラストです。</a><div>"
            ]
          },
          "metadata": {}
        },
        {
          "output_type": "display_data",
          "data": {
            "text/plain": [
              "<IPython.core.display.HTML object>"
            ],
            "text/html": [
              "<div><a href='https://www.irasutoya.com/2020/12/blog-post_45.html' target='_blank' rel='noopener noreferrer'><img src='https://1.bp.blogspot.com/-AVwB0trVKJM/X8s2fFFtpOI/AAAAAAABclM/N5X0_0Ri05c3rdSIAH8SI0KenNlJWCVXQCNcBGAsYHQ/s400/body_virus_koutai.png' width='100'>0.0259: コロナウイルスと抗体が結合して中和されているイラストです。</a><div>"
            ]
          },
          "metadata": {}
        },
        {
          "output_type": "display_data",
          "data": {
            "text/plain": [
              "<IPython.core.display.HTML object>"
            ],
            "text/html": [
              "<div><a href='https://www.irasutoya.com/2015/06/mers.html' target='_blank' rel='noopener noreferrer'><img src='https://3.bp.blogspot.com/-zzkE1AWK8VI/VW2qLBNerlI/AAAAAAAAt-Q/5b-R5zm_TNg/s400/virus_mers.png' width='100'>0.0424: 2015年に感染が広がったMERS（マーズ）コロナウイルスのイラストです。中東呼吸器症候群の病原体です。</a><div>"
            ]
          },
          "metadata": {}
        },
        {
          "output_type": "display_data",
          "data": {
            "text/plain": [
              "<IPython.core.display.HTML object>"
            ],
            "text/html": [
              "<div><a href='https://www.irasutoya.com/2020/12/blog-post_467.html' target='_blank' rel='noopener noreferrer'><img src='https://1.bp.blogspot.com/-BjJtEASKqEU/X-Pf4hos0gI/AAAAAAABdH0/x7A1JbsxuHE-r18Sfb_JII3BOJvPhs41ACNcBGAsYHQ/s550/virus_corona_mutant.png' width='100'>0.0441: ウイルス単体別の形に変異した新型の新型コロナウイルスのイラストです。</a><div>"
            ]
          },
          "metadata": {}
        },
        {
          "output_type": "display_data",
          "data": {
            "text/plain": [
              "<IPython.core.display.HTML object>"
            ],
            "text/html": [
              "<div><a href='https://www.irasutoya.com/2020/12/blog-post_467.html' target='_blank' rel='noopener noreferrer'><img src='https://1.bp.blogspot.com/-VuqY5p1ube4/X-QBC1LCyFI/AAAAAAABdIY/VkgOljBs3qAPGG5DNdnKIsRwNIm3Zg0NwCNcBGAsYHQ/s350/virus_corona_mutant_virus.png' width='100'>0.0441: ウイルス単体別の形に変異した新型の新型コロナウイルスのイラストです。</a><div>"
            ]
          },
          "metadata": {}
        }
      ],
      "source": [
        "query_input = \"コロナウイルスと戦う細胞のイラスト\"\n",
        "\n",
        "query_embedding = encode_text(query_input, model)\n",
        "search_irasuto(query_embedding, target_sentence_vectors, closest_n=5)"
      ]
    },
    {
      "cell_type": "code",
      "execution_count": 57,
      "metadata": {
        "id": "Kwtqm5zWjz1J",
        "colab": {
          "base_uri": "https://localhost:8080/",
          "height": 427
        },
        "outputId": "fa1ba250-b3d0-49fa-fa95-0c27f630680f"
      },
      "outputs": [
        {
          "output_type": "display_data",
          "data": {
            "text/plain": [
              "<IPython.core.display.HTML object>"
            ],
            "text/html": [
              "<div><a href='https://www.irasutoya.com/2013/10/blog-post_8404.html' target='_blank' rel='noopener noreferrer'><img src='https://4.bp.blogspot.com/-9G4me27FBZM/Udy6o-zI_RI/AAAAAAAAWKA/L8_U_x8iNPc/s400/fish_uni.png' width='100'>0.3252: とげとげの殻と、黄色い中身が綺麗なウニのイラストです。</a><div>"
            ]
          },
          "metadata": {}
        },
        {
          "output_type": "display_data",
          "data": {
            "text/plain": [
              "<IPython.core.display.HTML object>"
            ],
            "text/html": [
              "<div><a href='https://www.irasutoya.com/2020/07/blog-post_82.html' target='_blank' rel='noopener noreferrer'><img src='https://1.bp.blogspot.com/-uGTPV4xoAT0/XwHRTH6C4kI/AAAAAAABZ2w/9whCLjVZMLA5g0oZPq8L7ucPJDkdxx5PwCNcBGAsYHQ/s400/body_immune_cells_cytokine_storm.png' width='100'>0.3270: ウイルスが感染した細胞を攻撃する免疫細胞暴走して正常な細胞も攻撃する免疫細胞ウイルスが感染した細胞を攻撃する免疫細胞のイラストと、サイトカインの過剰分泌により暴走した免疫細胞が正常な細胞も攻撃している（サイトカインストーム）イラストです。</a><div>"
            ]
          },
          "metadata": {}
        },
        {
          "output_type": "display_data",
          "data": {
            "text/plain": [
              "<IPython.core.display.HTML object>"
            ],
            "text/html": [
              "<div><a href='https://www.irasutoya.com/2020/12/blog-post_467.html' target='_blank' rel='noopener noreferrer'><img src='https://1.bp.blogspot.com/-BjJtEASKqEU/X-Pf4hos0gI/AAAAAAABdH0/x7A1JbsxuHE-r18Sfb_JII3BOJvPhs41ACNcBGAsYHQ/s550/virus_corona_mutant.png' width='100'>0.3278: ウイルス単体別の形に変異した新型の新型コロナウイルスのイラストです。</a><div>"
            ]
          },
          "metadata": {}
        },
        {
          "output_type": "display_data",
          "data": {
            "text/plain": [
              "<IPython.core.display.HTML object>"
            ],
            "text/html": [
              "<div><a href='https://www.irasutoya.com/2017/11/blog-post_213.html' target='_blank' rel='noopener noreferrer'><img src='https://3.bp.blogspot.com/-dEoD2KTXY7Y/Wfg1Fe7lrkI/AAAAAAABH28/65kcePDsNaYjis1hgNd7GStTEgjh3SJIQCLcBGAs/s450/medical_virus_saibou.png' width='100'>0.3301: 悪い顔をした細菌に負けている体の組織のイラストです。</a><div>"
            ]
          },
          "metadata": {}
        },
        {
          "output_type": "display_data",
          "data": {
            "text/plain": [
              "<IPython.core.display.HTML object>"
            ],
            "text/html": [
              "<div><a href='https://www.irasutoya.com/2020/07/blog-post_82.html' target='_blank' rel='noopener noreferrer'><img src='https://1.bp.blogspot.com/-GSQPVlBOXAs/XwHRSnT1ztI/AAAAAAABZ2o/SPOQUS2wxm08AfmbxRUHooTzYdST-4RWQCNcBGAsYHQ/s400/body_immune_cells_attack.png' width='100'>0.3312: ウイルスが感染した細胞を攻撃する免疫細胞暴走して正常な細胞も攻撃する免疫細胞ウイルスが感染した細胞を攻撃する免疫細胞のイラストと、サイトカインの過剰分泌により暴走した免疫細胞が正常な細胞も攻撃している（サイトカインストーム）イラストです。</a><div>"
            ]
          },
          "metadata": {}
        }
      ],
      "source": [
        "query_input = \"コロナウイルスと戦う細胞のイラスト\"\n",
        "\n",
        "query_embedding = encode_text(query_input, model)\n",
        "search_irasuto(query_embedding, target_image_vectors, closest_n=5)"
      ]
    },
    {
      "cell_type": "code",
      "execution_count": 58,
      "metadata": {
        "id": "lciGTurvwl9f",
        "colab": {
          "base_uri": "https://localhost:8080/",
          "height": 796
        },
        "outputId": "5a05f056-4134-4071-9c40-9a2d8e8b97fb"
      },
      "outputs": [
        {
          "output_type": "display_data",
          "data": {
            "text/plain": [
              "<IPython.core.display.HTML object>"
            ],
            "text/html": [
              "<div><a href='https://www.irasutoya.com/2012/12/blog-post_3418.html' target='_blank' rel='noopener noreferrer'><img src='https://4.bp.blogspot.com/-MYVXXnh_Uyw/WeAFdQ2x0oI/AAAAAAABHjg/KMETVYm0CgMZsoEdDCkpDCJE_OQbBHgjwCLcBGAs/s400/doctor_monshin2.png' width='100'>0.0429: 医師が患者さんに病状を説明しているイラストです。</a><div>"
            ]
          },
          "metadata": {}
        },
        {
          "output_type": "display_data",
          "data": {
            "text/plain": [
              "<IPython.core.display.HTML object>"
            ],
            "text/html": [
              "<div><a href='https://www.irasutoya.com/2013/01/blog-post_4487.html' target='_blank' rel='noopener noreferrer'><img src='https://3.bp.blogspot.com/-gWT5iyb78xM/UOJk5LAk7ZI/AAAAAAAAKJ0/f5ErVjLGEO4/s400/kenkoushindan_man.png' width='100'>0.0441: 健康診断の検査着を着た、男性のイラストです。</a><div>"
            ]
          },
          "metadata": {}
        },
        {
          "output_type": "display_data",
          "data": {
            "text/plain": [
              "<IPython.core.display.HTML object>"
            ],
            "text/html": [
              "<div><a href='https://www.irasutoya.com/2013/02/blog-post_2311.html' target='_blank' rel='noopener noreferrer'><img src='https://4.bp.blogspot.com/-UAisQnXwMe8/UOJ4BDo7TmI/AAAAAAAAKLA/LymV17pLXiw/s400/kenkoushindan_saiketsu.png' width='100'>0.0456: 注射をして採血しているイラストです。</a><div>"
            ]
          },
          "metadata": {}
        },
        {
          "output_type": "display_data",
          "data": {
            "text/plain": [
              "<IPython.core.display.HTML object>"
            ],
            "text/html": [
              "<div><a href='https://www.irasutoya.com/2015/10/blog-post_53.html' target='_blank' rel='noopener noreferrer'><img src='https://4.bp.blogspot.com/-4fgXTj5B4bg/VhHgLgIlpLI/AAAAAAAAy3k/8chaCMc-Hjg/s400/medical_pirori_kokikensa.png' width='100'>0.0475: 検査薬を服用後に息を採取して、ピロリ菌に感染していないかを調べているイラストです。</a><div>"
            ]
          },
          "metadata": {}
        },
        {
          "output_type": "display_data",
          "data": {
            "text/plain": [
              "<IPython.core.display.HTML object>"
            ],
            "text/html": [
              "<div><a href='https://www.irasutoya.com/2013/02/blog-post_5803.html' target='_blank' rel='noopener noreferrer'><img src='https://4.bp.blogspot.com/-Oj-Y4fuiKUA/UOJlBTcimAI/AAAAAAAAKKo/Vjh47QGBJMs/s400/kenkoushindan_woman.png' width='100'>0.0489: 検査着を着た、健康診断を受ける女性のイラストです。</a><div>"
            ]
          },
          "metadata": {}
        }
      ],
      "source": [
        "query_input = \"感染検査をしているイラスト\"\n",
        "\n",
        "query_embedding = encode_text(query_input, model)\n",
        "search_irasuto(query_embedding, target_sentence_vectors, closest_n=5)"
      ]
    },
    {
      "cell_type": "code",
      "execution_count": 59,
      "metadata": {
        "id": "S9UG0YTPj860",
        "colab": {
          "base_uri": "https://localhost:8080/",
          "height": 511
        },
        "outputId": "45b0d335-174f-43ea-fedc-fb5e1daf5d09"
      },
      "outputs": [
        {
          "output_type": "display_data",
          "data": {
            "text/plain": [
              "<IPython.core.display.HTML object>"
            ],
            "text/html": [
              "<div><a href='https://www.irasutoya.com/2020/06/blog-post_78.html' target='_blank' rel='noopener noreferrer'><img src='https://1.bp.blogspot.com/-fVNjZ9kozeg/YCHmE_ueG2I/AAAAAAABdYs/zijD4HnAcHYFZfDJlT7iFJY7L8XWIoLtgCNcBGAsYHQ/s400/medical_yobou_chuusya_mask_woman.png' width='100'>0.3361: マスクありマスクなし女性の二の腕に予防接種（ワクチン接種）のための注射をしている看護師のイラストです。</a><div>"
            ]
          },
          "metadata": {}
        },
        {
          "output_type": "display_data",
          "data": {
            "text/plain": [
              "<IPython.core.display.HTML object>"
            ],
            "text/html": [
              "<div><a href='https://www.irasutoya.com/2016/02/blog-post_117.html' target='_blank' rel='noopener noreferrer'><img src='https://1.bp.blogspot.com/-DWPlkXZ0YqA/YCHmExR57sI/AAAAAAABdYw/bvXiCeEQjrgAD6W9L1Ykemn_xYGijCkGACNcBGAsYHQ/s400/medical_yobou_chuusya_mask_man.png' width='100'>0.3366: マスクありマスクなし二の腕に予防注射（予防接種・ワクチン接種）を受けている男性のイラストです。</a><div>"
            ]
          },
          "metadata": {}
        },
        {
          "output_type": "display_data",
          "data": {
            "text/plain": [
              "<IPython.core.display.HTML object>"
            ],
            "text/html": [
              "<div><a href='https://www.irasutoya.com/2015/06/blog-post_246.html' target='_blank' rel='noopener noreferrer'><img src='https://3.bp.blogspot.com/-uDbbmVh8-4E/VYJca1wow7I/AAAAAAAAuYk/cL226VdZRag/s450/medical_tan_kyuuin.png' width='100'>0.3372: 女性の看護師さんがカテーテルを使って、患者さんの痰（たん）を吸引しているイラストです。</a><div>"
            ]
          },
          "metadata": {}
        },
        {
          "output_type": "display_data",
          "data": {
            "text/plain": [
              "<IPython.core.display.HTML object>"
            ],
            "text/html": [
              "<div><a href='https://www.irasutoya.com/2016/02/blog-post_89.html' target='_blank' rel='noopener noreferrer'><img src='https://2.bp.blogspot.com/-Jd_IMCuf2Mw/WVny1kxhpdI/AAAAAAABFOk/FNtCEX02Zfok--qHT0UsKDAUf7Xi9AdngCLcBGAs/s400/medical_daichou_naishikyou2.png' width='100'>0.3383: 患者の大腸に内視鏡を入れて癌の検査などをしている医師のイラストです。</a><div>"
            ]
          },
          "metadata": {}
        },
        {
          "output_type": "display_data",
          "data": {
            "text/plain": [
              "<IPython.core.display.HTML object>"
            ],
            "text/html": [
              "<div><a href='https://www.irasutoya.com/2015/10/blog-post_88.html' target='_blank' rel='noopener noreferrer'><img src='https://3.bp.blogspot.com/-CYrRn22k7nI/VhHgh8Gn9WI/AAAAAAAAy-w/V9Tim_nU2Yc/s400/kyuukyuusya_hansou.png' width='100'>0.3391: 担架（タンカ・ストレッチャー）に乗せられて救急車で病院まで運ばれる患者さんのイラストです。</a><div>"
            ]
          },
          "metadata": {}
        }
      ],
      "source": [
        "query_input = \"感染検査をしているイラスト\"\n",
        "\n",
        "query_embedding = encode_text(query_input, model)\n",
        "search_irasuto(query_embedding, target_image_vectors, closest_n=5)"
      ]
    },
    {
      "cell_type": "code",
      "execution_count": 60,
      "metadata": {
        "id": "USOT3RN9wuto",
        "colab": {
          "base_uri": "https://localhost:8080/",
          "height": 583
        },
        "outputId": "f3e1ca9d-fd3c-41ab-de6d-8dac6ef4679e"
      },
      "outputs": [
        {
          "output_type": "display_data",
          "data": {
            "text/plain": [
              "<IPython.core.display.HTML object>"
            ],
            "text/html": [
              "<div><a href='https://www.irasutoya.com/2013/12/blog-post_9831.html' target='_blank' rel='noopener noreferrer'><img src='https://4.bp.blogspot.com/-ELOlxJvTPyk/UnyGMigv7gI/AAAAAAAAadE/lb40d_loGxY/s400/neko_sabatora.png' width='100'>0.3590: チョコンと後ろ足でおすわりをしている、灰色いサバトラ猫のイラストです。5</a><div>"
            ]
          },
          "metadata": {}
        },
        {
          "output_type": "display_data",
          "data": {
            "text/plain": [
              "<IPython.core.display.HTML object>"
            ],
            "text/html": [
              "<div><a href='https://www.irasutoya.com/2018/11/blog-post_64.html' target='_blank' rel='noopener noreferrer'><img src='https://4.bp.blogspot.com/-_XsuxM7-ql4/W8hDiCFTFGI/AAAAAAABPdU/PIspyn4_N6M2g2YWwJhMscKQPiPbjVYfACLcBGAs/s400/animal_cat_kowai.png' width='100'>0.3629: すごい形相でジャンプして飛びかかってくる怒った猫のイラストです。</a><div>"
            ]
          },
          "metadata": {}
        },
        {
          "output_type": "display_data",
          "data": {
            "text/plain": [
              "<IPython.core.display.HTML object>"
            ],
            "text/html": [
              "<div><a href='https://www.irasutoya.com/2013/08/blog-post_645.html' target='_blank' rel='noopener noreferrer'><img src='https://3.bp.blogspot.com/-X6ruoCYjbMQ/WSa8zi2McUI/AAAAAAABEhc/OtxhrQP4PYIusK-uT61_NHbxUmlEbLWgACLcB/s400/cat_mikeneko2.png' width='100'>0.3634: 可愛く前脚を立てて座っている三毛猫のイラストです。</a><div>"
            ]
          },
          "metadata": {}
        },
        {
          "output_type": "display_data",
          "data": {
            "text/plain": [
              "<IPython.core.display.HTML object>"
            ],
            "text/html": [
              "<div><a href='https://www.irasutoya.com/2017/09/blog-post_763.html' target='_blank' rel='noopener noreferrer'><img src='https://3.bp.blogspot.com/-TasV1gzw4t8/Wat2ISXqZDI/AAAAAAABGVI/YDgIIwLqbpQgC4g10EWWQ9LLr1JbPbMugCLcBGAs/s400/animal_stand_neko.png' width='100'>0.3635: ネコ（三毛猫）のキャラクターが二本足で立っているイラストです。</a><div>"
            ]
          },
          "metadata": {}
        },
        {
          "output_type": "display_data",
          "data": {
            "text/plain": [
              "<IPython.core.display.HTML object>"
            ],
            "text/html": [
              "<div><a href='https://www.irasutoya.com/2018/08/blog-post_164.html' target='_blank' rel='noopener noreferrer'><img src='https://1.bp.blogspot.com/-uAmcMsmEmuQ/W1a4-oVa5KI/AAAAAAABNjI/5Jclbz9Gqb0lKTkjWHF7U9ZrV5AQRzvuwCLcBGAs/s400/nekoyoke_mat_togetoge.png' width='100'>0.3637: 棘のあるマットで猫（野良猫）を追い払っているイラストです。</a><div>"
            ]
          },
          "metadata": {}
        }
      ],
      "source": [
        "image_file = \"/content/clip-japanese/sample_images/1.jpeg\"\n",
        "\n",
        "query_embedding = encode_image(image_file, model)\n",
        "search_irasuto(query_embedding, target_sentence_vectors, closest_n=5)"
      ]
    },
    {
      "cell_type": "code",
      "execution_count": 61,
      "metadata": {
        "id": "VN6qVovSkCGr",
        "colab": {
          "base_uri": "https://localhost:8080/",
          "height": 522
        },
        "outputId": "41c5ce13-1465-4a71-faac-8a46a087e5fa"
      },
      "outputs": [
        {
          "output_type": "display_data",
          "data": {
            "text/plain": [
              "<IPython.core.display.HTML object>"
            ],
            "text/html": [
              "<div><a href='https://www.irasutoya.com/2019/09/blog-post_188.html' target='_blank' rel='noopener noreferrer'><img src='https://1.bp.blogspot.com/-mjkfErtfCTU/XXXObIPmwBI/AAAAAAABUto/0dQq-cQ5v64RR0IWbDgdlc10CgK2Or0jACLcBGAs/s300/cat_wink_gray.png' width='100'>0.1439: 茶色とグレーの猫がウインクをしているイラストです。</a><div>"
            ]
          },
          "metadata": {}
        },
        {
          "output_type": "display_data",
          "data": {
            "text/plain": [
              "<IPython.core.display.HTML object>"
            ],
            "text/html": [
              "<div><a href='https://www.irasutoya.com/2013/12/blog-post_9831.html' target='_blank' rel='noopener noreferrer'><img src='https://4.bp.blogspot.com/-ELOlxJvTPyk/UnyGMigv7gI/AAAAAAAAadE/lb40d_loGxY/s400/neko_sabatora.png' width='100'>0.1446: チョコンと後ろ足でおすわりをしている、灰色いサバトラ猫のイラストです。5</a><div>"
            ]
          },
          "metadata": {}
        },
        {
          "output_type": "display_data",
          "data": {
            "text/plain": [
              "<IPython.core.display.HTML object>"
            ],
            "text/html": [
              "<div><a href='https://www.irasutoya.com/2014/02/blog-post_2665.html' target='_blank' rel='noopener noreferrer'><img src='https://3.bp.blogspot.com/-jq0sl7TfF7U/Uvy5rrIk4hI/AAAAAAAAdoA/bXKJ5Eka-8A/s400/cat_american_shorthair.png' width='100'>0.1453: 大きな尻尾と、引き締まった縞模様の体が特徴的な猫、アメリカンショートヘアのイラストです。</a><div>"
            ]
          },
          "metadata": {}
        },
        {
          "output_type": "display_data",
          "data": {
            "text/plain": [
              "<IPython.core.display.HTML object>"
            ],
            "text/html": [
              "<div><a href='https://www.irasutoya.com/2019/03/blog-post_538.html' target='_blank' rel='noopener noreferrer'><img src='https://4.bp.blogspot.com/-fvuhFuMVka0/XIJBRrtEoXI/AAAAAAABRzQ/OJJb7t6t8mcgVOo5A4CACHOGFmVy4NeTwCLcBGAs/s400/cat_koubakozuwari_gray.png' width='100'>0.1457: グレーの猫が足を折りたたんで箱座りをしているイラストです。</a><div>"
            ]
          },
          "metadata": {}
        },
        {
          "output_type": "display_data",
          "data": {
            "text/plain": [
              "<IPython.core.display.HTML object>"
            ],
            "text/html": [
              "<div><a href='https://www.irasutoya.com/2017/07/blog-post_225.html' target='_blank' rel='noopener noreferrer'><img src='https://2.bp.blogspot.com/-4cDI5-IdyKs/WUdY336_nbI/AAAAAAABFAg/xxpZDJEt6ncUrMQwU7Ug-HQA8-eRI36eACLcBGAs/s400/pet_cat_sit.png' width='100'>0.1464: 床に手をついて座っている可愛い猫のイラストです。</a><div>"
            ]
          },
          "metadata": {}
        }
      ],
      "source": [
        "image_file = \"/content/clip-japanese/sample_images/1.jpeg\"\n",
        "\n",
        "query_embedding = encode_image(image_file, model)\n",
        "search_irasuto(query_embedding, target_image_vectors, closest_n=5)"
      ]
    },
    {
      "cell_type": "code",
      "execution_count": 62,
      "metadata": {
        "id": "keKxhFTZ4Pe1",
        "colab": {
          "base_uri": "https://localhost:8080/",
          "height": 537
        },
        "outputId": "b76db9c6-c2e2-4a99-814f-ac7ba39f0c29"
      },
      "outputs": [
        {
          "output_type": "display_data",
          "data": {
            "text/plain": [
              "<IPython.core.display.HTML object>"
            ],
            "text/html": [
              "<div><a href='https://www.irasutoya.com/2016/03/blog-post_508.html' target='_blank' rel='noopener noreferrer'><img src='https://1.bp.blogspot.com/-0DWg2xJ9tNY/VvencI8pl_I/AAAAAAAA5P4/vZu2rN5sL68UOavPJG-4XRnMaaQOCOL2w/s400/dinosaur_pachycephalosaurus.png' width='100'>0.3628: 硬い頭を使って頭突きで戦っていたのではないかと言われている白亜紀の恐竜、パキケファロサウルスのイラストです。</a><div>"
            ]
          },
          "metadata": {}
        },
        {
          "output_type": "display_data",
          "data": {
            "text/plain": [
              "<IPython.core.display.HTML object>"
            ],
            "text/html": [
              "<div><a href='https://www.irasutoya.com/2013/03/blog-post_4848.html' target='_blank' rel='noopener noreferrer'><img src='https://1.bp.blogspot.com/-0O4wfTj0iSo/URec-xSADjI/AAAAAAAAMWI/rVDbTz7bJbM/s400/kyoryu_kigurumi.png' width='100'>0.3629: 恐竜の気ぐるみを着た、かわいい女の子のイラストです。おちびちゃんさんからのリクエストです。</a><div>"
            ]
          },
          "metadata": {}
        },
        {
          "output_type": "display_data",
          "data": {
            "text/plain": [
              "<IPython.core.display.HTML object>"
            ],
            "text/html": [
              "<div><a href='https://www.irasutoya.com/2013/04/blog-post_3876.html' target='_blank' rel='noopener noreferrer'><img src='https://3.bp.blogspot.com/-h1WdT1D_PfU/UUQ0nInZ8tI/AAAAAAAAO20/HkcRSqNaMvk/s400/Brachiosaurus.png' width='100'>0.3638: 頭の膨らんだ巨大な草食恐竜、ブラキオサウルスのイラストです。</a><div>"
            ]
          },
          "metadata": {}
        },
        {
          "output_type": "display_data",
          "data": {
            "text/plain": [
              "<IPython.core.display.HTML object>"
            ],
            "text/html": [
              "<div><a href='https://www.irasutoya.com/2014/05/blog-post_8677.html' target='_blank' rel='noopener noreferrer'><img src='https://2.bp.blogspot.com/-Mgj0KQw_ttk/U0pTUrtJd8I/AAAAAAAAfIg/9_XBt7x_ljI/s400/nendo_boy.png' width='100'>0.3645: 楽しそうに粘土で怪獣を作っている男の子のイラストです。</a><div>"
            ]
          },
          "metadata": {}
        },
        {
          "output_type": "display_data",
          "data": {
            "text/plain": [
              "<IPython.core.display.HTML object>"
            ],
            "text/html": [
              "<div><a href='https://www.irasutoya.com/2015/01/blog-post_544.html' target='_blank' rel='noopener noreferrer'><img src='https://1.bp.blogspot.com/-HCV3Twow1Fk/VMItZ9o1gJI/AAAAAAAAqtQ/wW-VHv-CKkE/s500/boys_kenka_omocha.png' width='100'>0.3648: 友達とおもちゃを取り合って喧嘩している男の子のイラストです。</a><div>"
            ]
          },
          "metadata": {}
        }
      ],
      "source": [
        "image_file = \"/content/clip-japanese/sample_images/3.jpeg\"\n",
        "\n",
        "query_embedding = encode_image(image_file, model)\n",
        "search_irasuto(query_embedding, target_sentence_vectors, closest_n=5)"
      ]
    },
    {
      "cell_type": "code",
      "execution_count": 63,
      "metadata": {
        "id": "hzjrC8E6kF_A",
        "colab": {
          "base_uri": "https://localhost:8080/",
          "height": 506
        },
        "outputId": "ba35e274-a8fe-47e3-d59c-65fc5c720a51"
      },
      "outputs": [
        {
          "output_type": "display_data",
          "data": {
            "text/plain": [
              "<IPython.core.display.HTML object>"
            ],
            "text/html": [
              "<div><a href='https://www.irasutoya.com/2013/08/blog-post_1460.html' target='_blank' rel='noopener noreferrer'><img src='https://3.bp.blogspot.com/-YeGBCSYlNL0/UaVU9lWWAjI/AAAAAAAAT88/bymwp6CsKCY/s400/animal_kirin_kid.png' width='100'>0.1637: キリンに乗って喜んでいるかわいい子供のイラストです。</a><div>"
            ]
          },
          "metadata": {}
        },
        {
          "output_type": "display_data",
          "data": {
            "text/plain": [
              "<IPython.core.display.HTML object>"
            ],
            "text/html": [
              "<div><a href='https://www.irasutoya.com/2012/02/blog-post_4419.html' target='_blank' rel='noopener noreferrer'><img src='https://1.bp.blogspot.com/-gfZzYb3ha_Q/UZNyCdiCCkI/AAAAAAAASfM/LrC0Hc4HLIY/s400/dragon_fukidashi.png' width='100'>0.1695: 龍のイラストとメッセージ欄がついた素材です。年賀状の挨拶にどうぞ。</a><div>"
            ]
          },
          "metadata": {}
        },
        {
          "output_type": "display_data",
          "data": {
            "text/plain": [
              "<IPython.core.display.HTML object>"
            ],
            "text/html": [
              "<div><a href='https://www.irasutoya.com/2020/11/blog-post_94.html' target='_blank' rel='noopener noreferrer'><img src='https://1.bp.blogspot.com/-ANekJelpErs/X5OcQy_1NkI/AAAAAAABb7c/mGR0zq0E7VYIjhC7vL886AC7HwxeHEQHwCNcBGAsYHQ/s400/dinosaur_allosaurus.png' width='100'>0.1750: 目の上に角を持つジュラ紀に生息していた恐竜、アロサウルスのイラストです。</a><div>"
            ]
          },
          "metadata": {}
        },
        {
          "output_type": "display_data",
          "data": {
            "text/plain": [
              "<IPython.core.display.HTML object>"
            ],
            "text/html": [
              "<div><a href='https://www.irasutoya.com/2015/11/blog-post_959.html' target='_blank' rel='noopener noreferrer'><img src='https://3.bp.blogspot.com/-nK2kKWnV46Q/VkxLwCRzVVI/AAAAAAAA0p0/_5pDt5fbNk0/s400/kyouryuu_troodon.png' width='100'>0.1760: とても知能が高かったといわれている中生代（白亜紀）の恐竜、トロオドンのイラストです。</a><div>"
            ]
          },
          "metadata": {}
        },
        {
          "output_type": "display_data",
          "data": {
            "text/plain": [
              "<IPython.core.display.HTML object>"
            ],
            "text/html": [
              "<div><a href='https://www.irasutoya.com/2012/02/blog-post_5764.html' target='_blank' rel='noopener noreferrer'><img src='https://3.bp.blogspot.com/-09M-YOL84M0/UZNyDBrRXII/AAAAAAAASfk/_YNyy1lKmXU/s400/dragon_hane.png' width='100'>0.1773: キューピッドのような羽の生えた龍のイラストです。</a><div>"
            ]
          },
          "metadata": {}
        }
      ],
      "source": [
        "image_file = \"/content/clip-japanese/sample_images/3.jpeg\"\n",
        "\n",
        "query_embedding = encode_image(image_file, model)\n",
        "search_irasuto(query_embedding, target_image_vectors, closest_n=5)"
      ]
    },
    {
      "cell_type": "code",
      "execution_count": 64,
      "metadata": {
        "id": "meUFFHuC4Vkj",
        "colab": {
          "base_uri": "https://localhost:8080/",
          "height": 557
        },
        "outputId": "d4e8fecd-a202-4232-8dc3-5ec42402a8ef"
      },
      "outputs": [
        {
          "output_type": "display_data",
          "data": {
            "text/plain": [
              "<IPython.core.display.HTML object>"
            ],
            "text/html": [
              "<div><a href='https://www.irasutoya.com/2014/09/blog-post_298.html' target='_blank' rel='noopener noreferrer'><img src='https://1.bp.blogspot.com/-vIgnCe41mww/VA7mUEWZvcI/AAAAAAAAmOM/zJ-zN49wbbw/s400/mensetsu_taido.png' width='100'>0.3508: 就職活動の面接で、だらしないスーツ姿で椅子に足を組んで腰掛けている、態度の悪い受験者のイラストです。</a><div>"
            ]
          },
          "metadata": {}
        },
        {
          "output_type": "display_data",
          "data": {
            "text/plain": [
              "<IPython.core.display.HTML object>"
            ],
            "text/html": [
              "<div><a href='https://www.irasutoya.com/2016/12/blog-post_146.html' target='_blank' rel='noopener noreferrer'><img src='https://4.bp.blogspot.com/-d_h8UwEDyfc/WAhyyPS07fI/AAAAAAAA_GQ/uv4gut8QZjI3cjfpss52hiVoZdpuh7O1ACLcB/s550/ai_shigoto_makaseru.png' width='100'>0.3508: 人工知能（AI）のキャラクターに仕事をさせている間にゆったりとくつろいでいる男性のイラストです。</a><div>"
            ]
          },
          "metadata": {}
        },
        {
          "output_type": "display_data",
          "data": {
            "text/plain": [
              "<IPython.core.display.HTML object>"
            ],
            "text/html": [
              "<div><a href='https://www.irasutoya.com/2018/02/blog-post_956.html' target='_blank' rel='noopener noreferrer'><img src='https://2.bp.blogspot.com/-kMbdxwET8Go/Wn1VcZ9oGBI/AAAAAAABKCY/7dL-doSO7EgkxvT97_5W7VPiy0_lsPRAgCLcBGAs/s400/agura_kutsurogu3_ojisan.png' width='100'>0.3524: 休憩中のあぐらをかいた中年男性のイラストです。</a><div>"
            ]
          },
          "metadata": {}
        },
        {
          "output_type": "display_data",
          "data": {
            "text/plain": [
              "<IPython.core.display.HTML object>"
            ],
            "text/html": [
              "<div><a href='https://www.irasutoya.com/2019/03/blog-post_80.html' target='_blank' rel='noopener noreferrer'><img src='https://4.bp.blogspot.com/-w1V92x32DV4/XGjyRSSGo9I/AAAAAAABRfU/Lh49NofCahk7bZNXVxOpdnCjLns5J6gWACLcBGAs/s400/kaisya_desk_ashimoto_heater.png' width='100'>0.3526: デスクの下にヒーター置いて足元を温めている冷え性の人のイラストです。</a><div>"
            ]
          },
          "metadata": {}
        },
        {
          "output_type": "display_data",
          "data": {
            "text/plain": [
              "<IPython.core.display.HTML object>"
            ],
            "text/html": [
              "<div><a href='https://www.irasutoya.com/2014/12/blog-post_555.html' target='_blank' rel='noopener noreferrer'><img src='https://1.bp.blogspot.com/-Hke6uvZRFJc/VIhO_y0nMVI/AAAAAAAApks/TzJAnv82lKI/s450/game_kakin.png' width='100'>0.3530: スマートフォンのゲーム（ソーシャルゲーム・ソシャゲ）に熱中しすぎて、アイテム課金などの課金システムにたくさんのお金をつぎ込んでいる男性のイラストです。</a><div>"
            ]
          },
          "metadata": {}
        }
      ],
      "source": [
        "image_file = \"/content/clip-japanese/sample_images/4.jpeg\"\n",
        "\n",
        "query_embedding = encode_image(image_file, model)\n",
        "search_irasuto(query_embedding, target_sentence_vectors, closest_n=5)"
      ]
    },
    {
      "cell_type": "code",
      "execution_count": 65,
      "metadata": {
        "id": "b8rUqDqkxyiw",
        "colab": {
          "base_uri": "https://localhost:8080/",
          "height": 582
        },
        "outputId": "cfc6749d-1c10-4d9d-f7f0-b98a8233e0c2"
      },
      "outputs": [
        {
          "output_type": "display_data",
          "data": {
            "text/plain": [
              "<IPython.core.display.HTML object>"
            ],
            "text/html": [
              "<div><a href='https://www.irasutoya.com/2013/11/blog-post_3184.html' target='_blank' rel='noopener noreferrer'><img src='https://4.bp.blogspot.com/-fXAE1ikRfiY/UnIDKUet2yI/AAAAAAAAZ28/rfvKS_vidV0/s400/massage_chair.png' width='100'>0.1997: マッサージチェアに座って、気持よさそうに眠っている中年男性のイラストです。</a><div>"
            ]
          },
          "metadata": {}
        },
        {
          "output_type": "display_data",
          "data": {
            "text/plain": [
              "<IPython.core.display.HTML object>"
            ],
            "text/html": [
              "<div><a href='https://www.irasutoya.com/2019/06/blog-post_92.html' target='_blank' rel='noopener noreferrer'><img src='https://1.bp.blogspot.com/-uAkJ4ehhFCg/XPymAIaJjSI/AAAAAAABTEs/Ubz2hOuxoKsGko03KjU_Z9HHj64xtRFygCLcBGAs/s400/toilet_study_man.png' width='100'>0.2041: トイレの便座に座って真剣な顔で読書をしている男性のイラストです。</a><div>"
            ]
          },
          "metadata": {}
        },
        {
          "output_type": "display_data",
          "data": {
            "text/plain": [
              "<IPython.core.display.HTML object>"
            ],
            "text/html": [
              "<div><a href='https://www.irasutoya.com/2018/02/blog-post_349.html' target='_blank' rel='noopener noreferrer'><img src='https://4.bp.blogspot.com/-LD4-hJtm6fQ/Wm1yiKS2vrI/AAAAAAABJ5o/zzkjeP8hYQUH4H_-_6ib8zlDuUkUKZj7gCLcBGAs/s400/figure_reclining_seat.png' width='100'>0.2056: バスや新幹線や飛行機のリクライニングシートを通常の戻した状態で座っている棒人間のイラストです。</a><div>"
            ]
          },
          "metadata": {}
        },
        {
          "output_type": "display_data",
          "data": {
            "text/plain": [
              "<IPython.core.display.HTML object>"
            ],
            "text/html": [
              "<div><a href='https://www.irasutoya.com/2013/11/blog-post_4196.html' target='_blank' rel='noopener noreferrer'><img src='https://2.bp.blogspot.com/-lRJwrg9YSow/W_UF6yWjVXI/AAAAAAABQTw/C2_xu42bfDE9fiEU8-u2wdsJhEqvTPcCACLcBGAs/s400/biyou_hige_shaving.png' width='100'>0.2061: 電気シェーバー（電動ひげ剃り）を使って髭をそっている中年男性のイラストです。</a><div>"
            ]
          },
          "metadata": {}
        },
        {
          "output_type": "display_data",
          "data": {
            "text/plain": [
              "<IPython.core.display.HTML object>"
            ],
            "text/html": [
              "<div><a href='https://www.irasutoya.com/2019/10/blog-post_90.html' target='_blank' rel='noopener noreferrer'><img src='https://1.bp.blogspot.com/-eldRAXSDsLQ/XWS5zsA5X7I/AAAAAAABUXY/mfQYQhn9W3ggDWzgbtJpYl35Z2HfXyfawCLcBGAs/s400/sleep_inemuri_reclining_chair_man.png' width='100'>0.2088: ネットカフェや会社などのリクライニングチェアで仮眠（居眠り）をしている男性のイラストです。</a><div>"
            ]
          },
          "metadata": {}
        }
      ],
      "source": [
        "image_file = \"/content/clip-japanese/sample_images/4.jpeg\"\n",
        "\n",
        "query_embedding = encode_image(image_file, model)\n",
        "search_irasuto(query_embedding, target_image_vectors, closest_n=5)"
      ]
    },
    {
      "cell_type": "code",
      "execution_count": 66,
      "metadata": {
        "id": "sE2jJU19kKzS",
        "colab": {
          "base_uri": "https://localhost:8080/",
          "height": 542
        },
        "outputId": "c7e88e79-ad4e-45e6-a197-1c37f6e2092c"
      },
      "outputs": [
        {
          "output_type": "display_data",
          "data": {
            "text/plain": [
              "<IPython.core.display.HTML object>"
            ],
            "text/html": [
              "<div><a href='https://www.irasutoya.com/2013/11/blog-post_7639.html' target='_blank' rel='noopener noreferrer'><img src='https://1.bp.blogspot.com/-d_FUfYntK0c/Uf8zrEFRBLI/AAAAAAAAWvM/XGWzLFJlnrw/s400/lego_block.png' width='100'>0.3513: レゴブロックやダイヤブロックのような、組み合わせて遊ぶブロック玩具のイラストです。</a><div>"
            ]
          },
          "metadata": {}
        },
        {
          "output_type": "display_data",
          "data": {
            "text/plain": [
              "<IPython.core.display.HTML object>"
            ],
            "text/html": [
              "<div><a href='https://www.irasutoya.com/2017/09/blog-post_839.html' target='_blank' rel='noopener noreferrer'><img src='https://4.bp.blogspot.com/-D-zuN4ApP6Q/Wat2JJ2QIEI/AAAAAAABGVQ/-nsdtH_SbBA2pVbS1C3AaCBiIFYRrSCFwCLcBGAs/s400/animal_stand_niwatori.png' width='100'>0.3570: デフォルメされた鶏（鳥・にわとり）のキャラクターです。</a><div>"
            ]
          },
          "metadata": {}
        },
        {
          "output_type": "display_data",
          "data": {
            "text/plain": [
              "<IPython.core.display.HTML object>"
            ],
            "text/html": [
              "<div><a href='https://www.irasutoya.com/2017/08/blog-post_483.html' target='_blank' rel='noopener noreferrer'><img src='https://3.bp.blogspot.com/-XGgrMdLYlw4/WZVg09MiqqI/AAAAAAABGFI/CoTV4nF8OpIHg7KdWeG33lhfQLnXZ5Q2QCLcBGAs/s400/chicken_race_niwatori.png' width='100'>0.3571: 二匹で競り合いながら徒競走（チキンレース・チキンゲーム）をしている鶏のキャラクターのイラストです。</a><div>"
            ]
          },
          "metadata": {}
        },
        {
          "output_type": "display_data",
          "data": {
            "text/plain": [
              "<IPython.core.display.HTML object>"
            ],
            "text/html": [
              "<div><a href='https://www.irasutoya.com/2016/11/blog-post_38.html' target='_blank' rel='noopener noreferrer'><img src='https://4.bp.blogspot.com/-4PkaEhqbGD4/WAXedJnxCyI/AAAAAAAA_E8/EmQ6D_Ps3PMxPWKO3r-nDlS29iDvuF2IgCLcB/s400/eto_tori_kagamimochi.png' width='100'>0.3598: 鏡餅を持ってウィンクをしている鶏のキャラクターです。</a><div>"
            ]
          },
          "metadata": {}
        },
        {
          "output_type": "display_data",
          "data": {
            "text/plain": [
              "<IPython.core.display.HTML object>"
            ],
            "text/html": [
              "<div><a href='https://www.irasutoya.com/2016/11/blog-post_58.html' target='_blank' rel='noopener noreferrer'><img src='https://1.bp.blogspot.com/-9rwO5NW3ZT4/WAXechUe2ZI/AAAAAAAA_Ew/WWPOuHGUL-E6LIK8aPgbelNk3sxoAlqIwCLcB/s400/eto_tori_egg.png' width='100'>0.3613: 卵を持ってバンザイをしている鶏のキャラクターです。</a><div>"
            ]
          },
          "metadata": {}
        }
      ],
      "source": [
        "image_file = \"/content/clip-japanese/sample_images/10.jpeg\"\n",
        "\n",
        "query_embedding = encode_image(image_file, model)\n",
        "search_irasuto(query_embedding, target_sentence_vectors, closest_n=5)"
      ]
    },
    {
      "cell_type": "code",
      "source": [
        "image_file = \"/content/clip-japanese/sample_images/10.jpeg\"\n",
        "\n",
        "query_embedding = encode_image(image_file, model)\n",
        "search_irasuto(query_embedding, target_image_vectors, closest_n=5)"
      ],
      "metadata": {
        "colab": {
          "base_uri": "https://localhost:8080/",
          "height": 481
        },
        "id": "XgTd9ZSXzKD2",
        "outputId": "5465081a-38df-47d3-f7ce-d1be6e3af862"
      },
      "execution_count": 67,
      "outputs": [
        {
          "output_type": "display_data",
          "data": {
            "text/plain": [
              "<IPython.core.display.HTML object>"
            ],
            "text/html": [
              "<div><a href='https://www.irasutoya.com/2013/12/blog-post_5390.html' target='_blank' rel='noopener noreferrer'><img src='https://3.bp.blogspot.com/-sqSQnwMKiwI/UqA6NKHlWoI/AAAAAAAAbPk/Fb1GDgDJCoo/s600/line_christmas_character.png' width='100'>0.1437: クリスマスのキャラクターのラインクリスマスグッズのラインクリスマスオーナメントのラインクリスマススイーツのラインクリスマスの飾りのラインデザインの区切りなどに使える、クリスマスをイメージしたいろいろなイラストのラインです。</a><div>"
            ]
          },
          "metadata": {}
        },
        {
          "output_type": "display_data",
          "data": {
            "text/plain": [
              "<IPython.core.display.HTML object>"
            ],
            "text/html": [
              "<div><a href='https://www.irasutoya.com/2016/11/blog-post_61.html' target='_blank' rel='noopener noreferrer'><img src='https://4.bp.blogspot.com/-BVDBoW42JZk/WAXecgd689I/AAAAAAAA_FQ/xQO8rrBkXA8MRYYt1Px8OrllDkUvU9_0wCPcB/s400/eto_tori_family.png' width='100'>0.1557: リボンを付けたヒヨコと鶏の夫婦のキャラクターが歩いているイラストです。</a><div>"
            ]
          },
          "metadata": {}
        },
        {
          "output_type": "display_data",
          "data": {
            "text/plain": [
              "<IPython.core.display.HTML object>"
            ],
            "text/html": [
              "<div><a href='https://www.irasutoya.com/2015/11/blog-post_607.html' target='_blank' rel='noopener noreferrer'><img src='https://1.bp.blogspot.com/-bxDf9jv9q4I/VkqPK6xGmYI/AAAAAAAA0gM/jaAa1_O9neM/s200/christmas_ornament03_snowman.png' width='100'>0.1585: サンタ、リース、雪だるま、プレゼント、ミニツリー、靴下、ベル、星、杖のキャンディ、ろうそく、ヒイラギ、松ぼっくり、トナカイ、てっぺんにつけるトップスターなど、クリスマスツリーに飾り付けをするためのいろいろなオーナメントのイラストです。こちらの素材もあわせてご利用ください。「いろいろなクリスマスの飾りのイラスト（クーゲル）」「飾りのないクリスマスツリーのイラスト」</a><div>"
            ]
          },
          "metadata": {}
        },
        {
          "output_type": "display_data",
          "data": {
            "text/plain": [
              "<IPython.core.display.HTML object>"
            ],
            "text/html": [
              "<div><a href='https://www.irasutoya.com/2017/11/blog-post_494.html' target='_blank' rel='noopener noreferrer'><img src='https://3.bp.blogspot.com/-kZjyL73Vx-E/Wfg1I29cbKI/AAAAAAABH3k/3UaeH7iNhywxIfN_pABzYBj46H2vApUhwCLcBGAs/s600/niku_tori_line.png' width='100'>0.1586: フレーム素材ライン素材白、茶色、黒の鳥（ニワトリ）が並んだフレーム素材とライン素材です。</a><div>"
            ]
          },
          "metadata": {}
        },
        {
          "output_type": "display_data",
          "data": {
            "text/plain": [
              "<IPython.core.display.HTML object>"
            ],
            "text/html": [
              "<div><a href='https://www.irasutoya.com/2013/03/blog-post_4434.html' target='_blank' rel='noopener noreferrer'><img src='https://2.bp.blogspot.com/-7oo5-d5xr-E/USSksI7xyHI/AAAAAAAANWc/K5-9ywOTppU/s550/niwatori_hiyoko_koushin.png' width='100'>0.1605: かわいいニワトリとひよこが並んで歩いているイラストです。きぃさんからのリクエストです。</a><div>"
            ]
          },
          "metadata": {}
        }
      ]
    },
    {
      "cell_type": "code",
      "source": [
        "image_file = \"/content/clip-japanese/sample_images/14.jpeg\"\n",
        "\n",
        "query_embedding = encode_image(image_file, model)\n",
        "search_irasuto(query_embedding, target_sentence_vectors, closest_n=5)"
      ],
      "metadata": {
        "colab": {
          "base_uri": "https://localhost:8080/",
          "height": 500
        },
        "id": "9gSP4d_OzMmB",
        "outputId": "73a42d7a-0a6a-4d13-c2e6-c11d3de10b34"
      },
      "execution_count": 68,
      "outputs": [
        {
          "output_type": "display_data",
          "data": {
            "text/plain": [
              "<IPython.core.display.HTML object>"
            ],
            "text/html": [
              "<div><a href='https://www.irasutoya.com/2013/07/blog-post_2595.html' target='_blank' rel='noopener noreferrer'><img src='https://4.bp.blogspot.com/-Hg4ZOi3InMg/UX-OQ0TNDOI/AAAAAAAAQ2c/ddxi8iDGNqA/s450/animal_arikui.png' width='100'>0.3424: くちが長細い、かわいいコアリクイのイラストです。</a><div>"
            ]
          },
          "metadata": {}
        },
        {
          "output_type": "display_data",
          "data": {
            "text/plain": [
              "<IPython.core.display.HTML object>"
            ],
            "text/html": [
              "<div><a href='https://www.irasutoya.com/2016/06/blog-post_501.html' target='_blank' rel='noopener noreferrer'><img src='https://1.bp.blogspot.com/-tJtVmH9kmSs/V0QnozEV5uI/AAAAAAAA6-A/m8vk_e8azWEcrO6um92JX5e_8tZsqAg9wCLcB/s400/study_animal_koala.png' width='100'>0.3437: コアラのキャラクターがハチマキを巻いて勉強をしているイラストです。</a><div>"
            ]
          },
          "metadata": {}
        },
        {
          "output_type": "display_data",
          "data": {
            "text/plain": [
              "<IPython.core.display.HTML object>"
            ],
            "text/html": [
              "<div><a href='https://www.irasutoya.com/2017/09/blog-post_512.html' target='_blank' rel='noopener noreferrer'><img src='https://2.bp.blogspot.com/-7KOvROdZybE/Wat2HeMg0hI/AAAAAAABGU8/eJ4bD53oW9YntWTgClY9rKcWYtpB1GL2wCLcBGAs/s400/animal_stand_koala.png' width='100'>0.3444: 二本足で立つデフォルメされたコアラのキャラクターです。</a><div>"
            ]
          },
          "metadata": {}
        },
        {
          "output_type": "display_data",
          "data": {
            "text/plain": [
              "<IPython.core.display.HTML object>"
            ],
            "text/html": [
              "<div><a href='https://www.irasutoya.com/2014/09/blog-post_64.html' target='_blank' rel='noopener noreferrer'><img src='https://1.bp.blogspot.com/-Jqn54kWSzGs/U-8FlOG4zzI/AAAAAAAAkuQ/LquBWMZtZAo/s400/animal_chinchira.png' width='100'>0.3506: 長い尾を持った少し大きめの鼠の仲間、可愛いチンチラのイラストです。</a><div>"
            ]
          },
          "metadata": {}
        },
        {
          "output_type": "display_data",
          "data": {
            "text/plain": [
              "<IPython.core.display.HTML object>"
            ],
            "text/html": [
              "<div><a href='https://www.irasutoya.com/2016/07/blog-post_2.html' target='_blank' rel='noopener noreferrer'><img src='https://1.bp.blogspot.com/-Wo-OGWZhye8/V2ubLtM_nRI/AAAAAAAA7mU/vlydmJ2v-V4JbQV9ZnTpH0HHFXFj1g3tQCLcB/s400/animal_degu.png' width='100'>0.3506: ペットとしても人気のチンチラに似たげっ歯類、デグーのイラストです。</a><div>"
            ]
          },
          "metadata": {}
        }
      ]
    },
    {
      "cell_type": "code",
      "source": [
        "image_file = \"/content/clip-japanese/sample_images/14.jpeg\"\n",
        "\n",
        "query_embedding = encode_image(image_file, model)\n",
        "search_irasuto(query_embedding, target_image_vectors, closest_n=5)"
      ],
      "metadata": {
        "colab": {
          "base_uri": "https://localhost:8080/",
          "height": 590
        },
        "id": "5o1QKusLzpIV",
        "outputId": "871a126b-0c2e-4279-fc3f-8ae25daeab3c"
      },
      "execution_count": 69,
      "outputs": [
        {
          "output_type": "display_data",
          "data": {
            "text/plain": [
              "<IPython.core.display.HTML object>"
            ],
            "text/html": [
              "<div><a href='https://www.irasutoya.com/2014/03/blog-post_7676.html' target='_blank' rel='noopener noreferrer'><img src='https://3.bp.blogspot.com/-6Fb9TXyg5PA/UxbJPxFDESI/AAAAAAAAd3M/EiSXpN6H30Q/s200/maruitori_gray.png' width='100'>0.1460: 青、黒、緑、オレンジ、薄ピンク、ピンク、紫、赤、水色、グレー、黄色、黄緑色の、いろいろな色のかわいい丸い形の鳥のイラストです。</a><div>"
            ]
          },
          "metadata": {}
        },
        {
          "output_type": "display_data",
          "data": {
            "text/plain": [
              "<IPython.core.display.HTML object>"
            ],
            "text/html": [
              "<div><a href='https://www.irasutoya.com/2018/06/blog-post_73.html' target='_blank' rel='noopener noreferrer'><img src='https://1.bp.blogspot.com/-aHdvqR4O9RQ/WvQG_A4kqZI/AAAAAAABL3Y/XDzFX_lUDY86lSaHtPRCHOq9Ky5dDox4wCLcBGAs/s400/bird_inko_rurikongou.png' width='100'>0.1472: 青と黄色の鮮やかな羽を持つインコの仲間、ルリコンゴウインコのイラストです。</a><div>"
            ]
          },
          "metadata": {}
        },
        {
          "output_type": "display_data",
          "data": {
            "text/plain": [
              "<IPython.core.display.HTML object>"
            ],
            "text/html": [
              "<div><a href='https://www.irasutoya.com/2016/05/blog-post_623.html' target='_blank' rel='noopener noreferrer'><img src='https://3.bp.blogspot.com/-C3WeSkUqQCg/V0QnVWyhdfI/AAAAAAAA62s/1gkFNVjxZ38m5_XPmd8uQK9fv9XZDn4AQCLcB/s400/animal_slowloris.png' width='100'>0.1481: 東南アジアの森に住む毒を持つ猿、スローロリスのイラストです。</a><div>"
            ]
          },
          "metadata": {}
        },
        {
          "output_type": "display_data",
          "data": {
            "text/plain": [
              "<IPython.core.display.HTML object>"
            ],
            "text/html": [
              "<div><a href='https://www.irasutoya.com/2015/07/blog-post_2.html' target='_blank' rel='noopener noreferrer'><img src='https://4.bp.blogspot.com/-T7h2QorspWw/VY4cYf-yLSI/AAAAAAAAuvA/iP9BlbGKIlM/s400/animal_wao_kitsunezaru.png' width='100'>0.1504: 長いシマシマの尾が特徴的なキツネザルの仲間、ワオキツネザルのイラストです。</a><div>"
            ]
          },
          "metadata": {}
        },
        {
          "output_type": "display_data",
          "data": {
            "text/plain": [
              "<IPython.core.display.HTML object>"
            ],
            "text/html": [
              "<div><a href='https://www.irasutoya.com/2016/11/blog-post_98.html' target='_blank' rel='noopener noreferrer'><img src='https://2.bp.blogspot.com/-tlDVMu6AbUM/V_4cEroRvHI/AAAAAAAA-xU/jkH-rhceFU8aswowx7CXEc9uaqJdC_-ggCLcB/s400/bird_shirofukurou.png' width='100'>0.1510: 真っ白い体をしたフクロウの仲間、シロフクロウのイラストです。</a><div>"
            ]
          },
          "metadata": {}
        }
      ]
    },
    {
      "cell_type": "code",
      "source": [
        ""
      ],
      "metadata": {
        "id": "poUN2cyU0fgf"
      },
      "execution_count": 69,
      "outputs": []
    }
  ],
  "metadata": {
    "accelerator": "GPU",
    "colab": {
      "collapsed_sections": [],
      "name": "CLIP_irasutoya_search_zero_shot_handson.ipynb",
      "provenance": []
    },
    "kernelspec": {
      "display_name": "Python 3",
      "name": "python3"
    },
    "language_info": {
      "name": "python"
    }
  },
  "nbformat": 4,
  "nbformat_minor": 0
}