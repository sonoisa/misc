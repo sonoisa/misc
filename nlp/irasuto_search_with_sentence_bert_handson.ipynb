{
  "nbformat": 4,
  "nbformat_minor": 0,
  "metadata": {
    "colab": {
      "name": "irasuto_search_with_sentence_bert_handson.ipynb",
      "provenance": []
    },
    "kernelspec": {
      "name": "python3",
      "display_name": "Python 3"
    },
    "accelerator": "GPU",
    "widgets": {
      "application/vnd.jupyter.widget-state+json": {
        "6191849758ee48bb80e52d1e8e156028": {
          "model_module": "@jupyter-widgets/controls",
          "model_name": "HBoxModel",
          "model_module_version": "1.5.0",
          "state": {
            "_dom_classes": [],
            "_model_module": "@jupyter-widgets/controls",
            "_model_module_version": "1.5.0",
            "_model_name": "HBoxModel",
            "_view_count": null,
            "_view_module": "@jupyter-widgets/controls",
            "_view_module_version": "1.5.0",
            "_view_name": "HBoxView",
            "box_style": "",
            "children": [
              "IPY_MODEL_8a791e0196c440f483c5a8aadcf0ba09",
              "IPY_MODEL_8ccf5311ab7640dd827e8cabac110830",
              "IPY_MODEL_32ef730d03ea4f7ea6a570d889fe6a94"
            ],
            "layout": "IPY_MODEL_90c467763fe0450b97bacc07f8d13c05"
          }
        },
        "8a791e0196c440f483c5a8aadcf0ba09": {
          "model_module": "@jupyter-widgets/controls",
          "model_name": "HTMLModel",
          "model_module_version": "1.5.0",
          "state": {
            "_dom_classes": [],
            "_model_module": "@jupyter-widgets/controls",
            "_model_module_version": "1.5.0",
            "_model_name": "HTMLModel",
            "_view_count": null,
            "_view_module": "@jupyter-widgets/controls",
            "_view_module_version": "1.5.0",
            "_view_name": "HTMLView",
            "description": "",
            "description_tooltip": null,
            "layout": "IPY_MODEL_0e7723903c204434ae3606b93469a8ba",
            "placeholder": "​",
            "style": "IPY_MODEL_306995a5eb574bddae53fcda4069b7b5",
            "value": "Downloading (…)solve/main/vocab.txt: 100%"
          }
        },
        "8ccf5311ab7640dd827e8cabac110830": {
          "model_module": "@jupyter-widgets/controls",
          "model_name": "FloatProgressModel",
          "model_module_version": "1.5.0",
          "state": {
            "_dom_classes": [],
            "_model_module": "@jupyter-widgets/controls",
            "_model_module_version": "1.5.0",
            "_model_name": "FloatProgressModel",
            "_view_count": null,
            "_view_module": "@jupyter-widgets/controls",
            "_view_module_version": "1.5.0",
            "_view_name": "ProgressView",
            "bar_style": "success",
            "description": "",
            "description_tooltip": null,
            "layout": "IPY_MODEL_820cf22fdc254d98b5206b2a698735bc",
            "max": 257706,
            "min": 0,
            "orientation": "horizontal",
            "style": "IPY_MODEL_296677dd9f2b4a79840c879b00539efb",
            "value": 257706
          }
        },
        "32ef730d03ea4f7ea6a570d889fe6a94": {
          "model_module": "@jupyter-widgets/controls",
          "model_name": "HTMLModel",
          "model_module_version": "1.5.0",
          "state": {
            "_dom_classes": [],
            "_model_module": "@jupyter-widgets/controls",
            "_model_module_version": "1.5.0",
            "_model_name": "HTMLModel",
            "_view_count": null,
            "_view_module": "@jupyter-widgets/controls",
            "_view_module_version": "1.5.0",
            "_view_name": "HTMLView",
            "description": "",
            "description_tooltip": null,
            "layout": "IPY_MODEL_5b9d4c4818014f989971b24ccf079e94",
            "placeholder": "​",
            "style": "IPY_MODEL_0f15596e4daf48cb83a78384ade664b3",
            "value": " 258k/258k [00:00&lt;00:00, 375kB/s]"
          }
        },
        "90c467763fe0450b97bacc07f8d13c05": {
          "model_module": "@jupyter-widgets/base",
          "model_name": "LayoutModel",
          "model_module_version": "1.2.0",
          "state": {
            "_model_module": "@jupyter-widgets/base",
            "_model_module_version": "1.2.0",
            "_model_name": "LayoutModel",
            "_view_count": null,
            "_view_module": "@jupyter-widgets/base",
            "_view_module_version": "1.2.0",
            "_view_name": "LayoutView",
            "align_content": null,
            "align_items": null,
            "align_self": null,
            "border": null,
            "bottom": null,
            "display": null,
            "flex": null,
            "flex_flow": null,
            "grid_area": null,
            "grid_auto_columns": null,
            "grid_auto_flow": null,
            "grid_auto_rows": null,
            "grid_column": null,
            "grid_gap": null,
            "grid_row": null,
            "grid_template_areas": null,
            "grid_template_columns": null,
            "grid_template_rows": null,
            "height": null,
            "justify_content": null,
            "justify_items": null,
            "left": null,
            "margin": null,
            "max_height": null,
            "max_width": null,
            "min_height": null,
            "min_width": null,
            "object_fit": null,
            "object_position": null,
            "order": null,
            "overflow": null,
            "overflow_x": null,
            "overflow_y": null,
            "padding": null,
            "right": null,
            "top": null,
            "visibility": null,
            "width": null
          }
        },
        "0e7723903c204434ae3606b93469a8ba": {
          "model_module": "@jupyter-widgets/base",
          "model_name": "LayoutModel",
          "model_module_version": "1.2.0",
          "state": {
            "_model_module": "@jupyter-widgets/base",
            "_model_module_version": "1.2.0",
            "_model_name": "LayoutModel",
            "_view_count": null,
            "_view_module": "@jupyter-widgets/base",
            "_view_module_version": "1.2.0",
            "_view_name": "LayoutView",
            "align_content": null,
            "align_items": null,
            "align_self": null,
            "border": null,
            "bottom": null,
            "display": null,
            "flex": null,
            "flex_flow": null,
            "grid_area": null,
            "grid_auto_columns": null,
            "grid_auto_flow": null,
            "grid_auto_rows": null,
            "grid_column": null,
            "grid_gap": null,
            "grid_row": null,
            "grid_template_areas": null,
            "grid_template_columns": null,
            "grid_template_rows": null,
            "height": null,
            "justify_content": null,
            "justify_items": null,
            "left": null,
            "margin": null,
            "max_height": null,
            "max_width": null,
            "min_height": null,
            "min_width": null,
            "object_fit": null,
            "object_position": null,
            "order": null,
            "overflow": null,
            "overflow_x": null,
            "overflow_y": null,
            "padding": null,
            "right": null,
            "top": null,
            "visibility": null,
            "width": null
          }
        },
        "306995a5eb574bddae53fcda4069b7b5": {
          "model_module": "@jupyter-widgets/controls",
          "model_name": "DescriptionStyleModel",
          "model_module_version": "1.5.0",
          "state": {
            "_model_module": "@jupyter-widgets/controls",
            "_model_module_version": "1.5.0",
            "_model_name": "DescriptionStyleModel",
            "_view_count": null,
            "_view_module": "@jupyter-widgets/base",
            "_view_module_version": "1.2.0",
            "_view_name": "StyleView",
            "description_width": ""
          }
        },
        "820cf22fdc254d98b5206b2a698735bc": {
          "model_module": "@jupyter-widgets/base",
          "model_name": "LayoutModel",
          "model_module_version": "1.2.0",
          "state": {
            "_model_module": "@jupyter-widgets/base",
            "_model_module_version": "1.2.0",
            "_model_name": "LayoutModel",
            "_view_count": null,
            "_view_module": "@jupyter-widgets/base",
            "_view_module_version": "1.2.0",
            "_view_name": "LayoutView",
            "align_content": null,
            "align_items": null,
            "align_self": null,
            "border": null,
            "bottom": null,
            "display": null,
            "flex": null,
            "flex_flow": null,
            "grid_area": null,
            "grid_auto_columns": null,
            "grid_auto_flow": null,
            "grid_auto_rows": null,
            "grid_column": null,
            "grid_gap": null,
            "grid_row": null,
            "grid_template_areas": null,
            "grid_template_columns": null,
            "grid_template_rows": null,
            "height": null,
            "justify_content": null,
            "justify_items": null,
            "left": null,
            "margin": null,
            "max_height": null,
            "max_width": null,
            "min_height": null,
            "min_width": null,
            "object_fit": null,
            "object_position": null,
            "order": null,
            "overflow": null,
            "overflow_x": null,
            "overflow_y": null,
            "padding": null,
            "right": null,
            "top": null,
            "visibility": null,
            "width": null
          }
        },
        "296677dd9f2b4a79840c879b00539efb": {
          "model_module": "@jupyter-widgets/controls",
          "model_name": "ProgressStyleModel",
          "model_module_version": "1.5.0",
          "state": {
            "_model_module": "@jupyter-widgets/controls",
            "_model_module_version": "1.5.0",
            "_model_name": "ProgressStyleModel",
            "_view_count": null,
            "_view_module": "@jupyter-widgets/base",
            "_view_module_version": "1.2.0",
            "_view_name": "StyleView",
            "bar_color": null,
            "description_width": ""
          }
        },
        "5b9d4c4818014f989971b24ccf079e94": {
          "model_module": "@jupyter-widgets/base",
          "model_name": "LayoutModel",
          "model_module_version": "1.2.0",
          "state": {
            "_model_module": "@jupyter-widgets/base",
            "_model_module_version": "1.2.0",
            "_model_name": "LayoutModel",
            "_view_count": null,
            "_view_module": "@jupyter-widgets/base",
            "_view_module_version": "1.2.0",
            "_view_name": "LayoutView",
            "align_content": null,
            "align_items": null,
            "align_self": null,
            "border": null,
            "bottom": null,
            "display": null,
            "flex": null,
            "flex_flow": null,
            "grid_area": null,
            "grid_auto_columns": null,
            "grid_auto_flow": null,
            "grid_auto_rows": null,
            "grid_column": null,
            "grid_gap": null,
            "grid_row": null,
            "grid_template_areas": null,
            "grid_template_columns": null,
            "grid_template_rows": null,
            "height": null,
            "justify_content": null,
            "justify_items": null,
            "left": null,
            "margin": null,
            "max_height": null,
            "max_width": null,
            "min_height": null,
            "min_width": null,
            "object_fit": null,
            "object_position": null,
            "order": null,
            "overflow": null,
            "overflow_x": null,
            "overflow_y": null,
            "padding": null,
            "right": null,
            "top": null,
            "visibility": null,
            "width": null
          }
        },
        "0f15596e4daf48cb83a78384ade664b3": {
          "model_module": "@jupyter-widgets/controls",
          "model_name": "DescriptionStyleModel",
          "model_module_version": "1.5.0",
          "state": {
            "_model_module": "@jupyter-widgets/controls",
            "_model_module_version": "1.5.0",
            "_model_name": "DescriptionStyleModel",
            "_view_count": null,
            "_view_module": "@jupyter-widgets/base",
            "_view_module_version": "1.2.0",
            "_view_name": "StyleView",
            "description_width": ""
          }
        },
        "f150b90a3b684f0c822371272c63e109": {
          "model_module": "@jupyter-widgets/controls",
          "model_name": "HBoxModel",
          "model_module_version": "1.5.0",
          "state": {
            "_dom_classes": [],
            "_model_module": "@jupyter-widgets/controls",
            "_model_module_version": "1.5.0",
            "_model_name": "HBoxModel",
            "_view_count": null,
            "_view_module": "@jupyter-widgets/controls",
            "_view_module_version": "1.5.0",
            "_view_name": "HBoxView",
            "box_style": "",
            "children": [
              "IPY_MODEL_ca49c90b910b4e5c9b082e7d0c0244da",
              "IPY_MODEL_cd0d4be556ab4cf6a1b53b6f61ba7f0f",
              "IPY_MODEL_56bdc03491284f6eaa1aa4c45694ba8f"
            ],
            "layout": "IPY_MODEL_6d248bbe3a34466fb61e68eedd47acd4"
          }
        },
        "ca49c90b910b4e5c9b082e7d0c0244da": {
          "model_module": "@jupyter-widgets/controls",
          "model_name": "HTMLModel",
          "model_module_version": "1.5.0",
          "state": {
            "_dom_classes": [],
            "_model_module": "@jupyter-widgets/controls",
            "_model_module_version": "1.5.0",
            "_model_name": "HTMLModel",
            "_view_count": null,
            "_view_module": "@jupyter-widgets/controls",
            "_view_module_version": "1.5.0",
            "_view_name": "HTMLView",
            "description": "",
            "description_tooltip": null,
            "layout": "IPY_MODEL_cf9724950e6048078c2a4d8457cc21d3",
            "placeholder": "​",
            "style": "IPY_MODEL_83adf445a3064532ac17be56b24f425a",
            "value": "Downloading (…)in/added_tokens.json: 100%"
          }
        },
        "cd0d4be556ab4cf6a1b53b6f61ba7f0f": {
          "model_module": "@jupyter-widgets/controls",
          "model_name": "FloatProgressModel",
          "model_module_version": "1.5.0",
          "state": {
            "_dom_classes": [],
            "_model_module": "@jupyter-widgets/controls",
            "_model_module_version": "1.5.0",
            "_model_name": "FloatProgressModel",
            "_view_count": null,
            "_view_module": "@jupyter-widgets/controls",
            "_view_module_version": "1.5.0",
            "_view_name": "ProgressView",
            "bar_style": "success",
            "description": "",
            "description_tooltip": null,
            "layout": "IPY_MODEL_dda8a2d11efa464f8dc6aaec0803aa99",
            "max": 2,
            "min": 0,
            "orientation": "horizontal",
            "style": "IPY_MODEL_2a0dc413bc7a4b9fb9c90959dca0adfe",
            "value": 2
          }
        },
        "56bdc03491284f6eaa1aa4c45694ba8f": {
          "model_module": "@jupyter-widgets/controls",
          "model_name": "HTMLModel",
          "model_module_version": "1.5.0",
          "state": {
            "_dom_classes": [],
            "_model_module": "@jupyter-widgets/controls",
            "_model_module_version": "1.5.0",
            "_model_name": "HTMLModel",
            "_view_count": null,
            "_view_module": "@jupyter-widgets/controls",
            "_view_module_version": "1.5.0",
            "_view_name": "HTMLView",
            "description": "",
            "description_tooltip": null,
            "layout": "IPY_MODEL_4b0be1039f43422db51de5400a91aea4",
            "placeholder": "​",
            "style": "IPY_MODEL_26330f1e95b744bf84c2df7afb2b3476",
            "value": " 2.00/2.00 [00:00&lt;00:00, 52.0B/s]"
          }
        },
        "6d248bbe3a34466fb61e68eedd47acd4": {
          "model_module": "@jupyter-widgets/base",
          "model_name": "LayoutModel",
          "model_module_version": "1.2.0",
          "state": {
            "_model_module": "@jupyter-widgets/base",
            "_model_module_version": "1.2.0",
            "_model_name": "LayoutModel",
            "_view_count": null,
            "_view_module": "@jupyter-widgets/base",
            "_view_module_version": "1.2.0",
            "_view_name": "LayoutView",
            "align_content": null,
            "align_items": null,
            "align_self": null,
            "border": null,
            "bottom": null,
            "display": null,
            "flex": null,
            "flex_flow": null,
            "grid_area": null,
            "grid_auto_columns": null,
            "grid_auto_flow": null,
            "grid_auto_rows": null,
            "grid_column": null,
            "grid_gap": null,
            "grid_row": null,
            "grid_template_areas": null,
            "grid_template_columns": null,
            "grid_template_rows": null,
            "height": null,
            "justify_content": null,
            "justify_items": null,
            "left": null,
            "margin": null,
            "max_height": null,
            "max_width": null,
            "min_height": null,
            "min_width": null,
            "object_fit": null,
            "object_position": null,
            "order": null,
            "overflow": null,
            "overflow_x": null,
            "overflow_y": null,
            "padding": null,
            "right": null,
            "top": null,
            "visibility": null,
            "width": null
          }
        },
        "cf9724950e6048078c2a4d8457cc21d3": {
          "model_module": "@jupyter-widgets/base",
          "model_name": "LayoutModel",
          "model_module_version": "1.2.0",
          "state": {
            "_model_module": "@jupyter-widgets/base",
            "_model_module_version": "1.2.0",
            "_model_name": "LayoutModel",
            "_view_count": null,
            "_view_module": "@jupyter-widgets/base",
            "_view_module_version": "1.2.0",
            "_view_name": "LayoutView",
            "align_content": null,
            "align_items": null,
            "align_self": null,
            "border": null,
            "bottom": null,
            "display": null,
            "flex": null,
            "flex_flow": null,
            "grid_area": null,
            "grid_auto_columns": null,
            "grid_auto_flow": null,
            "grid_auto_rows": null,
            "grid_column": null,
            "grid_gap": null,
            "grid_row": null,
            "grid_template_areas": null,
            "grid_template_columns": null,
            "grid_template_rows": null,
            "height": null,
            "justify_content": null,
            "justify_items": null,
            "left": null,
            "margin": null,
            "max_height": null,
            "max_width": null,
            "min_height": null,
            "min_width": null,
            "object_fit": null,
            "object_position": null,
            "order": null,
            "overflow": null,
            "overflow_x": null,
            "overflow_y": null,
            "padding": null,
            "right": null,
            "top": null,
            "visibility": null,
            "width": null
          }
        },
        "83adf445a3064532ac17be56b24f425a": {
          "model_module": "@jupyter-widgets/controls",
          "model_name": "DescriptionStyleModel",
          "model_module_version": "1.5.0",
          "state": {
            "_model_module": "@jupyter-widgets/controls",
            "_model_module_version": "1.5.0",
            "_model_name": "DescriptionStyleModel",
            "_view_count": null,
            "_view_module": "@jupyter-widgets/base",
            "_view_module_version": "1.2.0",
            "_view_name": "StyleView",
            "description_width": ""
          }
        },
        "dda8a2d11efa464f8dc6aaec0803aa99": {
          "model_module": "@jupyter-widgets/base",
          "model_name": "LayoutModel",
          "model_module_version": "1.2.0",
          "state": {
            "_model_module": "@jupyter-widgets/base",
            "_model_module_version": "1.2.0",
            "_model_name": "LayoutModel",
            "_view_count": null,
            "_view_module": "@jupyter-widgets/base",
            "_view_module_version": "1.2.0",
            "_view_name": "LayoutView",
            "align_content": null,
            "align_items": null,
            "align_self": null,
            "border": null,
            "bottom": null,
            "display": null,
            "flex": null,
            "flex_flow": null,
            "grid_area": null,
            "grid_auto_columns": null,
            "grid_auto_flow": null,
            "grid_auto_rows": null,
            "grid_column": null,
            "grid_gap": null,
            "grid_row": null,
            "grid_template_areas": null,
            "grid_template_columns": null,
            "grid_template_rows": null,
            "height": null,
            "justify_content": null,
            "justify_items": null,
            "left": null,
            "margin": null,
            "max_height": null,
            "max_width": null,
            "min_height": null,
            "min_width": null,
            "object_fit": null,
            "object_position": null,
            "order": null,
            "overflow": null,
            "overflow_x": null,
            "overflow_y": null,
            "padding": null,
            "right": null,
            "top": null,
            "visibility": null,
            "width": null
          }
        },
        "2a0dc413bc7a4b9fb9c90959dca0adfe": {
          "model_module": "@jupyter-widgets/controls",
          "model_name": "ProgressStyleModel",
          "model_module_version": "1.5.0",
          "state": {
            "_model_module": "@jupyter-widgets/controls",
            "_model_module_version": "1.5.0",
            "_model_name": "ProgressStyleModel",
            "_view_count": null,
            "_view_module": "@jupyter-widgets/base",
            "_view_module_version": "1.2.0",
            "_view_name": "StyleView",
            "bar_color": null,
            "description_width": ""
          }
        },
        "4b0be1039f43422db51de5400a91aea4": {
          "model_module": "@jupyter-widgets/base",
          "model_name": "LayoutModel",
          "model_module_version": "1.2.0",
          "state": {
            "_model_module": "@jupyter-widgets/base",
            "_model_module_version": "1.2.0",
            "_model_name": "LayoutModel",
            "_view_count": null,
            "_view_module": "@jupyter-widgets/base",
            "_view_module_version": "1.2.0",
            "_view_name": "LayoutView",
            "align_content": null,
            "align_items": null,
            "align_self": null,
            "border": null,
            "bottom": null,
            "display": null,
            "flex": null,
            "flex_flow": null,
            "grid_area": null,
            "grid_auto_columns": null,
            "grid_auto_flow": null,
            "grid_auto_rows": null,
            "grid_column": null,
            "grid_gap": null,
            "grid_row": null,
            "grid_template_areas": null,
            "grid_template_columns": null,
            "grid_template_rows": null,
            "height": null,
            "justify_content": null,
            "justify_items": null,
            "left": null,
            "margin": null,
            "max_height": null,
            "max_width": null,
            "min_height": null,
            "min_width": null,
            "object_fit": null,
            "object_position": null,
            "order": null,
            "overflow": null,
            "overflow_x": null,
            "overflow_y": null,
            "padding": null,
            "right": null,
            "top": null,
            "visibility": null,
            "width": null
          }
        },
        "26330f1e95b744bf84c2df7afb2b3476": {
          "model_module": "@jupyter-widgets/controls",
          "model_name": "DescriptionStyleModel",
          "model_module_version": "1.5.0",
          "state": {
            "_model_module": "@jupyter-widgets/controls",
            "_model_module_version": "1.5.0",
            "_model_name": "DescriptionStyleModel",
            "_view_count": null,
            "_view_module": "@jupyter-widgets/base",
            "_view_module_version": "1.2.0",
            "_view_name": "StyleView",
            "description_width": ""
          }
        },
        "a31206944e6b43b4a70b7777807be89f": {
          "model_module": "@jupyter-widgets/controls",
          "model_name": "HBoxModel",
          "model_module_version": "1.5.0",
          "state": {
            "_dom_classes": [],
            "_model_module": "@jupyter-widgets/controls",
            "_model_module_version": "1.5.0",
            "_model_name": "HBoxModel",
            "_view_count": null,
            "_view_module": "@jupyter-widgets/controls",
            "_view_module_version": "1.5.0",
            "_view_name": "HBoxView",
            "box_style": "",
            "children": [
              "IPY_MODEL_1df468c9ea8f454a96a2f1839cbb0d6b",
              "IPY_MODEL_f85faba809824e56a908de0a87bf4434",
              "IPY_MODEL_e1a9d771518547ae92f2023d098f69a3"
            ],
            "layout": "IPY_MODEL_93d839380ef540389a7a496eedf60f3c"
          }
        },
        "1df468c9ea8f454a96a2f1839cbb0d6b": {
          "model_module": "@jupyter-widgets/controls",
          "model_name": "HTMLModel",
          "model_module_version": "1.5.0",
          "state": {
            "_dom_classes": [],
            "_model_module": "@jupyter-widgets/controls",
            "_model_module_version": "1.5.0",
            "_model_name": "HTMLModel",
            "_view_count": null,
            "_view_module": "@jupyter-widgets/controls",
            "_view_module_version": "1.5.0",
            "_view_name": "HTMLView",
            "description": "",
            "description_tooltip": null,
            "layout": "IPY_MODEL_5821d8fc0aff4beda9b364ec2d04c535",
            "placeholder": "​",
            "style": "IPY_MODEL_b64375531b6449e3be8b7734fef1e4b1",
            "value": "Downloading (…)cial_tokens_map.json: 100%"
          }
        },
        "f85faba809824e56a908de0a87bf4434": {
          "model_module": "@jupyter-widgets/controls",
          "model_name": "FloatProgressModel",
          "model_module_version": "1.5.0",
          "state": {
            "_dom_classes": [],
            "_model_module": "@jupyter-widgets/controls",
            "_model_module_version": "1.5.0",
            "_model_name": "FloatProgressModel",
            "_view_count": null,
            "_view_module": "@jupyter-widgets/controls",
            "_view_module_version": "1.5.0",
            "_view_name": "ProgressView",
            "bar_style": "success",
            "description": "",
            "description_tooltip": null,
            "layout": "IPY_MODEL_fe2359f783c041138b0acf625637a5a1",
            "max": 112,
            "min": 0,
            "orientation": "horizontal",
            "style": "IPY_MODEL_a63e86e839804a988ea0c11646c727f0",
            "value": 112
          }
        },
        "e1a9d771518547ae92f2023d098f69a3": {
          "model_module": "@jupyter-widgets/controls",
          "model_name": "HTMLModel",
          "model_module_version": "1.5.0",
          "state": {
            "_dom_classes": [],
            "_model_module": "@jupyter-widgets/controls",
            "_model_module_version": "1.5.0",
            "_model_name": "HTMLModel",
            "_view_count": null,
            "_view_module": "@jupyter-widgets/controls",
            "_view_module_version": "1.5.0",
            "_view_name": "HTMLView",
            "description": "",
            "description_tooltip": null,
            "layout": "IPY_MODEL_bdaf9c46bc7a4c3a895a77fc049d4bdd",
            "placeholder": "​",
            "style": "IPY_MODEL_3044e212594a42a597266f32b4afb587",
            "value": " 112/112 [00:00&lt;00:00, 1.64kB/s]"
          }
        },
        "93d839380ef540389a7a496eedf60f3c": {
          "model_module": "@jupyter-widgets/base",
          "model_name": "LayoutModel",
          "model_module_version": "1.2.0",
          "state": {
            "_model_module": "@jupyter-widgets/base",
            "_model_module_version": "1.2.0",
            "_model_name": "LayoutModel",
            "_view_count": null,
            "_view_module": "@jupyter-widgets/base",
            "_view_module_version": "1.2.0",
            "_view_name": "LayoutView",
            "align_content": null,
            "align_items": null,
            "align_self": null,
            "border": null,
            "bottom": null,
            "display": null,
            "flex": null,
            "flex_flow": null,
            "grid_area": null,
            "grid_auto_columns": null,
            "grid_auto_flow": null,
            "grid_auto_rows": null,
            "grid_column": null,
            "grid_gap": null,
            "grid_row": null,
            "grid_template_areas": null,
            "grid_template_columns": null,
            "grid_template_rows": null,
            "height": null,
            "justify_content": null,
            "justify_items": null,
            "left": null,
            "margin": null,
            "max_height": null,
            "max_width": null,
            "min_height": null,
            "min_width": null,
            "object_fit": null,
            "object_position": null,
            "order": null,
            "overflow": null,
            "overflow_x": null,
            "overflow_y": null,
            "padding": null,
            "right": null,
            "top": null,
            "visibility": null,
            "width": null
          }
        },
        "5821d8fc0aff4beda9b364ec2d04c535": {
          "model_module": "@jupyter-widgets/base",
          "model_name": "LayoutModel",
          "model_module_version": "1.2.0",
          "state": {
            "_model_module": "@jupyter-widgets/base",
            "_model_module_version": "1.2.0",
            "_model_name": "LayoutModel",
            "_view_count": null,
            "_view_module": "@jupyter-widgets/base",
            "_view_module_version": "1.2.0",
            "_view_name": "LayoutView",
            "align_content": null,
            "align_items": null,
            "align_self": null,
            "border": null,
            "bottom": null,
            "display": null,
            "flex": null,
            "flex_flow": null,
            "grid_area": null,
            "grid_auto_columns": null,
            "grid_auto_flow": null,
            "grid_auto_rows": null,
            "grid_column": null,
            "grid_gap": null,
            "grid_row": null,
            "grid_template_areas": null,
            "grid_template_columns": null,
            "grid_template_rows": null,
            "height": null,
            "justify_content": null,
            "justify_items": null,
            "left": null,
            "margin": null,
            "max_height": null,
            "max_width": null,
            "min_height": null,
            "min_width": null,
            "object_fit": null,
            "object_position": null,
            "order": null,
            "overflow": null,
            "overflow_x": null,
            "overflow_y": null,
            "padding": null,
            "right": null,
            "top": null,
            "visibility": null,
            "width": null
          }
        },
        "b64375531b6449e3be8b7734fef1e4b1": {
          "model_module": "@jupyter-widgets/controls",
          "model_name": "DescriptionStyleModel",
          "model_module_version": "1.5.0",
          "state": {
            "_model_module": "@jupyter-widgets/controls",
            "_model_module_version": "1.5.0",
            "_model_name": "DescriptionStyleModel",
            "_view_count": null,
            "_view_module": "@jupyter-widgets/base",
            "_view_module_version": "1.2.0",
            "_view_name": "StyleView",
            "description_width": ""
          }
        },
        "fe2359f783c041138b0acf625637a5a1": {
          "model_module": "@jupyter-widgets/base",
          "model_name": "LayoutModel",
          "model_module_version": "1.2.0",
          "state": {
            "_model_module": "@jupyter-widgets/base",
            "_model_module_version": "1.2.0",
            "_model_name": "LayoutModel",
            "_view_count": null,
            "_view_module": "@jupyter-widgets/base",
            "_view_module_version": "1.2.0",
            "_view_name": "LayoutView",
            "align_content": null,
            "align_items": null,
            "align_self": null,
            "border": null,
            "bottom": null,
            "display": null,
            "flex": null,
            "flex_flow": null,
            "grid_area": null,
            "grid_auto_columns": null,
            "grid_auto_flow": null,
            "grid_auto_rows": null,
            "grid_column": null,
            "grid_gap": null,
            "grid_row": null,
            "grid_template_areas": null,
            "grid_template_columns": null,
            "grid_template_rows": null,
            "height": null,
            "justify_content": null,
            "justify_items": null,
            "left": null,
            "margin": null,
            "max_height": null,
            "max_width": null,
            "min_height": null,
            "min_width": null,
            "object_fit": null,
            "object_position": null,
            "order": null,
            "overflow": null,
            "overflow_x": null,
            "overflow_y": null,
            "padding": null,
            "right": null,
            "top": null,
            "visibility": null,
            "width": null
          }
        },
        "a63e86e839804a988ea0c11646c727f0": {
          "model_module": "@jupyter-widgets/controls",
          "model_name": "ProgressStyleModel",
          "model_module_version": "1.5.0",
          "state": {
            "_model_module": "@jupyter-widgets/controls",
            "_model_module_version": "1.5.0",
            "_model_name": "ProgressStyleModel",
            "_view_count": null,
            "_view_module": "@jupyter-widgets/base",
            "_view_module_version": "1.2.0",
            "_view_name": "StyleView",
            "bar_color": null,
            "description_width": ""
          }
        },
        "bdaf9c46bc7a4c3a895a77fc049d4bdd": {
          "model_module": "@jupyter-widgets/base",
          "model_name": "LayoutModel",
          "model_module_version": "1.2.0",
          "state": {
            "_model_module": "@jupyter-widgets/base",
            "_model_module_version": "1.2.0",
            "_model_name": "LayoutModel",
            "_view_count": null,
            "_view_module": "@jupyter-widgets/base",
            "_view_module_version": "1.2.0",
            "_view_name": "LayoutView",
            "align_content": null,
            "align_items": null,
            "align_self": null,
            "border": null,
            "bottom": null,
            "display": null,
            "flex": null,
            "flex_flow": null,
            "grid_area": null,
            "grid_auto_columns": null,
            "grid_auto_flow": null,
            "grid_auto_rows": null,
            "grid_column": null,
            "grid_gap": null,
            "grid_row": null,
            "grid_template_areas": null,
            "grid_template_columns": null,
            "grid_template_rows": null,
            "height": null,
            "justify_content": null,
            "justify_items": null,
            "left": null,
            "margin": null,
            "max_height": null,
            "max_width": null,
            "min_height": null,
            "min_width": null,
            "object_fit": null,
            "object_position": null,
            "order": null,
            "overflow": null,
            "overflow_x": null,
            "overflow_y": null,
            "padding": null,
            "right": null,
            "top": null,
            "visibility": null,
            "width": null
          }
        },
        "3044e212594a42a597266f32b4afb587": {
          "model_module": "@jupyter-widgets/controls",
          "model_name": "DescriptionStyleModel",
          "model_module_version": "1.5.0",
          "state": {
            "_model_module": "@jupyter-widgets/controls",
            "_model_module_version": "1.5.0",
            "_model_name": "DescriptionStyleModel",
            "_view_count": null,
            "_view_module": "@jupyter-widgets/base",
            "_view_module_version": "1.2.0",
            "_view_name": "StyleView",
            "description_width": ""
          }
        },
        "58b1d3b9c142422bad0f51b96422001f": {
          "model_module": "@jupyter-widgets/controls",
          "model_name": "HBoxModel",
          "model_module_version": "1.5.0",
          "state": {
            "_dom_classes": [],
            "_model_module": "@jupyter-widgets/controls",
            "_model_module_version": "1.5.0",
            "_model_name": "HBoxModel",
            "_view_count": null,
            "_view_module": "@jupyter-widgets/controls",
            "_view_module_version": "1.5.0",
            "_view_name": "HBoxView",
            "box_style": "",
            "children": [
              "IPY_MODEL_5197a5baeb8e4885a80ffee3122702b1",
              "IPY_MODEL_70513db10aca4544a8405915d635eeb5",
              "IPY_MODEL_1aad3e931ca34b59bb2186b10cc1c6df"
            ],
            "layout": "IPY_MODEL_0e90cfba3a86422b8c3561783b27ffaa"
          }
        },
        "5197a5baeb8e4885a80ffee3122702b1": {
          "model_module": "@jupyter-widgets/controls",
          "model_name": "HTMLModel",
          "model_module_version": "1.5.0",
          "state": {
            "_dom_classes": [],
            "_model_module": "@jupyter-widgets/controls",
            "_model_module_version": "1.5.0",
            "_model_name": "HTMLModel",
            "_view_count": null,
            "_view_module": "@jupyter-widgets/controls",
            "_view_module_version": "1.5.0",
            "_view_name": "HTMLView",
            "description": "",
            "description_tooltip": null,
            "layout": "IPY_MODEL_f1bf19a9f76941cb83d70bd9e9ab983e",
            "placeholder": "​",
            "style": "IPY_MODEL_1eb2374ac54e434eb737126e30126a8a",
            "value": "Downloading (…)okenizer_config.json: 100%"
          }
        },
        "70513db10aca4544a8405915d635eeb5": {
          "model_module": "@jupyter-widgets/controls",
          "model_name": "FloatProgressModel",
          "model_module_version": "1.5.0",
          "state": {
            "_dom_classes": [],
            "_model_module": "@jupyter-widgets/controls",
            "_model_module_version": "1.5.0",
            "_model_name": "FloatProgressModel",
            "_view_count": null,
            "_view_module": "@jupyter-widgets/controls",
            "_view_module_version": "1.5.0",
            "_view_name": "ProgressView",
            "bar_style": "success",
            "description": "",
            "description_tooltip": null,
            "layout": "IPY_MODEL_ae9af89edfed40b994af648a329a98c4",
            "max": 241,
            "min": 0,
            "orientation": "horizontal",
            "style": "IPY_MODEL_782e312761c04aa49e512a5f4b170889",
            "value": 241
          }
        },
        "1aad3e931ca34b59bb2186b10cc1c6df": {
          "model_module": "@jupyter-widgets/controls",
          "model_name": "HTMLModel",
          "model_module_version": "1.5.0",
          "state": {
            "_dom_classes": [],
            "_model_module": "@jupyter-widgets/controls",
            "_model_module_version": "1.5.0",
            "_model_name": "HTMLModel",
            "_view_count": null,
            "_view_module": "@jupyter-widgets/controls",
            "_view_module_version": "1.5.0",
            "_view_name": "HTMLView",
            "description": "",
            "description_tooltip": null,
            "layout": "IPY_MODEL_30f7ac56326f4f63827f31406e763c23",
            "placeholder": "​",
            "style": "IPY_MODEL_2c1e0fab509b4e51b7a84effae4c3a5e",
            "value": " 241/241 [00:00&lt;00:00, 4.45kB/s]"
          }
        },
        "0e90cfba3a86422b8c3561783b27ffaa": {
          "model_module": "@jupyter-widgets/base",
          "model_name": "LayoutModel",
          "model_module_version": "1.2.0",
          "state": {
            "_model_module": "@jupyter-widgets/base",
            "_model_module_version": "1.2.0",
            "_model_name": "LayoutModel",
            "_view_count": null,
            "_view_module": "@jupyter-widgets/base",
            "_view_module_version": "1.2.0",
            "_view_name": "LayoutView",
            "align_content": null,
            "align_items": null,
            "align_self": null,
            "border": null,
            "bottom": null,
            "display": null,
            "flex": null,
            "flex_flow": null,
            "grid_area": null,
            "grid_auto_columns": null,
            "grid_auto_flow": null,
            "grid_auto_rows": null,
            "grid_column": null,
            "grid_gap": null,
            "grid_row": null,
            "grid_template_areas": null,
            "grid_template_columns": null,
            "grid_template_rows": null,
            "height": null,
            "justify_content": null,
            "justify_items": null,
            "left": null,
            "margin": null,
            "max_height": null,
            "max_width": null,
            "min_height": null,
            "min_width": null,
            "object_fit": null,
            "object_position": null,
            "order": null,
            "overflow": null,
            "overflow_x": null,
            "overflow_y": null,
            "padding": null,
            "right": null,
            "top": null,
            "visibility": null,
            "width": null
          }
        },
        "f1bf19a9f76941cb83d70bd9e9ab983e": {
          "model_module": "@jupyter-widgets/base",
          "model_name": "LayoutModel",
          "model_module_version": "1.2.0",
          "state": {
            "_model_module": "@jupyter-widgets/base",
            "_model_module_version": "1.2.0",
            "_model_name": "LayoutModel",
            "_view_count": null,
            "_view_module": "@jupyter-widgets/base",
            "_view_module_version": "1.2.0",
            "_view_name": "LayoutView",
            "align_content": null,
            "align_items": null,
            "align_self": null,
            "border": null,
            "bottom": null,
            "display": null,
            "flex": null,
            "flex_flow": null,
            "grid_area": null,
            "grid_auto_columns": null,
            "grid_auto_flow": null,
            "grid_auto_rows": null,
            "grid_column": null,
            "grid_gap": null,
            "grid_row": null,
            "grid_template_areas": null,
            "grid_template_columns": null,
            "grid_template_rows": null,
            "height": null,
            "justify_content": null,
            "justify_items": null,
            "left": null,
            "margin": null,
            "max_height": null,
            "max_width": null,
            "min_height": null,
            "min_width": null,
            "object_fit": null,
            "object_position": null,
            "order": null,
            "overflow": null,
            "overflow_x": null,
            "overflow_y": null,
            "padding": null,
            "right": null,
            "top": null,
            "visibility": null,
            "width": null
          }
        },
        "1eb2374ac54e434eb737126e30126a8a": {
          "model_module": "@jupyter-widgets/controls",
          "model_name": "DescriptionStyleModel",
          "model_module_version": "1.5.0",
          "state": {
            "_model_module": "@jupyter-widgets/controls",
            "_model_module_version": "1.5.0",
            "_model_name": "DescriptionStyleModel",
            "_view_count": null,
            "_view_module": "@jupyter-widgets/base",
            "_view_module_version": "1.2.0",
            "_view_name": "StyleView",
            "description_width": ""
          }
        },
        "ae9af89edfed40b994af648a329a98c4": {
          "model_module": "@jupyter-widgets/base",
          "model_name": "LayoutModel",
          "model_module_version": "1.2.0",
          "state": {
            "_model_module": "@jupyter-widgets/base",
            "_model_module_version": "1.2.0",
            "_model_name": "LayoutModel",
            "_view_count": null,
            "_view_module": "@jupyter-widgets/base",
            "_view_module_version": "1.2.0",
            "_view_name": "LayoutView",
            "align_content": null,
            "align_items": null,
            "align_self": null,
            "border": null,
            "bottom": null,
            "display": null,
            "flex": null,
            "flex_flow": null,
            "grid_area": null,
            "grid_auto_columns": null,
            "grid_auto_flow": null,
            "grid_auto_rows": null,
            "grid_column": null,
            "grid_gap": null,
            "grid_row": null,
            "grid_template_areas": null,
            "grid_template_columns": null,
            "grid_template_rows": null,
            "height": null,
            "justify_content": null,
            "justify_items": null,
            "left": null,
            "margin": null,
            "max_height": null,
            "max_width": null,
            "min_height": null,
            "min_width": null,
            "object_fit": null,
            "object_position": null,
            "order": null,
            "overflow": null,
            "overflow_x": null,
            "overflow_y": null,
            "padding": null,
            "right": null,
            "top": null,
            "visibility": null,
            "width": null
          }
        },
        "782e312761c04aa49e512a5f4b170889": {
          "model_module": "@jupyter-widgets/controls",
          "model_name": "ProgressStyleModel",
          "model_module_version": "1.5.0",
          "state": {
            "_model_module": "@jupyter-widgets/controls",
            "_model_module_version": "1.5.0",
            "_model_name": "ProgressStyleModel",
            "_view_count": null,
            "_view_module": "@jupyter-widgets/base",
            "_view_module_version": "1.2.0",
            "_view_name": "StyleView",
            "bar_color": null,
            "description_width": ""
          }
        },
        "30f7ac56326f4f63827f31406e763c23": {
          "model_module": "@jupyter-widgets/base",
          "model_name": "LayoutModel",
          "model_module_version": "1.2.0",
          "state": {
            "_model_module": "@jupyter-widgets/base",
            "_model_module_version": "1.2.0",
            "_model_name": "LayoutModel",
            "_view_count": null,
            "_view_module": "@jupyter-widgets/base",
            "_view_module_version": "1.2.0",
            "_view_name": "LayoutView",
            "align_content": null,
            "align_items": null,
            "align_self": null,
            "border": null,
            "bottom": null,
            "display": null,
            "flex": null,
            "flex_flow": null,
            "grid_area": null,
            "grid_auto_columns": null,
            "grid_auto_flow": null,
            "grid_auto_rows": null,
            "grid_column": null,
            "grid_gap": null,
            "grid_row": null,
            "grid_template_areas": null,
            "grid_template_columns": null,
            "grid_template_rows": null,
            "height": null,
            "justify_content": null,
            "justify_items": null,
            "left": null,
            "margin": null,
            "max_height": null,
            "max_width": null,
            "min_height": null,
            "min_width": null,
            "object_fit": null,
            "object_position": null,
            "order": null,
            "overflow": null,
            "overflow_x": null,
            "overflow_y": null,
            "padding": null,
            "right": null,
            "top": null,
            "visibility": null,
            "width": null
          }
        },
        "2c1e0fab509b4e51b7a84effae4c3a5e": {
          "model_module": "@jupyter-widgets/controls",
          "model_name": "DescriptionStyleModel",
          "model_module_version": "1.5.0",
          "state": {
            "_model_module": "@jupyter-widgets/controls",
            "_model_module_version": "1.5.0",
            "_model_name": "DescriptionStyleModel",
            "_view_count": null,
            "_view_module": "@jupyter-widgets/base",
            "_view_module_version": "1.2.0",
            "_view_name": "StyleView",
            "description_width": ""
          }
        },
        "e4ba8c9cec364b9cb4bb3f0d42ae259d": {
          "model_module": "@jupyter-widgets/controls",
          "model_name": "HBoxModel",
          "model_module_version": "1.5.0",
          "state": {
            "_dom_classes": [],
            "_model_module": "@jupyter-widgets/controls",
            "_model_module_version": "1.5.0",
            "_model_name": "HBoxModel",
            "_view_count": null,
            "_view_module": "@jupyter-widgets/controls",
            "_view_module_version": "1.5.0",
            "_view_name": "HBoxView",
            "box_style": "",
            "children": [
              "IPY_MODEL_40f10cbb99c344688c0021d6565942a8",
              "IPY_MODEL_3a90eac2d4704085be643b2ecf95693f",
              "IPY_MODEL_dd5678c69e5c44c5a29ddf740341205f"
            ],
            "layout": "IPY_MODEL_cd5f422f5f904f428487fa4f81f903f5"
          }
        },
        "40f10cbb99c344688c0021d6565942a8": {
          "model_module": "@jupyter-widgets/controls",
          "model_name": "HTMLModel",
          "model_module_version": "1.5.0",
          "state": {
            "_dom_classes": [],
            "_model_module": "@jupyter-widgets/controls",
            "_model_module_version": "1.5.0",
            "_model_name": "HTMLModel",
            "_view_count": null,
            "_view_module": "@jupyter-widgets/controls",
            "_view_module_version": "1.5.0",
            "_view_name": "HTMLView",
            "description": "",
            "description_tooltip": null,
            "layout": "IPY_MODEL_729a28cc2c7845dea85483edeaccc8d3",
            "placeholder": "​",
            "style": "IPY_MODEL_98077ccada0d42b7b79396047744c43f",
            "value": "Downloading (…)lve/main/config.json: 100%"
          }
        },
        "3a90eac2d4704085be643b2ecf95693f": {
          "model_module": "@jupyter-widgets/controls",
          "model_name": "FloatProgressModel",
          "model_module_version": "1.5.0",
          "state": {
            "_dom_classes": [],
            "_model_module": "@jupyter-widgets/controls",
            "_model_module_version": "1.5.0",
            "_model_name": "FloatProgressModel",
            "_view_count": null,
            "_view_module": "@jupyter-widgets/controls",
            "_view_module_version": "1.5.0",
            "_view_name": "ProgressView",
            "bar_style": "success",
            "description": "",
            "description_tooltip": null,
            "layout": "IPY_MODEL_e73a21e86f424d99add0a19d18db3e20",
            "max": 730,
            "min": 0,
            "orientation": "horizontal",
            "style": "IPY_MODEL_ad587e5bca194109ad83a15596a26f72",
            "value": 730
          }
        },
        "dd5678c69e5c44c5a29ddf740341205f": {
          "model_module": "@jupyter-widgets/controls",
          "model_name": "HTMLModel",
          "model_module_version": "1.5.0",
          "state": {
            "_dom_classes": [],
            "_model_module": "@jupyter-widgets/controls",
            "_model_module_version": "1.5.0",
            "_model_name": "HTMLModel",
            "_view_count": null,
            "_view_module": "@jupyter-widgets/controls",
            "_view_module_version": "1.5.0",
            "_view_name": "HTMLView",
            "description": "",
            "description_tooltip": null,
            "layout": "IPY_MODEL_4d781b7aa76e472c8650662af881de6c",
            "placeholder": "​",
            "style": "IPY_MODEL_bf1cd7cfdc7d46d9a6001ffcd1992dba",
            "value": " 730/730 [00:00&lt;00:00, 41.9kB/s]"
          }
        },
        "cd5f422f5f904f428487fa4f81f903f5": {
          "model_module": "@jupyter-widgets/base",
          "model_name": "LayoutModel",
          "model_module_version": "1.2.0",
          "state": {
            "_model_module": "@jupyter-widgets/base",
            "_model_module_version": "1.2.0",
            "_model_name": "LayoutModel",
            "_view_count": null,
            "_view_module": "@jupyter-widgets/base",
            "_view_module_version": "1.2.0",
            "_view_name": "LayoutView",
            "align_content": null,
            "align_items": null,
            "align_self": null,
            "border": null,
            "bottom": null,
            "display": null,
            "flex": null,
            "flex_flow": null,
            "grid_area": null,
            "grid_auto_columns": null,
            "grid_auto_flow": null,
            "grid_auto_rows": null,
            "grid_column": null,
            "grid_gap": null,
            "grid_row": null,
            "grid_template_areas": null,
            "grid_template_columns": null,
            "grid_template_rows": null,
            "height": null,
            "justify_content": null,
            "justify_items": null,
            "left": null,
            "margin": null,
            "max_height": null,
            "max_width": null,
            "min_height": null,
            "min_width": null,
            "object_fit": null,
            "object_position": null,
            "order": null,
            "overflow": null,
            "overflow_x": null,
            "overflow_y": null,
            "padding": null,
            "right": null,
            "top": null,
            "visibility": null,
            "width": null
          }
        },
        "729a28cc2c7845dea85483edeaccc8d3": {
          "model_module": "@jupyter-widgets/base",
          "model_name": "LayoutModel",
          "model_module_version": "1.2.0",
          "state": {
            "_model_module": "@jupyter-widgets/base",
            "_model_module_version": "1.2.0",
            "_model_name": "LayoutModel",
            "_view_count": null,
            "_view_module": "@jupyter-widgets/base",
            "_view_module_version": "1.2.0",
            "_view_name": "LayoutView",
            "align_content": null,
            "align_items": null,
            "align_self": null,
            "border": null,
            "bottom": null,
            "display": null,
            "flex": null,
            "flex_flow": null,
            "grid_area": null,
            "grid_auto_columns": null,
            "grid_auto_flow": null,
            "grid_auto_rows": null,
            "grid_column": null,
            "grid_gap": null,
            "grid_row": null,
            "grid_template_areas": null,
            "grid_template_columns": null,
            "grid_template_rows": null,
            "height": null,
            "justify_content": null,
            "justify_items": null,
            "left": null,
            "margin": null,
            "max_height": null,
            "max_width": null,
            "min_height": null,
            "min_width": null,
            "object_fit": null,
            "object_position": null,
            "order": null,
            "overflow": null,
            "overflow_x": null,
            "overflow_y": null,
            "padding": null,
            "right": null,
            "top": null,
            "visibility": null,
            "width": null
          }
        },
        "98077ccada0d42b7b79396047744c43f": {
          "model_module": "@jupyter-widgets/controls",
          "model_name": "DescriptionStyleModel",
          "model_module_version": "1.5.0",
          "state": {
            "_model_module": "@jupyter-widgets/controls",
            "_model_module_version": "1.5.0",
            "_model_name": "DescriptionStyleModel",
            "_view_count": null,
            "_view_module": "@jupyter-widgets/base",
            "_view_module_version": "1.2.0",
            "_view_name": "StyleView",
            "description_width": ""
          }
        },
        "e73a21e86f424d99add0a19d18db3e20": {
          "model_module": "@jupyter-widgets/base",
          "model_name": "LayoutModel",
          "model_module_version": "1.2.0",
          "state": {
            "_model_module": "@jupyter-widgets/base",
            "_model_module_version": "1.2.0",
            "_model_name": "LayoutModel",
            "_view_count": null,
            "_view_module": "@jupyter-widgets/base",
            "_view_module_version": "1.2.0",
            "_view_name": "LayoutView",
            "align_content": null,
            "align_items": null,
            "align_self": null,
            "border": null,
            "bottom": null,
            "display": null,
            "flex": null,
            "flex_flow": null,
            "grid_area": null,
            "grid_auto_columns": null,
            "grid_auto_flow": null,
            "grid_auto_rows": null,
            "grid_column": null,
            "grid_gap": null,
            "grid_row": null,
            "grid_template_areas": null,
            "grid_template_columns": null,
            "grid_template_rows": null,
            "height": null,
            "justify_content": null,
            "justify_items": null,
            "left": null,
            "margin": null,
            "max_height": null,
            "max_width": null,
            "min_height": null,
            "min_width": null,
            "object_fit": null,
            "object_position": null,
            "order": null,
            "overflow": null,
            "overflow_x": null,
            "overflow_y": null,
            "padding": null,
            "right": null,
            "top": null,
            "visibility": null,
            "width": null
          }
        },
        "ad587e5bca194109ad83a15596a26f72": {
          "model_module": "@jupyter-widgets/controls",
          "model_name": "ProgressStyleModel",
          "model_module_version": "1.5.0",
          "state": {
            "_model_module": "@jupyter-widgets/controls",
            "_model_module_version": "1.5.0",
            "_model_name": "ProgressStyleModel",
            "_view_count": null,
            "_view_module": "@jupyter-widgets/base",
            "_view_module_version": "1.2.0",
            "_view_name": "StyleView",
            "bar_color": null,
            "description_width": ""
          }
        },
        "4d781b7aa76e472c8650662af881de6c": {
          "model_module": "@jupyter-widgets/base",
          "model_name": "LayoutModel",
          "model_module_version": "1.2.0",
          "state": {
            "_model_module": "@jupyter-widgets/base",
            "_model_module_version": "1.2.0",
            "_model_name": "LayoutModel",
            "_view_count": null,
            "_view_module": "@jupyter-widgets/base",
            "_view_module_version": "1.2.0",
            "_view_name": "LayoutView",
            "align_content": null,
            "align_items": null,
            "align_self": null,
            "border": null,
            "bottom": null,
            "display": null,
            "flex": null,
            "flex_flow": null,
            "grid_area": null,
            "grid_auto_columns": null,
            "grid_auto_flow": null,
            "grid_auto_rows": null,
            "grid_column": null,
            "grid_gap": null,
            "grid_row": null,
            "grid_template_areas": null,
            "grid_template_columns": null,
            "grid_template_rows": null,
            "height": null,
            "justify_content": null,
            "justify_items": null,
            "left": null,
            "margin": null,
            "max_height": null,
            "max_width": null,
            "min_height": null,
            "min_width": null,
            "object_fit": null,
            "object_position": null,
            "order": null,
            "overflow": null,
            "overflow_x": null,
            "overflow_y": null,
            "padding": null,
            "right": null,
            "top": null,
            "visibility": null,
            "width": null
          }
        },
        "bf1cd7cfdc7d46d9a6001ffcd1992dba": {
          "model_module": "@jupyter-widgets/controls",
          "model_name": "DescriptionStyleModel",
          "model_module_version": "1.5.0",
          "state": {
            "_model_module": "@jupyter-widgets/controls",
            "_model_module_version": "1.5.0",
            "_model_name": "DescriptionStyleModel",
            "_view_count": null,
            "_view_module": "@jupyter-widgets/base",
            "_view_module_version": "1.2.0",
            "_view_name": "StyleView",
            "description_width": ""
          }
        },
        "cb3bb600369f4c04b89914bef3802cb8": {
          "model_module": "@jupyter-widgets/controls",
          "model_name": "HBoxModel",
          "model_module_version": "1.5.0",
          "state": {
            "_dom_classes": [],
            "_model_module": "@jupyter-widgets/controls",
            "_model_module_version": "1.5.0",
            "_model_name": "HBoxModel",
            "_view_count": null,
            "_view_module": "@jupyter-widgets/controls",
            "_view_module_version": "1.5.0",
            "_view_name": "HBoxView",
            "box_style": "",
            "children": [
              "IPY_MODEL_3d273328d04f4426b21b33ef599d364d",
              "IPY_MODEL_db3e7e02404749a999355b2081266633",
              "IPY_MODEL_d8d0a84588d547f8b49763791932fb94"
            ],
            "layout": "IPY_MODEL_9f6710dd15e2450e838c89f4e8d6fd86"
          }
        },
        "3d273328d04f4426b21b33ef599d364d": {
          "model_module": "@jupyter-widgets/controls",
          "model_name": "HTMLModel",
          "model_module_version": "1.5.0",
          "state": {
            "_dom_classes": [],
            "_model_module": "@jupyter-widgets/controls",
            "_model_module_version": "1.5.0",
            "_model_name": "HTMLModel",
            "_view_count": null,
            "_view_module": "@jupyter-widgets/controls",
            "_view_module_version": "1.5.0",
            "_view_name": "HTMLView",
            "description": "",
            "description_tooltip": null,
            "layout": "IPY_MODEL_f3a40baca3dc4a228147d3cf7361f7b4",
            "placeholder": "​",
            "style": "IPY_MODEL_f967a6c8862347a7ba55c5260a83ee3a",
            "value": "Downloading pytorch_model.bin: 100%"
          }
        },
        "db3e7e02404749a999355b2081266633": {
          "model_module": "@jupyter-widgets/controls",
          "model_name": "FloatProgressModel",
          "model_module_version": "1.5.0",
          "state": {
            "_dom_classes": [],
            "_model_module": "@jupyter-widgets/controls",
            "_model_module_version": "1.5.0",
            "_model_name": "FloatProgressModel",
            "_view_count": null,
            "_view_module": "@jupyter-widgets/controls",
            "_view_module_version": "1.5.0",
            "_view_name": "ProgressView",
            "bar_style": "success",
            "description": "",
            "description_tooltip": null,
            "layout": "IPY_MODEL_3af72954e58140a9b658039152137936",
            "max": 442517175,
            "min": 0,
            "orientation": "horizontal",
            "style": "IPY_MODEL_a19217ea618c444ca355d3ec19e09cc4",
            "value": 442517175
          }
        },
        "d8d0a84588d547f8b49763791932fb94": {
          "model_module": "@jupyter-widgets/controls",
          "model_name": "HTMLModel",
          "model_module_version": "1.5.0",
          "state": {
            "_dom_classes": [],
            "_model_module": "@jupyter-widgets/controls",
            "_model_module_version": "1.5.0",
            "_model_name": "HTMLModel",
            "_view_count": null,
            "_view_module": "@jupyter-widgets/controls",
            "_view_module_version": "1.5.0",
            "_view_name": "HTMLView",
            "description": "",
            "description_tooltip": null,
            "layout": "IPY_MODEL_5d20500e3ad54fd1bdc56d873beb4d3d",
            "placeholder": "​",
            "style": "IPY_MODEL_09de8ca2e671482cadeb37c80a06eabe",
            "value": " 443M/443M [00:03&lt;00:00, 163MB/s]"
          }
        },
        "9f6710dd15e2450e838c89f4e8d6fd86": {
          "model_module": "@jupyter-widgets/base",
          "model_name": "LayoutModel",
          "model_module_version": "1.2.0",
          "state": {
            "_model_module": "@jupyter-widgets/base",
            "_model_module_version": "1.2.0",
            "_model_name": "LayoutModel",
            "_view_count": null,
            "_view_module": "@jupyter-widgets/base",
            "_view_module_version": "1.2.0",
            "_view_name": "LayoutView",
            "align_content": null,
            "align_items": null,
            "align_self": null,
            "border": null,
            "bottom": null,
            "display": null,
            "flex": null,
            "flex_flow": null,
            "grid_area": null,
            "grid_auto_columns": null,
            "grid_auto_flow": null,
            "grid_auto_rows": null,
            "grid_column": null,
            "grid_gap": null,
            "grid_row": null,
            "grid_template_areas": null,
            "grid_template_columns": null,
            "grid_template_rows": null,
            "height": null,
            "justify_content": null,
            "justify_items": null,
            "left": null,
            "margin": null,
            "max_height": null,
            "max_width": null,
            "min_height": null,
            "min_width": null,
            "object_fit": null,
            "object_position": null,
            "order": null,
            "overflow": null,
            "overflow_x": null,
            "overflow_y": null,
            "padding": null,
            "right": null,
            "top": null,
            "visibility": null,
            "width": null
          }
        },
        "f3a40baca3dc4a228147d3cf7361f7b4": {
          "model_module": "@jupyter-widgets/base",
          "model_name": "LayoutModel",
          "model_module_version": "1.2.0",
          "state": {
            "_model_module": "@jupyter-widgets/base",
            "_model_module_version": "1.2.0",
            "_model_name": "LayoutModel",
            "_view_count": null,
            "_view_module": "@jupyter-widgets/base",
            "_view_module_version": "1.2.0",
            "_view_name": "LayoutView",
            "align_content": null,
            "align_items": null,
            "align_self": null,
            "border": null,
            "bottom": null,
            "display": null,
            "flex": null,
            "flex_flow": null,
            "grid_area": null,
            "grid_auto_columns": null,
            "grid_auto_flow": null,
            "grid_auto_rows": null,
            "grid_column": null,
            "grid_gap": null,
            "grid_row": null,
            "grid_template_areas": null,
            "grid_template_columns": null,
            "grid_template_rows": null,
            "height": null,
            "justify_content": null,
            "justify_items": null,
            "left": null,
            "margin": null,
            "max_height": null,
            "max_width": null,
            "min_height": null,
            "min_width": null,
            "object_fit": null,
            "object_position": null,
            "order": null,
            "overflow": null,
            "overflow_x": null,
            "overflow_y": null,
            "padding": null,
            "right": null,
            "top": null,
            "visibility": null,
            "width": null
          }
        },
        "f967a6c8862347a7ba55c5260a83ee3a": {
          "model_module": "@jupyter-widgets/controls",
          "model_name": "DescriptionStyleModel",
          "model_module_version": "1.5.0",
          "state": {
            "_model_module": "@jupyter-widgets/controls",
            "_model_module_version": "1.5.0",
            "_model_name": "DescriptionStyleModel",
            "_view_count": null,
            "_view_module": "@jupyter-widgets/base",
            "_view_module_version": "1.2.0",
            "_view_name": "StyleView",
            "description_width": ""
          }
        },
        "3af72954e58140a9b658039152137936": {
          "model_module": "@jupyter-widgets/base",
          "model_name": "LayoutModel",
          "model_module_version": "1.2.0",
          "state": {
            "_model_module": "@jupyter-widgets/base",
            "_model_module_version": "1.2.0",
            "_model_name": "LayoutModel",
            "_view_count": null,
            "_view_module": "@jupyter-widgets/base",
            "_view_module_version": "1.2.0",
            "_view_name": "LayoutView",
            "align_content": null,
            "align_items": null,
            "align_self": null,
            "border": null,
            "bottom": null,
            "display": null,
            "flex": null,
            "flex_flow": null,
            "grid_area": null,
            "grid_auto_columns": null,
            "grid_auto_flow": null,
            "grid_auto_rows": null,
            "grid_column": null,
            "grid_gap": null,
            "grid_row": null,
            "grid_template_areas": null,
            "grid_template_columns": null,
            "grid_template_rows": null,
            "height": null,
            "justify_content": null,
            "justify_items": null,
            "left": null,
            "margin": null,
            "max_height": null,
            "max_width": null,
            "min_height": null,
            "min_width": null,
            "object_fit": null,
            "object_position": null,
            "order": null,
            "overflow": null,
            "overflow_x": null,
            "overflow_y": null,
            "padding": null,
            "right": null,
            "top": null,
            "visibility": null,
            "width": null
          }
        },
        "a19217ea618c444ca355d3ec19e09cc4": {
          "model_module": "@jupyter-widgets/controls",
          "model_name": "ProgressStyleModel",
          "model_module_version": "1.5.0",
          "state": {
            "_model_module": "@jupyter-widgets/controls",
            "_model_module_version": "1.5.0",
            "_model_name": "ProgressStyleModel",
            "_view_count": null,
            "_view_module": "@jupyter-widgets/base",
            "_view_module_version": "1.2.0",
            "_view_name": "StyleView",
            "bar_color": null,
            "description_width": ""
          }
        },
        "5d20500e3ad54fd1bdc56d873beb4d3d": {
          "model_module": "@jupyter-widgets/base",
          "model_name": "LayoutModel",
          "model_module_version": "1.2.0",
          "state": {
            "_model_module": "@jupyter-widgets/base",
            "_model_module_version": "1.2.0",
            "_model_name": "LayoutModel",
            "_view_count": null,
            "_view_module": "@jupyter-widgets/base",
            "_view_module_version": "1.2.0",
            "_view_name": "LayoutView",
            "align_content": null,
            "align_items": null,
            "align_self": null,
            "border": null,
            "bottom": null,
            "display": null,
            "flex": null,
            "flex_flow": null,
            "grid_area": null,
            "grid_auto_columns": null,
            "grid_auto_flow": null,
            "grid_auto_rows": null,
            "grid_column": null,
            "grid_gap": null,
            "grid_row": null,
            "grid_template_areas": null,
            "grid_template_columns": null,
            "grid_template_rows": null,
            "height": null,
            "justify_content": null,
            "justify_items": null,
            "left": null,
            "margin": null,
            "max_height": null,
            "max_width": null,
            "min_height": null,
            "min_width": null,
            "object_fit": null,
            "object_position": null,
            "order": null,
            "overflow": null,
            "overflow_x": null,
            "overflow_y": null,
            "padding": null,
            "right": null,
            "top": null,
            "visibility": null,
            "width": null
          }
        },
        "09de8ca2e671482cadeb37c80a06eabe": {
          "model_module": "@jupyter-widgets/controls",
          "model_name": "DescriptionStyleModel",
          "model_module_version": "1.5.0",
          "state": {
            "_model_module": "@jupyter-widgets/controls",
            "_model_module_version": "1.5.0",
            "_model_name": "DescriptionStyleModel",
            "_view_count": null,
            "_view_module": "@jupyter-widgets/base",
            "_view_module_version": "1.2.0",
            "_view_name": "StyleView",
            "description_width": ""
          }
        }
      }
    }
  },
  "cells": [
    {
      "cell_type": "markdown",
      "metadata": {
        "id": "Jj6CdHkLiElp"
      },
      "source": [
        "# あなたの文章に合った「いらすとや」画像をレコメンド♪（Sentence-BERT編）\n",
        "\n",
        "解説記事: https://qiita.com/sonoisa/items/1df94d0a98cd4f209051"
      ]
    },
    {
      "cell_type": "markdown",
      "metadata": {
        "id": "IpUI7Vfz3SEI"
      },
      "source": [
        "## アルゴリズムの概要\n",
        "\n",
        "本アプリの基本的なアイディアは次のとおりです。\n",
        "\n",
        "1. 与えられた文や画像の説明文を、それぞれSentence-BERTを用いて文の分散表現（つまりはベクトル）に変換する。\n",
        "1. 与えられた文と画像の説明文の意味の近さを、それぞれの文の分散表現を使って計算する（意味の近さ = 2つのベクトルのなす角の小ささ = コサイン類似度の大きさとする）。\n",
        "1. コサイン類似度が大きい説明文を持つ画像トップN個を選ぶことで、与えられた文と意味が近い画像を発見できる。\n",
        "\n",
        "模式図にすると、次のようになります。\n",
        "\n",
        "<img src=\"https://camo.qiitausercontent.com/fb62a6b8a0fd447e1ff1370e83ff0b636a3f9a36/68747470733a2f2f71696974612d696d6167652d73746f72652e73332e616d617a6f6e6177732e636f6d2f302f32363036322f33393935316266392d663630322d383565332d646239662d6235353764663164376266642e706e67\" width=\"800\">"
      ]
    },
    {
      "cell_type": "markdown",
      "metadata": {
        "id": "T6jyXCwsym-e"
      },
      "source": [
        "## 準備"
      ]
    },
    {
      "cell_type": "code",
      "source": [
        "# 利用できるGPUの確認\n",
        "!nvidia-smi"
      ],
      "metadata": {
        "id": "BD00SuNOsEaL",
        "outputId": "8151756b-21ec-43f2-efaa-6a66f4865ef3",
        "colab": {
          "base_uri": "https://localhost:8080/"
        }
      },
      "execution_count": 19,
      "outputs": [
        {
          "output_type": "stream",
          "name": "stdout",
          "text": [
            "Sun Mar 12 07:22:45 2023       \n",
            "+-----------------------------------------------------------------------------+\n",
            "| NVIDIA-SMI 525.85.12    Driver Version: 525.85.12    CUDA Version: 12.0     |\n",
            "|-------------------------------+----------------------+----------------------+\n",
            "| GPU  Name        Persistence-M| Bus-Id        Disp.A | Volatile Uncorr. ECC |\n",
            "| Fan  Temp  Perf  Pwr:Usage/Cap|         Memory-Usage | GPU-Util  Compute M. |\n",
            "|                               |                      |               MIG M. |\n",
            "|===============================+======================+======================|\n",
            "|   0  Tesla T4            Off  | 00000000:00:04.0 Off |                    0 |\n",
            "| N/A   59C    P0    30W /  70W |   1289MiB / 15360MiB |      0%      Default |\n",
            "|                               |                      |                  N/A |\n",
            "+-------------------------------+----------------------+----------------------+\n",
            "                                                                               \n",
            "+-----------------------------------------------------------------------------+\n",
            "| Processes:                                                                  |\n",
            "|  GPU   GI   CI        PID   Type   Process name                  GPU Memory |\n",
            "|        ID   ID                                                   Usage      |\n",
            "|=============================================================================|\n",
            "+-----------------------------------------------------------------------------+\n"
          ]
        }
      ]
    },
    {
      "cell_type": "markdown",
      "metadata": {
        "id": "zggKYME3trPn"
      },
      "source": [
        "### パスワード設定\n",
        "\n",
        "**※勉強会に用いるデータセットの解凍にはパスワードが必要です（一般には公開しません）。**  \n",
        "**※次の変数 RESOURCES_PASSWORD に解凍用の秘密のパスワードを設定してから、以降の処理を実行してください。**"
      ]
    },
    {
      "cell_type": "code",
      "metadata": {
        "id": "4ZjSETt5tvf7"
      },
      "source": [
        "# データセットの解凍用パスワード\n",
        "RESOURCES_PASSWORD = \"\""
      ],
      "execution_count": 1,
      "outputs": []
    },
    {
      "cell_type": "markdown",
      "metadata": {
        "id": "0jnmO3r_jObQ"
      },
      "source": [
        "### 依存ライブラリのインストール\n",
        "\n",
        "インストールに5分程度かかります。気長にお待ちください。"
      ]
    },
    {
      "cell_type": "code",
      "metadata": {
        "id": "pZznmjQghg43",
        "outputId": "38faa1c2-a81a-4c6f-a200-fe4388461014",
        "colab": {
          "base_uri": "https://localhost:8080/"
        }
      },
      "source": [
        "!pip install -q transformers==4.26.1 fugashi ipadic gdown"
      ],
      "execution_count": 2,
      "outputs": [
        {
          "output_type": "stream",
          "name": "stdout",
          "text": [
            "\u001b[2K     \u001b[90m━━━━━━━━━━━━━━━━━━━━━━━━━━━━━━━━━━━━━━━━\u001b[0m \u001b[32m6.3/6.3 MB\u001b[0m \u001b[31m44.3 MB/s\u001b[0m eta \u001b[36m0:00:00\u001b[0m\n",
            "\u001b[2K     \u001b[90m━━━━━━━━━━━━━━━━━━━━━━━━━━━━━━━━━━━━━━\u001b[0m \u001b[32m613.3/613.3 KB\u001b[0m \u001b[31m30.8 MB/s\u001b[0m eta \u001b[36m0:00:00\u001b[0m\n",
            "\u001b[2K     \u001b[90m━━━━━━━━━━━━━━━━━━━━━━━━━━━━━━━━━━━━━━━━\u001b[0m \u001b[32m13.4/13.4 MB\u001b[0m \u001b[31m63.1 MB/s\u001b[0m eta \u001b[36m0:00:00\u001b[0m\n",
            "\u001b[?25h  Preparing metadata (setup.py) ... \u001b[?25l\u001b[?25hdone\n",
            "\u001b[2K     \u001b[90m━━━━━━━━━━━━━━━━━━━━━━━━━━━━━━━━━━━━━━━\u001b[0m \u001b[32m199.2/199.2 KB\u001b[0m \u001b[31m1.0 MB/s\u001b[0m eta \u001b[36m0:00:00\u001b[0m\n",
            "\u001b[2K     \u001b[90m━━━━━━━━━━━━━━━━━━━━━━━━━━━━━━━━━━━━━━━━\u001b[0m \u001b[32m7.6/7.6 MB\u001b[0m \u001b[31m67.7 MB/s\u001b[0m eta \u001b[36m0:00:00\u001b[0m\n",
            "\u001b[?25h  Building wheel for ipadic (setup.py) ... \u001b[?25l\u001b[?25hdone\n"
          ]
        }
      ]
    },
    {
      "cell_type": "markdown",
      "metadata": {
        "id": "mgyUsWsPln96"
      },
      "source": [
        "### 「いらすとや」さんの画像メタデータのダウンロード"
      ]
    },
    {
      "cell_type": "code",
      "metadata": {
        "id": "Ecs6gg32_nR7",
        "colab": {
          "base_uri": "https://localhost:8080/"
        },
        "outputId": "816339a9-5de2-4489-c5c7-47d15bfb376e"
      },
      "source": [
        "!gdown \"https://drive.google.com/uc?export=view&id=1NQ66ZynRY63SIlk2i4OhMj837YDucLR9\""
      ],
      "execution_count": 3,
      "outputs": [
        {
          "output_type": "stream",
          "name": "stdout",
          "text": [
            "Downloading...\n",
            "From: https://drive.google.com/uc?export=view&id=1NQ66ZynRY63SIlk2i4OhMj837YDucLR9\n",
            "To: /content/ii20210224.zip\n",
            "\r  0% 0.00/3.63M [00:00<?, ?B/s]\r100% 3.63M/3.63M [00:00<00:00, 204MB/s]\n"
          ]
        }
      ]
    },
    {
      "cell_type": "markdown",
      "metadata": {
        "id": "WUqBqYS6utZ3"
      },
      "source": [
        "### データの解凍"
      ]
    },
    {
      "cell_type": "code",
      "metadata": {
        "colab": {
          "base_uri": "https://localhost:8080/"
        },
        "id": "gJ6hjcoVuyWp",
        "outputId": "a36a4c9e-8358-42bc-d471-dea5a6de93ec"
      },
      "source": [
        "!unzip -P {RESOURCES_PASSWORD} ii20210224.zip"
      ],
      "execution_count": 4,
      "outputs": [
        {
          "output_type": "stream",
          "name": "stdout",
          "text": [
            "Archive:  ii20210224.zip\n",
            "  inflating: irasuto_items.json      \n"
          ]
        }
      ]
    },
    {
      "cell_type": "markdown",
      "metadata": {
        "id": "lq5_HTWinLYM"
      },
      "source": [
        "### 画像メタデータを読み込む\n",
        "\n",
        "LINEスタンプはイラストではないため除外します。"
      ]
    },
    {
      "cell_type": "code",
      "metadata": {
        "id": "Vxx11g-Lhbhc"
      },
      "source": [
        "import json\n",
        "\n",
        "with open('irasuto_items.json', 'r', encoding=\"utf-8\") as items_file:\n",
        "    items = json.load(items_file)\n",
        "\n",
        "items = [item for item in items \\\n",
        "             if \"LINEスタンプ\" not in item[\"title\"] and \\\n",
        "             \"LINEのスタンプ\" not in item[\"title\"]]"
      ],
      "execution_count": 5,
      "outputs": []
    },
    {
      "cell_type": "markdown",
      "metadata": {
        "id": "SbrIV0NBmqvu"
      },
      "source": [
        "### 正規化処理の定義\n",
        "\n",
        "neologdの正規化処理を少し変えたものを利用します。\n",
        "\n",
        "- neologdの正規化処理: https://github.com/neologd/mecab-ipadic-neologd/wiki/Regexp.ja"
      ]
    },
    {
      "cell_type": "code",
      "metadata": {
        "id": "LNP2Lku-gb1J"
      },
      "source": [
        "# https://github.com/neologd/mecab-ipadic-neologd/wiki/Regexp.ja から引用・一部改変\n",
        "from __future__ import unicode_literals\n",
        "import re\n",
        "import unicodedata\n",
        "\n",
        "def unicode_normalize(cls, s):\n",
        "    pt = re.compile('([{}]+)'.format(cls))\n",
        "\n",
        "    def norm(c):\n",
        "        return unicodedata.normalize('NFKC', c) if pt.match(c) else c\n",
        "\n",
        "    s = ''.join(norm(x) for x in re.split(pt, s))\n",
        "    s = re.sub('－', '-', s)\n",
        "    return s\n",
        "\n",
        "def remove_extra_spaces(s):\n",
        "    s = re.sub('[ 　]+', ' ', s)\n",
        "    blocks = ''.join(('\\u4E00-\\u9FFF',  # CJK UNIFIED IDEOGRAPHS\n",
        "                      '\\u3040-\\u309F',  # HIRAGANA\n",
        "                      '\\u30A0-\\u30FF',  # KATAKANA\n",
        "                      '\\u3000-\\u303F',  # CJK SYMBOLS AND PUNCTUATION\n",
        "                      '\\uFF00-\\uFFEF'   # HALFWIDTH AND FULLWIDTH FORMS\n",
        "                      ))\n",
        "    basic_latin = '\\u0000-\\u007F'\n",
        "\n",
        "    def remove_space_between(cls1, cls2, s):\n",
        "        p = re.compile('([{}]) ([{}])'.format(cls1, cls2))\n",
        "        while p.search(s):\n",
        "            s = p.sub(r'\\1\\2', s)\n",
        "        return s\n",
        "\n",
        "    s = remove_space_between(blocks, blocks, s)\n",
        "    s = remove_space_between(blocks, basic_latin, s)\n",
        "    s = remove_space_between(basic_latin, blocks, s)\n",
        "    return s\n",
        "\n",
        "def normalize_neologd(s):\n",
        "    s = s.strip()\n",
        "    s = unicode_normalize('０-９Ａ-Ｚａ-ｚ｡-ﾟ', s)\n",
        "\n",
        "    def maketrans(f, t):\n",
        "        return {ord(x): ord(y) for x, y in zip(f, t)}\n",
        "\n",
        "    s = re.sub('[˗֊‐‑‒–⁃⁻₋−]+', '-', s)  # normalize hyphens\n",
        "    s = re.sub('[﹣－ｰ—―─━ー]+', 'ー', s)  # normalize choonpus\n",
        "    s = re.sub('[~∼∾〜〰～]+', '〜', s)  # normalize tildes (modified by Isao Sonobe)\n",
        "    s = s.translate(\n",
        "        maketrans('!\"#$%&\\'()*+,-./:;<=>?@[¥]^_`{|}~｡､･｢｣',\n",
        "              '！”＃＄％＆’（）＊＋，－．／：；＜＝＞？＠［￥］＾＿｀｛｜｝〜。、・「」'))\n",
        "\n",
        "    s = remove_extra_spaces(s)\n",
        "    s = unicode_normalize('！”＃＄％＆’（）＊＋，－．／：；＜＞？＠［￥］＾＿｀｛｜｝〜', s)  # keep ＝,・,「,」\n",
        "    s = re.sub('[’]', '\\'', s)\n",
        "    s = re.sub('[”]', '\"', s)\n",
        "    s = s.upper()\n",
        "    return s\n",
        "\n",
        "def normalize_text(text):\n",
        "    return normalize_neologd(text)"
      ],
      "execution_count": 6,
      "outputs": []
    },
    {
      "cell_type": "markdown",
      "source": [
        "### タイトルや説明文の「〜のイラスト」などの冗長な表現を削除する前処理"
      ],
      "metadata": {
        "id": "Y-u_UA834oGZ"
      }
    },
    {
      "cell_type": "code",
      "metadata": {
        "id": "uUKopvBPgepg"
      },
      "source": [
        "def normalize_title(title):\n",
        "    title = title.strip()\n",
        "    \n",
        "    match = re.match(r\"^「([^」]+)」$\", title)\n",
        "    if match:\n",
        "        title = match.group(1)\n",
        "\n",
        "    match = re.match(r\"^POP素材「([^」]+)」$\", title)\n",
        "    if match:\n",
        "        title = match.group(1)\n",
        "    \n",
        "    title = re.sub(r\"(の?(?:イラスト|イラストの|イラストト|イ子のラスト|イラス|イラスト文字|「イラスト文字」|イラストPOP文字|ペンキ文字|タイトル文字|イラスト・メッセージ|イラスト文字・バナー|キャラクター(たち)?|マーク|アイコン|シルエット|シルエット素材|フレーム（枠）|フレーム|フレーム素材|テンプレート|パターン|パターン素材|ライン素材|コーナー素材|リボン型バナー|評価スタンプ|背景素材))+(\\s*([0-9０-９]*|その[0-9０-９]+))(です。)?\", \"\", title)\n",
        "    \n",
        "    title = normalize_text(title)\n",
        "    \n",
        "    if title.strip() == \"\":\n",
        "        raise ValueError(title)\n",
        "    \n",
        "    return title"
      ],
      "execution_count": 7,
      "outputs": []
    },
    {
      "cell_type": "markdown",
      "source": [
        "### タイトルと説明文の正規化を実行\n",
        "\n",
        "説明文がなければタイトルを説明文の代わりにします。"
      ],
      "metadata": {
        "id": "E-2ZqfIB5m3H"
      }
    },
    {
      "cell_type": "code",
      "source": [
        "for item in items:\n",
        "    try:\n",
        "        title = item[\"title\"]\n",
        "        normalized_title = normalize_title(title)\n",
        "        item[\"normalized_title\"] = normalized_title\n",
        "\n",
        "        desc = item[\"desc\"]\n",
        "        if desc.strip() == \"\":\n",
        "            # 説明文がない場合は、タイトルを説明文にする\n",
        "            item[\"normalized_desc\"] = normalized_title\n",
        "            item[\"desc\"] = title\n",
        "        else:\n",
        "            normalized_desc = normalize_title(desc)\n",
        "            item[\"normalized_desc\"] = normalized_desc\n",
        "            # print(desc, normalized_desc)\n",
        "    except:\n",
        "        continue\n"
      ],
      "metadata": {
        "id": "Xi1RutG75MQM"
      },
      "execution_count": 8,
      "outputs": []
    },
    {
      "cell_type": "markdown",
      "source": [
        "### Sentence-BERTクラスの定義"
      ],
      "metadata": {
        "id": "jatoZ8ay6DxT"
      }
    },
    {
      "cell_type": "code",
      "source": [
        "from transformers import BertJapaneseTokenizer, BertModel\n",
        "import torch\n",
        "\n",
        "\n",
        "class SentenceBertJapanese:\n",
        "    def __init__(self, model_name_or_path, device=None):\n",
        "        self.tokenizer = BertJapaneseTokenizer.from_pretrained(model_name_or_path)\n",
        "        self.model = BertModel.from_pretrained(model_name_or_path)\n",
        "        self.model.eval()\n",
        "\n",
        "        if device is None:\n",
        "            device = \"cuda\" if torch.cuda.is_available() else \"cpu\"\n",
        "        self.device = torch.device(device)\n",
        "        self.model.to(device)\n",
        "\n",
        "    def _mean_pooling(self, model_output, attention_mask):\n",
        "        token_embeddings = model_output[0] #First element of model_output contains all token embeddings\n",
        "        input_mask_expanded = attention_mask.unsqueeze(-1).expand(token_embeddings.size()).float()\n",
        "        return torch.sum(token_embeddings * input_mask_expanded, 1) / torch.clamp(input_mask_expanded.sum(1), min=1e-9)\n",
        "\n",
        "    @torch.no_grad()\n",
        "    def encode(self, sentences, batch_size=8):\n",
        "        all_embeddings = []\n",
        "        iterator = range(0, len(sentences), batch_size)\n",
        "        for batch_idx in iterator:\n",
        "            batch = sentences[batch_idx:batch_idx + batch_size]\n",
        "\n",
        "            encoded_input = self.tokenizer.batch_encode_plus(batch, padding=\"longest\", \n",
        "                                           truncation=True, return_tensors=\"pt\").to(self.device)\n",
        "            model_output = self.model(**encoded_input)\n",
        "            sentence_embeddings = self._mean_pooling(model_output, encoded_input[\"attention_mask\"]).to('cpu')\n",
        "\n",
        "            all_embeddings.extend(sentence_embeddings)\n",
        "\n",
        "        # return torch.stack(all_embeddings).numpy()\n",
        "        return torch.stack(all_embeddings)"
      ],
      "metadata": {
        "id": "H5clWz6Y4S6p"
      },
      "execution_count": 9,
      "outputs": []
    },
    {
      "cell_type": "markdown",
      "source": [
        "Sentence-BERTモデルを読み込む"
      ],
      "metadata": {
        "id": "hsGknE4X6V5T"
      }
    },
    {
      "cell_type": "code",
      "source": [
        "model = SentenceBertJapanese(\"sonoisa/sentence-bert-base-ja-mean-tokens\")"
      ],
      "metadata": {
        "colab": {
          "base_uri": "https://localhost:8080/",
          "height": 281,
          "referenced_widgets": [
            "6191849758ee48bb80e52d1e8e156028",
            "8a791e0196c440f483c5a8aadcf0ba09",
            "8ccf5311ab7640dd827e8cabac110830",
            "32ef730d03ea4f7ea6a570d889fe6a94",
            "90c467763fe0450b97bacc07f8d13c05",
            "0e7723903c204434ae3606b93469a8ba",
            "306995a5eb574bddae53fcda4069b7b5",
            "820cf22fdc254d98b5206b2a698735bc",
            "296677dd9f2b4a79840c879b00539efb",
            "5b9d4c4818014f989971b24ccf079e94",
            "0f15596e4daf48cb83a78384ade664b3",
            "f150b90a3b684f0c822371272c63e109",
            "ca49c90b910b4e5c9b082e7d0c0244da",
            "cd0d4be556ab4cf6a1b53b6f61ba7f0f",
            "56bdc03491284f6eaa1aa4c45694ba8f",
            "6d248bbe3a34466fb61e68eedd47acd4",
            "cf9724950e6048078c2a4d8457cc21d3",
            "83adf445a3064532ac17be56b24f425a",
            "dda8a2d11efa464f8dc6aaec0803aa99",
            "2a0dc413bc7a4b9fb9c90959dca0adfe",
            "4b0be1039f43422db51de5400a91aea4",
            "26330f1e95b744bf84c2df7afb2b3476",
            "a31206944e6b43b4a70b7777807be89f",
            "1df468c9ea8f454a96a2f1839cbb0d6b",
            "f85faba809824e56a908de0a87bf4434",
            "e1a9d771518547ae92f2023d098f69a3",
            "93d839380ef540389a7a496eedf60f3c",
            "5821d8fc0aff4beda9b364ec2d04c535",
            "b64375531b6449e3be8b7734fef1e4b1",
            "fe2359f783c041138b0acf625637a5a1",
            "a63e86e839804a988ea0c11646c727f0",
            "bdaf9c46bc7a4c3a895a77fc049d4bdd",
            "3044e212594a42a597266f32b4afb587",
            "58b1d3b9c142422bad0f51b96422001f",
            "5197a5baeb8e4885a80ffee3122702b1",
            "70513db10aca4544a8405915d635eeb5",
            "1aad3e931ca34b59bb2186b10cc1c6df",
            "0e90cfba3a86422b8c3561783b27ffaa",
            "f1bf19a9f76941cb83d70bd9e9ab983e",
            "1eb2374ac54e434eb737126e30126a8a",
            "ae9af89edfed40b994af648a329a98c4",
            "782e312761c04aa49e512a5f4b170889",
            "30f7ac56326f4f63827f31406e763c23",
            "2c1e0fab509b4e51b7a84effae4c3a5e",
            "e4ba8c9cec364b9cb4bb3f0d42ae259d",
            "40f10cbb99c344688c0021d6565942a8",
            "3a90eac2d4704085be643b2ecf95693f",
            "dd5678c69e5c44c5a29ddf740341205f",
            "cd5f422f5f904f428487fa4f81f903f5",
            "729a28cc2c7845dea85483edeaccc8d3",
            "98077ccada0d42b7b79396047744c43f",
            "e73a21e86f424d99add0a19d18db3e20",
            "ad587e5bca194109ad83a15596a26f72",
            "4d781b7aa76e472c8650662af881de6c",
            "bf1cd7cfdc7d46d9a6001ffcd1992dba",
            "cb3bb600369f4c04b89914bef3802cb8",
            "3d273328d04f4426b21b33ef599d364d",
            "db3e7e02404749a999355b2081266633",
            "d8d0a84588d547f8b49763791932fb94",
            "9f6710dd15e2450e838c89f4e8d6fd86",
            "f3a40baca3dc4a228147d3cf7361f7b4",
            "f967a6c8862347a7ba55c5260a83ee3a",
            "3af72954e58140a9b658039152137936",
            "a19217ea618c444ca355d3ec19e09cc4",
            "5d20500e3ad54fd1bdc56d873beb4d3d",
            "09de8ca2e671482cadeb37c80a06eabe"
          ]
        },
        "id": "weexd60W6QyW",
        "outputId": "0398fc2b-fa3f-4334-fdfa-7ded5c1217d9"
      },
      "execution_count": 10,
      "outputs": [
        {
          "output_type": "display_data",
          "data": {
            "text/plain": [
              "Downloading (…)solve/main/vocab.txt:   0%|          | 0.00/258k [00:00<?, ?B/s]"
            ],
            "application/vnd.jupyter.widget-view+json": {
              "version_major": 2,
              "version_minor": 0,
              "model_id": "6191849758ee48bb80e52d1e8e156028"
            }
          },
          "metadata": {}
        },
        {
          "output_type": "display_data",
          "data": {
            "text/plain": [
              "Downloading (…)in/added_tokens.json:   0%|          | 0.00/2.00 [00:00<?, ?B/s]"
            ],
            "application/vnd.jupyter.widget-view+json": {
              "version_major": 2,
              "version_minor": 0,
              "model_id": "f150b90a3b684f0c822371272c63e109"
            }
          },
          "metadata": {}
        },
        {
          "output_type": "display_data",
          "data": {
            "text/plain": [
              "Downloading (…)cial_tokens_map.json:   0%|          | 0.00/112 [00:00<?, ?B/s]"
            ],
            "application/vnd.jupyter.widget-view+json": {
              "version_major": 2,
              "version_minor": 0,
              "model_id": "a31206944e6b43b4a70b7777807be89f"
            }
          },
          "metadata": {}
        },
        {
          "output_type": "display_data",
          "data": {
            "text/plain": [
              "Downloading (…)okenizer_config.json:   0%|          | 0.00/241 [00:00<?, ?B/s]"
            ],
            "application/vnd.jupyter.widget-view+json": {
              "version_major": 2,
              "version_minor": 0,
              "model_id": "58b1d3b9c142422bad0f51b96422001f"
            }
          },
          "metadata": {}
        },
        {
          "output_type": "display_data",
          "data": {
            "text/plain": [
              "Downloading (…)lve/main/config.json:   0%|          | 0.00/730 [00:00<?, ?B/s]"
            ],
            "application/vnd.jupyter.widget-view+json": {
              "version_major": 2,
              "version_minor": 0,
              "model_id": "e4ba8c9cec364b9cb4bb3f0d42ae259d"
            }
          },
          "metadata": {}
        },
        {
          "output_type": "stream",
          "name": "stderr",
          "text": [
            "The tokenizer class you load from this checkpoint is not the same type as the class this function is called from. It may result in unexpected tokenization. \n",
            "The tokenizer class you load from this checkpoint is 'BertTokenizer'. \n",
            "The class this function is called from is 'BertJapaneseTokenizer'.\n"
          ]
        },
        {
          "output_type": "display_data",
          "data": {
            "text/plain": [
              "Downloading pytorch_model.bin:   0%|          | 0.00/443M [00:00<?, ?B/s]"
            ],
            "application/vnd.jupyter.widget-view+json": {
              "version_major": 2,
              "version_minor": 0,
              "model_id": "cb3bb600369f4c04b89914bef3802cb8"
            }
          },
          "metadata": {}
        }
      ]
    },
    {
      "cell_type": "markdown",
      "metadata": {
        "id": "2pv_MAKdoGBl"
      },
      "source": [
        "### 文の分散表現の計算方法の定義\n",
        "\n",
        "与えられた文を、文の分散表現に変換する関数 get_sentence_vector を定義します。  \n",
        "今回採用した文の分散表現の計算方法は次の通りです。\n",
        "\n",
        "1. 正規化を行う。\n",
        "2. 1の文をSentence-BERTを用いて文の分散表現を計算する。"
      ]
    },
    {
      "cell_type": "code",
      "metadata": {
        "id": "Ma_zbpNLhpdU"
      },
      "source": [
        "def get_sentence_vector(sentence):\n",
        "    sentence = normalize_text(sentence)\n",
        "    return model.encode([sentence])[0].numpy()"
      ],
      "execution_count": 11,
      "outputs": []
    },
    {
      "cell_type": "markdown",
      "metadata": {
        "id": "f6btSEuxonNr"
      },
      "source": [
        "試しに文ベクトルを計算してみます。"
      ]
    },
    {
      "cell_type": "code",
      "metadata": {
        "id": "pCuGmYnRhsTb",
        "colab": {
          "base_uri": "https://localhost:8080/"
        },
        "outputId": "9b3b60e9-2e85-49b4-a847-4a23dcee313b"
      },
      "source": [
        "get_sentence_vector(\"与えられた文から文の分散表現を計算します。\")"
      ],
      "execution_count": 12,
      "outputs": [
        {
          "output_type": "execute_result",
          "data": {
            "text/plain": [
              "array([-9.07196224e-01,  5.25513351e-01, -1.59523058e+00, -1.04668450e+00,\n",
              "       -7.37658381e-01,  4.52362716e-01, -3.74935150e-01,  2.58568466e-01,\n",
              "        2.98398174e-03,  6.77360892e-01,  9.50184345e-01,  1.24125116e-01,\n",
              "       -6.43323541e-01,  5.91423884e-02, -1.96929872e-01, -1.85807660e-01,\n",
              "        8.88432004e-03,  4.27623928e-01,  5.24863675e-02,  9.10040796e-01,\n",
              "        1.22919559e+00,  2.63807505e-01,  1.04527020e+00,  3.72871943e-02,\n",
              "        4.92841989e-01, -1.20458588e-01, -1.69820607e-01, -1.04896462e+00,\n",
              "       -1.72845647e-02, -2.08393663e-01, -5.23855209e-01, -2.50867140e-02,\n",
              "       -9.69365299e-01, -5.82301259e-01,  2.11963654e-01,  6.73911691e-01,\n",
              "        6.10183060e-01, -6.55089140e-01, -2.06699744e-01,  4.44268286e-01,\n",
              "       -1.11041689e+00, -6.15053117e-01, -4.94100749e-01, -4.03978564e-02,\n",
              "        6.49145022e-02,  2.19064808e+00, -4.47672307e-02,  4.31178153e-01,\n",
              "       -2.18916655e-01,  4.08493042e-01,  8.20284784e-01, -1.19899780e-01,\n",
              "       -6.76332176e-01,  4.63532478e-01, -5.94914913e-01, -1.66402483e+00,\n",
              "        6.22235537e-01,  5.45216680e-01,  3.88237178e-01,  1.10418987e+00,\n",
              "        1.76875877e+00,  2.78975010e-01,  3.83998424e-01, -4.18723553e-01,\n",
              "        8.28598857e-01,  1.33931661e+00,  2.86034137e-01, -7.23070726e-02,\n",
              "       -2.17371628e-01, -8.78596783e-01,  7.43930697e-01, -3.77970994e-01,\n",
              "        1.61472067e-01, -7.97976792e-01,  6.58996940e-01, -1.33330822e+00,\n",
              "        4.65404212e-01,  2.03922272e-01,  5.37955582e-01,  3.69814456e-01,\n",
              "       -6.54049516e-01, -6.34420037e-01, -5.00511765e-01,  4.39475030e-01,\n",
              "       -1.25413183e-02, -2.47221529e-01,  3.54281902e-01, -5.90043306e-01,\n",
              "        1.00489475e-01,  7.08999336e-02, -1.74415618e-01, -4.99140471e-04,\n",
              "        5.97545266e-01,  6.52022719e-01,  1.06281471e+00, -7.52655745e-01,\n",
              "        1.26731366e-01, -1.77671909e-01,  4.10523117e-01,  1.04076064e+00,\n",
              "        1.05852224e-01,  7.38444924e-03,  2.29326963e-01, -8.15810800e-01,\n",
              "        7.23029077e-01,  6.09212220e-01, -1.92747116e-01, -1.78120330e-01,\n",
              "        5.47897816e-01,  5.63208640e-01,  8.88190866e-01,  1.99953660e-01,\n",
              "       -4.60225344e-01, -5.17429113e-01, -6.48109555e-01,  3.82182240e-01,\n",
              "       -3.48350376e-01,  7.08460033e-01, -1.11640537e+00,  4.33232576e-01,\n",
              "       -4.27813977e-01, -1.39590251e+00, -2.84753680e-01,  4.17303056e-01,\n",
              "        4.06429261e-01, -2.39876106e-01,  1.03405273e+00, -1.97220773e-01,\n",
              "       -1.49579382e+00,  8.67634416e-02,  5.27263463e-01, -7.52281785e-01,\n",
              "        1.60349393e+00,  4.12234366e-01,  7.61780143e-02, -4.33750570e-01,\n",
              "       -2.57082403e-01,  1.37599036e-01,  9.65543985e-01, -1.09309506e+00,\n",
              "        8.20827961e-01, -6.72994256e-02,  2.09162086e-01,  1.30472183e-01,\n",
              "        3.17252994e-01, -1.26128638e+00, -4.91245985e-01,  3.73598158e-01,\n",
              "        1.29254007e+00, -8.46096754e-01, -8.04435670e-01, -4.04113710e-01,\n",
              "       -3.43439877e-01, -9.63762701e-01, -4.50975180e-01, -3.51417422e-01,\n",
              "       -1.20464909e+00,  4.55521137e-01,  1.14177167e+00,  3.00030112e-01,\n",
              "       -5.20557761e-01,  6.80268347e-01,  8.05375040e-01, -5.09819448e-01,\n",
              "        2.35353529e-01, -4.59986210e-01, -2.11792052e-01, -2.72063196e-01,\n",
              "        2.33162090e-01, -4.72087860e-01, -9.22334790e-01, -1.05478831e-01,\n",
              "       -7.36876369e-01, -8.64198580e-02,  7.86904871e-01, -9.94950771e-01,\n",
              "       -2.84895450e-02, -6.93926036e-01,  6.26218259e-01, -3.11980426e-01,\n",
              "        2.25551307e-01,  6.89163148e-01, -4.04719174e-01, -1.49681616e+00,\n",
              "       -1.88228235e-01, -4.62341905e-01, -3.80846977e-01, -1.17688191e+00,\n",
              "       -1.56781662e+00, -2.68780708e-01, -8.84119034e-01,  7.49075770e-01,\n",
              "       -5.28386950e-01,  3.60597074e-01,  2.80413479e-01, -5.22125006e-01,\n",
              "        1.22106910e-01, -2.36034244e-01,  7.63072670e-01,  9.47031021e-01,\n",
              "       -6.77228272e-01,  3.89193654e-01,  1.38344288e+00,  6.22226596e-02,\n",
              "       -5.47395289e-01,  9.07110572e-01, -9.97014791e-02, -7.97859728e-01,\n",
              "       -1.59527391e-01,  1.49312258e-01, -3.97903562e-01,  4.33062851e-01,\n",
              "        2.02583209e-01, -3.25175852e-01, -5.09444810e-02,  7.54548162e-02,\n",
              "       -3.71624708e-01, -1.13312252e-01, -6.62589967e-02,  1.51823282e+00,\n",
              "       -5.31028509e-01, -1.30167693e-01, -3.76846910e-01,  4.47170615e-01,\n",
              "       -7.92455018e-01,  7.15548456e-01, -1.07801580e+00,  6.33113682e-02,\n",
              "        1.36472374e-01,  3.84305716e-01, -8.33884031e-02, -8.96102250e-01,\n",
              "       -5.58376431e-01, -4.40142989e-01,  4.64019984e-01,  6.83354616e-01,\n",
              "        8.81026268e-01,  8.04078341e-01,  8.89922619e-01, -3.71467859e-01,\n",
              "        3.20711941e-01, -9.68627393e-01, -5.38455963e-01,  9.69836116e-01,\n",
              "        4.72280800e-01, -5.21486819e-01, -1.14990354e+00,  7.64390886e-01,\n",
              "        9.28868532e-01, -4.62333113e-01,  1.47214007e+00,  1.00898623e+00,\n",
              "        2.72561032e-02, -3.36002439e-01,  3.66185486e-01, -8.30030084e-01,\n",
              "        8.32708597e-01, -2.09327608e-01,  5.41114271e-01,  5.58961742e-03,\n",
              "       -1.20040977e+00,  1.61149883e+00,  1.34499460e-01, -9.66454268e-01,\n",
              "       -4.99877989e-01, -1.32097936e+00, -1.03940845e+00,  5.52606821e-01,\n",
              "       -1.08305722e-01,  5.09728074e-01,  1.51706231e+00,  5.65819025e-01,\n",
              "       -7.06211269e-01, -8.77725601e-01, -3.38927746e-01, -1.18889236e+00,\n",
              "        8.26294899e-01, -9.32000577e-02, -9.20488477e-01, -5.32240570e-01,\n",
              "       -5.78518271e-01, -1.56149375e+00,  3.84274982e-02, -7.07243383e-03,\n",
              "        4.44644362e-01,  8.62920403e-01, -5.82101583e-01, -4.79684293e-01,\n",
              "        1.04398060e+00,  2.68124610e-01, -1.96507528e-01,  3.03506315e-01,\n",
              "        4.23453718e-01,  9.64615881e-01,  7.58222103e-01, -1.37391770e+00,\n",
              "        6.99703813e-01,  7.45817423e-01, -2.27857277e-01, -1.11903811e+00,\n",
              "        4.21699792e-01, -5.87747157e-01, -8.03090870e-01, -8.35998058e-01,\n",
              "        2.31257975e-01,  6.04063988e-01,  1.58183143e-01,  5.91421068e-01,\n",
              "        7.18782961e-01,  5.93082644e-02, -9.41929460e-01,  1.84901607e+00,\n",
              "       -4.49634157e-03, -3.45709175e-01, -4.79613394e-01, -7.32970357e-01,\n",
              "       -6.14773273e-01,  2.41394460e-01,  9.77210626e-02,  2.89959639e-01,\n",
              "       -7.49130547e-03,  2.59449571e-01, -9.21000659e-01, -3.90978038e-01,\n",
              "       -2.08326310e-01, -2.68733799e-02, -4.99255896e-01, -3.37404311e-02,\n",
              "       -4.79077071e-01, -1.34624034e-01, -8.06932151e-01,  6.82987049e-02,\n",
              "        1.02824450e-01, -9.73080620e-02, -1.13443828e+00, -7.83867687e-02,\n",
              "       -3.99807692e-01,  1.55589724e+00,  8.23544383e-01, -7.23735690e-02,\n",
              "        2.96907753e-01,  5.02331376e-01,  1.59755015e+00,  8.17153096e-01,\n",
              "       -1.29715455e+00, -5.46355367e-01, -2.06396967e-01, -6.14401102e-01,\n",
              "        4.10500944e-01,  5.43019652e-01,  3.34415674e-01,  1.60041928e-01,\n",
              "        2.94566691e-01, -7.26608872e-01, -2.33408391e-01, -2.81374276e-01,\n",
              "        2.52604783e-01, -8.75986993e-01, -1.38904631e+00, -4.42437172e-01,\n",
              "       -2.63868004e-01,  7.06737161e-01,  4.53020155e-01, -2.73108240e-02,\n",
              "        3.36587951e-02,  1.37586355e+00, -1.20362246e+00, -1.05631031e-01,\n",
              "        1.35400903e+00,  5.71197212e-01, -1.90114364e-01, -7.78795123e-01,\n",
              "        9.19416249e-01,  2.91699916e-02,  9.01943445e-01,  3.84946465e-01,\n",
              "       -7.71585226e-01, -2.89146334e-01, -1.03177178e+00, -2.98036076e-02,\n",
              "       -7.87526608e-01, -1.89786553e-01,  1.34823602e-02, -2.08486885e-01,\n",
              "       -4.37451899e-01, -6.64089397e-02, -1.04146540e+00, -1.50142759e-01,\n",
              "       -7.16185451e-01,  9.59680855e-01,  9.59744394e-01,  5.08014932e-02,\n",
              "       -1.04447746e+00, -6.37518406e-01,  3.66442293e-01, -3.82722348e-01,\n",
              "        1.31906366e+00,  1.45001322e-01, -6.41281903e-01, -5.98728955e-01,\n",
              "        7.02861190e-01, -8.84651363e-01,  1.25727281e-01, -3.80322725e-01,\n",
              "        8.64818573e-01, -2.33579904e-01, -2.71141291e-01,  6.46023810e-01,\n",
              "        4.02888715e-01,  6.42238975e-01, -3.75312209e-01,  2.64487863e-01,\n",
              "        3.90019625e-01, -1.21106613e+00, -8.53012562e-01, -4.00401622e-01,\n",
              "       -6.11693636e-02, -1.38907328e-01, -8.29428554e-01,  6.55081630e-01,\n",
              "       -9.51450467e-01, -4.88160729e-01,  3.53119195e-01, -5.24570495e-02,\n",
              "       -3.22272867e-01,  4.67263460e-02, -2.66492426e-01, -6.36002839e-01,\n",
              "       -6.55411422e-01,  4.32623625e-01, -3.66127849e-01, -8.58402967e-01,\n",
              "       -6.70050144e-01,  6.54443443e-01,  9.39720750e-01,  6.13246799e-01,\n",
              "       -6.15882814e-01, -1.92913860e-01, -6.57639444e-01,  2.21031383e-01,\n",
              "       -8.24141383e-01,  4.13941860e-01, -7.74653256e-02, -2.64516547e-02,\n",
              "       -2.43779749e-01, -5.37126124e-01,  2.61405706e-01,  7.12725595e-02,\n",
              "        2.72264272e-01, -5.79714358e-01, -4.35480684e-01, -1.55102730e-01,\n",
              "       -5.11490554e-02, -3.90105456e-01,  2.97166288e-01,  9.47196722e-01,\n",
              "        3.97567272e-01,  2.41587982e-02,  4.95178193e-01,  1.46718562e-01,\n",
              "       -8.70133750e-03, -4.99540508e-01, -1.60992160e-01, -9.78317335e-02,\n",
              "       -7.46041462e-02, -3.34506094e-01,  2.28781745e-01,  2.35305548e-01,\n",
              "        9.51480031e-01, -7.77014196e-01,  7.80179679e-01,  1.57984090e+00,\n",
              "       -5.26371479e-01,  1.25462103e+00,  2.80732691e-01,  4.43962291e-02,\n",
              "        1.07033157e+00,  7.17213750e-01,  2.78862685e-01,  1.43552089e+00,\n",
              "       -5.92890859e-01, -9.66829240e-01,  1.11776209e+00, -9.05957222e-01,\n",
              "       -7.06286073e-01,  2.52632380e-01, -5.22683203e-01,  7.01993942e-01,\n",
              "        7.04334602e-02, -1.70127787e-02, -1.37859344e-01, -6.69846237e-01,\n",
              "       -7.12336421e-01,  9.76878047e-01,  4.38317180e-01,  3.72829199e-01,\n",
              "        2.29631126e-01,  6.98538125e-01, -1.48972106e+00, -1.41212225e+00,\n",
              "        2.14935303e-01, -6.88571334e-01, -1.72185290e+00,  2.53046870e-01,\n",
              "       -3.02859209e-03,  4.17283952e-01,  1.19032490e+00, -4.82820541e-01,\n",
              "        1.04584193e+00,  5.50280452e-01, -5.47212474e-02, -3.44869375e-01,\n",
              "        4.13041681e-01,  7.17265829e-02,  1.14189672e+00,  1.35872424e-01,\n",
              "        3.00453156e-01, -5.30894041e-01, -6.11331165e-01, -6.56886518e-01,\n",
              "        4.44537282e-01,  3.02312195e-01, -1.34964788e+00, -1.83089995e+00,\n",
              "       -5.16354203e-01, -2.99865663e-01, -1.09082103e-01, -2.51416862e-01,\n",
              "       -6.98639154e-02, -3.27998579e-01, -6.69999719e-02,  2.97183171e-03,\n",
              "        4.61453721e-02,  1.45824528e+00, -1.64550841e-01,  7.58643985e-01,\n",
              "        3.25558513e-01,  1.11705029e+00, -1.18035421e-01,  1.24238849e+00,\n",
              "       -2.52014101e-01, -3.23497593e-01, -9.84797716e-01, -3.76876295e-01,\n",
              "       -3.48661751e-01, -9.55702513e-02,  1.05267361e-01,  6.79741859e-01,\n",
              "       -2.93264240e-01, -1.89829624e+00, -2.47145697e-01, -1.78762645e-01,\n",
              "        3.69977713e-01,  2.16267228e-01,  1.26924825e+00,  4.06532496e-01,\n",
              "        4.88776833e-01,  8.36691439e-01,  9.23246801e-01, -1.40163875e+00,\n",
              "       -2.69862443e-01, -4.24704142e-02, -1.81636512e-01, -1.93907544e-02,\n",
              "       -3.63157660e-01,  1.76846147e-01, -6.43755913e-01,  1.99969962e-01,\n",
              "       -1.64425835e-01, -6.70315087e-01, -6.61143124e-01,  1.20270122e-02,\n",
              "        1.39845943e+00,  2.21703023e-01, -2.03347430e-01,  9.53289270e-02,\n",
              "        2.45665878e-01,  3.33943188e-01, -3.74676675e-01,  6.78302288e-01,\n",
              "        4.22626019e-01, -9.09727216e-01,  2.07999438e-01,  6.46251142e-01,\n",
              "        1.32585812e+00,  1.41039103e-01,  1.81187332e-01,  5.26488386e-02,\n",
              "        7.92731404e-01, -5.42079270e-01, -2.66619563e-01, -7.42817700e-01,\n",
              "       -6.22059584e-01,  2.95068651e-01, -6.77054405e-01,  2.11505547e-01,\n",
              "       -9.46457312e-02,  7.47170448e-01,  5.20388484e-01,  7.96892941e-01,\n",
              "       -1.03603733e+00, -2.24182114e-01,  8.16948533e-01,  9.47708488e-01,\n",
              "        4.45876390e-01,  8.44527721e-01,  1.41677126e-01, -3.47409099e-01,\n",
              "        1.40858686e+00,  1.51123476e+00, -2.78107107e-01,  5.30136526e-02,\n",
              "        1.08853243e-01, -6.85754657e-01, -4.33541477e-01, -5.73527992e-01,\n",
              "        6.82092547e-01,  3.87436652e+00,  2.40874887e-01,  3.59275758e-01,\n",
              "        3.47017407e-01,  7.77949333e-01,  3.54132384e-01,  3.57003212e-01,\n",
              "       -4.32151586e-01,  3.30904871e-01,  4.70302105e-01,  3.61046568e-03,\n",
              "        5.77266216e-01,  6.56525552e-01,  6.60118580e-01, -5.86038865e-02,\n",
              "        1.18016809e-01,  1.53856397e-01,  1.73746869e-01,  7.44776279e-02,\n",
              "        2.32327469e-02, -1.46894932e+00,  5.11907339e-01, -5.32879420e-02,\n",
              "        2.04985708e-01,  9.17958498e-01,  6.66858032e-02, -1.40740561e+00,\n",
              "        1.12746930e+00,  2.67345458e-01, -9.62009668e-01,  5.61351657e-01,\n",
              "       -7.04221964e-01,  2.30784997e-01,  1.90473661e-01,  6.35004342e-01,\n",
              "        6.11779988e-01, -2.22828448e-01, -4.19349223e-01, -1.32315606e-01,\n",
              "        3.16109836e-01, -3.59017670e-01,  1.10943294e+00,  6.45069718e-01,\n",
              "       -1.97521895e-01,  7.58598506e-01, -2.68673360e-01,  1.36004853e+00,\n",
              "       -7.10319638e-01, -9.40706849e-01, -8.07601929e-01,  6.86014295e-02,\n",
              "        9.51894820e-02,  9.58141685e-01,  1.76265562e+00, -3.03162515e-01,\n",
              "        4.25724313e-03,  1.14187814e-01,  1.40171558e-01, -1.45872140e+00,\n",
              "       -1.06297994e+00, -1.19455051e+00,  7.45509446e-01,  1.68344215e-01,\n",
              "        9.72283721e-01,  9.67947841e-01, -1.75423831e-01,  5.49903572e-01,\n",
              "       -6.57224536e-01, -3.44388306e-01, -7.24787414e-01,  1.15853453e+00,\n",
              "       -1.10041714e+00, -5.83044469e-01, -3.13164979e-01,  4.26296681e-01,\n",
              "        1.58652282e+00,  4.74717259e-01,  3.92290384e-01,  4.24212664e-01,\n",
              "        2.57469624e-01, -6.99686527e-01, -7.26174533e-01,  6.47635579e-01,\n",
              "        6.08678997e-01, -1.62950400e-02, -3.44457984e-01, -1.79395184e-01,\n",
              "       -1.19854353e-01,  7.72854149e-01, -3.19424570e-01,  7.75444806e-01,\n",
              "        4.72309589e-01, -4.18298170e-02,  3.25933814e-01,  8.42086077e-01,\n",
              "        9.70998049e-01,  2.64360428e-01,  2.32165352e-01, -8.07780027e-03,\n",
              "        2.45903820e-01, -1.55162799e+00,  1.24258690e-01, -8.30604196e-01,\n",
              "        6.39448687e-02,  4.67584938e-01,  4.54716682e-01,  1.65489733e-01,\n",
              "       -2.30606854e-01, -1.69386196e+00, -6.70910656e-01,  3.09009492e-01,\n",
              "        1.01871610e+00,  4.86127555e-01, -5.51107347e-01,  1.05263126e+00,\n",
              "       -3.82871866e-01, -4.84713435e-01,  1.68787315e-01,  7.99815536e-01,\n",
              "        4.21715975e-01,  3.65630507e-01,  5.36288500e-01, -6.90327406e-01,\n",
              "        1.29311949e-01,  2.15406597e-01, -2.46199191e-01, -6.62897110e-01,\n",
              "        1.13298178e-01, -7.22847998e-01,  9.01581168e-01,  6.73586488e-01,\n",
              "       -4.46720421e-01,  1.14401174e+00,  3.83407593e-01, -3.05291116e-01,\n",
              "       -5.26917219e-01,  1.58556712e+00, -1.59113550e+00, -2.16863811e-01,\n",
              "       -4.17958833e-02,  5.48777223e-01, -3.79388928e-01, -2.52268780e-02,\n",
              "       -6.96324944e-01, -6.35497689e-01, -7.59641349e-01, -7.46001661e-01,\n",
              "       -1.20387837e-01, -1.19225240e+00, -8.71068835e-01, -3.44997644e-01],\n",
              "      dtype=float32)"
            ]
          },
          "metadata": {},
          "execution_count": 12
        }
      ]
    },
    {
      "cell_type": "markdown",
      "metadata": {
        "id": "GFMXDGYeoqNB"
      },
      "source": [
        "## 説明文の分散表現の計算実行\n",
        "\n",
        "画像メタデータに説明文の分散表現を追加します。"
      ]
    },
    {
      "cell_type": "code",
      "metadata": {
        "id": "jxi0CKEwhudM",
        "colab": {
          "base_uri": "https://localhost:8080/"
        },
        "outputId": "e2f87cce-b47a-459e-9ce0-dfccb0ca11d1"
      },
      "source": [
        "from tqdm import tqdm\n",
        "for item in tqdm(items):\n",
        "    desc = item[\"desc\"]\n",
        "    desc_vec = get_sentence_vector(desc)\n",
        "    item[\"vec\"] = desc_vec"
      ],
      "execution_count": 13,
      "outputs": [
        {
          "output_type": "stream",
          "name": "stderr",
          "text": [
            "100%|██████████| 24995/24995 [05:10<00:00, 80.62it/s]\n"
          ]
        }
      ]
    },
    {
      "cell_type": "markdown",
      "metadata": {
        "id": "bs8RGc3omSWu"
      },
      "source": [
        "## コサイン類似度の定義\n",
        "\n",
        "今回は、文の意味の近さを、文の分散表現のコサイン類似度によって測ります。  \n",
        "文の意味が近ければ、文の分散表現（ベクトル）v1とv2が近くなるという定性的性質を、ベクトルの成す角のcosによって測るということです。"
      ]
    },
    {
      "cell_type": "code",
      "metadata": {
        "id": "Offh5t0egMMf"
      },
      "source": [
        "import numpy as np\n",
        "\n",
        "def cos_sim(v1, v2):\n",
        "    v1 = v1 / np.linalg.norm(v1, axis=0, ord=2)\n",
        "    v2 = v2 / np.linalg.norm(v2, axis=0, ord=2)\n",
        "    return np.sum(v1 * v2)"
      ],
      "execution_count": 14,
      "outputs": []
    },
    {
      "cell_type": "markdown",
      "metadata": {
        "id": "Qc4hRErho2Hg"
      },
      "source": [
        "## 画像検索結果GUIの定義\n",
        "\n",
        "最後のステップです。画像を検索する関数を定義します。  \n",
        "いままで作った関数を使えば、次の処理からなる検索アルゴリズム（最初の図も参照）を簡単に実装できますね。  \n",
        "\n",
        "1. 与えられた文から文の分散表現を計算する。\n",
        "2. その分散表現と、説明文の分散表現の間のコサイン類似度を計算する。\n",
        "3. コサイン類似度の高い順に画像の関連情報を表示する。\n",
        "\n",
        "**※なお「いらすとや」さんの広告収入モデルに悪影響を与えないよう、必ず「いらすとや」さんのページへのリンクを張り、画像のダウンロードは「いらすとや」さんのページから行うようにしましょう。その他、[「いらすとや」さんの利用規約](https://www.irasutoya.com/p/terms.html)に違反しないよう十分ご注意ください。**\n"
      ]
    },
    {
      "cell_type": "code",
      "metadata": {
        "id": "DERnyNfUhzuw"
      },
      "source": [
        "from IPython.display import display, HTML, clear_output\n",
        "from html import escape\n",
        "import numpy as np\n",
        "\n",
        "def search_irasuto(sentence, top_n=3):\n",
        "    sentence_vector = get_sentence_vector(sentence)\n",
        "    sims = []\n",
        "    if sentence_vector is None:\n",
        "        print(\"検索できない文章です。もう少し文章を長くしてみてください。\")\n",
        "    else:\n",
        "        for item in items:\n",
        "            v = item[\"vec\"]\n",
        "            if v is None:\n",
        "                sims.append(-1.0)\n",
        "            else:\n",
        "                sim = cos_sim(sentence_vector, v)\n",
        "                sims.append(sim)\n",
        "    \n",
        "    count = 0\n",
        "    for index in np.argsort(sims)[::-1]:\n",
        "        if count >= top_n:\n",
        "            break\n",
        "        item = items[index]\n",
        "        desc = escape(item[\"desc\"])\n",
        "        imgs = item[\"imgs\"]\n",
        "        if len(imgs) == 0:\n",
        "            continue\n",
        "        img = imgs[0]\n",
        "        page = item[\"page\"]\n",
        "        sim = sims[index]\n",
        "        display(HTML(\"<div><a href='\" + page + \"' target='_blank' rel='noopener noreferrer'><img src='\" + img + \"' width='100'>\" + str(sim) + \": \" + desc + \"</a><div>\"))\n",
        "        count += 1"
      ],
      "execution_count": 15,
      "outputs": []
    },
    {
      "cell_type": "markdown",
      "metadata": {
        "id": "Sf2zNh0_pICu"
      },
      "source": [
        "## アプリの動作確認\n",
        "\n",
        "さあ、これでアルゴリズムは完成しました。早速、試してみましょう。  "
      ]
    },
    {
      "cell_type": "code",
      "metadata": {
        "id": "yKIhqhnBh3U6",
        "colab": {
          "base_uri": "https://localhost:8080/",
          "height": 568
        },
        "outputId": "4723a2b5-74ee-481c-803e-9df268b95259"
      },
      "source": [
        "search_irasuto(sentence=\"暴走したAI\", top_n=5)"
      ],
      "execution_count": 16,
      "outputs": [
        {
          "output_type": "display_data",
          "data": {
            "text/plain": [
              "<IPython.core.display.HTML object>"
            ],
            "text/html": [
              "<div><a href='https://www.irasutoya.com/2018/01/ai_67.html' target='_blank' rel='noopener noreferrer'><img src='https://3.bp.blogspot.com/-C2s0Odthnhs/WlGpE022cNI/AAAAAAABJkQ/O3rwM1BtFtYUkf83QIarn9eiHA7jLgHSwCLcBGAs/s400/ai_heart_kokoro.png' width='100'>0.61351734: 感情を持ってしまったAI（人工知能）のイラストです。</a><div>"
            ]
          },
          "metadata": {}
        },
        {
          "output_type": "display_data",
          "data": {
            "text/plain": [
              "<IPython.core.display.HTML object>"
            ],
            "text/html": [
              "<div><a href='https://www.irasutoya.com/2018/01/ai_24.html' target='_blank' rel='noopener noreferrer'><img src='https://1.bp.blogspot.com/-_8SYZZElKrs/WlGpFpPYlHI/AAAAAAABJkY/f2nT1BHBhUMzI_iztmoUPpLZdbl5TDENwCLcBGAs/s400/ai_vs_ai_fight.png' width='100'>0.58708584: AI（人工知能）のキャラクター同士で戦っているイラストです。</a><div>"
            ]
          },
          "metadata": {}
        },
        {
          "output_type": "display_data",
          "data": {
            "text/plain": [
              "<IPython.core.display.HTML object>"
            ],
            "text/html": [
              "<div><a href='https://www.irasutoya.com/2018/03/ai_23.html' target='_blank' rel='noopener noreferrer'><img src='https://1.bp.blogspot.com/-fyYoL91_tQo/Wp0Nn-VLocI/AAAAAAABKiI/3J2ywEvlbwIhjFNsmF8qpluPOg2it_HAQCLcBGAs/s450/ai_kanabou_buki.png' width='100'>0.523677: 人類に反乱を起こそうと企てているAI（人工知能）のキャラクターです。</a><div>"
            ]
          },
          "metadata": {}
        },
        {
          "output_type": "display_data",
          "data": {
            "text/plain": [
              "<IPython.core.display.HTML object>"
            ],
            "text/html": [
              "<div><a href='https://www.irasutoya.com/2018/08/blog-post_828.html' target='_blank' rel='noopener noreferrer'><img src='https://2.bp.blogspot.com/-PHW69E8l4DE/W2aRKUoipoI/AAAAAAABN2k/zRj1nHf71DgPbFtA7IiI8UVPrCSqpS69ACLcBGAs/s550/ai_oinukareru_singularity.png' width='100'>0.4921878: 人工知能（AI）が人類の知性を超え、さらに予測のできない無限の進化をし始めるといわれる段階を表す、シンギュラリティ（技術的特異点）のイラストです。</a><div>"
            ]
          },
          "metadata": {}
        },
        {
          "output_type": "display_data",
          "data": {
            "text/plain": [
              "<IPython.core.display.HTML object>"
            ],
            "text/html": [
              "<div><a href='https://www.irasutoya.com/2016/12/blog-post_607.html' target='_blank' rel='noopener noreferrer'><img src='https://2.bp.blogspot.com/--RIb-pd-Kdg/WFtH6Um3jmI/AAAAAAABAmQ/wRiSA1kKc8MBYEaEonmSbwB2UZAaiwhwACLcB/s400/ai_kenka.png' width='100'>0.46610975: 人工知能（AI）のキャラクターと人間がつかみ合いの喧嘩をしているイラストです。</a><div>"
            ]
          },
          "metadata": {}
        }
      ]
    },
    {
      "cell_type": "code",
      "metadata": {
        "id": "CI-7oNwlh-zK",
        "colab": {
          "base_uri": "https://localhost:8080/",
          "height": 470
        },
        "outputId": "ac90e0dd-21d6-44ca-f5c9-4d3dcad6c32f"
      },
      "source": [
        "search_irasuto(sentence=\"リモートワークで勉強会\", top_n=5)"
      ],
      "execution_count": 17,
      "outputs": [
        {
          "output_type": "display_data",
          "data": {
            "text/plain": [
              "<IPython.core.display.HTML object>"
            ],
            "text/html": [
              "<div><a href='https://www.irasutoya.com/2017/10/e_20.html' target='_blank' rel='noopener noreferrer'><img src='https://1.bp.blogspot.com/-7UuDOn6CFRY/Wc8fntN-PQI/AAAAAAABHHM/FXmIHaakG3ALVyGuN2x4CVzsomhk0r5SwCLcBGAs/s400/internet_school_e-learning_foreign_woman.png' width='100'>0.58582914: オンラインで受けられる英語の授業（講義・ウェブセミナー）がパソコンの画面に映っているイラストです。</a><div>"
            ]
          },
          "metadata": {}
        },
        {
          "output_type": "display_data",
          "data": {
            "text/plain": [
              "<IPython.core.display.HTML object>"
            ],
            "text/html": [
              "<div><a href='https://www.irasutoya.com/2018/06/e_29.html' target='_blank' rel='noopener noreferrer'><img src='https://2.bp.blogspot.com/-VMOuI_489gk/WxvJyQGGmWI/AAAAAAABMj0/TQSJlPyt55IDIHxYxV0CTdd7c6xRxNnYACLcBGAs/s450/e-learning_smartphone_man.png' width='100'>0.58071864: スマホで見れるオンライン授業（ウェブセミナー）を教えている男性講師のイラストです。</a><div>"
            ]
          },
          "metadata": {}
        },
        {
          "output_type": "display_data",
          "data": {
            "text/plain": [
              "<IPython.core.display.HTML object>"
            ],
            "text/html": [
              "<div><a href='https://www.irasutoya.com/2020/04/blog-post_250.html' target='_blank' rel='noopener noreferrer'><img src='https://1.bp.blogspot.com/-6pDrDpYKUCg/Xor0RTjWgtI/AAAAAAABYL0/-y57hak6vKEhfrtHwOashooPxNMUaYJ8ACNcBGAsYHQ/s400/online_kaigi_man.png' width='100'>0.5776582: テレワーク（在宅勤務）をしている人がパソコンやテレビを使ってWEB会議をしているイラストです。</a><div>"
            ]
          },
          "metadata": {}
        },
        {
          "output_type": "display_data",
          "data": {
            "text/plain": [
              "<IPython.core.display.HTML object>"
            ],
            "text/html": [
              "<div><a href='https://www.irasutoya.com/2017/10/e_21.html' target='_blank' rel='noopener noreferrer'><img src='https://4.bp.blogspot.com/-tU8uNcU8ZDc/Wc8fn8-YGtI/AAAAAAABHHI/YQ9cTvsXzpMSZunR3oOVzqhhGg6iKeVQQCLcBGAs/s400/internet_school_e-learning_man.png' width='100'>0.57393634: 男性講師（教師）がオンラインで講義（授業・ウェブセミナー）をしているイラストです。</a><div>"
            ]
          },
          "metadata": {}
        },
        {
          "output_type": "display_data",
          "data": {
            "text/plain": [
              "<IPython.core.display.HTML object>"
            ],
            "text/html": [
              "<div><a href='https://www.irasutoya.com/2016/04/blog-post_27.html' target='_blank' rel='noopener noreferrer'><img src='https://3.bp.blogspot.com/-MIGXSKcZfFw/VvKZBuQcj7I/AAAAAAAA5Eo/3wvlXmTWUMQZOpOd49dKNuGXLVxVpArXw/s400/juken_rounin.png' width='100'>0.5552652: ちゃんちゃんこを着て夜な夜な勉強をする、受験生（浪人生）のイラストです。</a><div>"
            ]
          },
          "metadata": {}
        }
      ]
    },
    {
      "cell_type": "code",
      "metadata": {
        "id": "v_YeSrnah5k6",
        "colab": {
          "base_uri": "https://localhost:8080/",
          "height": 642
        },
        "outputId": "a752b5b6-cf1a-4c0e-eef6-b8b6a91fb863"
      },
      "source": [
        "search_irasuto(sentence=\"いらすとやさんに惜しみない拍手を\", top_n=5)"
      ],
      "execution_count": 18,
      "outputs": [
        {
          "output_type": "display_data",
          "data": {
            "text/plain": [
              "<IPython.core.display.HTML object>"
            ],
            "text/html": [
              "<div><a href='https://www.irasutoya.com/2015/01/blog-post_999.html' target='_blank' rel='noopener noreferrer'><img src='https://4.bp.blogspot.com/-GtjTLp56u_0/VJ6XZcw50aI/AAAAAAAAqKU/4oPlYcWPNoA/s450/figure_hakusyu.png' width='100'>0.7213849: ぱちぱちと拍手をしている棒人間のイラストです。</a><div>"
            ]
          },
          "metadata": {}
        },
        {
          "output_type": "display_data",
          "data": {
            "text/plain": [
              "<IPython.core.display.HTML object>"
            ],
            "text/html": [
              "<div><a href='https://www.irasutoya.com/2015/01/blog-post_883.html' target='_blank' rel='noopener noreferrer'><img src='https://4.bp.blogspot.com/-PSd2xMIqM5M/VJ6Xcu17JhI/AAAAAAAAqLE/wSlWHEFvLIg/s400/hakusyu.png' width='100'>0.58870757: 笑顔で拍手を送っている男性のイラストです。</a><div>"
            ]
          },
          "metadata": {}
        },
        {
          "output_type": "display_data",
          "data": {
            "text/plain": [
              "<IPython.core.display.HTML object>"
            ],
            "text/html": [
              "<div><a href='https://www.irasutoya.com/2013/06/thank-you.html' target='_blank' rel='noopener noreferrer'><img src='https://2.bp.blogspot.com/-ihEGPBUkEN8/UWykjlrkseI/AAAAAAAAQkM/CDXGLrzxN3c/s400/message_thank_you.png' width='100'>0.5728079: きらきらと輝く「THANK YOU」という文字が描かれた、メッセージのイラストです。</a><div>"
            ]
          },
          "metadata": {}
        },
        {
          "output_type": "display_data",
          "data": {
            "text/plain": [
              "<IPython.core.display.HTML object>"
            ],
            "text/html": [
              "<div><a href='https://www.irasutoya.com/2015/07/blog-post_719.html' target='_blank' rel='noopener noreferrer'><img src='https://4.bp.blogspot.com/-44UxQKbXHSw/VYJrV-7l6FI/AAAAAAAAubU/9Gt4BwGF0Qk/s300/pyoko1-1_smile.png' width='100'>0.5612179: ぴょこの表情のイラスト「通常・怒った・泣いた・笑った」</a><div>"
            ]
          },
          "metadata": {}
        },
        {
          "output_type": "display_data",
          "data": {
            "text/plain": [
              "<IPython.core.display.HTML object>"
            ],
            "text/html": [
              "<div><a href='https://www.irasutoya.com/2016/05/blog-post_51.html' target='_blank' rel='noopener noreferrer'><img src='https://1.bp.blogspot.com/-yZWRaUcN7Os/VycdqEBDMZI/AAAAAAAA6Sc/vakco09cS9YY_gnsTjs58ocmvvWOE79RwCLcB/s350/hakusyu_boy1.png' width='100'>0.5601803: 男の子が拍手をしている様子を描いたイラストです。</a><div>"
            ]
          },
          "metadata": {}
        }
      ]
    },
    {
      "cell_type": "code",
      "metadata": {
        "id": "TI9ReUvOv2G0"
      },
      "source": [],
      "execution_count": 18,
      "outputs": []
    }
  ]
}