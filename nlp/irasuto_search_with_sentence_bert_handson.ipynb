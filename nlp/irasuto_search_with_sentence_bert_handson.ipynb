{
  "nbformat": 4,
  "nbformat_minor": 0,
  "metadata": {
    "colab": {
      "name": "irasuto_search_with_sentence_bert_handson.ipynb",
      "provenance": [],
      "gpuType": "T4"
    },
    "kernelspec": {
      "name": "python3",
      "display_name": "Python 3"
    },
    "accelerator": "GPU",
    "widgets": {
      "application/vnd.jupyter.widget-state+json": {
        "fe4c29c7bb2b47ca883bd07185c45c03": {
          "model_module": "@jupyter-widgets/controls",
          "model_name": "HBoxModel",
          "model_module_version": "1.5.0",
          "state": {
            "_dom_classes": [],
            "_model_module": "@jupyter-widgets/controls",
            "_model_module_version": "1.5.0",
            "_model_name": "HBoxModel",
            "_view_count": null,
            "_view_module": "@jupyter-widgets/controls",
            "_view_module_version": "1.5.0",
            "_view_name": "HBoxView",
            "box_style": "",
            "children": [
              "IPY_MODEL_3641811430324610994a200715b31c4f",
              "IPY_MODEL_4d9a89a3595d4ffeb8c6f3498fd1bc60",
              "IPY_MODEL_d6df0229829d4f2f84d6bbefc6079335"
            ],
            "layout": "IPY_MODEL_bc6046e479724b38810892eb41806e47"
          }
        },
        "3641811430324610994a200715b31c4f": {
          "model_module": "@jupyter-widgets/controls",
          "model_name": "HTMLModel",
          "model_module_version": "1.5.0",
          "state": {
            "_dom_classes": [],
            "_model_module": "@jupyter-widgets/controls",
            "_model_module_version": "1.5.0",
            "_model_name": "HTMLModel",
            "_view_count": null,
            "_view_module": "@jupyter-widgets/controls",
            "_view_module_version": "1.5.0",
            "_view_name": "HTMLView",
            "description": "",
            "description_tooltip": null,
            "layout": "IPY_MODEL_d51d04eb7a6c415eb3f68189797403e8",
            "placeholder": "​",
            "style": "IPY_MODEL_48a646580a8e4de0a82cf50854c1ee7a",
            "value": "tokenizer_config.json: 100%"
          }
        },
        "4d9a89a3595d4ffeb8c6f3498fd1bc60": {
          "model_module": "@jupyter-widgets/controls",
          "model_name": "FloatProgressModel",
          "model_module_version": "1.5.0",
          "state": {
            "_dom_classes": [],
            "_model_module": "@jupyter-widgets/controls",
            "_model_module_version": "1.5.0",
            "_model_name": "FloatProgressModel",
            "_view_count": null,
            "_view_module": "@jupyter-widgets/controls",
            "_view_module_version": "1.5.0",
            "_view_name": "ProgressView",
            "bar_style": "success",
            "description": "",
            "description_tooltip": null,
            "layout": "IPY_MODEL_9e29c73b1bfb418785f213e8263907b6",
            "max": 241,
            "min": 0,
            "orientation": "horizontal",
            "style": "IPY_MODEL_2c92dfe6048a4713a878d966332591a7",
            "value": 241
          }
        },
        "d6df0229829d4f2f84d6bbefc6079335": {
          "model_module": "@jupyter-widgets/controls",
          "model_name": "HTMLModel",
          "model_module_version": "1.5.0",
          "state": {
            "_dom_classes": [],
            "_model_module": "@jupyter-widgets/controls",
            "_model_module_version": "1.5.0",
            "_model_name": "HTMLModel",
            "_view_count": null,
            "_view_module": "@jupyter-widgets/controls",
            "_view_module_version": "1.5.0",
            "_view_name": "HTMLView",
            "description": "",
            "description_tooltip": null,
            "layout": "IPY_MODEL_3936a1f11ea5470785f3a2e24483f33d",
            "placeholder": "​",
            "style": "IPY_MODEL_01e8205127894da6abc8eb1d70e0d74a",
            "value": " 241/241 [00:00&lt;00:00, 26.8kB/s]"
          }
        },
        "bc6046e479724b38810892eb41806e47": {
          "model_module": "@jupyter-widgets/base",
          "model_name": "LayoutModel",
          "model_module_version": "1.2.0",
          "state": {
            "_model_module": "@jupyter-widgets/base",
            "_model_module_version": "1.2.0",
            "_model_name": "LayoutModel",
            "_view_count": null,
            "_view_module": "@jupyter-widgets/base",
            "_view_module_version": "1.2.0",
            "_view_name": "LayoutView",
            "align_content": null,
            "align_items": null,
            "align_self": null,
            "border": null,
            "bottom": null,
            "display": null,
            "flex": null,
            "flex_flow": null,
            "grid_area": null,
            "grid_auto_columns": null,
            "grid_auto_flow": null,
            "grid_auto_rows": null,
            "grid_column": null,
            "grid_gap": null,
            "grid_row": null,
            "grid_template_areas": null,
            "grid_template_columns": null,
            "grid_template_rows": null,
            "height": null,
            "justify_content": null,
            "justify_items": null,
            "left": null,
            "margin": null,
            "max_height": null,
            "max_width": null,
            "min_height": null,
            "min_width": null,
            "object_fit": null,
            "object_position": null,
            "order": null,
            "overflow": null,
            "overflow_x": null,
            "overflow_y": null,
            "padding": null,
            "right": null,
            "top": null,
            "visibility": null,
            "width": null
          }
        },
        "d51d04eb7a6c415eb3f68189797403e8": {
          "model_module": "@jupyter-widgets/base",
          "model_name": "LayoutModel",
          "model_module_version": "1.2.0",
          "state": {
            "_model_module": "@jupyter-widgets/base",
            "_model_module_version": "1.2.0",
            "_model_name": "LayoutModel",
            "_view_count": null,
            "_view_module": "@jupyter-widgets/base",
            "_view_module_version": "1.2.0",
            "_view_name": "LayoutView",
            "align_content": null,
            "align_items": null,
            "align_self": null,
            "border": null,
            "bottom": null,
            "display": null,
            "flex": null,
            "flex_flow": null,
            "grid_area": null,
            "grid_auto_columns": null,
            "grid_auto_flow": null,
            "grid_auto_rows": null,
            "grid_column": null,
            "grid_gap": null,
            "grid_row": null,
            "grid_template_areas": null,
            "grid_template_columns": null,
            "grid_template_rows": null,
            "height": null,
            "justify_content": null,
            "justify_items": null,
            "left": null,
            "margin": null,
            "max_height": null,
            "max_width": null,
            "min_height": null,
            "min_width": null,
            "object_fit": null,
            "object_position": null,
            "order": null,
            "overflow": null,
            "overflow_x": null,
            "overflow_y": null,
            "padding": null,
            "right": null,
            "top": null,
            "visibility": null,
            "width": null
          }
        },
        "48a646580a8e4de0a82cf50854c1ee7a": {
          "model_module": "@jupyter-widgets/controls",
          "model_name": "DescriptionStyleModel",
          "model_module_version": "1.5.0",
          "state": {
            "_model_module": "@jupyter-widgets/controls",
            "_model_module_version": "1.5.0",
            "_model_name": "DescriptionStyleModel",
            "_view_count": null,
            "_view_module": "@jupyter-widgets/base",
            "_view_module_version": "1.2.0",
            "_view_name": "StyleView",
            "description_width": ""
          }
        },
        "9e29c73b1bfb418785f213e8263907b6": {
          "model_module": "@jupyter-widgets/base",
          "model_name": "LayoutModel",
          "model_module_version": "1.2.0",
          "state": {
            "_model_module": "@jupyter-widgets/base",
            "_model_module_version": "1.2.0",
            "_model_name": "LayoutModel",
            "_view_count": null,
            "_view_module": "@jupyter-widgets/base",
            "_view_module_version": "1.2.0",
            "_view_name": "LayoutView",
            "align_content": null,
            "align_items": null,
            "align_self": null,
            "border": null,
            "bottom": null,
            "display": null,
            "flex": null,
            "flex_flow": null,
            "grid_area": null,
            "grid_auto_columns": null,
            "grid_auto_flow": null,
            "grid_auto_rows": null,
            "grid_column": null,
            "grid_gap": null,
            "grid_row": null,
            "grid_template_areas": null,
            "grid_template_columns": null,
            "grid_template_rows": null,
            "height": null,
            "justify_content": null,
            "justify_items": null,
            "left": null,
            "margin": null,
            "max_height": null,
            "max_width": null,
            "min_height": null,
            "min_width": null,
            "object_fit": null,
            "object_position": null,
            "order": null,
            "overflow": null,
            "overflow_x": null,
            "overflow_y": null,
            "padding": null,
            "right": null,
            "top": null,
            "visibility": null,
            "width": null
          }
        },
        "2c92dfe6048a4713a878d966332591a7": {
          "model_module": "@jupyter-widgets/controls",
          "model_name": "ProgressStyleModel",
          "model_module_version": "1.5.0",
          "state": {
            "_model_module": "@jupyter-widgets/controls",
            "_model_module_version": "1.5.0",
            "_model_name": "ProgressStyleModel",
            "_view_count": null,
            "_view_module": "@jupyter-widgets/base",
            "_view_module_version": "1.2.0",
            "_view_name": "StyleView",
            "bar_color": null,
            "description_width": ""
          }
        },
        "3936a1f11ea5470785f3a2e24483f33d": {
          "model_module": "@jupyter-widgets/base",
          "model_name": "LayoutModel",
          "model_module_version": "1.2.0",
          "state": {
            "_model_module": "@jupyter-widgets/base",
            "_model_module_version": "1.2.0",
            "_model_name": "LayoutModel",
            "_view_count": null,
            "_view_module": "@jupyter-widgets/base",
            "_view_module_version": "1.2.0",
            "_view_name": "LayoutView",
            "align_content": null,
            "align_items": null,
            "align_self": null,
            "border": null,
            "bottom": null,
            "display": null,
            "flex": null,
            "flex_flow": null,
            "grid_area": null,
            "grid_auto_columns": null,
            "grid_auto_flow": null,
            "grid_auto_rows": null,
            "grid_column": null,
            "grid_gap": null,
            "grid_row": null,
            "grid_template_areas": null,
            "grid_template_columns": null,
            "grid_template_rows": null,
            "height": null,
            "justify_content": null,
            "justify_items": null,
            "left": null,
            "margin": null,
            "max_height": null,
            "max_width": null,
            "min_height": null,
            "min_width": null,
            "object_fit": null,
            "object_position": null,
            "order": null,
            "overflow": null,
            "overflow_x": null,
            "overflow_y": null,
            "padding": null,
            "right": null,
            "top": null,
            "visibility": null,
            "width": null
          }
        },
        "01e8205127894da6abc8eb1d70e0d74a": {
          "model_module": "@jupyter-widgets/controls",
          "model_name": "DescriptionStyleModel",
          "model_module_version": "1.5.0",
          "state": {
            "_model_module": "@jupyter-widgets/controls",
            "_model_module_version": "1.5.0",
            "_model_name": "DescriptionStyleModel",
            "_view_count": null,
            "_view_module": "@jupyter-widgets/base",
            "_view_module_version": "1.2.0",
            "_view_name": "StyleView",
            "description_width": ""
          }
        },
        "4eb5d9e71749400e88beec23a2f20331": {
          "model_module": "@jupyter-widgets/controls",
          "model_name": "HBoxModel",
          "model_module_version": "1.5.0",
          "state": {
            "_dom_classes": [],
            "_model_module": "@jupyter-widgets/controls",
            "_model_module_version": "1.5.0",
            "_model_name": "HBoxModel",
            "_view_count": null,
            "_view_module": "@jupyter-widgets/controls",
            "_view_module_version": "1.5.0",
            "_view_name": "HBoxView",
            "box_style": "",
            "children": [
              "IPY_MODEL_0a51ce97002642afa0473f2af43c0ef7",
              "IPY_MODEL_079049ee88a74c4d8c432220ec80839d",
              "IPY_MODEL_ad5f481c4363479c8a2140aea0b31179"
            ],
            "layout": "IPY_MODEL_d5077181048a4c10986f029892bf85c0"
          }
        },
        "0a51ce97002642afa0473f2af43c0ef7": {
          "model_module": "@jupyter-widgets/controls",
          "model_name": "HTMLModel",
          "model_module_version": "1.5.0",
          "state": {
            "_dom_classes": [],
            "_model_module": "@jupyter-widgets/controls",
            "_model_module_version": "1.5.0",
            "_model_name": "HTMLModel",
            "_view_count": null,
            "_view_module": "@jupyter-widgets/controls",
            "_view_module_version": "1.5.0",
            "_view_name": "HTMLView",
            "description": "",
            "description_tooltip": null,
            "layout": "IPY_MODEL_4e0c4021b20a4bb086d2e804f876fe3b",
            "placeholder": "​",
            "style": "IPY_MODEL_afcd979e269549b4a682c78af8ec46b2",
            "value": "vocab.txt: "
          }
        },
        "079049ee88a74c4d8c432220ec80839d": {
          "model_module": "@jupyter-widgets/controls",
          "model_name": "FloatProgressModel",
          "model_module_version": "1.5.0",
          "state": {
            "_dom_classes": [],
            "_model_module": "@jupyter-widgets/controls",
            "_model_module_version": "1.5.0",
            "_model_name": "FloatProgressModel",
            "_view_count": null,
            "_view_module": "@jupyter-widgets/controls",
            "_view_module_version": "1.5.0",
            "_view_name": "ProgressView",
            "bar_style": "success",
            "description": "",
            "description_tooltip": null,
            "layout": "IPY_MODEL_b3ac4dda5a6f45c6990b58f81380e09f",
            "max": 1,
            "min": 0,
            "orientation": "horizontal",
            "style": "IPY_MODEL_49c892f4b50346618b26b42e69050e5e",
            "value": 1
          }
        },
        "ad5f481c4363479c8a2140aea0b31179": {
          "model_module": "@jupyter-widgets/controls",
          "model_name": "HTMLModel",
          "model_module_version": "1.5.0",
          "state": {
            "_dom_classes": [],
            "_model_module": "@jupyter-widgets/controls",
            "_model_module_version": "1.5.0",
            "_model_name": "HTMLModel",
            "_view_count": null,
            "_view_module": "@jupyter-widgets/controls",
            "_view_module_version": "1.5.0",
            "_view_name": "HTMLView",
            "description": "",
            "description_tooltip": null,
            "layout": "IPY_MODEL_a73563b6b02e474abb789123846298da",
            "placeholder": "​",
            "style": "IPY_MODEL_204add2ae37944bbb29f1b17a0e499af",
            "value": " 258k/? [00:00&lt;00:00, 5.35MB/s]"
          }
        },
        "d5077181048a4c10986f029892bf85c0": {
          "model_module": "@jupyter-widgets/base",
          "model_name": "LayoutModel",
          "model_module_version": "1.2.0",
          "state": {
            "_model_module": "@jupyter-widgets/base",
            "_model_module_version": "1.2.0",
            "_model_name": "LayoutModel",
            "_view_count": null,
            "_view_module": "@jupyter-widgets/base",
            "_view_module_version": "1.2.0",
            "_view_name": "LayoutView",
            "align_content": null,
            "align_items": null,
            "align_self": null,
            "border": null,
            "bottom": null,
            "display": null,
            "flex": null,
            "flex_flow": null,
            "grid_area": null,
            "grid_auto_columns": null,
            "grid_auto_flow": null,
            "grid_auto_rows": null,
            "grid_column": null,
            "grid_gap": null,
            "grid_row": null,
            "grid_template_areas": null,
            "grid_template_columns": null,
            "grid_template_rows": null,
            "height": null,
            "justify_content": null,
            "justify_items": null,
            "left": null,
            "margin": null,
            "max_height": null,
            "max_width": null,
            "min_height": null,
            "min_width": null,
            "object_fit": null,
            "object_position": null,
            "order": null,
            "overflow": null,
            "overflow_x": null,
            "overflow_y": null,
            "padding": null,
            "right": null,
            "top": null,
            "visibility": null,
            "width": null
          }
        },
        "4e0c4021b20a4bb086d2e804f876fe3b": {
          "model_module": "@jupyter-widgets/base",
          "model_name": "LayoutModel",
          "model_module_version": "1.2.0",
          "state": {
            "_model_module": "@jupyter-widgets/base",
            "_model_module_version": "1.2.0",
            "_model_name": "LayoutModel",
            "_view_count": null,
            "_view_module": "@jupyter-widgets/base",
            "_view_module_version": "1.2.0",
            "_view_name": "LayoutView",
            "align_content": null,
            "align_items": null,
            "align_self": null,
            "border": null,
            "bottom": null,
            "display": null,
            "flex": null,
            "flex_flow": null,
            "grid_area": null,
            "grid_auto_columns": null,
            "grid_auto_flow": null,
            "grid_auto_rows": null,
            "grid_column": null,
            "grid_gap": null,
            "grid_row": null,
            "grid_template_areas": null,
            "grid_template_columns": null,
            "grid_template_rows": null,
            "height": null,
            "justify_content": null,
            "justify_items": null,
            "left": null,
            "margin": null,
            "max_height": null,
            "max_width": null,
            "min_height": null,
            "min_width": null,
            "object_fit": null,
            "object_position": null,
            "order": null,
            "overflow": null,
            "overflow_x": null,
            "overflow_y": null,
            "padding": null,
            "right": null,
            "top": null,
            "visibility": null,
            "width": null
          }
        },
        "afcd979e269549b4a682c78af8ec46b2": {
          "model_module": "@jupyter-widgets/controls",
          "model_name": "DescriptionStyleModel",
          "model_module_version": "1.5.0",
          "state": {
            "_model_module": "@jupyter-widgets/controls",
            "_model_module_version": "1.5.0",
            "_model_name": "DescriptionStyleModel",
            "_view_count": null,
            "_view_module": "@jupyter-widgets/base",
            "_view_module_version": "1.2.0",
            "_view_name": "StyleView",
            "description_width": ""
          }
        },
        "b3ac4dda5a6f45c6990b58f81380e09f": {
          "model_module": "@jupyter-widgets/base",
          "model_name": "LayoutModel",
          "model_module_version": "1.2.0",
          "state": {
            "_model_module": "@jupyter-widgets/base",
            "_model_module_version": "1.2.0",
            "_model_name": "LayoutModel",
            "_view_count": null,
            "_view_module": "@jupyter-widgets/base",
            "_view_module_version": "1.2.0",
            "_view_name": "LayoutView",
            "align_content": null,
            "align_items": null,
            "align_self": null,
            "border": null,
            "bottom": null,
            "display": null,
            "flex": null,
            "flex_flow": null,
            "grid_area": null,
            "grid_auto_columns": null,
            "grid_auto_flow": null,
            "grid_auto_rows": null,
            "grid_column": null,
            "grid_gap": null,
            "grid_row": null,
            "grid_template_areas": null,
            "grid_template_columns": null,
            "grid_template_rows": null,
            "height": null,
            "justify_content": null,
            "justify_items": null,
            "left": null,
            "margin": null,
            "max_height": null,
            "max_width": null,
            "min_height": null,
            "min_width": null,
            "object_fit": null,
            "object_position": null,
            "order": null,
            "overflow": null,
            "overflow_x": null,
            "overflow_y": null,
            "padding": null,
            "right": null,
            "top": null,
            "visibility": null,
            "width": "20px"
          }
        },
        "49c892f4b50346618b26b42e69050e5e": {
          "model_module": "@jupyter-widgets/controls",
          "model_name": "ProgressStyleModel",
          "model_module_version": "1.5.0",
          "state": {
            "_model_module": "@jupyter-widgets/controls",
            "_model_module_version": "1.5.0",
            "_model_name": "ProgressStyleModel",
            "_view_count": null,
            "_view_module": "@jupyter-widgets/base",
            "_view_module_version": "1.2.0",
            "_view_name": "StyleView",
            "bar_color": null,
            "description_width": ""
          }
        },
        "a73563b6b02e474abb789123846298da": {
          "model_module": "@jupyter-widgets/base",
          "model_name": "LayoutModel",
          "model_module_version": "1.2.0",
          "state": {
            "_model_module": "@jupyter-widgets/base",
            "_model_module_version": "1.2.0",
            "_model_name": "LayoutModel",
            "_view_count": null,
            "_view_module": "@jupyter-widgets/base",
            "_view_module_version": "1.2.0",
            "_view_name": "LayoutView",
            "align_content": null,
            "align_items": null,
            "align_self": null,
            "border": null,
            "bottom": null,
            "display": null,
            "flex": null,
            "flex_flow": null,
            "grid_area": null,
            "grid_auto_columns": null,
            "grid_auto_flow": null,
            "grid_auto_rows": null,
            "grid_column": null,
            "grid_gap": null,
            "grid_row": null,
            "grid_template_areas": null,
            "grid_template_columns": null,
            "grid_template_rows": null,
            "height": null,
            "justify_content": null,
            "justify_items": null,
            "left": null,
            "margin": null,
            "max_height": null,
            "max_width": null,
            "min_height": null,
            "min_width": null,
            "object_fit": null,
            "object_position": null,
            "order": null,
            "overflow": null,
            "overflow_x": null,
            "overflow_y": null,
            "padding": null,
            "right": null,
            "top": null,
            "visibility": null,
            "width": null
          }
        },
        "204add2ae37944bbb29f1b17a0e499af": {
          "model_module": "@jupyter-widgets/controls",
          "model_name": "DescriptionStyleModel",
          "model_module_version": "1.5.0",
          "state": {
            "_model_module": "@jupyter-widgets/controls",
            "_model_module_version": "1.5.0",
            "_model_name": "DescriptionStyleModel",
            "_view_count": null,
            "_view_module": "@jupyter-widgets/base",
            "_view_module_version": "1.2.0",
            "_view_name": "StyleView",
            "description_width": ""
          }
        },
        "abfed0a83e084e5b8577151b8b0eec8e": {
          "model_module": "@jupyter-widgets/controls",
          "model_name": "HBoxModel",
          "model_module_version": "1.5.0",
          "state": {
            "_dom_classes": [],
            "_model_module": "@jupyter-widgets/controls",
            "_model_module_version": "1.5.0",
            "_model_name": "HBoxModel",
            "_view_count": null,
            "_view_module": "@jupyter-widgets/controls",
            "_view_module_version": "1.5.0",
            "_view_name": "HBoxView",
            "box_style": "",
            "children": [
              "IPY_MODEL_2f7783b8c4fd47a8a41395e1bc060727",
              "IPY_MODEL_e6cadf743c944e61ac3dc6f8eaf49379",
              "IPY_MODEL_1e52a76d8d8746aebbce1843cd740139"
            ],
            "layout": "IPY_MODEL_084a39fbe4934adabe1346003c4b9677"
          }
        },
        "2f7783b8c4fd47a8a41395e1bc060727": {
          "model_module": "@jupyter-widgets/controls",
          "model_name": "HTMLModel",
          "model_module_version": "1.5.0",
          "state": {
            "_dom_classes": [],
            "_model_module": "@jupyter-widgets/controls",
            "_model_module_version": "1.5.0",
            "_model_name": "HTMLModel",
            "_view_count": null,
            "_view_module": "@jupyter-widgets/controls",
            "_view_module_version": "1.5.0",
            "_view_name": "HTMLView",
            "description": "",
            "description_tooltip": null,
            "layout": "IPY_MODEL_6024e2a0deef4523a5592c184be29dbb",
            "placeholder": "​",
            "style": "IPY_MODEL_2a0d10bbc6c942289fbaf399b6643a48",
            "value": "added_tokens.json: 100%"
          }
        },
        "e6cadf743c944e61ac3dc6f8eaf49379": {
          "model_module": "@jupyter-widgets/controls",
          "model_name": "FloatProgressModel",
          "model_module_version": "1.5.0",
          "state": {
            "_dom_classes": [],
            "_model_module": "@jupyter-widgets/controls",
            "_model_module_version": "1.5.0",
            "_model_name": "FloatProgressModel",
            "_view_count": null,
            "_view_module": "@jupyter-widgets/controls",
            "_view_module_version": "1.5.0",
            "_view_name": "ProgressView",
            "bar_style": "success",
            "description": "",
            "description_tooltip": null,
            "layout": "IPY_MODEL_8fbcbb0430df4e1499bcbb31e1968ef2",
            "max": 2,
            "min": 0,
            "orientation": "horizontal",
            "style": "IPY_MODEL_1d1387ddbecf4bad9a6bcc6bcccab36d",
            "value": 2
          }
        },
        "1e52a76d8d8746aebbce1843cd740139": {
          "model_module": "@jupyter-widgets/controls",
          "model_name": "HTMLModel",
          "model_module_version": "1.5.0",
          "state": {
            "_dom_classes": [],
            "_model_module": "@jupyter-widgets/controls",
            "_model_module_version": "1.5.0",
            "_model_name": "HTMLModel",
            "_view_count": null,
            "_view_module": "@jupyter-widgets/controls",
            "_view_module_version": "1.5.0",
            "_view_name": "HTMLView",
            "description": "",
            "description_tooltip": null,
            "layout": "IPY_MODEL_5ade8d5fa15140ef98c796656dfb4d68",
            "placeholder": "​",
            "style": "IPY_MODEL_f8787cbead094c24a2cf1ec87d06632b",
            "value": " 2.00/2.00 [00:00&lt;00:00, 218B/s]"
          }
        },
        "084a39fbe4934adabe1346003c4b9677": {
          "model_module": "@jupyter-widgets/base",
          "model_name": "LayoutModel",
          "model_module_version": "1.2.0",
          "state": {
            "_model_module": "@jupyter-widgets/base",
            "_model_module_version": "1.2.0",
            "_model_name": "LayoutModel",
            "_view_count": null,
            "_view_module": "@jupyter-widgets/base",
            "_view_module_version": "1.2.0",
            "_view_name": "LayoutView",
            "align_content": null,
            "align_items": null,
            "align_self": null,
            "border": null,
            "bottom": null,
            "display": null,
            "flex": null,
            "flex_flow": null,
            "grid_area": null,
            "grid_auto_columns": null,
            "grid_auto_flow": null,
            "grid_auto_rows": null,
            "grid_column": null,
            "grid_gap": null,
            "grid_row": null,
            "grid_template_areas": null,
            "grid_template_columns": null,
            "grid_template_rows": null,
            "height": null,
            "justify_content": null,
            "justify_items": null,
            "left": null,
            "margin": null,
            "max_height": null,
            "max_width": null,
            "min_height": null,
            "min_width": null,
            "object_fit": null,
            "object_position": null,
            "order": null,
            "overflow": null,
            "overflow_x": null,
            "overflow_y": null,
            "padding": null,
            "right": null,
            "top": null,
            "visibility": null,
            "width": null
          }
        },
        "6024e2a0deef4523a5592c184be29dbb": {
          "model_module": "@jupyter-widgets/base",
          "model_name": "LayoutModel",
          "model_module_version": "1.2.0",
          "state": {
            "_model_module": "@jupyter-widgets/base",
            "_model_module_version": "1.2.0",
            "_model_name": "LayoutModel",
            "_view_count": null,
            "_view_module": "@jupyter-widgets/base",
            "_view_module_version": "1.2.0",
            "_view_name": "LayoutView",
            "align_content": null,
            "align_items": null,
            "align_self": null,
            "border": null,
            "bottom": null,
            "display": null,
            "flex": null,
            "flex_flow": null,
            "grid_area": null,
            "grid_auto_columns": null,
            "grid_auto_flow": null,
            "grid_auto_rows": null,
            "grid_column": null,
            "grid_gap": null,
            "grid_row": null,
            "grid_template_areas": null,
            "grid_template_columns": null,
            "grid_template_rows": null,
            "height": null,
            "justify_content": null,
            "justify_items": null,
            "left": null,
            "margin": null,
            "max_height": null,
            "max_width": null,
            "min_height": null,
            "min_width": null,
            "object_fit": null,
            "object_position": null,
            "order": null,
            "overflow": null,
            "overflow_x": null,
            "overflow_y": null,
            "padding": null,
            "right": null,
            "top": null,
            "visibility": null,
            "width": null
          }
        },
        "2a0d10bbc6c942289fbaf399b6643a48": {
          "model_module": "@jupyter-widgets/controls",
          "model_name": "DescriptionStyleModel",
          "model_module_version": "1.5.0",
          "state": {
            "_model_module": "@jupyter-widgets/controls",
            "_model_module_version": "1.5.0",
            "_model_name": "DescriptionStyleModel",
            "_view_count": null,
            "_view_module": "@jupyter-widgets/base",
            "_view_module_version": "1.2.0",
            "_view_name": "StyleView",
            "description_width": ""
          }
        },
        "8fbcbb0430df4e1499bcbb31e1968ef2": {
          "model_module": "@jupyter-widgets/base",
          "model_name": "LayoutModel",
          "model_module_version": "1.2.0",
          "state": {
            "_model_module": "@jupyter-widgets/base",
            "_model_module_version": "1.2.0",
            "_model_name": "LayoutModel",
            "_view_count": null,
            "_view_module": "@jupyter-widgets/base",
            "_view_module_version": "1.2.0",
            "_view_name": "LayoutView",
            "align_content": null,
            "align_items": null,
            "align_self": null,
            "border": null,
            "bottom": null,
            "display": null,
            "flex": null,
            "flex_flow": null,
            "grid_area": null,
            "grid_auto_columns": null,
            "grid_auto_flow": null,
            "grid_auto_rows": null,
            "grid_column": null,
            "grid_gap": null,
            "grid_row": null,
            "grid_template_areas": null,
            "grid_template_columns": null,
            "grid_template_rows": null,
            "height": null,
            "justify_content": null,
            "justify_items": null,
            "left": null,
            "margin": null,
            "max_height": null,
            "max_width": null,
            "min_height": null,
            "min_width": null,
            "object_fit": null,
            "object_position": null,
            "order": null,
            "overflow": null,
            "overflow_x": null,
            "overflow_y": null,
            "padding": null,
            "right": null,
            "top": null,
            "visibility": null,
            "width": null
          }
        },
        "1d1387ddbecf4bad9a6bcc6bcccab36d": {
          "model_module": "@jupyter-widgets/controls",
          "model_name": "ProgressStyleModel",
          "model_module_version": "1.5.0",
          "state": {
            "_model_module": "@jupyter-widgets/controls",
            "_model_module_version": "1.5.0",
            "_model_name": "ProgressStyleModel",
            "_view_count": null,
            "_view_module": "@jupyter-widgets/base",
            "_view_module_version": "1.2.0",
            "_view_name": "StyleView",
            "bar_color": null,
            "description_width": ""
          }
        },
        "5ade8d5fa15140ef98c796656dfb4d68": {
          "model_module": "@jupyter-widgets/base",
          "model_name": "LayoutModel",
          "model_module_version": "1.2.0",
          "state": {
            "_model_module": "@jupyter-widgets/base",
            "_model_module_version": "1.2.0",
            "_model_name": "LayoutModel",
            "_view_count": null,
            "_view_module": "@jupyter-widgets/base",
            "_view_module_version": "1.2.0",
            "_view_name": "LayoutView",
            "align_content": null,
            "align_items": null,
            "align_self": null,
            "border": null,
            "bottom": null,
            "display": null,
            "flex": null,
            "flex_flow": null,
            "grid_area": null,
            "grid_auto_columns": null,
            "grid_auto_flow": null,
            "grid_auto_rows": null,
            "grid_column": null,
            "grid_gap": null,
            "grid_row": null,
            "grid_template_areas": null,
            "grid_template_columns": null,
            "grid_template_rows": null,
            "height": null,
            "justify_content": null,
            "justify_items": null,
            "left": null,
            "margin": null,
            "max_height": null,
            "max_width": null,
            "min_height": null,
            "min_width": null,
            "object_fit": null,
            "object_position": null,
            "order": null,
            "overflow": null,
            "overflow_x": null,
            "overflow_y": null,
            "padding": null,
            "right": null,
            "top": null,
            "visibility": null,
            "width": null
          }
        },
        "f8787cbead094c24a2cf1ec87d06632b": {
          "model_module": "@jupyter-widgets/controls",
          "model_name": "DescriptionStyleModel",
          "model_module_version": "1.5.0",
          "state": {
            "_model_module": "@jupyter-widgets/controls",
            "_model_module_version": "1.5.0",
            "_model_name": "DescriptionStyleModel",
            "_view_count": null,
            "_view_module": "@jupyter-widgets/base",
            "_view_module_version": "1.2.0",
            "_view_name": "StyleView",
            "description_width": ""
          }
        },
        "7ac80fb144f1454aa2408ca7a6f963ae": {
          "model_module": "@jupyter-widgets/controls",
          "model_name": "HBoxModel",
          "model_module_version": "1.5.0",
          "state": {
            "_dom_classes": [],
            "_model_module": "@jupyter-widgets/controls",
            "_model_module_version": "1.5.0",
            "_model_name": "HBoxModel",
            "_view_count": null,
            "_view_module": "@jupyter-widgets/controls",
            "_view_module_version": "1.5.0",
            "_view_name": "HBoxView",
            "box_style": "",
            "children": [
              "IPY_MODEL_739e732bb8f840808057501dac58c07f",
              "IPY_MODEL_2bf145dd27a3496a8caaff32be57cd23",
              "IPY_MODEL_08e680b66db94282b5e1691a26c15e93"
            ],
            "layout": "IPY_MODEL_84ea7584fffd4be081ab3b33e75f837f"
          }
        },
        "739e732bb8f840808057501dac58c07f": {
          "model_module": "@jupyter-widgets/controls",
          "model_name": "HTMLModel",
          "model_module_version": "1.5.0",
          "state": {
            "_dom_classes": [],
            "_model_module": "@jupyter-widgets/controls",
            "_model_module_version": "1.5.0",
            "_model_name": "HTMLModel",
            "_view_count": null,
            "_view_module": "@jupyter-widgets/controls",
            "_view_module_version": "1.5.0",
            "_view_name": "HTMLView",
            "description": "",
            "description_tooltip": null,
            "layout": "IPY_MODEL_53a6482903a74c11879706d20fb15924",
            "placeholder": "​",
            "style": "IPY_MODEL_674aae3952f44f40898862dec703c4d8",
            "value": "special_tokens_map.json: 100%"
          }
        },
        "2bf145dd27a3496a8caaff32be57cd23": {
          "model_module": "@jupyter-widgets/controls",
          "model_name": "FloatProgressModel",
          "model_module_version": "1.5.0",
          "state": {
            "_dom_classes": [],
            "_model_module": "@jupyter-widgets/controls",
            "_model_module_version": "1.5.0",
            "_model_name": "FloatProgressModel",
            "_view_count": null,
            "_view_module": "@jupyter-widgets/controls",
            "_view_module_version": "1.5.0",
            "_view_name": "ProgressView",
            "bar_style": "success",
            "description": "",
            "description_tooltip": null,
            "layout": "IPY_MODEL_087186979d914f9faa8f063fe01bfc4a",
            "max": 112,
            "min": 0,
            "orientation": "horizontal",
            "style": "IPY_MODEL_db03d88859884dd693f0af13f840733b",
            "value": 112
          }
        },
        "08e680b66db94282b5e1691a26c15e93": {
          "model_module": "@jupyter-widgets/controls",
          "model_name": "HTMLModel",
          "model_module_version": "1.5.0",
          "state": {
            "_dom_classes": [],
            "_model_module": "@jupyter-widgets/controls",
            "_model_module_version": "1.5.0",
            "_model_name": "HTMLModel",
            "_view_count": null,
            "_view_module": "@jupyter-widgets/controls",
            "_view_module_version": "1.5.0",
            "_view_name": "HTMLView",
            "description": "",
            "description_tooltip": null,
            "layout": "IPY_MODEL_b979ded7914b4af2a02cb19dc0620efb",
            "placeholder": "​",
            "style": "IPY_MODEL_1bd35c79ddb24ad284805535967583fe",
            "value": " 112/112 [00:00&lt;00:00, 11.7kB/s]"
          }
        },
        "84ea7584fffd4be081ab3b33e75f837f": {
          "model_module": "@jupyter-widgets/base",
          "model_name": "LayoutModel",
          "model_module_version": "1.2.0",
          "state": {
            "_model_module": "@jupyter-widgets/base",
            "_model_module_version": "1.2.0",
            "_model_name": "LayoutModel",
            "_view_count": null,
            "_view_module": "@jupyter-widgets/base",
            "_view_module_version": "1.2.0",
            "_view_name": "LayoutView",
            "align_content": null,
            "align_items": null,
            "align_self": null,
            "border": null,
            "bottom": null,
            "display": null,
            "flex": null,
            "flex_flow": null,
            "grid_area": null,
            "grid_auto_columns": null,
            "grid_auto_flow": null,
            "grid_auto_rows": null,
            "grid_column": null,
            "grid_gap": null,
            "grid_row": null,
            "grid_template_areas": null,
            "grid_template_columns": null,
            "grid_template_rows": null,
            "height": null,
            "justify_content": null,
            "justify_items": null,
            "left": null,
            "margin": null,
            "max_height": null,
            "max_width": null,
            "min_height": null,
            "min_width": null,
            "object_fit": null,
            "object_position": null,
            "order": null,
            "overflow": null,
            "overflow_x": null,
            "overflow_y": null,
            "padding": null,
            "right": null,
            "top": null,
            "visibility": null,
            "width": null
          }
        },
        "53a6482903a74c11879706d20fb15924": {
          "model_module": "@jupyter-widgets/base",
          "model_name": "LayoutModel",
          "model_module_version": "1.2.0",
          "state": {
            "_model_module": "@jupyter-widgets/base",
            "_model_module_version": "1.2.0",
            "_model_name": "LayoutModel",
            "_view_count": null,
            "_view_module": "@jupyter-widgets/base",
            "_view_module_version": "1.2.0",
            "_view_name": "LayoutView",
            "align_content": null,
            "align_items": null,
            "align_self": null,
            "border": null,
            "bottom": null,
            "display": null,
            "flex": null,
            "flex_flow": null,
            "grid_area": null,
            "grid_auto_columns": null,
            "grid_auto_flow": null,
            "grid_auto_rows": null,
            "grid_column": null,
            "grid_gap": null,
            "grid_row": null,
            "grid_template_areas": null,
            "grid_template_columns": null,
            "grid_template_rows": null,
            "height": null,
            "justify_content": null,
            "justify_items": null,
            "left": null,
            "margin": null,
            "max_height": null,
            "max_width": null,
            "min_height": null,
            "min_width": null,
            "object_fit": null,
            "object_position": null,
            "order": null,
            "overflow": null,
            "overflow_x": null,
            "overflow_y": null,
            "padding": null,
            "right": null,
            "top": null,
            "visibility": null,
            "width": null
          }
        },
        "674aae3952f44f40898862dec703c4d8": {
          "model_module": "@jupyter-widgets/controls",
          "model_name": "DescriptionStyleModel",
          "model_module_version": "1.5.0",
          "state": {
            "_model_module": "@jupyter-widgets/controls",
            "_model_module_version": "1.5.0",
            "_model_name": "DescriptionStyleModel",
            "_view_count": null,
            "_view_module": "@jupyter-widgets/base",
            "_view_module_version": "1.2.0",
            "_view_name": "StyleView",
            "description_width": ""
          }
        },
        "087186979d914f9faa8f063fe01bfc4a": {
          "model_module": "@jupyter-widgets/base",
          "model_name": "LayoutModel",
          "model_module_version": "1.2.0",
          "state": {
            "_model_module": "@jupyter-widgets/base",
            "_model_module_version": "1.2.0",
            "_model_name": "LayoutModel",
            "_view_count": null,
            "_view_module": "@jupyter-widgets/base",
            "_view_module_version": "1.2.0",
            "_view_name": "LayoutView",
            "align_content": null,
            "align_items": null,
            "align_self": null,
            "border": null,
            "bottom": null,
            "display": null,
            "flex": null,
            "flex_flow": null,
            "grid_area": null,
            "grid_auto_columns": null,
            "grid_auto_flow": null,
            "grid_auto_rows": null,
            "grid_column": null,
            "grid_gap": null,
            "grid_row": null,
            "grid_template_areas": null,
            "grid_template_columns": null,
            "grid_template_rows": null,
            "height": null,
            "justify_content": null,
            "justify_items": null,
            "left": null,
            "margin": null,
            "max_height": null,
            "max_width": null,
            "min_height": null,
            "min_width": null,
            "object_fit": null,
            "object_position": null,
            "order": null,
            "overflow": null,
            "overflow_x": null,
            "overflow_y": null,
            "padding": null,
            "right": null,
            "top": null,
            "visibility": null,
            "width": null
          }
        },
        "db03d88859884dd693f0af13f840733b": {
          "model_module": "@jupyter-widgets/controls",
          "model_name": "ProgressStyleModel",
          "model_module_version": "1.5.0",
          "state": {
            "_model_module": "@jupyter-widgets/controls",
            "_model_module_version": "1.5.0",
            "_model_name": "ProgressStyleModel",
            "_view_count": null,
            "_view_module": "@jupyter-widgets/base",
            "_view_module_version": "1.2.0",
            "_view_name": "StyleView",
            "bar_color": null,
            "description_width": ""
          }
        },
        "b979ded7914b4af2a02cb19dc0620efb": {
          "model_module": "@jupyter-widgets/base",
          "model_name": "LayoutModel",
          "model_module_version": "1.2.0",
          "state": {
            "_model_module": "@jupyter-widgets/base",
            "_model_module_version": "1.2.0",
            "_model_name": "LayoutModel",
            "_view_count": null,
            "_view_module": "@jupyter-widgets/base",
            "_view_module_version": "1.2.0",
            "_view_name": "LayoutView",
            "align_content": null,
            "align_items": null,
            "align_self": null,
            "border": null,
            "bottom": null,
            "display": null,
            "flex": null,
            "flex_flow": null,
            "grid_area": null,
            "grid_auto_columns": null,
            "grid_auto_flow": null,
            "grid_auto_rows": null,
            "grid_column": null,
            "grid_gap": null,
            "grid_row": null,
            "grid_template_areas": null,
            "grid_template_columns": null,
            "grid_template_rows": null,
            "height": null,
            "justify_content": null,
            "justify_items": null,
            "left": null,
            "margin": null,
            "max_height": null,
            "max_width": null,
            "min_height": null,
            "min_width": null,
            "object_fit": null,
            "object_position": null,
            "order": null,
            "overflow": null,
            "overflow_x": null,
            "overflow_y": null,
            "padding": null,
            "right": null,
            "top": null,
            "visibility": null,
            "width": null
          }
        },
        "1bd35c79ddb24ad284805535967583fe": {
          "model_module": "@jupyter-widgets/controls",
          "model_name": "DescriptionStyleModel",
          "model_module_version": "1.5.0",
          "state": {
            "_model_module": "@jupyter-widgets/controls",
            "_model_module_version": "1.5.0",
            "_model_name": "DescriptionStyleModel",
            "_view_count": null,
            "_view_module": "@jupyter-widgets/base",
            "_view_module_version": "1.2.0",
            "_view_name": "StyleView",
            "description_width": ""
          }
        },
        "8e1d41ea690a4fdd819219bbbef0cc35": {
          "model_module": "@jupyter-widgets/controls",
          "model_name": "HBoxModel",
          "model_module_version": "1.5.0",
          "state": {
            "_dom_classes": [],
            "_model_module": "@jupyter-widgets/controls",
            "_model_module_version": "1.5.0",
            "_model_name": "HBoxModel",
            "_view_count": null,
            "_view_module": "@jupyter-widgets/controls",
            "_view_module_version": "1.5.0",
            "_view_name": "HBoxView",
            "box_style": "",
            "children": [
              "IPY_MODEL_34674cbf55ba492e906cde023bc95ce3",
              "IPY_MODEL_d96e52db97a84f519e5cf470d8be59d1",
              "IPY_MODEL_575cbc7ab2344652b433ae5d689ca9d9"
            ],
            "layout": "IPY_MODEL_28cd404d69d243cca6f464927e2018c8"
          }
        },
        "34674cbf55ba492e906cde023bc95ce3": {
          "model_module": "@jupyter-widgets/controls",
          "model_name": "HTMLModel",
          "model_module_version": "1.5.0",
          "state": {
            "_dom_classes": [],
            "_model_module": "@jupyter-widgets/controls",
            "_model_module_version": "1.5.0",
            "_model_name": "HTMLModel",
            "_view_count": null,
            "_view_module": "@jupyter-widgets/controls",
            "_view_module_version": "1.5.0",
            "_view_name": "HTMLView",
            "description": "",
            "description_tooltip": null,
            "layout": "IPY_MODEL_2e423465fd5647e690403c708dc6c9fb",
            "placeholder": "​",
            "style": "IPY_MODEL_7e9f36dcf2ca486b8ad0d09447915389",
            "value": "config.json: 100%"
          }
        },
        "d96e52db97a84f519e5cf470d8be59d1": {
          "model_module": "@jupyter-widgets/controls",
          "model_name": "FloatProgressModel",
          "model_module_version": "1.5.0",
          "state": {
            "_dom_classes": [],
            "_model_module": "@jupyter-widgets/controls",
            "_model_module_version": "1.5.0",
            "_model_name": "FloatProgressModel",
            "_view_count": null,
            "_view_module": "@jupyter-widgets/controls",
            "_view_module_version": "1.5.0",
            "_view_name": "ProgressView",
            "bar_style": "success",
            "description": "",
            "description_tooltip": null,
            "layout": "IPY_MODEL_c6fe82137c544341a37a20e34ce00fd2",
            "max": 730,
            "min": 0,
            "orientation": "horizontal",
            "style": "IPY_MODEL_cdf937b9a6924140890247af74ce99e6",
            "value": 730
          }
        },
        "575cbc7ab2344652b433ae5d689ca9d9": {
          "model_module": "@jupyter-widgets/controls",
          "model_name": "HTMLModel",
          "model_module_version": "1.5.0",
          "state": {
            "_dom_classes": [],
            "_model_module": "@jupyter-widgets/controls",
            "_model_module_version": "1.5.0",
            "_model_name": "HTMLModel",
            "_view_count": null,
            "_view_module": "@jupyter-widgets/controls",
            "_view_module_version": "1.5.0",
            "_view_name": "HTMLView",
            "description": "",
            "description_tooltip": null,
            "layout": "IPY_MODEL_d71c92d5dfab46e79849654e0d4bf40f",
            "placeholder": "​",
            "style": "IPY_MODEL_c09f0fef5e8849b786134aff11a81e52",
            "value": " 730/730 [00:00&lt;00:00, 60.7kB/s]"
          }
        },
        "28cd404d69d243cca6f464927e2018c8": {
          "model_module": "@jupyter-widgets/base",
          "model_name": "LayoutModel",
          "model_module_version": "1.2.0",
          "state": {
            "_model_module": "@jupyter-widgets/base",
            "_model_module_version": "1.2.0",
            "_model_name": "LayoutModel",
            "_view_count": null,
            "_view_module": "@jupyter-widgets/base",
            "_view_module_version": "1.2.0",
            "_view_name": "LayoutView",
            "align_content": null,
            "align_items": null,
            "align_self": null,
            "border": null,
            "bottom": null,
            "display": null,
            "flex": null,
            "flex_flow": null,
            "grid_area": null,
            "grid_auto_columns": null,
            "grid_auto_flow": null,
            "grid_auto_rows": null,
            "grid_column": null,
            "grid_gap": null,
            "grid_row": null,
            "grid_template_areas": null,
            "grid_template_columns": null,
            "grid_template_rows": null,
            "height": null,
            "justify_content": null,
            "justify_items": null,
            "left": null,
            "margin": null,
            "max_height": null,
            "max_width": null,
            "min_height": null,
            "min_width": null,
            "object_fit": null,
            "object_position": null,
            "order": null,
            "overflow": null,
            "overflow_x": null,
            "overflow_y": null,
            "padding": null,
            "right": null,
            "top": null,
            "visibility": null,
            "width": null
          }
        },
        "2e423465fd5647e690403c708dc6c9fb": {
          "model_module": "@jupyter-widgets/base",
          "model_name": "LayoutModel",
          "model_module_version": "1.2.0",
          "state": {
            "_model_module": "@jupyter-widgets/base",
            "_model_module_version": "1.2.0",
            "_model_name": "LayoutModel",
            "_view_count": null,
            "_view_module": "@jupyter-widgets/base",
            "_view_module_version": "1.2.0",
            "_view_name": "LayoutView",
            "align_content": null,
            "align_items": null,
            "align_self": null,
            "border": null,
            "bottom": null,
            "display": null,
            "flex": null,
            "flex_flow": null,
            "grid_area": null,
            "grid_auto_columns": null,
            "grid_auto_flow": null,
            "grid_auto_rows": null,
            "grid_column": null,
            "grid_gap": null,
            "grid_row": null,
            "grid_template_areas": null,
            "grid_template_columns": null,
            "grid_template_rows": null,
            "height": null,
            "justify_content": null,
            "justify_items": null,
            "left": null,
            "margin": null,
            "max_height": null,
            "max_width": null,
            "min_height": null,
            "min_width": null,
            "object_fit": null,
            "object_position": null,
            "order": null,
            "overflow": null,
            "overflow_x": null,
            "overflow_y": null,
            "padding": null,
            "right": null,
            "top": null,
            "visibility": null,
            "width": null
          }
        },
        "7e9f36dcf2ca486b8ad0d09447915389": {
          "model_module": "@jupyter-widgets/controls",
          "model_name": "DescriptionStyleModel",
          "model_module_version": "1.5.0",
          "state": {
            "_model_module": "@jupyter-widgets/controls",
            "_model_module_version": "1.5.0",
            "_model_name": "DescriptionStyleModel",
            "_view_count": null,
            "_view_module": "@jupyter-widgets/base",
            "_view_module_version": "1.2.0",
            "_view_name": "StyleView",
            "description_width": ""
          }
        },
        "c6fe82137c544341a37a20e34ce00fd2": {
          "model_module": "@jupyter-widgets/base",
          "model_name": "LayoutModel",
          "model_module_version": "1.2.0",
          "state": {
            "_model_module": "@jupyter-widgets/base",
            "_model_module_version": "1.2.0",
            "_model_name": "LayoutModel",
            "_view_count": null,
            "_view_module": "@jupyter-widgets/base",
            "_view_module_version": "1.2.0",
            "_view_name": "LayoutView",
            "align_content": null,
            "align_items": null,
            "align_self": null,
            "border": null,
            "bottom": null,
            "display": null,
            "flex": null,
            "flex_flow": null,
            "grid_area": null,
            "grid_auto_columns": null,
            "grid_auto_flow": null,
            "grid_auto_rows": null,
            "grid_column": null,
            "grid_gap": null,
            "grid_row": null,
            "grid_template_areas": null,
            "grid_template_columns": null,
            "grid_template_rows": null,
            "height": null,
            "justify_content": null,
            "justify_items": null,
            "left": null,
            "margin": null,
            "max_height": null,
            "max_width": null,
            "min_height": null,
            "min_width": null,
            "object_fit": null,
            "object_position": null,
            "order": null,
            "overflow": null,
            "overflow_x": null,
            "overflow_y": null,
            "padding": null,
            "right": null,
            "top": null,
            "visibility": null,
            "width": null
          }
        },
        "cdf937b9a6924140890247af74ce99e6": {
          "model_module": "@jupyter-widgets/controls",
          "model_name": "ProgressStyleModel",
          "model_module_version": "1.5.0",
          "state": {
            "_model_module": "@jupyter-widgets/controls",
            "_model_module_version": "1.5.0",
            "_model_name": "ProgressStyleModel",
            "_view_count": null,
            "_view_module": "@jupyter-widgets/base",
            "_view_module_version": "1.2.0",
            "_view_name": "StyleView",
            "bar_color": null,
            "description_width": ""
          }
        },
        "d71c92d5dfab46e79849654e0d4bf40f": {
          "model_module": "@jupyter-widgets/base",
          "model_name": "LayoutModel",
          "model_module_version": "1.2.0",
          "state": {
            "_model_module": "@jupyter-widgets/base",
            "_model_module_version": "1.2.0",
            "_model_name": "LayoutModel",
            "_view_count": null,
            "_view_module": "@jupyter-widgets/base",
            "_view_module_version": "1.2.0",
            "_view_name": "LayoutView",
            "align_content": null,
            "align_items": null,
            "align_self": null,
            "border": null,
            "bottom": null,
            "display": null,
            "flex": null,
            "flex_flow": null,
            "grid_area": null,
            "grid_auto_columns": null,
            "grid_auto_flow": null,
            "grid_auto_rows": null,
            "grid_column": null,
            "grid_gap": null,
            "grid_row": null,
            "grid_template_areas": null,
            "grid_template_columns": null,
            "grid_template_rows": null,
            "height": null,
            "justify_content": null,
            "justify_items": null,
            "left": null,
            "margin": null,
            "max_height": null,
            "max_width": null,
            "min_height": null,
            "min_width": null,
            "object_fit": null,
            "object_position": null,
            "order": null,
            "overflow": null,
            "overflow_x": null,
            "overflow_y": null,
            "padding": null,
            "right": null,
            "top": null,
            "visibility": null,
            "width": null
          }
        },
        "c09f0fef5e8849b786134aff11a81e52": {
          "model_module": "@jupyter-widgets/controls",
          "model_name": "DescriptionStyleModel",
          "model_module_version": "1.5.0",
          "state": {
            "_model_module": "@jupyter-widgets/controls",
            "_model_module_version": "1.5.0",
            "_model_name": "DescriptionStyleModel",
            "_view_count": null,
            "_view_module": "@jupyter-widgets/base",
            "_view_module_version": "1.2.0",
            "_view_name": "StyleView",
            "description_width": ""
          }
        },
        "5e5a7f852f5246f3aae9d46890a98957": {
          "model_module": "@jupyter-widgets/controls",
          "model_name": "HBoxModel",
          "model_module_version": "1.5.0",
          "state": {
            "_dom_classes": [],
            "_model_module": "@jupyter-widgets/controls",
            "_model_module_version": "1.5.0",
            "_model_name": "HBoxModel",
            "_view_count": null,
            "_view_module": "@jupyter-widgets/controls",
            "_view_module_version": "1.5.0",
            "_view_name": "HBoxView",
            "box_style": "",
            "children": [
              "IPY_MODEL_30eaf2523b924733b3b2d7b9fc9da237",
              "IPY_MODEL_d5ba4b9e016844aab2d874353c8b12f0",
              "IPY_MODEL_b07db31b92084c9da13ddedaff4c53e7"
            ],
            "layout": "IPY_MODEL_a20d8160f1f94b6a9bae191c2e28d01f"
          }
        },
        "30eaf2523b924733b3b2d7b9fc9da237": {
          "model_module": "@jupyter-widgets/controls",
          "model_name": "HTMLModel",
          "model_module_version": "1.5.0",
          "state": {
            "_dom_classes": [],
            "_model_module": "@jupyter-widgets/controls",
            "_model_module_version": "1.5.0",
            "_model_name": "HTMLModel",
            "_view_count": null,
            "_view_module": "@jupyter-widgets/controls",
            "_view_module_version": "1.5.0",
            "_view_name": "HTMLView",
            "description": "",
            "description_tooltip": null,
            "layout": "IPY_MODEL_7c48b103733c4c63a23f4120a9e3b4d9",
            "placeholder": "​",
            "style": "IPY_MODEL_069f24d3369c4c4ab1949d5495ffdcb2",
            "value": "model.safetensors: 100%"
          }
        },
        "d5ba4b9e016844aab2d874353c8b12f0": {
          "model_module": "@jupyter-widgets/controls",
          "model_name": "FloatProgressModel",
          "model_module_version": "1.5.0",
          "state": {
            "_dom_classes": [],
            "_model_module": "@jupyter-widgets/controls",
            "_model_module_version": "1.5.0",
            "_model_name": "FloatProgressModel",
            "_view_count": null,
            "_view_module": "@jupyter-widgets/controls",
            "_view_module_version": "1.5.0",
            "_view_name": "ProgressView",
            "bar_style": "success",
            "description": "",
            "description_tooltip": null,
            "layout": "IPY_MODEL_f76dfe07f0e740de95c4f3906a9a2eeb",
            "max": 442491744,
            "min": 0,
            "orientation": "horizontal",
            "style": "IPY_MODEL_9beca75703694c2794bf4fedcd7506ed",
            "value": 442491744
          }
        },
        "b07db31b92084c9da13ddedaff4c53e7": {
          "model_module": "@jupyter-widgets/controls",
          "model_name": "HTMLModel",
          "model_module_version": "1.5.0",
          "state": {
            "_dom_classes": [],
            "_model_module": "@jupyter-widgets/controls",
            "_model_module_version": "1.5.0",
            "_model_name": "HTMLModel",
            "_view_count": null,
            "_view_module": "@jupyter-widgets/controls",
            "_view_module_version": "1.5.0",
            "_view_name": "HTMLView",
            "description": "",
            "description_tooltip": null,
            "layout": "IPY_MODEL_2cd8f9fb2f15478e9264a9cc51943629",
            "placeholder": "​",
            "style": "IPY_MODEL_5db28ce29b6744ec9f5e7875e61d6819",
            "value": " 442M/442M [00:04&lt;00:00, 100MB/s]"
          }
        },
        "a20d8160f1f94b6a9bae191c2e28d01f": {
          "model_module": "@jupyter-widgets/base",
          "model_name": "LayoutModel",
          "model_module_version": "1.2.0",
          "state": {
            "_model_module": "@jupyter-widgets/base",
            "_model_module_version": "1.2.0",
            "_model_name": "LayoutModel",
            "_view_count": null,
            "_view_module": "@jupyter-widgets/base",
            "_view_module_version": "1.2.0",
            "_view_name": "LayoutView",
            "align_content": null,
            "align_items": null,
            "align_self": null,
            "border": null,
            "bottom": null,
            "display": null,
            "flex": null,
            "flex_flow": null,
            "grid_area": null,
            "grid_auto_columns": null,
            "grid_auto_flow": null,
            "grid_auto_rows": null,
            "grid_column": null,
            "grid_gap": null,
            "grid_row": null,
            "grid_template_areas": null,
            "grid_template_columns": null,
            "grid_template_rows": null,
            "height": null,
            "justify_content": null,
            "justify_items": null,
            "left": null,
            "margin": null,
            "max_height": null,
            "max_width": null,
            "min_height": null,
            "min_width": null,
            "object_fit": null,
            "object_position": null,
            "order": null,
            "overflow": null,
            "overflow_x": null,
            "overflow_y": null,
            "padding": null,
            "right": null,
            "top": null,
            "visibility": null,
            "width": null
          }
        },
        "7c48b103733c4c63a23f4120a9e3b4d9": {
          "model_module": "@jupyter-widgets/base",
          "model_name": "LayoutModel",
          "model_module_version": "1.2.0",
          "state": {
            "_model_module": "@jupyter-widgets/base",
            "_model_module_version": "1.2.0",
            "_model_name": "LayoutModel",
            "_view_count": null,
            "_view_module": "@jupyter-widgets/base",
            "_view_module_version": "1.2.0",
            "_view_name": "LayoutView",
            "align_content": null,
            "align_items": null,
            "align_self": null,
            "border": null,
            "bottom": null,
            "display": null,
            "flex": null,
            "flex_flow": null,
            "grid_area": null,
            "grid_auto_columns": null,
            "grid_auto_flow": null,
            "grid_auto_rows": null,
            "grid_column": null,
            "grid_gap": null,
            "grid_row": null,
            "grid_template_areas": null,
            "grid_template_columns": null,
            "grid_template_rows": null,
            "height": null,
            "justify_content": null,
            "justify_items": null,
            "left": null,
            "margin": null,
            "max_height": null,
            "max_width": null,
            "min_height": null,
            "min_width": null,
            "object_fit": null,
            "object_position": null,
            "order": null,
            "overflow": null,
            "overflow_x": null,
            "overflow_y": null,
            "padding": null,
            "right": null,
            "top": null,
            "visibility": null,
            "width": null
          }
        },
        "069f24d3369c4c4ab1949d5495ffdcb2": {
          "model_module": "@jupyter-widgets/controls",
          "model_name": "DescriptionStyleModel",
          "model_module_version": "1.5.0",
          "state": {
            "_model_module": "@jupyter-widgets/controls",
            "_model_module_version": "1.5.0",
            "_model_name": "DescriptionStyleModel",
            "_view_count": null,
            "_view_module": "@jupyter-widgets/base",
            "_view_module_version": "1.2.0",
            "_view_name": "StyleView",
            "description_width": ""
          }
        },
        "f76dfe07f0e740de95c4f3906a9a2eeb": {
          "model_module": "@jupyter-widgets/base",
          "model_name": "LayoutModel",
          "model_module_version": "1.2.0",
          "state": {
            "_model_module": "@jupyter-widgets/base",
            "_model_module_version": "1.2.0",
            "_model_name": "LayoutModel",
            "_view_count": null,
            "_view_module": "@jupyter-widgets/base",
            "_view_module_version": "1.2.0",
            "_view_name": "LayoutView",
            "align_content": null,
            "align_items": null,
            "align_self": null,
            "border": null,
            "bottom": null,
            "display": null,
            "flex": null,
            "flex_flow": null,
            "grid_area": null,
            "grid_auto_columns": null,
            "grid_auto_flow": null,
            "grid_auto_rows": null,
            "grid_column": null,
            "grid_gap": null,
            "grid_row": null,
            "grid_template_areas": null,
            "grid_template_columns": null,
            "grid_template_rows": null,
            "height": null,
            "justify_content": null,
            "justify_items": null,
            "left": null,
            "margin": null,
            "max_height": null,
            "max_width": null,
            "min_height": null,
            "min_width": null,
            "object_fit": null,
            "object_position": null,
            "order": null,
            "overflow": null,
            "overflow_x": null,
            "overflow_y": null,
            "padding": null,
            "right": null,
            "top": null,
            "visibility": null,
            "width": null
          }
        },
        "9beca75703694c2794bf4fedcd7506ed": {
          "model_module": "@jupyter-widgets/controls",
          "model_name": "ProgressStyleModel",
          "model_module_version": "1.5.0",
          "state": {
            "_model_module": "@jupyter-widgets/controls",
            "_model_module_version": "1.5.0",
            "_model_name": "ProgressStyleModel",
            "_view_count": null,
            "_view_module": "@jupyter-widgets/base",
            "_view_module_version": "1.2.0",
            "_view_name": "StyleView",
            "bar_color": null,
            "description_width": ""
          }
        },
        "2cd8f9fb2f15478e9264a9cc51943629": {
          "model_module": "@jupyter-widgets/base",
          "model_name": "LayoutModel",
          "model_module_version": "1.2.0",
          "state": {
            "_model_module": "@jupyter-widgets/base",
            "_model_module_version": "1.2.0",
            "_model_name": "LayoutModel",
            "_view_count": null,
            "_view_module": "@jupyter-widgets/base",
            "_view_module_version": "1.2.0",
            "_view_name": "LayoutView",
            "align_content": null,
            "align_items": null,
            "align_self": null,
            "border": null,
            "bottom": null,
            "display": null,
            "flex": null,
            "flex_flow": null,
            "grid_area": null,
            "grid_auto_columns": null,
            "grid_auto_flow": null,
            "grid_auto_rows": null,
            "grid_column": null,
            "grid_gap": null,
            "grid_row": null,
            "grid_template_areas": null,
            "grid_template_columns": null,
            "grid_template_rows": null,
            "height": null,
            "justify_content": null,
            "justify_items": null,
            "left": null,
            "margin": null,
            "max_height": null,
            "max_width": null,
            "min_height": null,
            "min_width": null,
            "object_fit": null,
            "object_position": null,
            "order": null,
            "overflow": null,
            "overflow_x": null,
            "overflow_y": null,
            "padding": null,
            "right": null,
            "top": null,
            "visibility": null,
            "width": null
          }
        },
        "5db28ce29b6744ec9f5e7875e61d6819": {
          "model_module": "@jupyter-widgets/controls",
          "model_name": "DescriptionStyleModel",
          "model_module_version": "1.5.0",
          "state": {
            "_model_module": "@jupyter-widgets/controls",
            "_model_module_version": "1.5.0",
            "_model_name": "DescriptionStyleModel",
            "_view_count": null,
            "_view_module": "@jupyter-widgets/base",
            "_view_module_version": "1.2.0",
            "_view_name": "StyleView",
            "description_width": ""
          }
        }
      }
    }
  },
  "cells": [
    {
      "cell_type": "markdown",
      "metadata": {
        "id": "Jj6CdHkLiElp"
      },
      "source": [
        "# あなたの文章に合った「いらすとや」画像をレコメンド♪（Sentence-BERT編）\n",
        "\n",
        "解説記事: https://qiita.com/sonoisa/items/1df94d0a98cd4f209051"
      ]
    },
    {
      "cell_type": "markdown",
      "metadata": {
        "id": "IpUI7Vfz3SEI"
      },
      "source": [
        "## アルゴリズムの概要\n",
        "\n",
        "本アプリの基本的なアイディアは次のとおりです。\n",
        "\n",
        "1. 与えられた文や画像の説明文を、それぞれSentence-BERTを用いて文の分散表現（つまりはベクトル）に変換する。\n",
        "1. 与えられた文と画像の説明文の意味の近さを、それぞれの文の分散表現を使って計算する（意味の近さ = 2つのベクトルのなす角の小ささ = コサイン類似度の大きさとする）。\n",
        "1. コサイン類似度が大きい説明文を持つ画像トップN個を選ぶことで、与えられた文と意味が近い画像を発見できる。\n",
        "\n",
        "模式図にすると、次のようになります。\n",
        "\n",
        "<img src=\"https://qiita-user-contents.imgix.net/https%3A%2F%2Fqiita-image-store.s3.amazonaws.com%2F0%2F26062%2F39951bf9-f602-85e3-db9f-b557df1d7bfd.png?ixlib=rb-4.0.0&auto=format&gif-q=60&q=75&s=ec31ea8742399e9133f5cc8694dd1aae\" width=\"800\">"
      ]
    },
    {
      "cell_type": "markdown",
      "metadata": {
        "id": "T6jyXCwsym-e"
      },
      "source": [
        "## 準備"
      ]
    },
    {
      "cell_type": "code",
      "source": [
        "# 利用できるGPUの確認\n",
        "!nvidia-smi"
      ],
      "metadata": {
        "id": "BD00SuNOsEaL",
        "outputId": "3d667446-93da-4908-94c5-b1d3bd0f40e5",
        "colab": {
          "base_uri": "https://localhost:8080/"
        }
      },
      "execution_count": 1,
      "outputs": [
        {
          "output_type": "stream",
          "name": "stdout",
          "text": [
            "Mon Sep 15 05:48:01 2025       \n",
            "+-----------------------------------------------------------------------------------------+\n",
            "| NVIDIA-SMI 550.54.15              Driver Version: 550.54.15      CUDA Version: 12.4     |\n",
            "|-----------------------------------------+------------------------+----------------------+\n",
            "| GPU  Name                 Persistence-M | Bus-Id          Disp.A | Volatile Uncorr. ECC |\n",
            "| Fan  Temp   Perf          Pwr:Usage/Cap |           Memory-Usage | GPU-Util  Compute M. |\n",
            "|                                         |                        |               MIG M. |\n",
            "|=========================================+========================+======================|\n",
            "|   0  Tesla T4                       Off |   00000000:00:04.0 Off |                    0 |\n",
            "| N/A   44C    P8             10W /   70W |       0MiB /  15360MiB |      0%      Default |\n",
            "|                                         |                        |                  N/A |\n",
            "+-----------------------------------------+------------------------+----------------------+\n",
            "                                                                                         \n",
            "+-----------------------------------------------------------------------------------------+\n",
            "| Processes:                                                                              |\n",
            "|  GPU   GI   CI        PID   Type   Process name                              GPU Memory |\n",
            "|        ID   ID                                                               Usage      |\n",
            "|=========================================================================================|\n",
            "|  No running processes found                                                             |\n",
            "+-----------------------------------------------------------------------------------------+\n"
          ]
        }
      ]
    },
    {
      "cell_type": "markdown",
      "metadata": {
        "id": "zggKYME3trPn"
      },
      "source": [
        "### パスワード設定\n",
        "\n",
        "**※勉強会に用いるデータセットの解凍にはパスワードが必要です（一般には公開しません）。**  \n",
        "\n",
        "#### パスワードの設定方法：\n",
        "1. 左側の鍵アイコンをクリックし、ノートブックのシークレット設定画面を表示します。\n",
        "1. 「新しいシークレットを追加」をクリックし、次の項目を追加します。\n",
        "    * **ノートブックからのアクセス**：オン\n",
        "    * **名前**：RESOURCES_PASSWORD\n",
        "    * **値**：解凍用の秘密のパスワード"
      ]
    },
    {
      "cell_type": "code",
      "metadata": {
        "id": "4ZjSETt5tvf7"
      },
      "source": [
        "from google.colab import userdata\n",
        "\n",
        "# データセットの解凍用パスワード\n",
        "RESOURCES_PASSWORD = userdata.get('RESOURCES_PASSWORD').strip()"
      ],
      "execution_count": 2,
      "outputs": []
    },
    {
      "cell_type": "markdown",
      "metadata": {
        "id": "0jnmO3r_jObQ"
      },
      "source": [
        "### 依存ライブラリのインストール\n",
        "\n",
        "インストールに5分程度かかります。気長にお待ちください。"
      ]
    },
    {
      "cell_type": "code",
      "metadata": {
        "id": "pZznmjQghg43",
        "outputId": "a44d83f8-550e-4d78-ba4d-aa756109cb7a",
        "colab": {
          "base_uri": "https://localhost:8080/"
        }
      },
      "source": [
        "!pip install -q transformers==4.56.1 fugashi ipadic unidic_lite gdown"
      ],
      "execution_count": 3,
      "outputs": [
        {
          "output_type": "stream",
          "name": "stdout",
          "text": [
            "\u001b[2K     \u001b[90m━━━━━━━━━━━━━━━━━━━━━━━━━━━━━━━━━━━━━━━━\u001b[0m \u001b[32m13.4/13.4 MB\u001b[0m \u001b[31m43.8 MB/s\u001b[0m eta \u001b[36m0:00:00\u001b[0m\n",
            "\u001b[?25h  Preparing metadata (setup.py) ... \u001b[?25l\u001b[?25hdone\n",
            "\u001b[2K     \u001b[90m━━━━━━━━━━━━━━━━━━━━━━━━━━━━━━━━━━━━━━━━\u001b[0m \u001b[32m47.4/47.4 MB\u001b[0m \u001b[31m13.3 MB/s\u001b[0m eta \u001b[36m0:00:00\u001b[0m\n",
            "\u001b[?25h  Preparing metadata (setup.py) ... \u001b[?25l\u001b[?25hdone\n",
            "\u001b[2K   \u001b[90m━━━━━━━━━━━━━━━━━━━━━━━━━━━━━━━━━━━━━━━━\u001b[0m \u001b[32m697.9/697.9 kB\u001b[0m \u001b[31m36.6 MB/s\u001b[0m eta \u001b[36m0:00:00\u001b[0m\n",
            "\u001b[?25h  Building wheel for ipadic (setup.py) ... \u001b[?25l\u001b[?25hdone\n",
            "  Building wheel for unidic_lite (setup.py) ... \u001b[?25l\u001b[?25hdone\n"
          ]
        }
      ]
    },
    {
      "cell_type": "markdown",
      "metadata": {
        "id": "mgyUsWsPln96"
      },
      "source": [
        "### 「いらすとや」さんの画像メタデータのダウンロード"
      ]
    },
    {
      "cell_type": "code",
      "metadata": {
        "id": "Ecs6gg32_nR7",
        "colab": {
          "base_uri": "https://localhost:8080/"
        },
        "outputId": "ad6c6adc-b6d7-4d7e-daed-2dfee3d8b922"
      },
      "source": [
        "!gdown \"https://drive.google.com/uc?export=view&id=1NQ66ZynRY63SIlk2i4OhMj837YDucLR9\""
      ],
      "execution_count": 4,
      "outputs": [
        {
          "output_type": "stream",
          "name": "stdout",
          "text": [
            "Downloading...\n",
            "From (original): https://drive.google.com/uc?export=view&id=1NQ66ZynRY63SIlk2i4OhMj837YDucLR9\n",
            "From (redirected): https://drive.google.com/uc?export=view&id=1NQ66ZynRY63SIlk2i4OhMj837YDucLR9&confirm=t&uuid=1e0e07c8-4a60-46e2-8266-42c45d96922f\n",
            "To: /content/ii20210224.zip\n",
            "\r  0% 0.00/3.63M [00:00<?, ?B/s]\r 58% 2.10M/3.63M [00:00<00:00, 20.8MB/s]\r100% 3.63M/3.63M [00:00<00:00, 30.4MB/s]\n"
          ]
        }
      ]
    },
    {
      "cell_type": "markdown",
      "metadata": {
        "id": "WUqBqYS6utZ3"
      },
      "source": [
        "### データの解凍"
      ]
    },
    {
      "cell_type": "code",
      "metadata": {
        "colab": {
          "base_uri": "https://localhost:8080/"
        },
        "id": "gJ6hjcoVuyWp",
        "outputId": "3c3eeac5-fdc9-41a2-d7f5-77a7f8249971"
      },
      "source": [
        "!unzip -P {RESOURCES_PASSWORD} ii20210224.zip"
      ],
      "execution_count": 5,
      "outputs": [
        {
          "output_type": "stream",
          "name": "stdout",
          "text": [
            "Archive:  ii20210224.zip\n",
            "  inflating: irasuto_items.json      \n"
          ]
        }
      ]
    },
    {
      "cell_type": "markdown",
      "metadata": {
        "id": "lq5_HTWinLYM"
      },
      "source": [
        "### 画像メタデータを読み込む\n",
        "\n",
        "LINEスタンプはイラストではないため除外します。"
      ]
    },
    {
      "cell_type": "code",
      "metadata": {
        "id": "Vxx11g-Lhbhc"
      },
      "source": [
        "import json\n",
        "\n",
        "with open('irasuto_items.json', 'r', encoding=\"utf-8\") as items_file:\n",
        "    items = json.load(items_file)\n",
        "\n",
        "items = [item for item in items \\\n",
        "             if \"LINEスタンプ\" not in item[\"title\"] and \\\n",
        "             \"LINEのスタンプ\" not in item[\"desc\"]]"
      ],
      "execution_count": 6,
      "outputs": []
    },
    {
      "cell_type": "markdown",
      "metadata": {
        "id": "SbrIV0NBmqvu"
      },
      "source": [
        "### 正規化処理の定義\n",
        "\n",
        "neologdの正規化処理を少し変えたものを利用します。\n",
        "\n",
        "- neologdの正規化処理: https://github.com/neologd/mecab-ipadic-neologd/wiki/Regexp.ja"
      ]
    },
    {
      "cell_type": "code",
      "metadata": {
        "id": "LNP2Lku-gb1J"
      },
      "source": [
        "# https://github.com/neologd/mecab-ipadic-neologd/wiki/Regexp.ja から引用・一部改変\n",
        "from __future__ import unicode_literals\n",
        "import re\n",
        "import unicodedata\n",
        "\n",
        "def unicode_normalize(cls, s):\n",
        "    pt = re.compile('([{}]+)'.format(cls))\n",
        "\n",
        "    def norm(c):\n",
        "        return unicodedata.normalize('NFKC', c) if pt.match(c) else c\n",
        "\n",
        "    s = ''.join(norm(x) for x in re.split(pt, s))\n",
        "    s = re.sub('－', '-', s)\n",
        "    return s\n",
        "\n",
        "def remove_extra_spaces(s):\n",
        "    s = re.sub('[ 　]+', ' ', s)\n",
        "    blocks = ''.join(('\\u4E00-\\u9FFF',  # CJK UNIFIED IDEOGRAPHS\n",
        "                      '\\u3040-\\u309F',  # HIRAGANA\n",
        "                      '\\u30A0-\\u30FF',  # KATAKANA\n",
        "                      '\\u3000-\\u303F',  # CJK SYMBOLS AND PUNCTUATION\n",
        "                      '\\uFF00-\\uFFEF'   # HALFWIDTH AND FULLWIDTH FORMS\n",
        "                      ))\n",
        "    basic_latin = '\\u0000-\\u007F'\n",
        "\n",
        "    def remove_space_between(cls1, cls2, s):\n",
        "        p = re.compile('([{}]) ([{}])'.format(cls1, cls2))\n",
        "        while p.search(s):\n",
        "            s = p.sub(r'\\1\\2', s)\n",
        "        return s\n",
        "\n",
        "    s = remove_space_between(blocks, blocks, s)\n",
        "    s = remove_space_between(blocks, basic_latin, s)\n",
        "    s = remove_space_between(basic_latin, blocks, s)\n",
        "    return s\n",
        "\n",
        "def normalize_neologd(s):\n",
        "    s = s.strip()\n",
        "    s = unicode_normalize('０-９Ａ-Ｚａ-ｚ｡-ﾟ', s)\n",
        "\n",
        "    def maketrans(f, t):\n",
        "        return {ord(x): ord(y) for x, y in zip(f, t)}\n",
        "\n",
        "    s = re.sub('[˗֊‐‑‒–⁃⁻₋−]+', '-', s)  # normalize hyphens\n",
        "    s = re.sub('[﹣－ｰ—―─━ー]+', 'ー', s)  # normalize choonpus\n",
        "    s = re.sub('[~∼∾〜〰～]+', '〜', s)  # normalize tildes (modified by Isao Sonobe)\n",
        "    s = s.translate(\n",
        "        maketrans('!\"#$%&\\'()*+,-./:;<=>?@[¥]^_`{|}~｡､･｢｣',\n",
        "              '！”＃＄％＆’（）＊＋，－．／：；＜＝＞？＠［￥］＾＿｀｛｜｝〜。、・「」'))\n",
        "\n",
        "    s = remove_extra_spaces(s)\n",
        "    s = unicode_normalize('！”＃＄％＆’（）＊＋，－．／：；＜＞？＠［￥］＾＿｀｛｜｝〜', s)  # keep ＝,・,「,」\n",
        "    s = re.sub('[’]', '\\'', s)\n",
        "    s = re.sub('[”]', '\"', s)\n",
        "    s = s.upper()\n",
        "    return s\n",
        "\n",
        "def normalize_text(text):\n",
        "    return normalize_neologd(text)"
      ],
      "execution_count": 7,
      "outputs": []
    },
    {
      "cell_type": "markdown",
      "source": [
        "### タイトルや説明文の「〜のイラスト」などの冗長な表現を削除する前処理"
      ],
      "metadata": {
        "id": "Y-u_UA834oGZ"
      }
    },
    {
      "cell_type": "code",
      "metadata": {
        "id": "uUKopvBPgepg"
      },
      "source": [
        "def normalize_title(title):\n",
        "    title = title.strip()\n",
        "\n",
        "    match = re.match(r\"^「([^」]+)」$\", title)\n",
        "    if match:\n",
        "        title = match.group(1)\n",
        "\n",
        "    match = re.match(r\"^POP素材「([^」]+)」$\", title)\n",
        "    if match:\n",
        "        title = match.group(1)\n",
        "\n",
        "    title = re.sub(r\"(の?(?:イラスト|イラストの|イラストト|イ子のラスト|イラス|イラスト文字|「イラスト文字」|イラストPOP文字|ペンキ文字|タイトル文字|イラスト・メッセージ|イラスト文字・バナー|キャラクター(たち)?|マーク|アイコン|シルエット|シルエット素材|フレーム（枠）|フレーム|フレーム素材|テンプレート|パターン|パターン素材|ライン素材|コーナー素材|リボン型バナー|評価スタンプ|背景素材))+(\\s*([0-9０-９]*|その[0-9０-９]+))(です。)?\", \"\", title)\n",
        "\n",
        "    title = normalize_text(title)\n",
        "\n",
        "    if title.strip() == \"\":\n",
        "        raise ValueError(title)\n",
        "\n",
        "    return title"
      ],
      "execution_count": 8,
      "outputs": []
    },
    {
      "cell_type": "markdown",
      "source": [
        "### タイトルと説明文の正規化を実行\n",
        "\n",
        "説明文がなければタイトルを説明文の代わりにします。"
      ],
      "metadata": {
        "id": "E-2ZqfIB5m3H"
      }
    },
    {
      "cell_type": "code",
      "source": [
        "for item in items:\n",
        "    try:\n",
        "        title = item[\"title\"]\n",
        "        normalized_title = normalize_title(title)\n",
        "        item[\"normalized_title\"] = normalized_title\n",
        "\n",
        "        desc = item[\"desc\"]\n",
        "        if desc.strip() == \"\":\n",
        "            # 説明文がない場合は、タイトルを説明文にする\n",
        "            item[\"normalized_desc\"] = normalized_title\n",
        "            item[\"desc\"] = title\n",
        "        else:\n",
        "            normalized_desc = normalize_title(desc)\n",
        "            item[\"normalized_desc\"] = normalized_desc\n",
        "            # print(desc, normalized_desc)\n",
        "    except:\n",
        "        continue\n"
      ],
      "metadata": {
        "id": "Xi1RutG75MQM"
      },
      "execution_count": 9,
      "outputs": []
    },
    {
      "cell_type": "markdown",
      "source": [
        "### Sentence-BERTクラスの定義"
      ],
      "metadata": {
        "id": "jatoZ8ay6DxT"
      }
    },
    {
      "cell_type": "code",
      "source": [
        "from transformers import BertJapaneseTokenizer, BertModel\n",
        "import torch\n",
        "\n",
        "\n",
        "class SentenceBertJapanese:\n",
        "    def __init__(self, model_name_or_path, device=None):\n",
        "        self.tokenizer = BertJapaneseTokenizer.from_pretrained(model_name_or_path)\n",
        "        self.model = BertModel.from_pretrained(model_name_or_path)\n",
        "        self.model.eval()\n",
        "\n",
        "        if device is None:\n",
        "            device = \"cuda\" if torch.cuda.is_available() else \"cpu\"\n",
        "        self.device = torch.device(device)\n",
        "        self.model.to(device)\n",
        "\n",
        "    def _mean_pooling(self, model_output, attention_mask):\n",
        "        token_embeddings = model_output[0] #First element of model_output contains all token embeddings\n",
        "        input_mask_expanded = attention_mask.unsqueeze(-1).expand(token_embeddings.size()).float()\n",
        "        return torch.sum(token_embeddings * input_mask_expanded, 1) / torch.clamp(input_mask_expanded.sum(1), min=1e-9)\n",
        "\n",
        "    @torch.no_grad()\n",
        "    def encode(self, sentences, batch_size=8):\n",
        "        all_embeddings = []\n",
        "        iterator = range(0, len(sentences), batch_size)\n",
        "        for batch_idx in iterator:\n",
        "            batch = sentences[batch_idx:batch_idx + batch_size]\n",
        "\n",
        "            encoded_input = self.tokenizer.batch_encode_plus(batch, padding=\"longest\",\n",
        "                                           truncation=True, return_tensors=\"pt\").to(self.device)\n",
        "            model_output = self.model(**encoded_input)\n",
        "            sentence_embeddings = self._mean_pooling(model_output, encoded_input[\"attention_mask\"]).to('cpu')\n",
        "\n",
        "            all_embeddings.extend(sentence_embeddings)\n",
        "\n",
        "        # return torch.stack(all_embeddings).numpy()\n",
        "        return torch.stack(all_embeddings)"
      ],
      "metadata": {
        "id": "H5clWz6Y4S6p"
      },
      "execution_count": 10,
      "outputs": []
    },
    {
      "cell_type": "markdown",
      "source": [
        "Sentence-BERTモデルを読み込む"
      ],
      "metadata": {
        "id": "hsGknE4X6V5T"
      }
    },
    {
      "cell_type": "code",
      "source": [
        "model = SentenceBertJapanese(\"sonoisa/sentence-bert-base-ja-mean-tokens\")"
      ],
      "metadata": {
        "colab": {
          "base_uri": "https://localhost:8080/",
          "height": 394,
          "referenced_widgets": [
            "fe4c29c7bb2b47ca883bd07185c45c03",
            "3641811430324610994a200715b31c4f",
            "4d9a89a3595d4ffeb8c6f3498fd1bc60",
            "d6df0229829d4f2f84d6bbefc6079335",
            "bc6046e479724b38810892eb41806e47",
            "d51d04eb7a6c415eb3f68189797403e8",
            "48a646580a8e4de0a82cf50854c1ee7a",
            "9e29c73b1bfb418785f213e8263907b6",
            "2c92dfe6048a4713a878d966332591a7",
            "3936a1f11ea5470785f3a2e24483f33d",
            "01e8205127894da6abc8eb1d70e0d74a",
            "4eb5d9e71749400e88beec23a2f20331",
            "0a51ce97002642afa0473f2af43c0ef7",
            "079049ee88a74c4d8c432220ec80839d",
            "ad5f481c4363479c8a2140aea0b31179",
            "d5077181048a4c10986f029892bf85c0",
            "4e0c4021b20a4bb086d2e804f876fe3b",
            "afcd979e269549b4a682c78af8ec46b2",
            "b3ac4dda5a6f45c6990b58f81380e09f",
            "49c892f4b50346618b26b42e69050e5e",
            "a73563b6b02e474abb789123846298da",
            "204add2ae37944bbb29f1b17a0e499af",
            "abfed0a83e084e5b8577151b8b0eec8e",
            "2f7783b8c4fd47a8a41395e1bc060727",
            "e6cadf743c944e61ac3dc6f8eaf49379",
            "1e52a76d8d8746aebbce1843cd740139",
            "084a39fbe4934adabe1346003c4b9677",
            "6024e2a0deef4523a5592c184be29dbb",
            "2a0d10bbc6c942289fbaf399b6643a48",
            "8fbcbb0430df4e1499bcbb31e1968ef2",
            "1d1387ddbecf4bad9a6bcc6bcccab36d",
            "5ade8d5fa15140ef98c796656dfb4d68",
            "f8787cbead094c24a2cf1ec87d06632b",
            "7ac80fb144f1454aa2408ca7a6f963ae",
            "739e732bb8f840808057501dac58c07f",
            "2bf145dd27a3496a8caaff32be57cd23",
            "08e680b66db94282b5e1691a26c15e93",
            "84ea7584fffd4be081ab3b33e75f837f",
            "53a6482903a74c11879706d20fb15924",
            "674aae3952f44f40898862dec703c4d8",
            "087186979d914f9faa8f063fe01bfc4a",
            "db03d88859884dd693f0af13f840733b",
            "b979ded7914b4af2a02cb19dc0620efb",
            "1bd35c79ddb24ad284805535967583fe",
            "8e1d41ea690a4fdd819219bbbef0cc35",
            "34674cbf55ba492e906cde023bc95ce3",
            "d96e52db97a84f519e5cf470d8be59d1",
            "575cbc7ab2344652b433ae5d689ca9d9",
            "28cd404d69d243cca6f464927e2018c8",
            "2e423465fd5647e690403c708dc6c9fb",
            "7e9f36dcf2ca486b8ad0d09447915389",
            "c6fe82137c544341a37a20e34ce00fd2",
            "cdf937b9a6924140890247af74ce99e6",
            "d71c92d5dfab46e79849654e0d4bf40f",
            "c09f0fef5e8849b786134aff11a81e52",
            "5e5a7f852f5246f3aae9d46890a98957",
            "30eaf2523b924733b3b2d7b9fc9da237",
            "d5ba4b9e016844aab2d874353c8b12f0",
            "b07db31b92084c9da13ddedaff4c53e7",
            "a20d8160f1f94b6a9bae191c2e28d01f",
            "7c48b103733c4c63a23f4120a9e3b4d9",
            "069f24d3369c4c4ab1949d5495ffdcb2",
            "f76dfe07f0e740de95c4f3906a9a2eeb",
            "9beca75703694c2794bf4fedcd7506ed",
            "2cd8f9fb2f15478e9264a9cc51943629",
            "5db28ce29b6744ec9f5e7875e61d6819"
          ]
        },
        "id": "weexd60W6QyW",
        "outputId": "02500ba3-6661-4290-af05-5854d392f20c"
      },
      "execution_count": 11,
      "outputs": [
        {
          "output_type": "stream",
          "name": "stderr",
          "text": [
            "/usr/local/lib/python3.12/dist-packages/huggingface_hub/utils/_auth.py:94: UserWarning: \n",
            "The secret `HF_TOKEN` does not exist in your Colab secrets.\n",
            "To authenticate with the Hugging Face Hub, create a token in your settings tab (https://huggingface.co/settings/tokens), set it as secret in your Google Colab and restart your session.\n",
            "You will be able to reuse this secret in all of your notebooks.\n",
            "Please note that authentication is recommended but still optional to access public models or datasets.\n",
            "  warnings.warn(\n"
          ]
        },
        {
          "output_type": "display_data",
          "data": {
            "text/plain": [
              "tokenizer_config.json:   0%|          | 0.00/241 [00:00<?, ?B/s]"
            ],
            "application/vnd.jupyter.widget-view+json": {
              "version_major": 2,
              "version_minor": 0,
              "model_id": "fe4c29c7bb2b47ca883bd07185c45c03"
            }
          },
          "metadata": {}
        },
        {
          "output_type": "display_data",
          "data": {
            "text/plain": [
              "vocab.txt: 0.00B [00:00, ?B/s]"
            ],
            "application/vnd.jupyter.widget-view+json": {
              "version_major": 2,
              "version_minor": 0,
              "model_id": "4eb5d9e71749400e88beec23a2f20331"
            }
          },
          "metadata": {}
        },
        {
          "output_type": "display_data",
          "data": {
            "text/plain": [
              "added_tokens.json:   0%|          | 0.00/2.00 [00:00<?, ?B/s]"
            ],
            "application/vnd.jupyter.widget-view+json": {
              "version_major": 2,
              "version_minor": 0,
              "model_id": "abfed0a83e084e5b8577151b8b0eec8e"
            }
          },
          "metadata": {}
        },
        {
          "output_type": "display_data",
          "data": {
            "text/plain": [
              "special_tokens_map.json:   0%|          | 0.00/112 [00:00<?, ?B/s]"
            ],
            "application/vnd.jupyter.widget-view+json": {
              "version_major": 2,
              "version_minor": 0,
              "model_id": "7ac80fb144f1454aa2408ca7a6f963ae"
            }
          },
          "metadata": {}
        },
        {
          "output_type": "display_data",
          "data": {
            "text/plain": [
              "config.json:   0%|          | 0.00/730 [00:00<?, ?B/s]"
            ],
            "application/vnd.jupyter.widget-view+json": {
              "version_major": 2,
              "version_minor": 0,
              "model_id": "8e1d41ea690a4fdd819219bbbef0cc35"
            }
          },
          "metadata": {}
        },
        {
          "output_type": "stream",
          "name": "stderr",
          "text": [
            "The tokenizer class you load from this checkpoint is not the same type as the class this function is called from. It may result in unexpected tokenization. \n",
            "The tokenizer class you load from this checkpoint is 'BertTokenizer'. \n",
            "The class this function is called from is 'BertJapaneseTokenizer'.\n"
          ]
        },
        {
          "output_type": "display_data",
          "data": {
            "text/plain": [
              "model.safetensors:   0%|          | 0.00/442M [00:00<?, ?B/s]"
            ],
            "application/vnd.jupyter.widget-view+json": {
              "version_major": 2,
              "version_minor": 0,
              "model_id": "5e5a7f852f5246f3aae9d46890a98957"
            }
          },
          "metadata": {}
        }
      ]
    },
    {
      "cell_type": "markdown",
      "metadata": {
        "id": "2pv_MAKdoGBl"
      },
      "source": [
        "### 文の分散表現の計算方法の定義\n",
        "\n",
        "与えられた文を、文の分散表現に変換する関数 get_sentence_vector を定義します。  \n",
        "今回採用した文の分散表現の計算方法は次の通りです。\n",
        "\n",
        "1. 正規化を行う。\n",
        "2. 1の文をSentence-BERTを用いて文の分散表現を計算する。"
      ]
    },
    {
      "cell_type": "code",
      "metadata": {
        "id": "Ma_zbpNLhpdU"
      },
      "source": [
        "def get_sentence_vector(sentence):\n",
        "    sentence = normalize_text(sentence)\n",
        "    return model.encode([sentence])[0].numpy()"
      ],
      "execution_count": 12,
      "outputs": []
    },
    {
      "cell_type": "markdown",
      "metadata": {
        "id": "f6btSEuxonNr"
      },
      "source": [
        "試しに文ベクトルを計算してみます。"
      ]
    },
    {
      "cell_type": "code",
      "metadata": {
        "id": "pCuGmYnRhsTb",
        "colab": {
          "base_uri": "https://localhost:8080/"
        },
        "outputId": "7671f64a-b4c2-4be4-8584-d1a6066dd2b7"
      },
      "source": [
        "get_sentence_vector(\"与えられた文から文の分散表現を計算します。\")"
      ],
      "execution_count": 13,
      "outputs": [
        {
          "output_type": "execute_result",
          "data": {
            "text/plain": [
              "array([-9.07196164e-01,  5.25513291e-01, -1.59523094e+00, -1.04668438e+00,\n",
              "       -7.37658083e-01,  4.52362895e-01, -3.74934971e-01,  2.58568466e-01,\n",
              "        2.98398267e-03,  6.77361131e-01,  9.50184226e-01,  1.24125198e-01,\n",
              "       -6.43323839e-01,  5.91418557e-02, -1.96929693e-01, -1.85807452e-01,\n",
              "        8.88456590e-03,  4.27623898e-01,  5.24862446e-02,  9.10040379e-01,\n",
              "        1.22919559e+00,  2.63807416e-01,  1.04527020e+00,  3.72870974e-02,\n",
              "        4.92842048e-01, -1.20458677e-01, -1.69820517e-01, -1.04896462e+00,\n",
              "       -1.72842257e-02, -2.08393604e-01, -5.23855329e-01, -2.50863191e-02,\n",
              "       -9.69365239e-01, -5.82300663e-01,  2.11963743e-01,  6.73911810e-01,\n",
              "        6.10183477e-01, -6.55089021e-01, -2.06699967e-01,  4.44268167e-01,\n",
              "       -1.11041713e+00, -6.15052938e-01, -4.94100660e-01, -4.03979197e-02,\n",
              "        6.49141222e-02,  2.19064808e+00, -4.47671749e-02,  4.31177557e-01,\n",
              "       -2.18916625e-01,  4.08493042e-01,  8.20284784e-01, -1.19899631e-01,\n",
              "       -6.76331937e-01,  4.63532746e-01, -5.94914794e-01, -1.66402495e+00,\n",
              "        6.22235537e-01,  5.45216739e-01,  3.88237000e-01,  1.10418987e+00,\n",
              "        1.76875854e+00,  2.78975159e-01,  3.83998394e-01, -4.18723762e-01,\n",
              "        8.28599155e-01,  1.33931649e+00,  2.86034167e-01, -7.23071098e-02,\n",
              "       -2.17371494e-01, -8.78596902e-01,  7.43930757e-01, -3.77971232e-01,\n",
              "        1.61472201e-01, -7.97976792e-01,  6.58996820e-01, -1.33330822e+00,\n",
              "        4.65404391e-01,  2.03922004e-01,  5.37955523e-01,  3.69814545e-01,\n",
              "       -6.54049695e-01, -6.34419918e-01, -5.00511765e-01,  4.39474821e-01,\n",
              "       -1.25414412e-02, -2.47221828e-01,  3.54281604e-01, -5.90043545e-01,\n",
              "        1.00489683e-01,  7.08998516e-02, -1.74415380e-01, -4.99121845e-04,\n",
              "        5.97545385e-01,  6.52022958e-01,  1.06281447e+00, -7.52655447e-01,\n",
              "        1.26731500e-01, -1.77671984e-01,  4.10522819e-01,  1.04076087e+00,\n",
              "        1.05851866e-01,  7.38430768e-03,  2.29327008e-01, -8.15810680e-01,\n",
              "        7.23029137e-01,  6.09211981e-01, -1.92747056e-01, -1.78120494e-01,\n",
              "        5.47897696e-01,  5.63208461e-01,  8.88190985e-01,  1.99953735e-01,\n",
              "       -4.60225046e-01, -5.17429113e-01, -6.48109496e-01,  3.82182181e-01,\n",
              "       -3.48350346e-01,  7.08460212e-01, -1.11640584e+00,  4.33232278e-01,\n",
              "       -4.27814007e-01, -1.39590287e+00, -2.84753710e-01,  4.17302728e-01,\n",
              "        4.06428754e-01, -2.39875749e-01,  1.03405261e+00, -1.97220489e-01,\n",
              "       -1.49579358e+00,  8.67634788e-02,  5.27263641e-01, -7.52282023e-01,\n",
              "        1.60349393e+00,  4.12234664e-01,  7.61775672e-02, -4.33750868e-01,\n",
              "       -2.57082105e-01,  1.37599155e-01,  9.65544105e-01, -1.09309494e+00,\n",
              "        8.20827901e-01, -6.72997981e-02,  2.09162146e-01,  1.30472302e-01,\n",
              "        3.17252904e-01, -1.26128662e+00, -4.91246104e-01,  3.73598218e-01,\n",
              "        1.29254031e+00, -8.46096754e-01, -8.04435849e-01, -4.04113710e-01,\n",
              "       -3.43439937e-01, -9.63762403e-01, -4.50974882e-01, -3.51417482e-01,\n",
              "       -1.20464897e+00,  4.55520928e-01,  1.14177191e+00,  3.00030470e-01,\n",
              "       -5.20557880e-01,  6.80268586e-01,  8.05374801e-01, -5.09819150e-01,\n",
              "        2.35353351e-01, -4.59985971e-01, -2.11792007e-01, -2.72062957e-01,\n",
              "        2.33162135e-01, -4.72088158e-01, -9.22334790e-01, -1.05478838e-01,\n",
              "       -7.36876369e-01, -8.64199102e-02,  7.86904931e-01, -9.94950831e-01,\n",
              "       -2.84895748e-02, -6.93926036e-01,  6.26218081e-01, -3.11980158e-01,\n",
              "        2.25551248e-01,  6.89163327e-01, -4.04719025e-01, -1.49681604e+00,\n",
              "       -1.88228220e-01, -4.62342083e-01, -3.80846798e-01, -1.17688191e+00,\n",
              "       -1.56781697e+00, -2.68780559e-01, -8.84119153e-01,  7.49075651e-01,\n",
              "       -5.28387070e-01,  3.60597014e-01,  2.80413538e-01, -5.22124529e-01,\n",
              "        1.22106753e-01, -2.36034065e-01,  7.63072431e-01,  9.47031021e-01,\n",
              "       -6.77227974e-01,  3.89193535e-01,  1.38344288e+00,  6.22223578e-02,\n",
              "       -5.47395229e-01,  9.07110453e-01, -9.97016504e-02, -7.97859669e-01,\n",
              "       -1.59527108e-01,  1.49312481e-01, -3.97903621e-01,  4.33062971e-01,\n",
              "        2.02583015e-01, -3.25176001e-01, -5.09445444e-02,  7.54545927e-02,\n",
              "       -3.71624351e-01, -1.13312140e-01, -6.62585944e-02,  1.51823282e+00,\n",
              "       -5.31028628e-01, -1.30167842e-01, -3.76846910e-01,  4.47170794e-01,\n",
              "       -7.92455137e-01,  7.15547979e-01, -1.07801592e+00,  6.33113384e-02,\n",
              "        1.36471987e-01,  3.84306133e-01, -8.33884180e-02, -8.96102428e-01,\n",
              "       -5.58376610e-01, -4.40142870e-01,  4.64019865e-01,  6.83354676e-01,\n",
              "        8.81026685e-01,  8.04078460e-01,  8.89922380e-01, -3.71467531e-01,\n",
              "        3.20712000e-01, -9.68627334e-01, -5.38456321e-01,  9.69836116e-01,\n",
              "        4.72280830e-01, -5.21486580e-01, -1.14990377e+00,  7.64390707e-01,\n",
              "        9.28868651e-01, -4.62333083e-01,  1.47214007e+00,  1.00898623e+00,\n",
              "        2.72561777e-02, -3.36002350e-01,  3.66185576e-01, -8.30029726e-01,\n",
              "        8.32708836e-01, -2.09327593e-01,  5.41114450e-01,  5.58956526e-03,\n",
              "       -1.20040917e+00,  1.61149883e+00,  1.34499744e-01, -9.66454268e-01,\n",
              "       -4.99877751e-01, -1.32097948e+00, -1.03940821e+00,  5.52606642e-01,\n",
              "       -1.08305648e-01,  5.09728193e-01,  1.51706207e+00,  5.65819085e-01,\n",
              "       -7.06211388e-01, -8.77725363e-01, -3.38928223e-01, -1.18889248e+00,\n",
              "        8.26294780e-01, -9.32005793e-02, -9.20488298e-01, -5.32240510e-01,\n",
              "       -5.78518510e-01, -1.56149375e+00,  3.84275950e-02, -7.07218144e-03,\n",
              "        4.44644064e-01,  8.62920463e-01, -5.82101464e-01, -4.79684114e-01,\n",
              "        1.04398048e+00,  2.68124551e-01, -1.96507275e-01,  3.03506136e-01,\n",
              "        4.23453867e-01,  9.64615881e-01,  7.58221686e-01, -1.37391722e+00,\n",
              "        6.99703991e-01,  7.45817184e-01, -2.27857560e-01, -1.11903811e+00,\n",
              "        4.21699464e-01, -5.87746918e-01, -8.03090692e-01, -8.35998178e-01,\n",
              "        2.31258154e-01,  6.04064167e-01,  1.58182949e-01,  5.91421366e-01,\n",
              "        7.18783319e-01,  5.93084916e-02, -9.41929340e-01,  1.84901655e+00,\n",
              "       -4.49623074e-03, -3.45709324e-01, -4.79613274e-01, -7.32970119e-01,\n",
              "       -6.14773393e-01,  2.41394162e-01,  9.77210701e-02,  2.89959490e-01,\n",
              "       -7.49145076e-03,  2.59449899e-01, -9.21000659e-01, -3.90977830e-01,\n",
              "       -2.08326712e-01, -2.68731602e-02, -4.99256223e-01, -3.37404162e-02,\n",
              "       -4.79076922e-01, -1.34623885e-01, -8.06932092e-01,  6.82985112e-02,\n",
              "        1.02824375e-01, -9.73081291e-02, -1.13443816e+00, -7.83865824e-02,\n",
              "       -3.99807572e-01,  1.55589700e+00,  8.23544800e-01, -7.23734796e-02,\n",
              "        2.96907604e-01,  5.02331495e-01,  1.59755027e+00,  8.17153096e-01,\n",
              "       -1.29715419e+00, -5.46355367e-01, -2.06397265e-01, -6.14400864e-01,\n",
              "        4.10500824e-01,  5.43019772e-01,  3.34415734e-01,  1.60042197e-01,\n",
              "        2.94566512e-01, -7.26609111e-01, -2.33408391e-01, -2.81374454e-01,\n",
              "        2.52604842e-01, -8.75987172e-01, -1.38904643e+00, -4.42436934e-01,\n",
              "       -2.63868004e-01,  7.06737161e-01,  4.53020245e-01, -2.73107551e-02,\n",
              "        3.36589962e-02,  1.37586331e+00, -1.20362234e+00, -1.05631299e-01,\n",
              "        1.35400891e+00,  5.71197212e-01, -1.90114379e-01, -7.78795004e-01,\n",
              "        9.19416070e-01,  2.91697979e-02,  9.01943624e-01,  3.84946406e-01,\n",
              "       -7.71585047e-01, -2.89146453e-01, -1.03177154e+00, -2.98035741e-02,\n",
              "       -7.87526548e-01, -1.89786330e-01,  1.34823751e-02, -2.08486885e-01,\n",
              "       -4.37452197e-01, -6.64088801e-02, -1.04146576e+00, -1.50142729e-01,\n",
              "       -7.16185510e-01,  9.59681213e-01,  9.59744215e-01,  5.08015975e-02,\n",
              "       -1.04447770e+00, -6.37518167e-01,  3.66442591e-01, -3.82722795e-01,\n",
              "        1.31906402e+00,  1.45001441e-01, -6.41281784e-01, -5.98729014e-01,\n",
              "        7.02861071e-01, -8.84651601e-01,  1.25727206e-01, -3.80322635e-01,\n",
              "        8.64818335e-01, -2.33580351e-01, -2.71141440e-01,  6.46023333e-01,\n",
              "        4.02888805e-01,  6.42238855e-01, -3.75312209e-01,  2.64487535e-01,\n",
              "        3.90019625e-01, -1.21106637e+00, -8.53012323e-01, -4.00401533e-01,\n",
              "       -6.11688606e-02, -1.38907358e-01, -8.29428852e-01,  6.55081272e-01,\n",
              "       -9.51449990e-01, -4.88160938e-01,  3.53118777e-01, -5.24570420e-02,\n",
              "       -3.22272778e-01,  4.67263944e-02, -2.66492844e-01, -6.36002660e-01,\n",
              "       -6.55411780e-01,  4.32623327e-01, -3.66127849e-01, -8.58402848e-01,\n",
              "       -6.70050204e-01,  6.54443264e-01,  9.39720929e-01,  6.13246620e-01,\n",
              "       -6.15882635e-01, -1.92913949e-01, -6.57639503e-01,  2.21031368e-01,\n",
              "       -8.24141324e-01,  4.13941622e-01, -7.74653926e-02, -2.64516044e-02,\n",
              "       -2.43780017e-01, -5.37126124e-01,  2.61406064e-01,  7.12725222e-02,\n",
              "        2.72264719e-01, -5.79714417e-01, -4.35480535e-01, -1.55102938e-01,\n",
              "       -5.11492938e-02, -3.90105546e-01,  2.97166407e-01,  9.47196603e-01,\n",
              "        3.97566706e-01,  2.41589658e-02,  4.95178342e-01,  1.46718621e-01,\n",
              "       -8.70150700e-03, -4.99540448e-01, -1.60992399e-01, -9.78317261e-02,\n",
              "       -7.46045336e-02, -3.34505796e-01,  2.28781581e-01,  2.35305667e-01,\n",
              "        9.51480389e-01, -7.77014256e-01,  7.80179799e-01,  1.57984114e+00,\n",
              "       -5.26371479e-01,  1.25462079e+00,  2.80732691e-01,  4.43961658e-02,\n",
              "        1.07033134e+00,  7.17213690e-01,  2.78862715e-01,  1.43552065e+00,\n",
              "       -5.92890739e-01, -9.66829240e-01,  1.11776233e+00, -9.05957103e-01,\n",
              "       -7.06285894e-01,  2.52632648e-01, -5.22683382e-01,  7.01993823e-01,\n",
              "        7.04337433e-02, -1.70125440e-02, -1.37859195e-01, -6.69846475e-01,\n",
              "       -7.12336421e-01,  9.76877809e-01,  4.38317358e-01,  3.72829467e-01,\n",
              "        2.29631349e-01,  6.98538363e-01, -1.48972118e+00, -1.41212225e+00,\n",
              "        2.14935362e-01, -6.88571572e-01, -1.72185326e+00,  2.53046989e-01,\n",
              "       -3.02825123e-03,  4.17283833e-01,  1.19032502e+00, -4.82820421e-01,\n",
              "        1.04584181e+00,  5.50280392e-01, -5.47210015e-02, -3.44868958e-01,\n",
              "        4.13041651e-01,  7.17262924e-02,  1.14189672e+00,  1.35872602e-01,\n",
              "        3.00453126e-01, -5.30893862e-01, -6.11331224e-01, -6.56886697e-01,\n",
              "        4.44537401e-01,  3.02312672e-01, -1.34964812e+00, -1.83089983e+00,\n",
              "       -5.16354442e-01, -2.99865574e-01, -1.09082028e-01, -2.51416743e-01,\n",
              "       -6.98635578e-02, -3.27998817e-01, -6.69996738e-02,  2.97133252e-03,\n",
              "        4.61453274e-02,  1.45824528e+00, -1.64550841e-01,  7.58643746e-01,\n",
              "        3.25558692e-01,  1.11705017e+00, -1.18035331e-01,  1.24238837e+00,\n",
              "       -2.52013713e-01, -3.23497415e-01, -9.84797418e-01, -3.76876086e-01,\n",
              "       -3.48661840e-01, -9.55701545e-02,  1.05267420e-01,  6.79741859e-01,\n",
              "       -2.93264657e-01, -1.89829659e+00, -2.47146115e-01, -1.78762615e-01,\n",
              "        3.69977504e-01,  2.16267079e-01,  1.26924849e+00,  4.06532496e-01,\n",
              "        4.88776445e-01,  8.36691260e-01,  9.23246682e-01, -1.40163863e+00,\n",
              "       -2.69862443e-01, -4.24707830e-02, -1.81636572e-01, -1.93909649e-02,\n",
              "       -3.63157630e-01,  1.76845700e-01, -6.43755853e-01,  1.99970186e-01,\n",
              "       -1.64426014e-01, -6.70315027e-01, -6.61143243e-01,  1.20270411e-02,\n",
              "        1.39845932e+00,  2.21702829e-01, -2.03347743e-01,  9.53288227e-02,\n",
              "        2.45666057e-01,  3.33943158e-01, -3.74676615e-01,  6.78302109e-01,\n",
              "        4.22625989e-01, -9.09727335e-01,  2.07999796e-01,  6.46251500e-01,\n",
              "        1.32585847e+00,  1.41038820e-01,  1.81187212e-01,  5.26490211e-02,\n",
              "        7.92731047e-01, -5.42079210e-01, -2.66619980e-01, -7.42817879e-01,\n",
              "       -6.22059286e-01,  2.95068830e-01, -6.77053928e-01,  2.11505711e-01,\n",
              "       -9.46459174e-02,  7.47169912e-01,  5.20388305e-01,  7.96892762e-01,\n",
              "       -1.03603721e+00, -2.24181965e-01,  8.16948295e-01,  9.47708845e-01,\n",
              "        4.45876122e-01,  8.44527781e-01,  1.41677201e-01, -3.47409546e-01,\n",
              "        1.40858686e+00,  1.51123476e+00, -2.78107226e-01,  5.30136824e-02,\n",
              "        1.08853176e-01, -6.85754776e-01, -4.33541536e-01, -5.73527575e-01,\n",
              "        6.82092428e-01,  3.87436676e+00,  2.40874991e-01,  3.59275639e-01,\n",
              "        3.47017050e-01,  7.77949572e-01,  3.54132652e-01,  3.57003152e-01,\n",
              "       -4.32151377e-01,  3.30905020e-01,  4.70301867e-01,  3.61076742e-03,\n",
              "        5.77266634e-01,  6.56525850e-01,  6.60118759e-01, -5.86039834e-02,\n",
              "        1.18016534e-01,  1.53855965e-01,  1.73746914e-01,  7.44780675e-02,\n",
              "        2.32326370e-02, -1.46894968e+00,  5.11907279e-01, -5.32881804e-02,\n",
              "        2.04985932e-01,  9.17958498e-01,  6.66858479e-02, -1.40740597e+00,\n",
              "        1.12746906e+00,  2.67345756e-01, -9.62009490e-01,  5.61351359e-01,\n",
              "       -7.04221904e-01,  2.30784625e-01,  1.90473780e-01,  6.35004401e-01,\n",
              "        6.11779869e-01, -2.22828701e-01, -4.19349253e-01, -1.32315874e-01,\n",
              "        3.16109449e-01, -3.59017491e-01,  1.10943270e+00,  6.45069957e-01,\n",
              "       -1.97521999e-01,  7.58598566e-01, -2.68673509e-01,  1.36004829e+00,\n",
              "       -7.10319817e-01, -9.40707147e-01, -8.07601929e-01,  6.86013773e-02,\n",
              "        9.51894820e-02,  9.58141565e-01,  1.76265574e+00, -3.03162634e-01,\n",
              "        4.25707921e-03,  1.14187874e-01,  1.40171379e-01, -1.45872140e+00,\n",
              "       -1.06297982e+00, -1.19455075e+00,  7.45509267e-01,  1.68344200e-01,\n",
              "        9.72283602e-01,  9.67947960e-01, -1.75423712e-01,  5.49903572e-01,\n",
              "       -6.57224894e-01, -3.44388187e-01, -7.24787712e-01,  1.15853453e+00,\n",
              "       -1.10041738e+00, -5.83044529e-01, -3.13165069e-01,  4.26296800e-01,\n",
              "        1.58652294e+00,  4.74717230e-01,  3.92290235e-01,  4.24212694e-01,\n",
              "        2.57469833e-01, -6.99686646e-01, -7.26174712e-01,  6.47635698e-01,\n",
              "        6.08678877e-01, -1.62948370e-02, -3.44457865e-01, -1.79395184e-01,\n",
              "       -1.19854309e-01,  7.72853971e-01, -3.19424450e-01,  7.75445104e-01,\n",
              "        4.72309291e-01, -4.18294631e-02,  3.25933635e-01,  8.42085958e-01,\n",
              "        9.70997691e-01,  2.64360577e-01,  2.32165575e-01, -8.07763636e-03,\n",
              "        2.45904177e-01, -1.55162811e+00,  1.24258384e-01, -8.30603957e-01,\n",
              "        6.39447570e-02,  4.67584372e-01,  4.54717010e-01,  1.65489644e-01,\n",
              "       -2.30607226e-01, -1.69386172e+00, -6.70910716e-01,  3.09009373e-01,\n",
              "        1.01871634e+00,  4.86127555e-01, -5.51107049e-01,  1.05263138e+00,\n",
              "       -3.82872075e-01, -4.84713614e-01,  1.68787137e-01,  7.99815595e-01,\n",
              "        4.21716303e-01,  3.65630686e-01,  5.36288381e-01, -6.90327108e-01,\n",
              "        1.29311904e-01,  2.15406805e-01, -2.46199071e-01, -6.62896812e-01,\n",
              "        1.13298222e-01, -7.22848296e-01,  9.01581228e-01,  6.73586249e-01,\n",
              "       -4.46720093e-01,  1.14401209e+00,  3.83407533e-01, -3.05291504e-01,\n",
              "       -5.26917219e-01,  1.58556736e+00, -1.59113550e+00, -2.16863722e-01,\n",
              "       -4.17959318e-02,  5.48777342e-01, -3.79388928e-01, -2.52269469e-02,\n",
              "       -6.96325064e-01, -6.35497630e-01, -7.59640992e-01, -7.46001363e-01,\n",
              "       -1.20387845e-01, -1.19225192e+00, -8.71068418e-01, -3.44997644e-01],\n",
              "      dtype=float32)"
            ]
          },
          "metadata": {},
          "execution_count": 13
        }
      ]
    },
    {
      "cell_type": "markdown",
      "metadata": {
        "id": "GFMXDGYeoqNB"
      },
      "source": [
        "## 説明文の分散表現の計算実行\n",
        "\n",
        "画像メタデータに説明文の分散表現を追加します。\n",
        "\n",
        "- 処理速度：\n",
        "  - T4 GPU：約5分/25000件"
      ]
    },
    {
      "cell_type": "code",
      "metadata": {
        "id": "jxi0CKEwhudM",
        "colab": {
          "base_uri": "https://localhost:8080/"
        },
        "outputId": "b613f507-6f05-4666-a699-b393f0ee3a7e"
      },
      "source": [
        "from tqdm import tqdm\n",
        "for item in tqdm(items):\n",
        "    desc = item[\"desc\"]\n",
        "    desc_vec = get_sentence_vector(desc)\n",
        "    item[\"vec\"] = desc_vec"
      ],
      "execution_count": 14,
      "outputs": [
        {
          "output_type": "stream",
          "name": "stderr",
          "text": [
            "100%|██████████| 24995/24995 [03:45<00:00, 110.65it/s]\n"
          ]
        }
      ]
    },
    {
      "cell_type": "markdown",
      "metadata": {
        "id": "bs8RGc3omSWu"
      },
      "source": [
        "## コサイン類似度の定義\n",
        "\n",
        "今回は、文の意味の近さを、文の分散表現のコサイン類似度によって測ります。  \n",
        "文の意味が近ければ、文の分散表現（ベクトル）v1とv2が近くなるという定性的性質を、ベクトルの成す角のcosによって測るということです。"
      ]
    },
    {
      "cell_type": "code",
      "metadata": {
        "id": "Offh5t0egMMf"
      },
      "source": [
        "import numpy as np\n",
        "\n",
        "def cos_sim(v1, v2):\n",
        "    v1 = v1 / np.linalg.norm(v1, axis=0, ord=2)\n",
        "    v2 = v2 / np.linalg.norm(v2, axis=0, ord=2)\n",
        "    return np.sum(v1 * v2)"
      ],
      "execution_count": 15,
      "outputs": []
    },
    {
      "cell_type": "markdown",
      "metadata": {
        "id": "Qc4hRErho2Hg"
      },
      "source": [
        "## 画像検索結果GUIの定義\n",
        "\n",
        "最後のステップです。画像を検索する関数を定義します。  \n",
        "いままで作った関数を使えば、次の処理からなる検索アルゴリズム（最初の図も参照）を簡単に実装できますね。  \n",
        "\n",
        "1. 与えられた文から文の分散表現を計算する。\n",
        "2. その分散表現と、説明文の分散表現の間のコサイン類似度を計算する。\n",
        "3. コサイン類似度の高い順に画像の関連情報を表示する。\n",
        "\n",
        "**※なお「いらすとや」さんの広告収入モデルに悪影響を与えないよう、必ず「いらすとや」さんのページへのリンクを張り、画像のダウンロードは「いらすとや」さんのページから行うようにしましょう。その他、[「いらすとや」さんの利用規約](https://www.irasutoya.com/p/terms.html)に違反しないよう十分ご注意ください。**\n"
      ]
    },
    {
      "cell_type": "code",
      "metadata": {
        "id": "DERnyNfUhzuw"
      },
      "source": [
        "from IPython.display import display, HTML, clear_output\n",
        "from html import escape\n",
        "import numpy as np\n",
        "\n",
        "def search_irasuto(sentence, top_n=3):\n",
        "    sentence_vector = get_sentence_vector(sentence)\n",
        "    sims = []\n",
        "    if sentence_vector is None:\n",
        "        print(\"検索できない文章です。もう少し文章を長くしてみてください。\")\n",
        "    else:\n",
        "        for item in items:\n",
        "            v = item[\"vec\"]\n",
        "            if v is None:\n",
        "                sims.append(-1.0)\n",
        "            else:\n",
        "                sim = cos_sim(sentence_vector, v)\n",
        "                sims.append(sim)\n",
        "\n",
        "    count = 0\n",
        "    for index in np.argsort(sims)[::-1]:\n",
        "        if count >= top_n:\n",
        "            break\n",
        "        item = items[index]\n",
        "        desc = escape(item[\"desc\"])\n",
        "        imgs = item[\"imgs\"]\n",
        "        if len(imgs) == 0:\n",
        "            continue\n",
        "        img = imgs[0]\n",
        "        page = item[\"page\"]\n",
        "        sim = sims[index]\n",
        "        display(HTML(\"<div><a href='\" + page + \"' target='_blank' rel='noopener noreferrer'><img src='\" + img + \"' width='100'>\" + str(sim) + \": \" + desc + \"</a><div>\"))\n",
        "        count += 1"
      ],
      "execution_count": 16,
      "outputs": []
    },
    {
      "cell_type": "markdown",
      "metadata": {
        "id": "Sf2zNh0_pICu"
      },
      "source": [
        "## アプリの動作確認\n",
        "\n",
        "さあ、これでアルゴリズムは完成しました。早速、試してみましょう。  "
      ]
    },
    {
      "cell_type": "code",
      "metadata": {
        "id": "yKIhqhnBh3U6",
        "colab": {
          "base_uri": "https://localhost:8080/",
          "height": 566
        },
        "outputId": "df168a0f-a0b8-4e21-dd8c-e69695e84f71"
      },
      "source": [
        "search_irasuto(sentence=\"暴走したAI\", top_n=5)"
      ],
      "execution_count": 17,
      "outputs": [
        {
          "output_type": "display_data",
          "data": {
            "text/plain": [
              "<IPython.core.display.HTML object>"
            ],
            "text/html": [
              "<div><a href='https://www.irasutoya.com/2018/01/ai_67.html' target='_blank' rel='noopener noreferrer'><img src='https://3.bp.blogspot.com/-C2s0Odthnhs/WlGpE022cNI/AAAAAAABJkQ/O3rwM1BtFtYUkf83QIarn9eiHA7jLgHSwCLcBGAs/s400/ai_heart_kokoro.png' width='100'>0.6135174: 感情を持ってしまったAI（人工知能）のイラストです。</a><div>"
            ]
          },
          "metadata": {}
        },
        {
          "output_type": "display_data",
          "data": {
            "text/plain": [
              "<IPython.core.display.HTML object>"
            ],
            "text/html": [
              "<div><a href='https://www.irasutoya.com/2018/01/ai_24.html' target='_blank' rel='noopener noreferrer'><img src='https://1.bp.blogspot.com/-_8SYZZElKrs/WlGpFpPYlHI/AAAAAAABJkY/f2nT1BHBhUMzI_iztmoUPpLZdbl5TDENwCLcBGAs/s400/ai_vs_ai_fight.png' width='100'>0.5870857: AI（人工知能）のキャラクター同士で戦っているイラストです。</a><div>"
            ]
          },
          "metadata": {}
        },
        {
          "output_type": "display_data",
          "data": {
            "text/plain": [
              "<IPython.core.display.HTML object>"
            ],
            "text/html": [
              "<div><a href='https://www.irasutoya.com/2018/03/ai_23.html' target='_blank' rel='noopener noreferrer'><img src='https://1.bp.blogspot.com/-fyYoL91_tQo/Wp0Nn-VLocI/AAAAAAABKiI/3J2ywEvlbwIhjFNsmF8qpluPOg2it_HAQCLcBGAs/s450/ai_kanabou_buki.png' width='100'>0.567286: 人類に反乱を起こそうと企てているAI（人工知能）のキャラクターです。</a><div>"
            ]
          },
          "metadata": {}
        },
        {
          "output_type": "display_data",
          "data": {
            "text/plain": [
              "<IPython.core.display.HTML object>"
            ],
            "text/html": [
              "<div><a href='https://www.irasutoya.com/2018/08/blog-post_828.html' target='_blank' rel='noopener noreferrer'><img src='https://2.bp.blogspot.com/-PHW69E8l4DE/W2aRKUoipoI/AAAAAAABN2k/zRj1nHf71DgPbFtA7IiI8UVPrCSqpS69ACLcBGAs/s550/ai_oinukareru_singularity.png' width='100'>0.49218783: 人工知能（AI）が人類の知性を超え、さらに予測のできない無限の進化をし始めるといわれる段階を表す、シンギュラリティ（技術的特異点）のイラストです。</a><div>"
            ]
          },
          "metadata": {}
        },
        {
          "output_type": "display_data",
          "data": {
            "text/plain": [
              "<IPython.core.display.HTML object>"
            ],
            "text/html": [
              "<div><a href='https://www.irasutoya.com/2016/12/blog-post_607.html' target='_blank' rel='noopener noreferrer'><img src='https://2.bp.blogspot.com/--RIb-pd-Kdg/WFtH6Um3jmI/AAAAAAABAmQ/wRiSA1kKc8MBYEaEonmSbwB2UZAaiwhwACLcB/s400/ai_kenka.png' width='100'>0.4661097: 人工知能（AI）のキャラクターと人間がつかみ合いの喧嘩をしているイラストです。</a><div>"
            ]
          },
          "metadata": {}
        }
      ]
    },
    {
      "cell_type": "code",
      "metadata": {
        "id": "CI-7oNwlh-zK",
        "colab": {
          "base_uri": "https://localhost:8080/",
          "height": 456
        },
        "outputId": "95a4c08f-00b2-4e02-e922-8224facb8e3a"
      },
      "source": [
        "search_irasuto(sentence=\"リモートワークで勉強会\", top_n=5)"
      ],
      "execution_count": 18,
      "outputs": [
        {
          "output_type": "display_data",
          "data": {
            "text/plain": [
              "<IPython.core.display.HTML object>"
            ],
            "text/html": [
              "<div><a href='https://www.irasutoya.com/2017/10/e_20.html' target='_blank' rel='noopener noreferrer'><img src='https://1.bp.blogspot.com/-7UuDOn6CFRY/Wc8fntN-PQI/AAAAAAABHHM/FXmIHaakG3ALVyGuN2x4CVzsomhk0r5SwCLcBGAs/s400/internet_school_e-learning_foreign_woman.png' width='100'>0.61276096: オンラインで受けられる英語の授業（講義・ウェブセミナー）がパソコンの画面に映っているイラストです。</a><div>"
            ]
          },
          "metadata": {}
        },
        {
          "output_type": "display_data",
          "data": {
            "text/plain": [
              "<IPython.core.display.HTML object>"
            ],
            "text/html": [
              "<div><a href='https://www.irasutoya.com/2018/06/e_29.html' target='_blank' rel='noopener noreferrer'><img src='https://2.bp.blogspot.com/-VMOuI_489gk/WxvJyQGGmWI/AAAAAAABMj0/TQSJlPyt55IDIHxYxV0CTdd7c6xRxNnYACLcBGAs/s450/e-learning_smartphone_man.png' width='100'>0.5951719: スマホで見れるオンライン授業（ウェブセミナー）を教えている男性講師のイラストです。</a><div>"
            ]
          },
          "metadata": {}
        },
        {
          "output_type": "display_data",
          "data": {
            "text/plain": [
              "<IPython.core.display.HTML object>"
            ],
            "text/html": [
              "<div><a href='https://www.irasutoya.com/2017/10/e.html' target='_blank' rel='noopener noreferrer'><img src='https://3.bp.blogspot.com/-1nZIMX_9Vz0/Wc8fm2k3HMI/AAAAAAABHHE/UB1cf5syS9UYCoe5m_OxhsezA7Cq-XLEQCLcBGAs/s400/internet_school_e-learning_foreign_man.png' width='100'>0.58776385: オンライン英会話の授業（講義・ウェブセミナー）がパソコンの画面に映し出されているイラストです。</a><div>"
            ]
          },
          "metadata": {}
        },
        {
          "output_type": "display_data",
          "data": {
            "text/plain": [
              "<IPython.core.display.HTML object>"
            ],
            "text/html": [
              "<div><a href='https://www.irasutoya.com/2020/04/blog-post_250.html' target='_blank' rel='noopener noreferrer'><img src='https://1.bp.blogspot.com/-6pDrDpYKUCg/Xor0RTjWgtI/AAAAAAABYL0/-y57hak6vKEhfrtHwOashooPxNMUaYJ8ACNcBGAsYHQ/s400/online_kaigi_man.png' width='100'>0.5776583: テレワーク（在宅勤務）をしている人がパソコンやテレビを使ってWEB会議をしているイラストです。</a><div>"
            ]
          },
          "metadata": {}
        },
        {
          "output_type": "display_data",
          "data": {
            "text/plain": [
              "<IPython.core.display.HTML object>"
            ],
            "text/html": [
              "<div><a href='https://www.irasutoya.com/2017/10/e_21.html' target='_blank' rel='noopener noreferrer'><img src='https://4.bp.blogspot.com/-tU8uNcU8ZDc/Wc8fn8-YGtI/AAAAAAABHHI/YQ9cTvsXzpMSZunR3oOVzqhhGg6iKeVQQCLcBGAs/s400/internet_school_e-learning_man.png' width='100'>0.56849337: 男性講師（教師）がオンラインで講義（授業・ウェブセミナー）をしているイラストです。</a><div>"
            ]
          },
          "metadata": {}
        }
      ]
    },
    {
      "cell_type": "code",
      "metadata": {
        "id": "v_YeSrnah5k6",
        "colab": {
          "base_uri": "https://localhost:8080/",
          "height": 592
        },
        "outputId": "9147353c-a32e-48cc-90d8-92813d6e3bab"
      },
      "source": [
        "search_irasuto(sentence=\"いらすとやさんに惜しみない拍手を\", top_n=5)"
      ],
      "execution_count": 19,
      "outputs": [
        {
          "output_type": "display_data",
          "data": {
            "text/plain": [
              "<IPython.core.display.HTML object>"
            ],
            "text/html": [
              "<div><a href='https://www.irasutoya.com/2015/01/blog-post_999.html' target='_blank' rel='noopener noreferrer'><img src='https://4.bp.blogspot.com/-GtjTLp56u_0/VJ6XZcw50aI/AAAAAAAAqKU/4oPlYcWPNoA/s450/figure_hakusyu.png' width='100'>0.7243637: ぱちぱちと拍手をしている棒人間のイラストです。</a><div>"
            ]
          },
          "metadata": {}
        },
        {
          "output_type": "display_data",
          "data": {
            "text/plain": [
              "<IPython.core.display.HTML object>"
            ],
            "text/html": [
              "<div><a href='https://www.irasutoya.com/2015/01/blog-post_883.html' target='_blank' rel='noopener noreferrer'><img src='https://4.bp.blogspot.com/-PSd2xMIqM5M/VJ6Xcu17JhI/AAAAAAAAqLE/wSlWHEFvLIg/s400/hakusyu.png' width='100'>0.613177: 笑顔で拍手を送っている男性のイラストです。</a><div>"
            ]
          },
          "metadata": {}
        },
        {
          "output_type": "display_data",
          "data": {
            "text/plain": [
              "<IPython.core.display.HTML object>"
            ],
            "text/html": [
              "<div><a href='https://www.irasutoya.com/2012/06/blog-post_26.html' target='_blank' rel='noopener noreferrer'><img src='https://4.bp.blogspot.com/-X2PuDm-47jM/VZ-TjkamcgI/AAAAAAAAvRo/0ysATpg0K34/s300/ojiisan01_laugh.png' width='100'>0.59988475: おじいさんのイラスト「笑った顔・怒った顔・泣いた顔・笑顔」</a><div>"
            ]
          },
          "metadata": {}
        },
        {
          "output_type": "display_data",
          "data": {
            "text/plain": [
              "<IPython.core.display.HTML object>"
            ],
            "text/html": [
              "<div><a href='https://www.irasutoya.com/2013/06/thank-you.html' target='_blank' rel='noopener noreferrer'><img src='https://2.bp.blogspot.com/-ihEGPBUkEN8/UWykjlrkseI/AAAAAAAAQkM/CDXGLrzxN3c/s400/message_thank_you.png' width='100'>0.5885397: きらきらと輝く「THANK YOU」という文字が描かれた、メッセージのイラストです。</a><div>"
            ]
          },
          "metadata": {}
        },
        {
          "output_type": "display_data",
          "data": {
            "text/plain": [
              "<IPython.core.display.HTML object>"
            ],
            "text/html": [
              "<div><a href='https://www.irasutoya.com/2014/12/blog-post_76.html' target='_blank' rel='noopener noreferrer'><img src='https://3.bp.blogspot.com/-HYTzBW5hPSQ/VHPgXpF8KUI/AAAAAAAApRo/HiMR9eUSuMo/s400/tozan_choujou.png' width='100'>0.58148056: 山の頂上で気持ちよさそうに「やっほー」と叫んでいる登山家のイラストです。</a><div>"
            ]
          },
          "metadata": {}
        }
      ]
    },
    {
      "cell_type": "code",
      "metadata": {
        "id": "TI9ReUvOv2G0"
      },
      "source": [],
      "execution_count": 19,
      "outputs": []
    }
  ]
}