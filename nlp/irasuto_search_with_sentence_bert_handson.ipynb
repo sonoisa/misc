{
  "nbformat": 4,
  "nbformat_minor": 0,
  "metadata": {
    "colab": {
      "name": "irasuto_search_with_sentence_bert_handson.ipynb",
      "provenance": [],
      "collapsed_sections": [],
      "toc_visible": true
    },
    "kernelspec": {
      "name": "python3",
      "display_name": "Python 3"
    },
    "accelerator": "GPU",
    "widgets": {
      "application/vnd.jupyter.widget-state+json": {
        "ad3cc4b1bbc2405683a6d2c8b0cc336c": {
          "model_module": "@jupyter-widgets/controls",
          "model_name": "HBoxModel",
          "model_module_version": "1.5.0",
          "state": {
            "_dom_classes": [],
            "_model_module": "@jupyter-widgets/controls",
            "_model_module_version": "1.5.0",
            "_model_name": "HBoxModel",
            "_view_count": null,
            "_view_module": "@jupyter-widgets/controls",
            "_view_module_version": "1.5.0",
            "_view_name": "HBoxView",
            "box_style": "",
            "children": [
              "IPY_MODEL_d34146d0c3d144058b296f46000b6abd",
              "IPY_MODEL_eff57b3828f44d759154bd8f610b248c",
              "IPY_MODEL_de794b8cfbc34edc9ca67d8dcdc2a787"
            ],
            "layout": "IPY_MODEL_c8b932b5903542d3872b746c6b69778e"
          }
        },
        "d34146d0c3d144058b296f46000b6abd": {
          "model_module": "@jupyter-widgets/controls",
          "model_name": "HTMLModel",
          "model_module_version": "1.5.0",
          "state": {
            "_dom_classes": [],
            "_model_module": "@jupyter-widgets/controls",
            "_model_module_version": "1.5.0",
            "_model_name": "HTMLModel",
            "_view_count": null,
            "_view_module": "@jupyter-widgets/controls",
            "_view_module_version": "1.5.0",
            "_view_name": "HTMLView",
            "description": "",
            "description_tooltip": null,
            "layout": "IPY_MODEL_a99534fb0c9146c8bc51d724dd41776c",
            "placeholder": "​",
            "style": "IPY_MODEL_a995bd7279474add9414a156650c8af5",
            "value": "Downloading: 100%"
          }
        },
        "eff57b3828f44d759154bd8f610b248c": {
          "model_module": "@jupyter-widgets/controls",
          "model_name": "FloatProgressModel",
          "model_module_version": "1.5.0",
          "state": {
            "_dom_classes": [],
            "_model_module": "@jupyter-widgets/controls",
            "_model_module_version": "1.5.0",
            "_model_name": "FloatProgressModel",
            "_view_count": null,
            "_view_module": "@jupyter-widgets/controls",
            "_view_module_version": "1.5.0",
            "_view_name": "ProgressView",
            "bar_style": "success",
            "description": "",
            "description_tooltip": null,
            "layout": "IPY_MODEL_27c8cae36bf240dc8ed45be70fedf81c",
            "max": 257706,
            "min": 0,
            "orientation": "horizontal",
            "style": "IPY_MODEL_7997a4c18aa9409c94c85ba8bc1cfe08",
            "value": 257706
          }
        },
        "de794b8cfbc34edc9ca67d8dcdc2a787": {
          "model_module": "@jupyter-widgets/controls",
          "model_name": "HTMLModel",
          "model_module_version": "1.5.0",
          "state": {
            "_dom_classes": [],
            "_model_module": "@jupyter-widgets/controls",
            "_model_module_version": "1.5.0",
            "_model_name": "HTMLModel",
            "_view_count": null,
            "_view_module": "@jupyter-widgets/controls",
            "_view_module_version": "1.5.0",
            "_view_name": "HTMLView",
            "description": "",
            "description_tooltip": null,
            "layout": "IPY_MODEL_9b22b70ed02c46b6838a705c42f9db52",
            "placeholder": "​",
            "style": "IPY_MODEL_e092a0d38ee84a5e8e346483eb42accd",
            "value": " 258k/258k [00:00&lt;00:00, 319kB/s]"
          }
        },
        "c8b932b5903542d3872b746c6b69778e": {
          "model_module": "@jupyter-widgets/base",
          "model_name": "LayoutModel",
          "model_module_version": "1.2.0",
          "state": {
            "_model_module": "@jupyter-widgets/base",
            "_model_module_version": "1.2.0",
            "_model_name": "LayoutModel",
            "_view_count": null,
            "_view_module": "@jupyter-widgets/base",
            "_view_module_version": "1.2.0",
            "_view_name": "LayoutView",
            "align_content": null,
            "align_items": null,
            "align_self": null,
            "border": null,
            "bottom": null,
            "display": null,
            "flex": null,
            "flex_flow": null,
            "grid_area": null,
            "grid_auto_columns": null,
            "grid_auto_flow": null,
            "grid_auto_rows": null,
            "grid_column": null,
            "grid_gap": null,
            "grid_row": null,
            "grid_template_areas": null,
            "grid_template_columns": null,
            "grid_template_rows": null,
            "height": null,
            "justify_content": null,
            "justify_items": null,
            "left": null,
            "margin": null,
            "max_height": null,
            "max_width": null,
            "min_height": null,
            "min_width": null,
            "object_fit": null,
            "object_position": null,
            "order": null,
            "overflow": null,
            "overflow_x": null,
            "overflow_y": null,
            "padding": null,
            "right": null,
            "top": null,
            "visibility": null,
            "width": null
          }
        },
        "a99534fb0c9146c8bc51d724dd41776c": {
          "model_module": "@jupyter-widgets/base",
          "model_name": "LayoutModel",
          "model_module_version": "1.2.0",
          "state": {
            "_model_module": "@jupyter-widgets/base",
            "_model_module_version": "1.2.0",
            "_model_name": "LayoutModel",
            "_view_count": null,
            "_view_module": "@jupyter-widgets/base",
            "_view_module_version": "1.2.0",
            "_view_name": "LayoutView",
            "align_content": null,
            "align_items": null,
            "align_self": null,
            "border": null,
            "bottom": null,
            "display": null,
            "flex": null,
            "flex_flow": null,
            "grid_area": null,
            "grid_auto_columns": null,
            "grid_auto_flow": null,
            "grid_auto_rows": null,
            "grid_column": null,
            "grid_gap": null,
            "grid_row": null,
            "grid_template_areas": null,
            "grid_template_columns": null,
            "grid_template_rows": null,
            "height": null,
            "justify_content": null,
            "justify_items": null,
            "left": null,
            "margin": null,
            "max_height": null,
            "max_width": null,
            "min_height": null,
            "min_width": null,
            "object_fit": null,
            "object_position": null,
            "order": null,
            "overflow": null,
            "overflow_x": null,
            "overflow_y": null,
            "padding": null,
            "right": null,
            "top": null,
            "visibility": null,
            "width": null
          }
        },
        "a995bd7279474add9414a156650c8af5": {
          "model_module": "@jupyter-widgets/controls",
          "model_name": "DescriptionStyleModel",
          "model_module_version": "1.5.0",
          "state": {
            "_model_module": "@jupyter-widgets/controls",
            "_model_module_version": "1.5.0",
            "_model_name": "DescriptionStyleModel",
            "_view_count": null,
            "_view_module": "@jupyter-widgets/base",
            "_view_module_version": "1.2.0",
            "_view_name": "StyleView",
            "description_width": ""
          }
        },
        "27c8cae36bf240dc8ed45be70fedf81c": {
          "model_module": "@jupyter-widgets/base",
          "model_name": "LayoutModel",
          "model_module_version": "1.2.0",
          "state": {
            "_model_module": "@jupyter-widgets/base",
            "_model_module_version": "1.2.0",
            "_model_name": "LayoutModel",
            "_view_count": null,
            "_view_module": "@jupyter-widgets/base",
            "_view_module_version": "1.2.0",
            "_view_name": "LayoutView",
            "align_content": null,
            "align_items": null,
            "align_self": null,
            "border": null,
            "bottom": null,
            "display": null,
            "flex": null,
            "flex_flow": null,
            "grid_area": null,
            "grid_auto_columns": null,
            "grid_auto_flow": null,
            "grid_auto_rows": null,
            "grid_column": null,
            "grid_gap": null,
            "grid_row": null,
            "grid_template_areas": null,
            "grid_template_columns": null,
            "grid_template_rows": null,
            "height": null,
            "justify_content": null,
            "justify_items": null,
            "left": null,
            "margin": null,
            "max_height": null,
            "max_width": null,
            "min_height": null,
            "min_width": null,
            "object_fit": null,
            "object_position": null,
            "order": null,
            "overflow": null,
            "overflow_x": null,
            "overflow_y": null,
            "padding": null,
            "right": null,
            "top": null,
            "visibility": null,
            "width": null
          }
        },
        "7997a4c18aa9409c94c85ba8bc1cfe08": {
          "model_module": "@jupyter-widgets/controls",
          "model_name": "ProgressStyleModel",
          "model_module_version": "1.5.0",
          "state": {
            "_model_module": "@jupyter-widgets/controls",
            "_model_module_version": "1.5.0",
            "_model_name": "ProgressStyleModel",
            "_view_count": null,
            "_view_module": "@jupyter-widgets/base",
            "_view_module_version": "1.2.0",
            "_view_name": "StyleView",
            "bar_color": null,
            "description_width": ""
          }
        },
        "9b22b70ed02c46b6838a705c42f9db52": {
          "model_module": "@jupyter-widgets/base",
          "model_name": "LayoutModel",
          "model_module_version": "1.2.0",
          "state": {
            "_model_module": "@jupyter-widgets/base",
            "_model_module_version": "1.2.0",
            "_model_name": "LayoutModel",
            "_view_count": null,
            "_view_module": "@jupyter-widgets/base",
            "_view_module_version": "1.2.0",
            "_view_name": "LayoutView",
            "align_content": null,
            "align_items": null,
            "align_self": null,
            "border": null,
            "bottom": null,
            "display": null,
            "flex": null,
            "flex_flow": null,
            "grid_area": null,
            "grid_auto_columns": null,
            "grid_auto_flow": null,
            "grid_auto_rows": null,
            "grid_column": null,
            "grid_gap": null,
            "grid_row": null,
            "grid_template_areas": null,
            "grid_template_columns": null,
            "grid_template_rows": null,
            "height": null,
            "justify_content": null,
            "justify_items": null,
            "left": null,
            "margin": null,
            "max_height": null,
            "max_width": null,
            "min_height": null,
            "min_width": null,
            "object_fit": null,
            "object_position": null,
            "order": null,
            "overflow": null,
            "overflow_x": null,
            "overflow_y": null,
            "padding": null,
            "right": null,
            "top": null,
            "visibility": null,
            "width": null
          }
        },
        "e092a0d38ee84a5e8e346483eb42accd": {
          "model_module": "@jupyter-widgets/controls",
          "model_name": "DescriptionStyleModel",
          "model_module_version": "1.5.0",
          "state": {
            "_model_module": "@jupyter-widgets/controls",
            "_model_module_version": "1.5.0",
            "_model_name": "DescriptionStyleModel",
            "_view_count": null,
            "_view_module": "@jupyter-widgets/base",
            "_view_module_version": "1.2.0",
            "_view_name": "StyleView",
            "description_width": ""
          }
        },
        "a9dbc6b44c794522b6d2a050a69a1ed2": {
          "model_module": "@jupyter-widgets/controls",
          "model_name": "HBoxModel",
          "model_module_version": "1.5.0",
          "state": {
            "_dom_classes": [],
            "_model_module": "@jupyter-widgets/controls",
            "_model_module_version": "1.5.0",
            "_model_name": "HBoxModel",
            "_view_count": null,
            "_view_module": "@jupyter-widgets/controls",
            "_view_module_version": "1.5.0",
            "_view_name": "HBoxView",
            "box_style": "",
            "children": [
              "IPY_MODEL_04bb9381117345019dd9590bb4a1c40c",
              "IPY_MODEL_a29dd16f27974d52a6fc9af6b2a3892c",
              "IPY_MODEL_fd2c1cd16aee485ea69bb15c9f5fd2f8"
            ],
            "layout": "IPY_MODEL_68accbcd7be0427883479c9cf5be6743"
          }
        },
        "04bb9381117345019dd9590bb4a1c40c": {
          "model_module": "@jupyter-widgets/controls",
          "model_name": "HTMLModel",
          "model_module_version": "1.5.0",
          "state": {
            "_dom_classes": [],
            "_model_module": "@jupyter-widgets/controls",
            "_model_module_version": "1.5.0",
            "_model_name": "HTMLModel",
            "_view_count": null,
            "_view_module": "@jupyter-widgets/controls",
            "_view_module_version": "1.5.0",
            "_view_name": "HTMLView",
            "description": "",
            "description_tooltip": null,
            "layout": "IPY_MODEL_aabf5408857149c6b963dfba634b7ff1",
            "placeholder": "​",
            "style": "IPY_MODEL_8c17dd4456f044f294c99cf6d980488d",
            "value": "Downloading: 100%"
          }
        },
        "a29dd16f27974d52a6fc9af6b2a3892c": {
          "model_module": "@jupyter-widgets/controls",
          "model_name": "FloatProgressModel",
          "model_module_version": "1.5.0",
          "state": {
            "_dom_classes": [],
            "_model_module": "@jupyter-widgets/controls",
            "_model_module_version": "1.5.0",
            "_model_name": "FloatProgressModel",
            "_view_count": null,
            "_view_module": "@jupyter-widgets/controls",
            "_view_module_version": "1.5.0",
            "_view_name": "ProgressView",
            "bar_style": "success",
            "description": "",
            "description_tooltip": null,
            "layout": "IPY_MODEL_e4d9347dbd504bcab134cce99d4e3d7a",
            "max": 2,
            "min": 0,
            "orientation": "horizontal",
            "style": "IPY_MODEL_129d3ef8b7894c0398f906dba7694e05",
            "value": 2
          }
        },
        "fd2c1cd16aee485ea69bb15c9f5fd2f8": {
          "model_module": "@jupyter-widgets/controls",
          "model_name": "HTMLModel",
          "model_module_version": "1.5.0",
          "state": {
            "_dom_classes": [],
            "_model_module": "@jupyter-widgets/controls",
            "_model_module_version": "1.5.0",
            "_model_name": "HTMLModel",
            "_view_count": null,
            "_view_module": "@jupyter-widgets/controls",
            "_view_module_version": "1.5.0",
            "_view_name": "HTMLView",
            "description": "",
            "description_tooltip": null,
            "layout": "IPY_MODEL_85608b3fcd1345a5a035204a60cbc3fe",
            "placeholder": "​",
            "style": "IPY_MODEL_6daabcd486b94794a1e408c45f6d4c3e",
            "value": " 2.00/2.00 [00:00&lt;00:00, 60.5B/s]"
          }
        },
        "68accbcd7be0427883479c9cf5be6743": {
          "model_module": "@jupyter-widgets/base",
          "model_name": "LayoutModel",
          "model_module_version": "1.2.0",
          "state": {
            "_model_module": "@jupyter-widgets/base",
            "_model_module_version": "1.2.0",
            "_model_name": "LayoutModel",
            "_view_count": null,
            "_view_module": "@jupyter-widgets/base",
            "_view_module_version": "1.2.0",
            "_view_name": "LayoutView",
            "align_content": null,
            "align_items": null,
            "align_self": null,
            "border": null,
            "bottom": null,
            "display": null,
            "flex": null,
            "flex_flow": null,
            "grid_area": null,
            "grid_auto_columns": null,
            "grid_auto_flow": null,
            "grid_auto_rows": null,
            "grid_column": null,
            "grid_gap": null,
            "grid_row": null,
            "grid_template_areas": null,
            "grid_template_columns": null,
            "grid_template_rows": null,
            "height": null,
            "justify_content": null,
            "justify_items": null,
            "left": null,
            "margin": null,
            "max_height": null,
            "max_width": null,
            "min_height": null,
            "min_width": null,
            "object_fit": null,
            "object_position": null,
            "order": null,
            "overflow": null,
            "overflow_x": null,
            "overflow_y": null,
            "padding": null,
            "right": null,
            "top": null,
            "visibility": null,
            "width": null
          }
        },
        "aabf5408857149c6b963dfba634b7ff1": {
          "model_module": "@jupyter-widgets/base",
          "model_name": "LayoutModel",
          "model_module_version": "1.2.0",
          "state": {
            "_model_module": "@jupyter-widgets/base",
            "_model_module_version": "1.2.0",
            "_model_name": "LayoutModel",
            "_view_count": null,
            "_view_module": "@jupyter-widgets/base",
            "_view_module_version": "1.2.0",
            "_view_name": "LayoutView",
            "align_content": null,
            "align_items": null,
            "align_self": null,
            "border": null,
            "bottom": null,
            "display": null,
            "flex": null,
            "flex_flow": null,
            "grid_area": null,
            "grid_auto_columns": null,
            "grid_auto_flow": null,
            "grid_auto_rows": null,
            "grid_column": null,
            "grid_gap": null,
            "grid_row": null,
            "grid_template_areas": null,
            "grid_template_columns": null,
            "grid_template_rows": null,
            "height": null,
            "justify_content": null,
            "justify_items": null,
            "left": null,
            "margin": null,
            "max_height": null,
            "max_width": null,
            "min_height": null,
            "min_width": null,
            "object_fit": null,
            "object_position": null,
            "order": null,
            "overflow": null,
            "overflow_x": null,
            "overflow_y": null,
            "padding": null,
            "right": null,
            "top": null,
            "visibility": null,
            "width": null
          }
        },
        "8c17dd4456f044f294c99cf6d980488d": {
          "model_module": "@jupyter-widgets/controls",
          "model_name": "DescriptionStyleModel",
          "model_module_version": "1.5.0",
          "state": {
            "_model_module": "@jupyter-widgets/controls",
            "_model_module_version": "1.5.0",
            "_model_name": "DescriptionStyleModel",
            "_view_count": null,
            "_view_module": "@jupyter-widgets/base",
            "_view_module_version": "1.2.0",
            "_view_name": "StyleView",
            "description_width": ""
          }
        },
        "e4d9347dbd504bcab134cce99d4e3d7a": {
          "model_module": "@jupyter-widgets/base",
          "model_name": "LayoutModel",
          "model_module_version": "1.2.0",
          "state": {
            "_model_module": "@jupyter-widgets/base",
            "_model_module_version": "1.2.0",
            "_model_name": "LayoutModel",
            "_view_count": null,
            "_view_module": "@jupyter-widgets/base",
            "_view_module_version": "1.2.0",
            "_view_name": "LayoutView",
            "align_content": null,
            "align_items": null,
            "align_self": null,
            "border": null,
            "bottom": null,
            "display": null,
            "flex": null,
            "flex_flow": null,
            "grid_area": null,
            "grid_auto_columns": null,
            "grid_auto_flow": null,
            "grid_auto_rows": null,
            "grid_column": null,
            "grid_gap": null,
            "grid_row": null,
            "grid_template_areas": null,
            "grid_template_columns": null,
            "grid_template_rows": null,
            "height": null,
            "justify_content": null,
            "justify_items": null,
            "left": null,
            "margin": null,
            "max_height": null,
            "max_width": null,
            "min_height": null,
            "min_width": null,
            "object_fit": null,
            "object_position": null,
            "order": null,
            "overflow": null,
            "overflow_x": null,
            "overflow_y": null,
            "padding": null,
            "right": null,
            "top": null,
            "visibility": null,
            "width": null
          }
        },
        "129d3ef8b7894c0398f906dba7694e05": {
          "model_module": "@jupyter-widgets/controls",
          "model_name": "ProgressStyleModel",
          "model_module_version": "1.5.0",
          "state": {
            "_model_module": "@jupyter-widgets/controls",
            "_model_module_version": "1.5.0",
            "_model_name": "ProgressStyleModel",
            "_view_count": null,
            "_view_module": "@jupyter-widgets/base",
            "_view_module_version": "1.2.0",
            "_view_name": "StyleView",
            "bar_color": null,
            "description_width": ""
          }
        },
        "85608b3fcd1345a5a035204a60cbc3fe": {
          "model_module": "@jupyter-widgets/base",
          "model_name": "LayoutModel",
          "model_module_version": "1.2.0",
          "state": {
            "_model_module": "@jupyter-widgets/base",
            "_model_module_version": "1.2.0",
            "_model_name": "LayoutModel",
            "_view_count": null,
            "_view_module": "@jupyter-widgets/base",
            "_view_module_version": "1.2.0",
            "_view_name": "LayoutView",
            "align_content": null,
            "align_items": null,
            "align_self": null,
            "border": null,
            "bottom": null,
            "display": null,
            "flex": null,
            "flex_flow": null,
            "grid_area": null,
            "grid_auto_columns": null,
            "grid_auto_flow": null,
            "grid_auto_rows": null,
            "grid_column": null,
            "grid_gap": null,
            "grid_row": null,
            "grid_template_areas": null,
            "grid_template_columns": null,
            "grid_template_rows": null,
            "height": null,
            "justify_content": null,
            "justify_items": null,
            "left": null,
            "margin": null,
            "max_height": null,
            "max_width": null,
            "min_height": null,
            "min_width": null,
            "object_fit": null,
            "object_position": null,
            "order": null,
            "overflow": null,
            "overflow_x": null,
            "overflow_y": null,
            "padding": null,
            "right": null,
            "top": null,
            "visibility": null,
            "width": null
          }
        },
        "6daabcd486b94794a1e408c45f6d4c3e": {
          "model_module": "@jupyter-widgets/controls",
          "model_name": "DescriptionStyleModel",
          "model_module_version": "1.5.0",
          "state": {
            "_model_module": "@jupyter-widgets/controls",
            "_model_module_version": "1.5.0",
            "_model_name": "DescriptionStyleModel",
            "_view_count": null,
            "_view_module": "@jupyter-widgets/base",
            "_view_module_version": "1.2.0",
            "_view_name": "StyleView",
            "description_width": ""
          }
        },
        "c7fb3aa5d26c4693a9e2802406d95d64": {
          "model_module": "@jupyter-widgets/controls",
          "model_name": "HBoxModel",
          "model_module_version": "1.5.0",
          "state": {
            "_dom_classes": [],
            "_model_module": "@jupyter-widgets/controls",
            "_model_module_version": "1.5.0",
            "_model_name": "HBoxModel",
            "_view_count": null,
            "_view_module": "@jupyter-widgets/controls",
            "_view_module_version": "1.5.0",
            "_view_name": "HBoxView",
            "box_style": "",
            "children": [
              "IPY_MODEL_e9cd47cd26cb4a8cb07671a4548ad776",
              "IPY_MODEL_d68d7a359fb941b9aa86568cd357c591",
              "IPY_MODEL_1a72725e17b546f4b19cf0eae8ecc548"
            ],
            "layout": "IPY_MODEL_d929745d5aae40cb9589d1e94c83b07c"
          }
        },
        "e9cd47cd26cb4a8cb07671a4548ad776": {
          "model_module": "@jupyter-widgets/controls",
          "model_name": "HTMLModel",
          "model_module_version": "1.5.0",
          "state": {
            "_dom_classes": [],
            "_model_module": "@jupyter-widgets/controls",
            "_model_module_version": "1.5.0",
            "_model_name": "HTMLModel",
            "_view_count": null,
            "_view_module": "@jupyter-widgets/controls",
            "_view_module_version": "1.5.0",
            "_view_name": "HTMLView",
            "description": "",
            "description_tooltip": null,
            "layout": "IPY_MODEL_58acbe73e7504d10b4d993444f175886",
            "placeholder": "​",
            "style": "IPY_MODEL_0b99956bacaa4f0baeaec6c77438f16b",
            "value": "Downloading: 100%"
          }
        },
        "d68d7a359fb941b9aa86568cd357c591": {
          "model_module": "@jupyter-widgets/controls",
          "model_name": "FloatProgressModel",
          "model_module_version": "1.5.0",
          "state": {
            "_dom_classes": [],
            "_model_module": "@jupyter-widgets/controls",
            "_model_module_version": "1.5.0",
            "_model_name": "FloatProgressModel",
            "_view_count": null,
            "_view_module": "@jupyter-widgets/controls",
            "_view_module_version": "1.5.0",
            "_view_name": "ProgressView",
            "bar_style": "success",
            "description": "",
            "description_tooltip": null,
            "layout": "IPY_MODEL_36c1a872d56c4a0ea4a339a9d84668d9",
            "max": 112,
            "min": 0,
            "orientation": "horizontal",
            "style": "IPY_MODEL_653271d7029649edb9f732fdd4bd1297",
            "value": 112
          }
        },
        "1a72725e17b546f4b19cf0eae8ecc548": {
          "model_module": "@jupyter-widgets/controls",
          "model_name": "HTMLModel",
          "model_module_version": "1.5.0",
          "state": {
            "_dom_classes": [],
            "_model_module": "@jupyter-widgets/controls",
            "_model_module_version": "1.5.0",
            "_model_name": "HTMLModel",
            "_view_count": null,
            "_view_module": "@jupyter-widgets/controls",
            "_view_module_version": "1.5.0",
            "_view_name": "HTMLView",
            "description": "",
            "description_tooltip": null,
            "layout": "IPY_MODEL_4100a04721c84b6f955515302ed2c50b",
            "placeholder": "​",
            "style": "IPY_MODEL_a68e604778034722920857bcc1eec7df",
            "value": " 112/112 [00:00&lt;00:00, 3.35kB/s]"
          }
        },
        "d929745d5aae40cb9589d1e94c83b07c": {
          "model_module": "@jupyter-widgets/base",
          "model_name": "LayoutModel",
          "model_module_version": "1.2.0",
          "state": {
            "_model_module": "@jupyter-widgets/base",
            "_model_module_version": "1.2.0",
            "_model_name": "LayoutModel",
            "_view_count": null,
            "_view_module": "@jupyter-widgets/base",
            "_view_module_version": "1.2.0",
            "_view_name": "LayoutView",
            "align_content": null,
            "align_items": null,
            "align_self": null,
            "border": null,
            "bottom": null,
            "display": null,
            "flex": null,
            "flex_flow": null,
            "grid_area": null,
            "grid_auto_columns": null,
            "grid_auto_flow": null,
            "grid_auto_rows": null,
            "grid_column": null,
            "grid_gap": null,
            "grid_row": null,
            "grid_template_areas": null,
            "grid_template_columns": null,
            "grid_template_rows": null,
            "height": null,
            "justify_content": null,
            "justify_items": null,
            "left": null,
            "margin": null,
            "max_height": null,
            "max_width": null,
            "min_height": null,
            "min_width": null,
            "object_fit": null,
            "object_position": null,
            "order": null,
            "overflow": null,
            "overflow_x": null,
            "overflow_y": null,
            "padding": null,
            "right": null,
            "top": null,
            "visibility": null,
            "width": null
          }
        },
        "58acbe73e7504d10b4d993444f175886": {
          "model_module": "@jupyter-widgets/base",
          "model_name": "LayoutModel",
          "model_module_version": "1.2.0",
          "state": {
            "_model_module": "@jupyter-widgets/base",
            "_model_module_version": "1.2.0",
            "_model_name": "LayoutModel",
            "_view_count": null,
            "_view_module": "@jupyter-widgets/base",
            "_view_module_version": "1.2.0",
            "_view_name": "LayoutView",
            "align_content": null,
            "align_items": null,
            "align_self": null,
            "border": null,
            "bottom": null,
            "display": null,
            "flex": null,
            "flex_flow": null,
            "grid_area": null,
            "grid_auto_columns": null,
            "grid_auto_flow": null,
            "grid_auto_rows": null,
            "grid_column": null,
            "grid_gap": null,
            "grid_row": null,
            "grid_template_areas": null,
            "grid_template_columns": null,
            "grid_template_rows": null,
            "height": null,
            "justify_content": null,
            "justify_items": null,
            "left": null,
            "margin": null,
            "max_height": null,
            "max_width": null,
            "min_height": null,
            "min_width": null,
            "object_fit": null,
            "object_position": null,
            "order": null,
            "overflow": null,
            "overflow_x": null,
            "overflow_y": null,
            "padding": null,
            "right": null,
            "top": null,
            "visibility": null,
            "width": null
          }
        },
        "0b99956bacaa4f0baeaec6c77438f16b": {
          "model_module": "@jupyter-widgets/controls",
          "model_name": "DescriptionStyleModel",
          "model_module_version": "1.5.0",
          "state": {
            "_model_module": "@jupyter-widgets/controls",
            "_model_module_version": "1.5.0",
            "_model_name": "DescriptionStyleModel",
            "_view_count": null,
            "_view_module": "@jupyter-widgets/base",
            "_view_module_version": "1.2.0",
            "_view_name": "StyleView",
            "description_width": ""
          }
        },
        "36c1a872d56c4a0ea4a339a9d84668d9": {
          "model_module": "@jupyter-widgets/base",
          "model_name": "LayoutModel",
          "model_module_version": "1.2.0",
          "state": {
            "_model_module": "@jupyter-widgets/base",
            "_model_module_version": "1.2.0",
            "_model_name": "LayoutModel",
            "_view_count": null,
            "_view_module": "@jupyter-widgets/base",
            "_view_module_version": "1.2.0",
            "_view_name": "LayoutView",
            "align_content": null,
            "align_items": null,
            "align_self": null,
            "border": null,
            "bottom": null,
            "display": null,
            "flex": null,
            "flex_flow": null,
            "grid_area": null,
            "grid_auto_columns": null,
            "grid_auto_flow": null,
            "grid_auto_rows": null,
            "grid_column": null,
            "grid_gap": null,
            "grid_row": null,
            "grid_template_areas": null,
            "grid_template_columns": null,
            "grid_template_rows": null,
            "height": null,
            "justify_content": null,
            "justify_items": null,
            "left": null,
            "margin": null,
            "max_height": null,
            "max_width": null,
            "min_height": null,
            "min_width": null,
            "object_fit": null,
            "object_position": null,
            "order": null,
            "overflow": null,
            "overflow_x": null,
            "overflow_y": null,
            "padding": null,
            "right": null,
            "top": null,
            "visibility": null,
            "width": null
          }
        },
        "653271d7029649edb9f732fdd4bd1297": {
          "model_module": "@jupyter-widgets/controls",
          "model_name": "ProgressStyleModel",
          "model_module_version": "1.5.0",
          "state": {
            "_model_module": "@jupyter-widgets/controls",
            "_model_module_version": "1.5.0",
            "_model_name": "ProgressStyleModel",
            "_view_count": null,
            "_view_module": "@jupyter-widgets/base",
            "_view_module_version": "1.2.0",
            "_view_name": "StyleView",
            "bar_color": null,
            "description_width": ""
          }
        },
        "4100a04721c84b6f955515302ed2c50b": {
          "model_module": "@jupyter-widgets/base",
          "model_name": "LayoutModel",
          "model_module_version": "1.2.0",
          "state": {
            "_model_module": "@jupyter-widgets/base",
            "_model_module_version": "1.2.0",
            "_model_name": "LayoutModel",
            "_view_count": null,
            "_view_module": "@jupyter-widgets/base",
            "_view_module_version": "1.2.0",
            "_view_name": "LayoutView",
            "align_content": null,
            "align_items": null,
            "align_self": null,
            "border": null,
            "bottom": null,
            "display": null,
            "flex": null,
            "flex_flow": null,
            "grid_area": null,
            "grid_auto_columns": null,
            "grid_auto_flow": null,
            "grid_auto_rows": null,
            "grid_column": null,
            "grid_gap": null,
            "grid_row": null,
            "grid_template_areas": null,
            "grid_template_columns": null,
            "grid_template_rows": null,
            "height": null,
            "justify_content": null,
            "justify_items": null,
            "left": null,
            "margin": null,
            "max_height": null,
            "max_width": null,
            "min_height": null,
            "min_width": null,
            "object_fit": null,
            "object_position": null,
            "order": null,
            "overflow": null,
            "overflow_x": null,
            "overflow_y": null,
            "padding": null,
            "right": null,
            "top": null,
            "visibility": null,
            "width": null
          }
        },
        "a68e604778034722920857bcc1eec7df": {
          "model_module": "@jupyter-widgets/controls",
          "model_name": "DescriptionStyleModel",
          "model_module_version": "1.5.0",
          "state": {
            "_model_module": "@jupyter-widgets/controls",
            "_model_module_version": "1.5.0",
            "_model_name": "DescriptionStyleModel",
            "_view_count": null,
            "_view_module": "@jupyter-widgets/base",
            "_view_module_version": "1.2.0",
            "_view_name": "StyleView",
            "description_width": ""
          }
        },
        "ae7a2581295a4bd4ad994a1ee3e19825": {
          "model_module": "@jupyter-widgets/controls",
          "model_name": "HBoxModel",
          "model_module_version": "1.5.0",
          "state": {
            "_dom_classes": [],
            "_model_module": "@jupyter-widgets/controls",
            "_model_module_version": "1.5.0",
            "_model_name": "HBoxModel",
            "_view_count": null,
            "_view_module": "@jupyter-widgets/controls",
            "_view_module_version": "1.5.0",
            "_view_name": "HBoxView",
            "box_style": "",
            "children": [
              "IPY_MODEL_ed511eeb73934b8090350c88a35cb952",
              "IPY_MODEL_a613278ef9c54fedb977a5a7cdb7b2dd",
              "IPY_MODEL_622161663c174980a14a491a5ae437eb"
            ],
            "layout": "IPY_MODEL_28507388c6e14e95b1ee07a3e3718d5b"
          }
        },
        "ed511eeb73934b8090350c88a35cb952": {
          "model_module": "@jupyter-widgets/controls",
          "model_name": "HTMLModel",
          "model_module_version": "1.5.0",
          "state": {
            "_dom_classes": [],
            "_model_module": "@jupyter-widgets/controls",
            "_model_module_version": "1.5.0",
            "_model_name": "HTMLModel",
            "_view_count": null,
            "_view_module": "@jupyter-widgets/controls",
            "_view_module_version": "1.5.0",
            "_view_name": "HTMLView",
            "description": "",
            "description_tooltip": null,
            "layout": "IPY_MODEL_281930759c6c49ac8217629b20f10329",
            "placeholder": "​",
            "style": "IPY_MODEL_30028eda96724aa5a8b7193f0c4ccf7a",
            "value": "Downloading: 100%"
          }
        },
        "a613278ef9c54fedb977a5a7cdb7b2dd": {
          "model_module": "@jupyter-widgets/controls",
          "model_name": "FloatProgressModel",
          "model_module_version": "1.5.0",
          "state": {
            "_dom_classes": [],
            "_model_module": "@jupyter-widgets/controls",
            "_model_module_version": "1.5.0",
            "_model_name": "FloatProgressModel",
            "_view_count": null,
            "_view_module": "@jupyter-widgets/controls",
            "_view_module_version": "1.5.0",
            "_view_name": "ProgressView",
            "bar_style": "success",
            "description": "",
            "description_tooltip": null,
            "layout": "IPY_MODEL_653ba613a7e04276bfa0ee27a109ba5d",
            "max": 241,
            "min": 0,
            "orientation": "horizontal",
            "style": "IPY_MODEL_a74209930a934215a65656d5858141e1",
            "value": 241
          }
        },
        "622161663c174980a14a491a5ae437eb": {
          "model_module": "@jupyter-widgets/controls",
          "model_name": "HTMLModel",
          "model_module_version": "1.5.0",
          "state": {
            "_dom_classes": [],
            "_model_module": "@jupyter-widgets/controls",
            "_model_module_version": "1.5.0",
            "_model_name": "HTMLModel",
            "_view_count": null,
            "_view_module": "@jupyter-widgets/controls",
            "_view_module_version": "1.5.0",
            "_view_name": "HTMLView",
            "description": "",
            "description_tooltip": null,
            "layout": "IPY_MODEL_31eee868e52042d196a7787e59bf7a94",
            "placeholder": "​",
            "style": "IPY_MODEL_4854d57d82cc479c8bd839a6a42c79ce",
            "value": " 241/241 [00:00&lt;00:00, 7.18kB/s]"
          }
        },
        "28507388c6e14e95b1ee07a3e3718d5b": {
          "model_module": "@jupyter-widgets/base",
          "model_name": "LayoutModel",
          "model_module_version": "1.2.0",
          "state": {
            "_model_module": "@jupyter-widgets/base",
            "_model_module_version": "1.2.0",
            "_model_name": "LayoutModel",
            "_view_count": null,
            "_view_module": "@jupyter-widgets/base",
            "_view_module_version": "1.2.0",
            "_view_name": "LayoutView",
            "align_content": null,
            "align_items": null,
            "align_self": null,
            "border": null,
            "bottom": null,
            "display": null,
            "flex": null,
            "flex_flow": null,
            "grid_area": null,
            "grid_auto_columns": null,
            "grid_auto_flow": null,
            "grid_auto_rows": null,
            "grid_column": null,
            "grid_gap": null,
            "grid_row": null,
            "grid_template_areas": null,
            "grid_template_columns": null,
            "grid_template_rows": null,
            "height": null,
            "justify_content": null,
            "justify_items": null,
            "left": null,
            "margin": null,
            "max_height": null,
            "max_width": null,
            "min_height": null,
            "min_width": null,
            "object_fit": null,
            "object_position": null,
            "order": null,
            "overflow": null,
            "overflow_x": null,
            "overflow_y": null,
            "padding": null,
            "right": null,
            "top": null,
            "visibility": null,
            "width": null
          }
        },
        "281930759c6c49ac8217629b20f10329": {
          "model_module": "@jupyter-widgets/base",
          "model_name": "LayoutModel",
          "model_module_version": "1.2.0",
          "state": {
            "_model_module": "@jupyter-widgets/base",
            "_model_module_version": "1.2.0",
            "_model_name": "LayoutModel",
            "_view_count": null,
            "_view_module": "@jupyter-widgets/base",
            "_view_module_version": "1.2.0",
            "_view_name": "LayoutView",
            "align_content": null,
            "align_items": null,
            "align_self": null,
            "border": null,
            "bottom": null,
            "display": null,
            "flex": null,
            "flex_flow": null,
            "grid_area": null,
            "grid_auto_columns": null,
            "grid_auto_flow": null,
            "grid_auto_rows": null,
            "grid_column": null,
            "grid_gap": null,
            "grid_row": null,
            "grid_template_areas": null,
            "grid_template_columns": null,
            "grid_template_rows": null,
            "height": null,
            "justify_content": null,
            "justify_items": null,
            "left": null,
            "margin": null,
            "max_height": null,
            "max_width": null,
            "min_height": null,
            "min_width": null,
            "object_fit": null,
            "object_position": null,
            "order": null,
            "overflow": null,
            "overflow_x": null,
            "overflow_y": null,
            "padding": null,
            "right": null,
            "top": null,
            "visibility": null,
            "width": null
          }
        },
        "30028eda96724aa5a8b7193f0c4ccf7a": {
          "model_module": "@jupyter-widgets/controls",
          "model_name": "DescriptionStyleModel",
          "model_module_version": "1.5.0",
          "state": {
            "_model_module": "@jupyter-widgets/controls",
            "_model_module_version": "1.5.0",
            "_model_name": "DescriptionStyleModel",
            "_view_count": null,
            "_view_module": "@jupyter-widgets/base",
            "_view_module_version": "1.2.0",
            "_view_name": "StyleView",
            "description_width": ""
          }
        },
        "653ba613a7e04276bfa0ee27a109ba5d": {
          "model_module": "@jupyter-widgets/base",
          "model_name": "LayoutModel",
          "model_module_version": "1.2.0",
          "state": {
            "_model_module": "@jupyter-widgets/base",
            "_model_module_version": "1.2.0",
            "_model_name": "LayoutModel",
            "_view_count": null,
            "_view_module": "@jupyter-widgets/base",
            "_view_module_version": "1.2.0",
            "_view_name": "LayoutView",
            "align_content": null,
            "align_items": null,
            "align_self": null,
            "border": null,
            "bottom": null,
            "display": null,
            "flex": null,
            "flex_flow": null,
            "grid_area": null,
            "grid_auto_columns": null,
            "grid_auto_flow": null,
            "grid_auto_rows": null,
            "grid_column": null,
            "grid_gap": null,
            "grid_row": null,
            "grid_template_areas": null,
            "grid_template_columns": null,
            "grid_template_rows": null,
            "height": null,
            "justify_content": null,
            "justify_items": null,
            "left": null,
            "margin": null,
            "max_height": null,
            "max_width": null,
            "min_height": null,
            "min_width": null,
            "object_fit": null,
            "object_position": null,
            "order": null,
            "overflow": null,
            "overflow_x": null,
            "overflow_y": null,
            "padding": null,
            "right": null,
            "top": null,
            "visibility": null,
            "width": null
          }
        },
        "a74209930a934215a65656d5858141e1": {
          "model_module": "@jupyter-widgets/controls",
          "model_name": "ProgressStyleModel",
          "model_module_version": "1.5.0",
          "state": {
            "_model_module": "@jupyter-widgets/controls",
            "_model_module_version": "1.5.0",
            "_model_name": "ProgressStyleModel",
            "_view_count": null,
            "_view_module": "@jupyter-widgets/base",
            "_view_module_version": "1.2.0",
            "_view_name": "StyleView",
            "bar_color": null,
            "description_width": ""
          }
        },
        "31eee868e52042d196a7787e59bf7a94": {
          "model_module": "@jupyter-widgets/base",
          "model_name": "LayoutModel",
          "model_module_version": "1.2.0",
          "state": {
            "_model_module": "@jupyter-widgets/base",
            "_model_module_version": "1.2.0",
            "_model_name": "LayoutModel",
            "_view_count": null,
            "_view_module": "@jupyter-widgets/base",
            "_view_module_version": "1.2.0",
            "_view_name": "LayoutView",
            "align_content": null,
            "align_items": null,
            "align_self": null,
            "border": null,
            "bottom": null,
            "display": null,
            "flex": null,
            "flex_flow": null,
            "grid_area": null,
            "grid_auto_columns": null,
            "grid_auto_flow": null,
            "grid_auto_rows": null,
            "grid_column": null,
            "grid_gap": null,
            "grid_row": null,
            "grid_template_areas": null,
            "grid_template_columns": null,
            "grid_template_rows": null,
            "height": null,
            "justify_content": null,
            "justify_items": null,
            "left": null,
            "margin": null,
            "max_height": null,
            "max_width": null,
            "min_height": null,
            "min_width": null,
            "object_fit": null,
            "object_position": null,
            "order": null,
            "overflow": null,
            "overflow_x": null,
            "overflow_y": null,
            "padding": null,
            "right": null,
            "top": null,
            "visibility": null,
            "width": null
          }
        },
        "4854d57d82cc479c8bd839a6a42c79ce": {
          "model_module": "@jupyter-widgets/controls",
          "model_name": "DescriptionStyleModel",
          "model_module_version": "1.5.0",
          "state": {
            "_model_module": "@jupyter-widgets/controls",
            "_model_module_version": "1.5.0",
            "_model_name": "DescriptionStyleModel",
            "_view_count": null,
            "_view_module": "@jupyter-widgets/base",
            "_view_module_version": "1.2.0",
            "_view_name": "StyleView",
            "description_width": ""
          }
        },
        "20360608afee4027ab21b941bcf792d5": {
          "model_module": "@jupyter-widgets/controls",
          "model_name": "HBoxModel",
          "model_module_version": "1.5.0",
          "state": {
            "_dom_classes": [],
            "_model_module": "@jupyter-widgets/controls",
            "_model_module_version": "1.5.0",
            "_model_name": "HBoxModel",
            "_view_count": null,
            "_view_module": "@jupyter-widgets/controls",
            "_view_module_version": "1.5.0",
            "_view_name": "HBoxView",
            "box_style": "",
            "children": [
              "IPY_MODEL_0c5a8303432a4db6a814e038923aad8a",
              "IPY_MODEL_09eaba68ad9240fb8705fcc7028d8e37",
              "IPY_MODEL_18a94d8a1bd54f9da97733ec1d5ae3e0"
            ],
            "layout": "IPY_MODEL_48bb348b73144d34915ad867357f09ba"
          }
        },
        "0c5a8303432a4db6a814e038923aad8a": {
          "model_module": "@jupyter-widgets/controls",
          "model_name": "HTMLModel",
          "model_module_version": "1.5.0",
          "state": {
            "_dom_classes": [],
            "_model_module": "@jupyter-widgets/controls",
            "_model_module_version": "1.5.0",
            "_model_name": "HTMLModel",
            "_view_count": null,
            "_view_module": "@jupyter-widgets/controls",
            "_view_module_version": "1.5.0",
            "_view_name": "HTMLView",
            "description": "",
            "description_tooltip": null,
            "layout": "IPY_MODEL_75102793ef8a499db9c90511879235af",
            "placeholder": "​",
            "style": "IPY_MODEL_dbbb5ee3ebcc4b5eac6be5579fb07135",
            "value": "Downloading: 100%"
          }
        },
        "09eaba68ad9240fb8705fcc7028d8e37": {
          "model_module": "@jupyter-widgets/controls",
          "model_name": "FloatProgressModel",
          "model_module_version": "1.5.0",
          "state": {
            "_dom_classes": [],
            "_model_module": "@jupyter-widgets/controls",
            "_model_module_version": "1.5.0",
            "_model_name": "FloatProgressModel",
            "_view_count": null,
            "_view_module": "@jupyter-widgets/controls",
            "_view_module_version": "1.5.0",
            "_view_name": "ProgressView",
            "bar_style": "success",
            "description": "",
            "description_tooltip": null,
            "layout": "IPY_MODEL_6a6d2514e63e4fb1ab2aa6a6ce574808",
            "max": 730,
            "min": 0,
            "orientation": "horizontal",
            "style": "IPY_MODEL_23088bceb5dc466a9a2e040947c2fc7a",
            "value": 730
          }
        },
        "18a94d8a1bd54f9da97733ec1d5ae3e0": {
          "model_module": "@jupyter-widgets/controls",
          "model_name": "HTMLModel",
          "model_module_version": "1.5.0",
          "state": {
            "_dom_classes": [],
            "_model_module": "@jupyter-widgets/controls",
            "_model_module_version": "1.5.0",
            "_model_name": "HTMLModel",
            "_view_count": null,
            "_view_module": "@jupyter-widgets/controls",
            "_view_module_version": "1.5.0",
            "_view_name": "HTMLView",
            "description": "",
            "description_tooltip": null,
            "layout": "IPY_MODEL_fd77898c41f34639956fc5fc01610dd3",
            "placeholder": "​",
            "style": "IPY_MODEL_e9e8249aeafa40619c7a2e006ce910a0",
            "value": " 730/730 [00:00&lt;00:00, 22.0kB/s]"
          }
        },
        "48bb348b73144d34915ad867357f09ba": {
          "model_module": "@jupyter-widgets/base",
          "model_name": "LayoutModel",
          "model_module_version": "1.2.0",
          "state": {
            "_model_module": "@jupyter-widgets/base",
            "_model_module_version": "1.2.0",
            "_model_name": "LayoutModel",
            "_view_count": null,
            "_view_module": "@jupyter-widgets/base",
            "_view_module_version": "1.2.0",
            "_view_name": "LayoutView",
            "align_content": null,
            "align_items": null,
            "align_self": null,
            "border": null,
            "bottom": null,
            "display": null,
            "flex": null,
            "flex_flow": null,
            "grid_area": null,
            "grid_auto_columns": null,
            "grid_auto_flow": null,
            "grid_auto_rows": null,
            "grid_column": null,
            "grid_gap": null,
            "grid_row": null,
            "grid_template_areas": null,
            "grid_template_columns": null,
            "grid_template_rows": null,
            "height": null,
            "justify_content": null,
            "justify_items": null,
            "left": null,
            "margin": null,
            "max_height": null,
            "max_width": null,
            "min_height": null,
            "min_width": null,
            "object_fit": null,
            "object_position": null,
            "order": null,
            "overflow": null,
            "overflow_x": null,
            "overflow_y": null,
            "padding": null,
            "right": null,
            "top": null,
            "visibility": null,
            "width": null
          }
        },
        "75102793ef8a499db9c90511879235af": {
          "model_module": "@jupyter-widgets/base",
          "model_name": "LayoutModel",
          "model_module_version": "1.2.0",
          "state": {
            "_model_module": "@jupyter-widgets/base",
            "_model_module_version": "1.2.0",
            "_model_name": "LayoutModel",
            "_view_count": null,
            "_view_module": "@jupyter-widgets/base",
            "_view_module_version": "1.2.0",
            "_view_name": "LayoutView",
            "align_content": null,
            "align_items": null,
            "align_self": null,
            "border": null,
            "bottom": null,
            "display": null,
            "flex": null,
            "flex_flow": null,
            "grid_area": null,
            "grid_auto_columns": null,
            "grid_auto_flow": null,
            "grid_auto_rows": null,
            "grid_column": null,
            "grid_gap": null,
            "grid_row": null,
            "grid_template_areas": null,
            "grid_template_columns": null,
            "grid_template_rows": null,
            "height": null,
            "justify_content": null,
            "justify_items": null,
            "left": null,
            "margin": null,
            "max_height": null,
            "max_width": null,
            "min_height": null,
            "min_width": null,
            "object_fit": null,
            "object_position": null,
            "order": null,
            "overflow": null,
            "overflow_x": null,
            "overflow_y": null,
            "padding": null,
            "right": null,
            "top": null,
            "visibility": null,
            "width": null
          }
        },
        "dbbb5ee3ebcc4b5eac6be5579fb07135": {
          "model_module": "@jupyter-widgets/controls",
          "model_name": "DescriptionStyleModel",
          "model_module_version": "1.5.0",
          "state": {
            "_model_module": "@jupyter-widgets/controls",
            "_model_module_version": "1.5.0",
            "_model_name": "DescriptionStyleModel",
            "_view_count": null,
            "_view_module": "@jupyter-widgets/base",
            "_view_module_version": "1.2.0",
            "_view_name": "StyleView",
            "description_width": ""
          }
        },
        "6a6d2514e63e4fb1ab2aa6a6ce574808": {
          "model_module": "@jupyter-widgets/base",
          "model_name": "LayoutModel",
          "model_module_version": "1.2.0",
          "state": {
            "_model_module": "@jupyter-widgets/base",
            "_model_module_version": "1.2.0",
            "_model_name": "LayoutModel",
            "_view_count": null,
            "_view_module": "@jupyter-widgets/base",
            "_view_module_version": "1.2.0",
            "_view_name": "LayoutView",
            "align_content": null,
            "align_items": null,
            "align_self": null,
            "border": null,
            "bottom": null,
            "display": null,
            "flex": null,
            "flex_flow": null,
            "grid_area": null,
            "grid_auto_columns": null,
            "grid_auto_flow": null,
            "grid_auto_rows": null,
            "grid_column": null,
            "grid_gap": null,
            "grid_row": null,
            "grid_template_areas": null,
            "grid_template_columns": null,
            "grid_template_rows": null,
            "height": null,
            "justify_content": null,
            "justify_items": null,
            "left": null,
            "margin": null,
            "max_height": null,
            "max_width": null,
            "min_height": null,
            "min_width": null,
            "object_fit": null,
            "object_position": null,
            "order": null,
            "overflow": null,
            "overflow_x": null,
            "overflow_y": null,
            "padding": null,
            "right": null,
            "top": null,
            "visibility": null,
            "width": null
          }
        },
        "23088bceb5dc466a9a2e040947c2fc7a": {
          "model_module": "@jupyter-widgets/controls",
          "model_name": "ProgressStyleModel",
          "model_module_version": "1.5.0",
          "state": {
            "_model_module": "@jupyter-widgets/controls",
            "_model_module_version": "1.5.0",
            "_model_name": "ProgressStyleModel",
            "_view_count": null,
            "_view_module": "@jupyter-widgets/base",
            "_view_module_version": "1.2.0",
            "_view_name": "StyleView",
            "bar_color": null,
            "description_width": ""
          }
        },
        "fd77898c41f34639956fc5fc01610dd3": {
          "model_module": "@jupyter-widgets/base",
          "model_name": "LayoutModel",
          "model_module_version": "1.2.0",
          "state": {
            "_model_module": "@jupyter-widgets/base",
            "_model_module_version": "1.2.0",
            "_model_name": "LayoutModel",
            "_view_count": null,
            "_view_module": "@jupyter-widgets/base",
            "_view_module_version": "1.2.0",
            "_view_name": "LayoutView",
            "align_content": null,
            "align_items": null,
            "align_self": null,
            "border": null,
            "bottom": null,
            "display": null,
            "flex": null,
            "flex_flow": null,
            "grid_area": null,
            "grid_auto_columns": null,
            "grid_auto_flow": null,
            "grid_auto_rows": null,
            "grid_column": null,
            "grid_gap": null,
            "grid_row": null,
            "grid_template_areas": null,
            "grid_template_columns": null,
            "grid_template_rows": null,
            "height": null,
            "justify_content": null,
            "justify_items": null,
            "left": null,
            "margin": null,
            "max_height": null,
            "max_width": null,
            "min_height": null,
            "min_width": null,
            "object_fit": null,
            "object_position": null,
            "order": null,
            "overflow": null,
            "overflow_x": null,
            "overflow_y": null,
            "padding": null,
            "right": null,
            "top": null,
            "visibility": null,
            "width": null
          }
        },
        "e9e8249aeafa40619c7a2e006ce910a0": {
          "model_module": "@jupyter-widgets/controls",
          "model_name": "DescriptionStyleModel",
          "model_module_version": "1.5.0",
          "state": {
            "_model_module": "@jupyter-widgets/controls",
            "_model_module_version": "1.5.0",
            "_model_name": "DescriptionStyleModel",
            "_view_count": null,
            "_view_module": "@jupyter-widgets/base",
            "_view_module_version": "1.2.0",
            "_view_name": "StyleView",
            "description_width": ""
          }
        },
        "a99c1b1cad534d02ac2c7d275cd7014d": {
          "model_module": "@jupyter-widgets/controls",
          "model_name": "HBoxModel",
          "model_module_version": "1.5.0",
          "state": {
            "_dom_classes": [],
            "_model_module": "@jupyter-widgets/controls",
            "_model_module_version": "1.5.0",
            "_model_name": "HBoxModel",
            "_view_count": null,
            "_view_module": "@jupyter-widgets/controls",
            "_view_module_version": "1.5.0",
            "_view_name": "HBoxView",
            "box_style": "",
            "children": [
              "IPY_MODEL_296eaab663094d828c4f68536f74412f",
              "IPY_MODEL_381a0d5c0a8d4007ab5c3045740ef3ea",
              "IPY_MODEL_33c52a3499f248ac85db52ca2d25d362"
            ],
            "layout": "IPY_MODEL_b179fac9299f4f0d85c8f974fcb60fea"
          }
        },
        "296eaab663094d828c4f68536f74412f": {
          "model_module": "@jupyter-widgets/controls",
          "model_name": "HTMLModel",
          "model_module_version": "1.5.0",
          "state": {
            "_dom_classes": [],
            "_model_module": "@jupyter-widgets/controls",
            "_model_module_version": "1.5.0",
            "_model_name": "HTMLModel",
            "_view_count": null,
            "_view_module": "@jupyter-widgets/controls",
            "_view_module_version": "1.5.0",
            "_view_name": "HTMLView",
            "description": "",
            "description_tooltip": null,
            "layout": "IPY_MODEL_8c9143db1e53497b9d11f404741f4a6b",
            "placeholder": "​",
            "style": "IPY_MODEL_9f72233b57d64e99b580a0d9ee5f18c6",
            "value": "Downloading: 100%"
          }
        },
        "381a0d5c0a8d4007ab5c3045740ef3ea": {
          "model_module": "@jupyter-widgets/controls",
          "model_name": "FloatProgressModel",
          "model_module_version": "1.5.0",
          "state": {
            "_dom_classes": [],
            "_model_module": "@jupyter-widgets/controls",
            "_model_module_version": "1.5.0",
            "_model_name": "FloatProgressModel",
            "_view_count": null,
            "_view_module": "@jupyter-widgets/controls",
            "_view_module_version": "1.5.0",
            "_view_name": "ProgressView",
            "bar_style": "success",
            "description": "",
            "description_tooltip": null,
            "layout": "IPY_MODEL_fe281e3dbbbb4cffb7e52125f768826f",
            "max": 442517175,
            "min": 0,
            "orientation": "horizontal",
            "style": "IPY_MODEL_3b180cad62574fbc951959c29336fa25",
            "value": 442517175
          }
        },
        "33c52a3499f248ac85db52ca2d25d362": {
          "model_module": "@jupyter-widgets/controls",
          "model_name": "HTMLModel",
          "model_module_version": "1.5.0",
          "state": {
            "_dom_classes": [],
            "_model_module": "@jupyter-widgets/controls",
            "_model_module_version": "1.5.0",
            "_model_name": "HTMLModel",
            "_view_count": null,
            "_view_module": "@jupyter-widgets/controls",
            "_view_module_version": "1.5.0",
            "_view_name": "HTMLView",
            "description": "",
            "description_tooltip": null,
            "layout": "IPY_MODEL_c9e849af77404db989dcc6419c8c1895",
            "placeholder": "​",
            "style": "IPY_MODEL_40b85a7ac98e4939a25b6f93191ec86c",
            "value": " 443M/443M [00:23&lt;00:00, 25.4MB/s]"
          }
        },
        "b179fac9299f4f0d85c8f974fcb60fea": {
          "model_module": "@jupyter-widgets/base",
          "model_name": "LayoutModel",
          "model_module_version": "1.2.0",
          "state": {
            "_model_module": "@jupyter-widgets/base",
            "_model_module_version": "1.2.0",
            "_model_name": "LayoutModel",
            "_view_count": null,
            "_view_module": "@jupyter-widgets/base",
            "_view_module_version": "1.2.0",
            "_view_name": "LayoutView",
            "align_content": null,
            "align_items": null,
            "align_self": null,
            "border": null,
            "bottom": null,
            "display": null,
            "flex": null,
            "flex_flow": null,
            "grid_area": null,
            "grid_auto_columns": null,
            "grid_auto_flow": null,
            "grid_auto_rows": null,
            "grid_column": null,
            "grid_gap": null,
            "grid_row": null,
            "grid_template_areas": null,
            "grid_template_columns": null,
            "grid_template_rows": null,
            "height": null,
            "justify_content": null,
            "justify_items": null,
            "left": null,
            "margin": null,
            "max_height": null,
            "max_width": null,
            "min_height": null,
            "min_width": null,
            "object_fit": null,
            "object_position": null,
            "order": null,
            "overflow": null,
            "overflow_x": null,
            "overflow_y": null,
            "padding": null,
            "right": null,
            "top": null,
            "visibility": null,
            "width": null
          }
        },
        "8c9143db1e53497b9d11f404741f4a6b": {
          "model_module": "@jupyter-widgets/base",
          "model_name": "LayoutModel",
          "model_module_version": "1.2.0",
          "state": {
            "_model_module": "@jupyter-widgets/base",
            "_model_module_version": "1.2.0",
            "_model_name": "LayoutModel",
            "_view_count": null,
            "_view_module": "@jupyter-widgets/base",
            "_view_module_version": "1.2.0",
            "_view_name": "LayoutView",
            "align_content": null,
            "align_items": null,
            "align_self": null,
            "border": null,
            "bottom": null,
            "display": null,
            "flex": null,
            "flex_flow": null,
            "grid_area": null,
            "grid_auto_columns": null,
            "grid_auto_flow": null,
            "grid_auto_rows": null,
            "grid_column": null,
            "grid_gap": null,
            "grid_row": null,
            "grid_template_areas": null,
            "grid_template_columns": null,
            "grid_template_rows": null,
            "height": null,
            "justify_content": null,
            "justify_items": null,
            "left": null,
            "margin": null,
            "max_height": null,
            "max_width": null,
            "min_height": null,
            "min_width": null,
            "object_fit": null,
            "object_position": null,
            "order": null,
            "overflow": null,
            "overflow_x": null,
            "overflow_y": null,
            "padding": null,
            "right": null,
            "top": null,
            "visibility": null,
            "width": null
          }
        },
        "9f72233b57d64e99b580a0d9ee5f18c6": {
          "model_module": "@jupyter-widgets/controls",
          "model_name": "DescriptionStyleModel",
          "model_module_version": "1.5.0",
          "state": {
            "_model_module": "@jupyter-widgets/controls",
            "_model_module_version": "1.5.0",
            "_model_name": "DescriptionStyleModel",
            "_view_count": null,
            "_view_module": "@jupyter-widgets/base",
            "_view_module_version": "1.2.0",
            "_view_name": "StyleView",
            "description_width": ""
          }
        },
        "fe281e3dbbbb4cffb7e52125f768826f": {
          "model_module": "@jupyter-widgets/base",
          "model_name": "LayoutModel",
          "model_module_version": "1.2.0",
          "state": {
            "_model_module": "@jupyter-widgets/base",
            "_model_module_version": "1.2.0",
            "_model_name": "LayoutModel",
            "_view_count": null,
            "_view_module": "@jupyter-widgets/base",
            "_view_module_version": "1.2.0",
            "_view_name": "LayoutView",
            "align_content": null,
            "align_items": null,
            "align_self": null,
            "border": null,
            "bottom": null,
            "display": null,
            "flex": null,
            "flex_flow": null,
            "grid_area": null,
            "grid_auto_columns": null,
            "grid_auto_flow": null,
            "grid_auto_rows": null,
            "grid_column": null,
            "grid_gap": null,
            "grid_row": null,
            "grid_template_areas": null,
            "grid_template_columns": null,
            "grid_template_rows": null,
            "height": null,
            "justify_content": null,
            "justify_items": null,
            "left": null,
            "margin": null,
            "max_height": null,
            "max_width": null,
            "min_height": null,
            "min_width": null,
            "object_fit": null,
            "object_position": null,
            "order": null,
            "overflow": null,
            "overflow_x": null,
            "overflow_y": null,
            "padding": null,
            "right": null,
            "top": null,
            "visibility": null,
            "width": null
          }
        },
        "3b180cad62574fbc951959c29336fa25": {
          "model_module": "@jupyter-widgets/controls",
          "model_name": "ProgressStyleModel",
          "model_module_version": "1.5.0",
          "state": {
            "_model_module": "@jupyter-widgets/controls",
            "_model_module_version": "1.5.0",
            "_model_name": "ProgressStyleModel",
            "_view_count": null,
            "_view_module": "@jupyter-widgets/base",
            "_view_module_version": "1.2.0",
            "_view_name": "StyleView",
            "bar_color": null,
            "description_width": ""
          }
        },
        "c9e849af77404db989dcc6419c8c1895": {
          "model_module": "@jupyter-widgets/base",
          "model_name": "LayoutModel",
          "model_module_version": "1.2.0",
          "state": {
            "_model_module": "@jupyter-widgets/base",
            "_model_module_version": "1.2.0",
            "_model_name": "LayoutModel",
            "_view_count": null,
            "_view_module": "@jupyter-widgets/base",
            "_view_module_version": "1.2.0",
            "_view_name": "LayoutView",
            "align_content": null,
            "align_items": null,
            "align_self": null,
            "border": null,
            "bottom": null,
            "display": null,
            "flex": null,
            "flex_flow": null,
            "grid_area": null,
            "grid_auto_columns": null,
            "grid_auto_flow": null,
            "grid_auto_rows": null,
            "grid_column": null,
            "grid_gap": null,
            "grid_row": null,
            "grid_template_areas": null,
            "grid_template_columns": null,
            "grid_template_rows": null,
            "height": null,
            "justify_content": null,
            "justify_items": null,
            "left": null,
            "margin": null,
            "max_height": null,
            "max_width": null,
            "min_height": null,
            "min_width": null,
            "object_fit": null,
            "object_position": null,
            "order": null,
            "overflow": null,
            "overflow_x": null,
            "overflow_y": null,
            "padding": null,
            "right": null,
            "top": null,
            "visibility": null,
            "width": null
          }
        },
        "40b85a7ac98e4939a25b6f93191ec86c": {
          "model_module": "@jupyter-widgets/controls",
          "model_name": "DescriptionStyleModel",
          "model_module_version": "1.5.0",
          "state": {
            "_model_module": "@jupyter-widgets/controls",
            "_model_module_version": "1.5.0",
            "_model_name": "DescriptionStyleModel",
            "_view_count": null,
            "_view_module": "@jupyter-widgets/base",
            "_view_module_version": "1.2.0",
            "_view_name": "StyleView",
            "description_width": ""
          }
        }
      }
    }
  },
  "cells": [
    {
      "cell_type": "markdown",
      "metadata": {
        "id": "Jj6CdHkLiElp"
      },
      "source": [
        "# あなたの文章に合った「いらすとや」画像をレコメンド♪（Sentence-BERT編）\n",
        "\n",
        "解説記事: https://qiita.com/sonoisa/items/1df94d0a98cd4f209051"
      ]
    },
    {
      "cell_type": "markdown",
      "metadata": {
        "id": "IpUI7Vfz3SEI"
      },
      "source": [
        "## アルゴリズムの概要\n",
        "\n",
        "本アプリの基本的なアイディアは次のとおりです。\n",
        "\n",
        "1. 与えられた文や画像の説明文を、それぞれSentence-BERTを用いて文の分散表現（つまりはベクトル）に変換する。\n",
        "1. 与えられた文と画像の説明文の意味の近さを、それぞれの文の分散表現を使って計算する（意味の近さ = 2つのベクトルのなす角の小ささ = コサイン類似度の大きさとする）。\n",
        "1. コサイン類似度が大きい説明文を持つ画像トップN個を選ぶことで、与えられた文と意味が近い画像を発見できる。\n",
        "\n",
        "模式図にすると、次のようになります。\n",
        "\n",
        "<img src=\"https://camo.qiitausercontent.com/fb62a6b8a0fd447e1ff1370e83ff0b636a3f9a36/68747470733a2f2f71696974612d696d6167652d73746f72652e73332e616d617a6f6e6177732e636f6d2f302f32363036322f33393935316266392d663630322d383565332d646239662d6235353764663164376266642e706e67\" width=\"800\">"
      ]
    },
    {
      "cell_type": "markdown",
      "metadata": {
        "id": "T6jyXCwsym-e"
      },
      "source": [
        "## 準備"
      ]
    },
    {
      "cell_type": "markdown",
      "metadata": {
        "id": "zggKYME3trPn"
      },
      "source": [
        "### パスワード設定\n",
        "\n",
        "**※勉強会に用いるデータセットの解凍にはパスワードが必要です（一般には公開しません）。**  \n",
        "**※次の変数 RESOURCES_PASSWORD に解凍用の秘密のパスワードを設定してから、以降の処理を実行してください。**"
      ]
    },
    {
      "cell_type": "code",
      "metadata": {
        "id": "4ZjSETt5tvf7"
      },
      "source": [
        "# データセットの解凍用パスワード\n",
        "RESOURCES_PASSWORD = \"\""
      ],
      "execution_count": 2,
      "outputs": []
    },
    {
      "cell_type": "markdown",
      "metadata": {
        "id": "0jnmO3r_jObQ"
      },
      "source": [
        "### 依存ライブラリのインストール\n",
        "\n",
        "インストールに5分程度かかります。気長にお待ちください。"
      ]
    },
    {
      "cell_type": "code",
      "metadata": {
        "id": "pZznmjQghg43"
      },
      "source": [
        "!pip install -q transformers==4.7.0 fugashi ipadic gdown"
      ],
      "execution_count": 4,
      "outputs": []
    },
    {
      "cell_type": "markdown",
      "metadata": {
        "id": "mgyUsWsPln96"
      },
      "source": [
        "### 「いらすとや」さんの画像メタデータのダウンロード"
      ]
    },
    {
      "cell_type": "code",
      "metadata": {
        "id": "Ecs6gg32_nR7",
        "colab": {
          "base_uri": "https://localhost:8080/"
        },
        "outputId": "01464715-8da0-40ef-97c6-8426970416d5"
      },
      "source": [
        "!gdown \"https://drive.google.com/uc?export=view&id=1NQ66ZynRY63SIlk2i4OhMj837YDucLR9\""
      ],
      "execution_count": 5,
      "outputs": [
        {
          "output_type": "stream",
          "name": "stdout",
          "text": [
            "Downloading...\n",
            "From: https://drive.google.com/uc?export=view&id=1NQ66ZynRY63SIlk2i4OhMj837YDucLR9\n",
            "To: /content/ii20210224.zip\n",
            "\r  0% 0.00/3.63M [00:00<?, ?B/s]\r100% 3.63M/3.63M [00:00<00:00, 181MB/s]\n"
          ]
        }
      ]
    },
    {
      "cell_type": "markdown",
      "metadata": {
        "id": "WUqBqYS6utZ3"
      },
      "source": [
        "### データの解凍"
      ]
    },
    {
      "cell_type": "code",
      "metadata": {
        "colab": {
          "base_uri": "https://localhost:8080/"
        },
        "id": "gJ6hjcoVuyWp",
        "outputId": "7649b1b3-2e7b-474d-e238-f6b1be153ec6"
      },
      "source": [
        "!unzip -P {RESOURCES_PASSWORD} ii20210224.zip"
      ],
      "execution_count": 6,
      "outputs": [
        {
          "output_type": "stream",
          "name": "stdout",
          "text": [
            "Archive:  ii20210224.zip\n",
            "  inflating: irasuto_items.json      \n"
          ]
        }
      ]
    },
    {
      "cell_type": "markdown",
      "metadata": {
        "id": "lq5_HTWinLYM"
      },
      "source": [
        "### 画像メタデータを読み込む\n",
        "\n",
        "LINEスタンプはイラストではないため除外します。"
      ]
    },
    {
      "cell_type": "code",
      "metadata": {
        "id": "Vxx11g-Lhbhc"
      },
      "source": [
        "import json\n",
        "\n",
        "with open('irasuto_items.json', 'r', encoding=\"utf-8\") as items_file:\n",
        "    items = json.load(items_file)\n",
        "\n",
        "items = [item for item in items \\\n",
        "             if \"LINEスタンプ\" not in item[\"title\"] and \\\n",
        "             \"LINEのスタンプ\" not in item[\"title\"]]"
      ],
      "execution_count": 8,
      "outputs": []
    },
    {
      "cell_type": "markdown",
      "metadata": {
        "id": "SbrIV0NBmqvu"
      },
      "source": [
        "### 正規化処理の定義\n",
        "\n",
        "neologdの正規化処理を少し変えたものを利用します。\n",
        "\n",
        "- neologdの正規化処理: https://github.com/neologd/mecab-ipadic-neologd/wiki/Regexp.ja"
      ]
    },
    {
      "cell_type": "code",
      "metadata": {
        "id": "LNP2Lku-gb1J"
      },
      "source": [
        "# https://github.com/neologd/mecab-ipadic-neologd/wiki/Regexp.ja から引用・一部改変\n",
        "from __future__ import unicode_literals\n",
        "import re\n",
        "import unicodedata\n",
        "\n",
        "def unicode_normalize(cls, s):\n",
        "    pt = re.compile('([{}]+)'.format(cls))\n",
        "\n",
        "    def norm(c):\n",
        "        return unicodedata.normalize('NFKC', c) if pt.match(c) else c\n",
        "\n",
        "    s = ''.join(norm(x) for x in re.split(pt, s))\n",
        "    s = re.sub('－', '-', s)\n",
        "    return s\n",
        "\n",
        "def remove_extra_spaces(s):\n",
        "    s = re.sub('[ 　]+', ' ', s)\n",
        "    blocks = ''.join(('\\u4E00-\\u9FFF',  # CJK UNIFIED IDEOGRAPHS\n",
        "                      '\\u3040-\\u309F',  # HIRAGANA\n",
        "                      '\\u30A0-\\u30FF',  # KATAKANA\n",
        "                      '\\u3000-\\u303F',  # CJK SYMBOLS AND PUNCTUATION\n",
        "                      '\\uFF00-\\uFFEF'   # HALFWIDTH AND FULLWIDTH FORMS\n",
        "                      ))\n",
        "    basic_latin = '\\u0000-\\u007F'\n",
        "\n",
        "    def remove_space_between(cls1, cls2, s):\n",
        "        p = re.compile('([{}]) ([{}])'.format(cls1, cls2))\n",
        "        while p.search(s):\n",
        "            s = p.sub(r'\\1\\2', s)\n",
        "        return s\n",
        "\n",
        "    s = remove_space_between(blocks, blocks, s)\n",
        "    s = remove_space_between(blocks, basic_latin, s)\n",
        "    s = remove_space_between(basic_latin, blocks, s)\n",
        "    return s\n",
        "\n",
        "def normalize_neologd(s):\n",
        "    s = s.strip()\n",
        "    s = unicode_normalize('０-９Ａ-Ｚａ-ｚ｡-ﾟ', s)\n",
        "\n",
        "    def maketrans(f, t):\n",
        "        return {ord(x): ord(y) for x, y in zip(f, t)}\n",
        "\n",
        "    s = re.sub('[˗֊‐‑‒–⁃⁻₋−]+', '-', s)  # normalize hyphens\n",
        "    s = re.sub('[﹣－ｰ—―─━ー]+', 'ー', s)  # normalize choonpus\n",
        "    s = re.sub('[~∼∾〜〰～]+', '〜', s)  # normalize tildes (modified by Isao Sonobe)\n",
        "    s = s.translate(\n",
        "        maketrans('!\"#$%&\\'()*+,-./:;<=>?@[¥]^_`{|}~｡､･｢｣',\n",
        "              '！”＃＄％＆’（）＊＋，－．／：；＜＝＞？＠［￥］＾＿｀｛｜｝〜。、・「」'))\n",
        "\n",
        "    s = remove_extra_spaces(s)\n",
        "    s = unicode_normalize('！”＃＄％＆’（）＊＋，－．／：；＜＞？＠［￥］＾＿｀｛｜｝〜', s)  # keep ＝,・,「,」\n",
        "    s = re.sub('[’]', '\\'', s)\n",
        "    s = re.sub('[”]', '\"', s)\n",
        "    s = s.upper()\n",
        "    return s\n",
        "\n",
        "def normalize_text(text):\n",
        "    return normalize_neologd(text)"
      ],
      "execution_count": 11,
      "outputs": []
    },
    {
      "cell_type": "markdown",
      "source": [
        "### タイトルや説明文の「〜のイラスト」などの冗長な表現を削除する前処理"
      ],
      "metadata": {
        "id": "Y-u_UA834oGZ"
      }
    },
    {
      "cell_type": "code",
      "metadata": {
        "id": "uUKopvBPgepg"
      },
      "source": [
        "def normalize_title(title):\n",
        "    title = title.strip()\n",
        "    \n",
        "    match = re.match(r\"^「([^」]+)」$\", title)\n",
        "    if match:\n",
        "        title = match.group(1)\n",
        "\n",
        "    match = re.match(r\"^POP素材「([^」]+)」$\", title)\n",
        "    if match:\n",
        "        title = match.group(1)\n",
        "    \n",
        "    title = re.sub(r\"(の?(?:イラスト|イラストの|イラストト|イ子のラスト|イラス|イラスト文字|「イラスト文字」|イラストPOP文字|ペンキ文字|タイトル文字|イラスト・メッセージ|イラスト文字・バナー|キャラクター(たち)?|マーク|アイコン|シルエット|シルエット素材|フレーム（枠）|フレーム|フレーム素材|テンプレート|パターン|パターン素材|ライン素材|コーナー素材|リボン型バナー|評価スタンプ|背景素材))+(\\s*([0-9０-９]*|その[0-9０-９]+))(です。)?\", \"\", title)\n",
        "    \n",
        "    title = normalize_text(title)\n",
        "    \n",
        "    if title.strip() == \"\":\n",
        "        raise ValueError(title)\n",
        "    \n",
        "    return title"
      ],
      "execution_count": 12,
      "outputs": []
    },
    {
      "cell_type": "markdown",
      "source": [
        "### タイトルと説明文の正規化を実行\n",
        "\n",
        "説明文がなければタイトルを説明文の代わりにします。"
      ],
      "metadata": {
        "id": "E-2ZqfIB5m3H"
      }
    },
    {
      "cell_type": "code",
      "source": [
        "for item in items:\n",
        "    try:\n",
        "        title = item[\"title\"]\n",
        "        normalized_title = normalize_title(title)\n",
        "        item[\"normalized_title\"] = normalized_title\n",
        "\n",
        "        desc = item[\"desc\"]\n",
        "        if desc.strip() == \"\":\n",
        "            # 説明文がない場合は、タイトルを説明文にする\n",
        "            item[\"normalized_desc\"] = normalized_title\n",
        "            item[\"desc\"] = title\n",
        "        else:\n",
        "            normalized_desc = normalize_title(desc)\n",
        "            item[\"normalized_desc\"] = normalized_desc\n",
        "            # print(desc, normalized_desc)\n",
        "    except:\n",
        "        continue\n"
      ],
      "metadata": {
        "id": "Xi1RutG75MQM"
      },
      "execution_count": 14,
      "outputs": []
    },
    {
      "cell_type": "markdown",
      "source": [
        "### Sentence-BERTクラスの定義"
      ],
      "metadata": {
        "id": "jatoZ8ay6DxT"
      }
    },
    {
      "cell_type": "code",
      "source": [
        "from transformers import BertJapaneseTokenizer, BertModel\n",
        "import torch\n",
        "\n",
        "\n",
        "class SentenceBertJapanese:\n",
        "    def __init__(self, model_name_or_path, device=None):\n",
        "        self.tokenizer = BertJapaneseTokenizer.from_pretrained(model_name_or_path)\n",
        "        self.model = BertModel.from_pretrained(model_name_or_path)\n",
        "        self.model.eval()\n",
        "\n",
        "        if device is None:\n",
        "            device = \"cuda\" if torch.cuda.is_available() else \"cpu\"\n",
        "        self.device = torch.device(device)\n",
        "        self.model.to(device)\n",
        "\n",
        "    def _mean_pooling(self, model_output, attention_mask):\n",
        "        token_embeddings = model_output[0] #First element of model_output contains all token embeddings\n",
        "        input_mask_expanded = attention_mask.unsqueeze(-1).expand(token_embeddings.size()).float()\n",
        "        return torch.sum(token_embeddings * input_mask_expanded, 1) / torch.clamp(input_mask_expanded.sum(1), min=1e-9)\n",
        "\n",
        "    @torch.no_grad()\n",
        "    def encode(self, sentences, batch_size=8):\n",
        "        all_embeddings = []\n",
        "        iterator = range(0, len(sentences), batch_size)\n",
        "        for batch_idx in iterator:\n",
        "            batch = sentences[batch_idx:batch_idx + batch_size]\n",
        "\n",
        "            encoded_input = self.tokenizer.batch_encode_plus(batch, padding=\"longest\", \n",
        "                                           truncation=True, return_tensors=\"pt\").to(self.device)\n",
        "            model_output = self.model(**encoded_input)\n",
        "            sentence_embeddings = self._mean_pooling(model_output, encoded_input[\"attention_mask\"]).to('cpu')\n",
        "\n",
        "            all_embeddings.extend(sentence_embeddings)\n",
        "\n",
        "        # return torch.stack(all_embeddings).numpy()\n",
        "        return torch.stack(all_embeddings)"
      ],
      "metadata": {
        "id": "H5clWz6Y4S6p"
      },
      "execution_count": 15,
      "outputs": []
    },
    {
      "cell_type": "markdown",
      "source": [
        "Sentence-BERTモデルを読み込む"
      ],
      "metadata": {
        "id": "hsGknE4X6V5T"
      }
    },
    {
      "cell_type": "code",
      "source": [
        "model = SentenceBertJapanese(\"sonoisa/sentence-bert-base-ja-mean-tokens\")"
      ],
      "metadata": {
        "colab": {
          "base_uri": "https://localhost:8080/",
          "height": 209,
          "referenced_widgets": [
            "ad3cc4b1bbc2405683a6d2c8b0cc336c",
            "d34146d0c3d144058b296f46000b6abd",
            "eff57b3828f44d759154bd8f610b248c",
            "de794b8cfbc34edc9ca67d8dcdc2a787",
            "c8b932b5903542d3872b746c6b69778e",
            "a99534fb0c9146c8bc51d724dd41776c",
            "a995bd7279474add9414a156650c8af5",
            "27c8cae36bf240dc8ed45be70fedf81c",
            "7997a4c18aa9409c94c85ba8bc1cfe08",
            "9b22b70ed02c46b6838a705c42f9db52",
            "e092a0d38ee84a5e8e346483eb42accd",
            "a9dbc6b44c794522b6d2a050a69a1ed2",
            "04bb9381117345019dd9590bb4a1c40c",
            "a29dd16f27974d52a6fc9af6b2a3892c",
            "fd2c1cd16aee485ea69bb15c9f5fd2f8",
            "68accbcd7be0427883479c9cf5be6743",
            "aabf5408857149c6b963dfba634b7ff1",
            "8c17dd4456f044f294c99cf6d980488d",
            "e4d9347dbd504bcab134cce99d4e3d7a",
            "129d3ef8b7894c0398f906dba7694e05",
            "85608b3fcd1345a5a035204a60cbc3fe",
            "6daabcd486b94794a1e408c45f6d4c3e",
            "c7fb3aa5d26c4693a9e2802406d95d64",
            "e9cd47cd26cb4a8cb07671a4548ad776",
            "d68d7a359fb941b9aa86568cd357c591",
            "1a72725e17b546f4b19cf0eae8ecc548",
            "d929745d5aae40cb9589d1e94c83b07c",
            "58acbe73e7504d10b4d993444f175886",
            "0b99956bacaa4f0baeaec6c77438f16b",
            "36c1a872d56c4a0ea4a339a9d84668d9",
            "653271d7029649edb9f732fdd4bd1297",
            "4100a04721c84b6f955515302ed2c50b",
            "a68e604778034722920857bcc1eec7df",
            "ae7a2581295a4bd4ad994a1ee3e19825",
            "ed511eeb73934b8090350c88a35cb952",
            "a613278ef9c54fedb977a5a7cdb7b2dd",
            "622161663c174980a14a491a5ae437eb",
            "28507388c6e14e95b1ee07a3e3718d5b",
            "281930759c6c49ac8217629b20f10329",
            "30028eda96724aa5a8b7193f0c4ccf7a",
            "653ba613a7e04276bfa0ee27a109ba5d",
            "a74209930a934215a65656d5858141e1",
            "31eee868e52042d196a7787e59bf7a94",
            "4854d57d82cc479c8bd839a6a42c79ce",
            "20360608afee4027ab21b941bcf792d5",
            "0c5a8303432a4db6a814e038923aad8a",
            "09eaba68ad9240fb8705fcc7028d8e37",
            "18a94d8a1bd54f9da97733ec1d5ae3e0",
            "48bb348b73144d34915ad867357f09ba",
            "75102793ef8a499db9c90511879235af",
            "dbbb5ee3ebcc4b5eac6be5579fb07135",
            "6a6d2514e63e4fb1ab2aa6a6ce574808",
            "23088bceb5dc466a9a2e040947c2fc7a",
            "fd77898c41f34639956fc5fc01610dd3",
            "e9e8249aeafa40619c7a2e006ce910a0",
            "a99c1b1cad534d02ac2c7d275cd7014d",
            "296eaab663094d828c4f68536f74412f",
            "381a0d5c0a8d4007ab5c3045740ef3ea",
            "33c52a3499f248ac85db52ca2d25d362",
            "b179fac9299f4f0d85c8f974fcb60fea",
            "8c9143db1e53497b9d11f404741f4a6b",
            "9f72233b57d64e99b580a0d9ee5f18c6",
            "fe281e3dbbbb4cffb7e52125f768826f",
            "3b180cad62574fbc951959c29336fa25",
            "c9e849af77404db989dcc6419c8c1895",
            "40b85a7ac98e4939a25b6f93191ec86c"
          ]
        },
        "id": "weexd60W6QyW",
        "outputId": "687ac16e-3f1d-42c1-d28f-be2b03d4bb6a"
      },
      "execution_count": 16,
      "outputs": [
        {
          "output_type": "display_data",
          "data": {
            "text/plain": [
              "Downloading:   0%|          | 0.00/258k [00:00<?, ?B/s]"
            ],
            "application/vnd.jupyter.widget-view+json": {
              "version_major": 2,
              "version_minor": 0,
              "model_id": "ad3cc4b1bbc2405683a6d2c8b0cc336c"
            }
          },
          "metadata": {}
        },
        {
          "output_type": "display_data",
          "data": {
            "text/plain": [
              "Downloading:   0%|          | 0.00/2.00 [00:00<?, ?B/s]"
            ],
            "application/vnd.jupyter.widget-view+json": {
              "version_major": 2,
              "version_minor": 0,
              "model_id": "a9dbc6b44c794522b6d2a050a69a1ed2"
            }
          },
          "metadata": {}
        },
        {
          "output_type": "display_data",
          "data": {
            "text/plain": [
              "Downloading:   0%|          | 0.00/112 [00:00<?, ?B/s]"
            ],
            "application/vnd.jupyter.widget-view+json": {
              "version_major": 2,
              "version_minor": 0,
              "model_id": "c7fb3aa5d26c4693a9e2802406d95d64"
            }
          },
          "metadata": {}
        },
        {
          "output_type": "display_data",
          "data": {
            "text/plain": [
              "Downloading:   0%|          | 0.00/241 [00:00<?, ?B/s]"
            ],
            "application/vnd.jupyter.widget-view+json": {
              "version_major": 2,
              "version_minor": 0,
              "model_id": "ae7a2581295a4bd4ad994a1ee3e19825"
            }
          },
          "metadata": {}
        },
        {
          "output_type": "display_data",
          "data": {
            "text/plain": [
              "Downloading:   0%|          | 0.00/730 [00:00<?, ?B/s]"
            ],
            "application/vnd.jupyter.widget-view+json": {
              "version_major": 2,
              "version_minor": 0,
              "model_id": "20360608afee4027ab21b941bcf792d5"
            }
          },
          "metadata": {}
        },
        {
          "output_type": "display_data",
          "data": {
            "text/plain": [
              "Downloading:   0%|          | 0.00/443M [00:00<?, ?B/s]"
            ],
            "application/vnd.jupyter.widget-view+json": {
              "version_major": 2,
              "version_minor": 0,
              "model_id": "a99c1b1cad534d02ac2c7d275cd7014d"
            }
          },
          "metadata": {}
        }
      ]
    },
    {
      "cell_type": "markdown",
      "metadata": {
        "id": "2pv_MAKdoGBl"
      },
      "source": [
        "### 文の分散表現の計算方法の定義\n",
        "\n",
        "与えられた文を、文の分散表現に変換する関数 get_sentence_vector を定義します。  \n",
        "今回採用した文の分散表現の計算方法は次の通りです。\n",
        "\n",
        "1. 正規化を行う。\n",
        "2. 1の文をSentence-BERTを用いて文の分散表現を計算する。"
      ]
    },
    {
      "cell_type": "code",
      "metadata": {
        "id": "Ma_zbpNLhpdU"
      },
      "source": [
        "def get_sentence_vector(sentence):\n",
        "    sentence = normalize_text(sentence)\n",
        "    return model.encode([sentence])[0].numpy()"
      ],
      "execution_count": 26,
      "outputs": []
    },
    {
      "cell_type": "markdown",
      "metadata": {
        "id": "f6btSEuxonNr"
      },
      "source": [
        "試しに文ベクトルを計算してみます。"
      ]
    },
    {
      "cell_type": "code",
      "metadata": {
        "id": "pCuGmYnRhsTb",
        "colab": {
          "base_uri": "https://localhost:8080/"
        },
        "outputId": "11c9c738-dbb2-4060-a4b3-9039930f3db5"
      },
      "source": [
        "get_sentence_vector(\"与えられた文から文の分散表現を計算します。\")"
      ],
      "execution_count": 27,
      "outputs": [
        {
          "output_type": "execute_result",
          "data": {
            "text/plain": [
              "array([-9.07196164e-01,  5.25513172e-01, -1.59523058e+00, -1.04668438e+00,\n",
              "       -7.37658501e-01,  4.52362657e-01, -3.74935150e-01,  2.58568197e-01,\n",
              "        2.98401900e-03,  6.77360773e-01,  9.50184107e-01,  1.24125063e-01,\n",
              "       -6.43323600e-01,  5.91418371e-02, -1.96929872e-01, -1.85807526e-01,\n",
              "        8.88445042e-03,  4.27624047e-01,  5.24865910e-02,  9.10040498e-01,\n",
              "        1.22919559e+00,  2.63807476e-01,  1.04527056e+00,  3.72870490e-02,\n",
              "        4.92842019e-01, -1.20458901e-01, -1.69820458e-01, -1.04896438e+00,\n",
              "       -1.72844231e-02, -2.08393514e-01, -5.23855150e-01, -2.50866413e-02,\n",
              "       -9.69365537e-01, -5.82301378e-01,  2.11963534e-01,  6.73911929e-01,\n",
              "        6.10183358e-01, -6.55089200e-01, -2.06699863e-01,  4.44268167e-01,\n",
              "       -1.11041689e+00, -6.15052938e-01, -4.94100690e-01, -4.03977185e-02,\n",
              "        6.49147034e-02,  2.19064808e+00, -4.47669998e-02,  4.31178212e-01,\n",
              "       -2.18916893e-01,  4.08492863e-01,  8.20284605e-01, -1.19899631e-01,\n",
              "       -6.76331997e-01,  4.63532686e-01, -5.94915330e-01, -1.66402483e+00,\n",
              "        6.22235596e-01,  5.45216739e-01,  3.88237000e-01,  1.10418987e+00,\n",
              "        1.76875901e+00,  2.78974831e-01,  3.83998513e-01, -4.18723881e-01,\n",
              "        8.28598738e-01,  1.33931613e+00,  2.86034316e-01, -7.23070875e-02,\n",
              "       -2.17371583e-01, -8.78596961e-01,  7.43930578e-01, -3.77971172e-01,\n",
              "        1.61471963e-01, -7.97976851e-01,  6.58996701e-01, -1.33330810e+00,\n",
              "        4.65404272e-01,  2.03922167e-01,  5.37955463e-01,  3.69814634e-01,\n",
              "       -6.54049397e-01, -6.34419680e-01, -5.00511765e-01,  4.39475000e-01,\n",
              "       -1.25409365e-02, -2.47221649e-01,  3.54281783e-01, -5.90043068e-01,\n",
              "        1.00489616e-01,  7.08996207e-02, -1.74415886e-01, -4.98954207e-04,\n",
              "        5.97545505e-01,  6.52022481e-01,  1.06281483e+00, -7.52655625e-01,\n",
              "        1.26731396e-01, -1.77672014e-01,  4.10522789e-01,  1.04076076e+00,\n",
              "        1.05852492e-01,  7.38430396e-03,  2.29326993e-01, -8.15810800e-01,\n",
              "        7.23029137e-01,  6.09211862e-01, -1.92746982e-01, -1.78120434e-01,\n",
              "        5.47897935e-01,  5.63208520e-01,  8.88190985e-01,  1.99953884e-01,\n",
              "       -4.60225046e-01, -5.17429173e-01, -6.48109734e-01,  3.82182181e-01,\n",
              "       -3.48350108e-01,  7.08460152e-01, -1.11640573e+00,  4.33232427e-01,\n",
              "       -4.27813947e-01, -1.39590275e+00, -2.84753710e-01,  4.17302877e-01,\n",
              "        4.06429410e-01, -2.39875793e-01,  1.03405273e+00, -1.97220504e-01,\n",
              "       -1.49579370e+00,  8.67635086e-02,  5.27263522e-01, -7.52282262e-01,\n",
              "        1.60349369e+00,  4.12234545e-01,  7.61776567e-02, -4.33750898e-01,\n",
              "       -2.57082313e-01,  1.37599230e-01,  9.65543985e-01, -1.09309506e+00,\n",
              "        8.20827782e-01, -6.72993362e-02,  2.09162131e-01,  1.30472168e-01,\n",
              "        3.17252815e-01, -1.26128650e+00, -4.91246134e-01,  3.73598427e-01,\n",
              "        1.29254067e+00, -8.46096516e-01, -8.04436147e-01, -4.04113680e-01,\n",
              "       -3.43439579e-01, -9.63762641e-01, -4.50975239e-01, -3.51417601e-01,\n",
              "       -1.20464945e+00,  4.55521107e-01,  1.14177203e+00,  3.00030172e-01,\n",
              "       -5.20557821e-01,  6.80268526e-01,  8.05374861e-01, -5.09819269e-01,\n",
              "        2.35353291e-01, -4.59986269e-01, -2.11792037e-01, -2.72063136e-01,\n",
              "        2.33162075e-01, -4.72088069e-01, -9.22335148e-01, -1.05478726e-01,\n",
              "       -7.36876547e-01, -8.64198059e-02,  7.86904752e-01, -9.94951010e-01,\n",
              "       -2.84896530e-02, -6.93926156e-01,  6.26218259e-01, -3.11980456e-01,\n",
              "        2.25551009e-01,  6.89163268e-01, -4.04719055e-01, -1.49681616e+00,\n",
              "       -1.88228622e-01, -4.62342083e-01, -3.80846977e-01, -1.17688203e+00,\n",
              "       -1.56781697e+00, -2.68780619e-01, -8.84118915e-01,  7.49075592e-01,\n",
              "       -5.28386950e-01,  3.60597044e-01,  2.80413091e-01, -5.22125006e-01,\n",
              "        1.22106969e-01, -2.36034289e-01,  7.63072431e-01,  9.47031140e-01,\n",
              "       -6.77227736e-01,  3.89193773e-01,  1.38344300e+00,  6.22227080e-02,\n",
              "       -5.47395349e-01,  9.07110929e-01, -9.97018069e-02, -7.97859550e-01,\n",
              "       -1.59527630e-01,  1.49312347e-01, -3.97903621e-01,  4.33062822e-01,\n",
              "        2.02583253e-01, -3.25175941e-01, -5.09445071e-02,  7.54550099e-02,\n",
              "       -3.71624649e-01, -1.13312237e-01, -6.62584454e-02,  1.51823282e+00,\n",
              "       -5.31028688e-01, -1.30167812e-01, -3.76846880e-01,  4.47170734e-01,\n",
              "       -7.92455137e-01,  7.15548396e-01, -1.07801580e+00,  6.33112192e-02,\n",
              "        1.36472300e-01,  3.84305865e-01, -8.33884329e-02, -8.96102309e-01,\n",
              "       -5.58376551e-01, -4.40142989e-01,  4.64019865e-01,  6.83354676e-01,\n",
              "        8.81026626e-01,  8.04078460e-01,  8.89922976e-01, -3.71467948e-01,\n",
              "        3.20711792e-01, -9.68627453e-01, -5.38456261e-01,  9.69835997e-01,\n",
              "        4.72280592e-01, -5.21486461e-01, -1.14990366e+00,  7.64390826e-01,\n",
              "        9.28868294e-01, -4.62333322e-01,  1.47213995e+00,  1.00898659e+00,\n",
              "        2.72563901e-02, -3.36002111e-01,  3.66185546e-01, -8.30030024e-01,\n",
              "        8.32708776e-01, -2.09327549e-01,  5.41114569e-01,  5.58973476e-03,\n",
              "       -1.20040941e+00,  1.61149871e+00,  1.34499401e-01, -9.66454387e-01,\n",
              "       -4.99878019e-01, -1.32097936e+00, -1.03940845e+00,  5.52606702e-01,\n",
              "       -1.08305693e-01,  5.09728134e-01,  1.51706231e+00,  5.65819383e-01,\n",
              "       -7.06211567e-01, -8.77725601e-01, -3.38927746e-01, -1.18889248e+00,\n",
              "        8.26294661e-01, -9.32000726e-02, -9.20488477e-01, -5.32240629e-01,\n",
              "       -5.78518391e-01, -1.56149364e+00,  3.84274162e-02, -7.07246363e-03,\n",
              "        4.44644302e-01,  8.62920642e-01, -5.82101524e-01, -4.79684234e-01,\n",
              "        1.04398084e+00,  2.68124670e-01, -1.96507484e-01,  3.03506255e-01,\n",
              "        4.23453748e-01,  9.64615703e-01,  7.58222163e-01, -1.37391782e+00,\n",
              "        6.99704289e-01,  7.45817423e-01, -2.27857262e-01, -1.11903799e+00,\n",
              "        4.21699554e-01, -5.87746978e-01, -8.03090692e-01, -8.35998178e-01,\n",
              "        2.31258348e-01,  6.04064226e-01,  1.58182964e-01,  5.91421127e-01,\n",
              "        7.18783081e-01,  5.93083464e-02, -9.41929638e-01,  1.84901619e+00,\n",
              "       -4.49636951e-03, -3.45709264e-01, -4.79613602e-01, -7.32970238e-01,\n",
              "       -6.14773393e-01,  2.41394579e-01,  9.77207571e-02,  2.89959639e-01,\n",
              "       -7.49141723e-03,  2.59449601e-01, -9.21000838e-01, -3.90978068e-01,\n",
              "       -2.08326548e-01, -2.68734545e-02, -4.99255955e-01, -3.37404571e-02,\n",
              "       -4.79076922e-01, -1.34624034e-01, -8.06931913e-01,  6.82986677e-02,\n",
              "        1.02824315e-01, -9.73080844e-02, -1.13443804e+00, -7.83866942e-02,\n",
              "       -3.99808049e-01,  1.55589700e+00,  8.23544264e-01, -7.23735616e-02,\n",
              "        2.96907693e-01,  5.02331436e-01,  1.59755015e+00,  8.17153275e-01,\n",
              "       -1.29715478e+00, -5.46355367e-01, -2.06397057e-01, -6.14400923e-01,\n",
              "        4.10500884e-01,  5.43019772e-01,  3.34415853e-01,  1.60041839e-01,\n",
              "        2.94566631e-01, -7.26608872e-01, -2.33408570e-01, -2.81374246e-01,\n",
              "        2.52604842e-01, -8.75987053e-01, -1.38904643e+00, -4.42436934e-01,\n",
              "       -2.63867766e-01,  7.06737220e-01,  4.53019917e-01, -2.73108371e-02,\n",
              "        3.36588509e-02,  1.37586355e+00, -1.20362246e+00, -1.05631292e-01,\n",
              "        1.35400915e+00,  5.71197093e-01, -1.90114126e-01, -7.78795123e-01,\n",
              "        9.19416189e-01,  2.91697904e-02,  9.01943326e-01,  3.84946525e-01,\n",
              "       -7.71585166e-01, -2.89146721e-01, -1.03177166e+00, -2.98032202e-02,\n",
              "       -7.87526488e-01, -1.89786255e-01,  1.34823900e-02, -2.08487079e-01,\n",
              "       -4.37452137e-01, -6.64090216e-02, -1.04146540e+00, -1.50142834e-01,\n",
              "       -7.16185391e-01,  9.59681034e-01,  9.59744275e-01,  5.08014448e-02,\n",
              "       -1.04447722e+00, -6.37518167e-01,  3.66442263e-01, -3.82722586e-01,\n",
              "        1.31906402e+00,  1.45001099e-01, -6.41281486e-01, -5.98728836e-01,\n",
              "        7.02860951e-01, -8.84651423e-01,  1.25727117e-01, -3.80322725e-01,\n",
              "        8.64818573e-01, -2.33579785e-01, -2.71141350e-01,  6.46023452e-01,\n",
              "        4.02888745e-01,  6.42238855e-01, -3.75312209e-01,  2.64487922e-01,\n",
              "        3.90019536e-01, -1.21106613e+00, -8.53012681e-01, -4.00401711e-01,\n",
              "       -6.11694194e-02, -1.38907224e-01, -8.29428792e-01,  6.55081630e-01,\n",
              "       -9.51450229e-01, -4.88160968e-01,  3.53118956e-01, -5.24571165e-02,\n",
              "       -3.22272837e-01,  4.67262939e-02, -2.66492575e-01, -6.36002660e-01,\n",
              "       -6.55411661e-01,  4.32623416e-01, -3.66127938e-01, -8.58402967e-01,\n",
              "       -6.70050085e-01,  6.54443324e-01,  9.39720750e-01,  6.13246739e-01,\n",
              "       -6.15882695e-01, -1.92914099e-01, -6.57639563e-01,  2.21031278e-01,\n",
              "       -8.24141264e-01,  4.13941860e-01, -7.74651840e-02, -2.64514890e-02,\n",
              "       -2.43779808e-01, -5.37126064e-01,  2.61405706e-01,  7.12724999e-02,\n",
              "        2.72264540e-01, -5.79714596e-01, -4.35480535e-01, -1.55103058e-01,\n",
              "       -5.11491224e-02, -3.90105546e-01,  2.97166348e-01,  9.47196841e-01,\n",
              "        3.97567034e-01,  2.41590515e-02,  4.95178252e-01,  1.46718532e-01,\n",
              "       -8.70157499e-03, -4.99540329e-01, -1.60992086e-01, -9.78315547e-02,\n",
              "       -7.46041685e-02, -3.34506094e-01,  2.28781834e-01,  2.35305533e-01,\n",
              "        9.51480210e-01, -7.77014494e-01,  7.80179858e-01,  1.57984090e+00,\n",
              "       -5.26371419e-01,  1.25462115e+00,  2.80732781e-01,  4.43960726e-02,\n",
              "        1.07033145e+00,  7.17214108e-01,  2.78863013e-01,  1.43552077e+00,\n",
              "       -5.92890978e-01, -9.66828942e-01,  1.11776233e+00, -9.05957103e-01,\n",
              "       -7.06286073e-01,  2.52632678e-01, -5.22683263e-01,  7.01993942e-01,\n",
              "        7.04333261e-02, -1.70127545e-02, -1.37859195e-01, -6.69845998e-01,\n",
              "       -7.12336421e-01,  9.76877689e-01,  4.38317120e-01,  3.72829139e-01,\n",
              "        2.29631618e-01,  6.98537886e-01, -1.48972118e+00, -1.41212225e+00,\n",
              "        2.14935720e-01, -6.88571334e-01, -1.72185326e+00,  2.53046691e-01,\n",
              "       -3.02843750e-03,  4.17283893e-01,  1.19032502e+00, -4.82820898e-01,\n",
              "        1.04584193e+00,  5.50280452e-01, -5.47211729e-02, -3.44869286e-01,\n",
              "        4.13041323e-01,  7.17264265e-02,  1.14189672e+00,  1.35872215e-01,\n",
              "        3.00453007e-01, -5.30893922e-01, -6.11331344e-01, -6.56886876e-01,\n",
              "        4.44537461e-01,  3.02312434e-01, -1.34964800e+00, -1.83089960e+00,\n",
              "       -5.16354382e-01, -2.99865812e-01, -1.09082192e-01, -2.51416713e-01,\n",
              "       -6.98639080e-02, -3.27998579e-01, -6.69997782e-02,  2.97142752e-03,\n",
              "        4.61454727e-02,  1.45824575e+00, -1.64550662e-01,  7.58643687e-01,\n",
              "        3.25558692e-01,  1.11705029e+00, -1.18035585e-01,  1.24238849e+00,\n",
              "       -2.52013862e-01, -3.23497713e-01, -9.84797716e-01, -3.76876146e-01,\n",
              "       -3.48662108e-01, -9.55700204e-02,  1.05267495e-01,  6.79742098e-01,\n",
              "       -2.93264270e-01, -1.89829624e+00, -2.47145906e-01, -1.78762436e-01,\n",
              "        3.69977385e-01,  2.16267347e-01,  1.26924849e+00,  4.06532377e-01,\n",
              "        4.88776654e-01,  8.36691558e-01,  9.23246801e-01, -1.40163863e+00,\n",
              "       -2.69862354e-01, -4.24703211e-02, -1.81636512e-01, -1.93907227e-02,\n",
              "       -3.63157690e-01,  1.76845968e-01, -6.43755734e-01,  1.99970171e-01,\n",
              "       -1.64425865e-01, -6.70314908e-01, -6.61143243e-01,  1.20270262e-02,\n",
              "        1.39845943e+00,  2.21703053e-01, -2.03347340e-01,  9.53289568e-02,\n",
              "        2.45666221e-01,  3.33943248e-01, -3.74676675e-01,  6.78302169e-01,\n",
              "        4.22626287e-01, -9.09727335e-01,  2.07999527e-01,  6.46250904e-01,\n",
              "        1.32585835e+00,  1.41038701e-01,  1.81187391e-01,  5.26488870e-02,\n",
              "        7.92731166e-01, -5.42079389e-01, -2.66619742e-01, -7.42817879e-01,\n",
              "       -6.22059226e-01,  2.95068741e-01, -6.77054107e-01,  2.11505666e-01,\n",
              "       -9.46459323e-02,  7.47170389e-01,  5.20388126e-01,  7.96892643e-01,\n",
              "       -1.03603721e+00, -2.24181831e-01,  8.16948473e-01,  9.47708607e-01,\n",
              "        4.45876241e-01,  8.44527602e-01,  1.41677290e-01, -3.47409487e-01,\n",
              "        1.40858686e+00,  1.51123464e+00, -2.78107256e-01,  5.30137420e-02,\n",
              "        1.08853199e-01, -6.85754597e-01, -4.33541477e-01, -5.73527813e-01,\n",
              "        6.82092547e-01,  3.87436652e+00,  2.40874827e-01,  3.59275848e-01,\n",
              "        3.47017288e-01,  7.77949572e-01,  3.54132771e-01,  3.57003212e-01,\n",
              "       -4.32151318e-01,  3.30904841e-01,  4.70302075e-01,  3.61075066e-03,\n",
              "        5.77266216e-01,  6.56525850e-01,  6.60118997e-01, -5.86042553e-02,\n",
              "        1.18016720e-01,  1.53856531e-01,  1.73746943e-01,  7.44778365e-02,\n",
              "        2.32326631e-02, -1.46894968e+00,  5.11907339e-01, -5.32880053e-02,\n",
              "        2.04985589e-01,  9.17958498e-01,  6.66859895e-02, -1.40740538e+00,\n",
              "        1.12746942e+00,  2.67345667e-01, -9.62009788e-01,  5.61351538e-01,\n",
              "       -7.04221785e-01,  2.30784938e-01,  1.90473765e-01,  6.35004044e-01,\n",
              "        6.11779809e-01, -2.22828627e-01, -4.19349134e-01, -1.32315457e-01,\n",
              "        3.16109836e-01, -3.59017253e-01,  1.10943270e+00,  6.45069897e-01,\n",
              "       -1.97522059e-01,  7.58598685e-01, -2.68673480e-01,  1.36004853e+00,\n",
              "       -7.10319519e-01, -9.40707028e-01, -8.07601929e-01,  6.86013103e-02,\n",
              "        9.51893851e-02,  9.58141565e-01,  1.76265574e+00, -3.03162724e-01,\n",
              "        4.25716862e-03,  1.14187531e-01,  1.40171498e-01, -1.45872164e+00,\n",
              "       -1.06297982e+00, -1.19455075e+00,  7.45509505e-01,  1.68344140e-01,\n",
              "        9.72283959e-01,  9.67947960e-01, -1.75423831e-01,  5.49903572e-01,\n",
              "       -6.57224655e-01, -3.44387919e-01, -7.24787712e-01,  1.15853453e+00,\n",
              "       -1.10041726e+00, -5.83044410e-01, -3.13165128e-01,  4.26296592e-01,\n",
              "        1.58652341e+00,  4.74717170e-01,  3.92290294e-01,  4.24212754e-01,\n",
              "        2.57469565e-01, -6.99686766e-01, -7.26174593e-01,  6.47635698e-01,\n",
              "        6.08678818e-01, -1.62953213e-02, -3.44457924e-01, -1.79395005e-01,\n",
              "       -1.19854547e-01,  7.72854090e-01, -3.19424450e-01,  7.75444806e-01,\n",
              "        4.72309381e-01, -4.18294817e-02,  3.25933546e-01,  8.42086196e-01,\n",
              "        9.70997989e-01,  2.64360249e-01,  2.32165486e-01, -8.07774812e-03,\n",
              "        2.45903969e-01, -1.55162799e+00,  1.24258742e-01, -8.30604076e-01,\n",
              "        6.39450997e-02,  4.67584908e-01,  4.54716891e-01,  1.65489882e-01,\n",
              "       -2.30607033e-01, -1.69386172e+00, -6.70911074e-01,  3.09009463e-01,\n",
              "        1.01871645e+00,  4.86127526e-01, -5.51107526e-01,  1.05263090e+00,\n",
              "       -3.82871866e-01, -4.84713435e-01,  1.68787435e-01,  7.99815476e-01,\n",
              "        4.21716154e-01,  3.65630597e-01,  5.36288321e-01, -6.90327048e-01,\n",
              "        1.29311994e-01,  2.15406820e-01, -2.46198878e-01, -6.62897110e-01,\n",
              "        1.13298245e-01, -7.22848058e-01,  9.01581287e-01,  6.73586249e-01,\n",
              "       -4.46720362e-01,  1.14401197e+00,  3.83407950e-01, -3.05291325e-01,\n",
              "       -5.26917219e-01,  1.58556724e+00, -1.59113550e+00, -2.16863602e-01,\n",
              "       -4.17960733e-02,  5.48777044e-01, -3.79388928e-01, -2.52269208e-02,\n",
              "       -6.96324825e-01, -6.35497928e-01, -7.59641290e-01, -7.46001303e-01,\n",
              "       -1.20387964e-01, -1.19225228e+00, -8.71069074e-01, -3.44997585e-01],\n",
              "      dtype=float32)"
            ]
          },
          "metadata": {},
          "execution_count": 27
        }
      ]
    },
    {
      "cell_type": "markdown",
      "metadata": {
        "id": "GFMXDGYeoqNB"
      },
      "source": [
        "## 説明文の分散表現の計算実行\n",
        "\n",
        "画像メタデータに説明文の分散表現を追加します。"
      ]
    },
    {
      "cell_type": "code",
      "metadata": {
        "id": "jxi0CKEwhudM",
        "colab": {
          "base_uri": "https://localhost:8080/"
        },
        "outputId": "c7021e61-da93-4988-fd62-94614ade9a5f"
      },
      "source": [
        "from tqdm import tqdm\n",
        "for item in tqdm(items):\n",
        "    desc = item[\"desc\"]\n",
        "    desc_vec = get_sentence_vector(desc)\n",
        "    item[\"vec\"] = desc_vec"
      ],
      "execution_count": 28,
      "outputs": [
        {
          "output_type": "stream",
          "name": "stderr",
          "text": [
            "100%|██████████| 25007/25007 [04:44<00:00, 87.99it/s]\n"
          ]
        }
      ]
    },
    {
      "cell_type": "markdown",
      "metadata": {
        "id": "bs8RGc3omSWu"
      },
      "source": [
        "## コサイン類似度の定義\n",
        "\n",
        "今回は、文の意味の近さを、文の分散表現のコサイン類似度によって測ります。  \n",
        "文の意味が近ければ、文の分散表現（ベクトル）v1とv2が近くなるという定性的性質を、ベクトルの成す角のcosによって測るということです。"
      ]
    },
    {
      "cell_type": "code",
      "metadata": {
        "id": "Offh5t0egMMf"
      },
      "source": [
        "import numpy as np\n",
        "\n",
        "def cos_sim(v1, v2):\n",
        "    v1 = v1 / np.linalg.norm(v1, axis=0, ord=2)\n",
        "    v2 = v2 / np.linalg.norm(v2, axis=0, ord=2)\n",
        "    return np.sum(v1 * v2)"
      ],
      "execution_count": 29,
      "outputs": []
    },
    {
      "cell_type": "markdown",
      "metadata": {
        "id": "Qc4hRErho2Hg"
      },
      "source": [
        "## 画像検索結果GUIの定義\n",
        "\n",
        "最後のステップです。画像を検索する関数を定義します。  \n",
        "いままで作った関数を使えば、次の処理からなる検索アルゴリズム（最初の図も参照）を簡単に実装できますね。  \n",
        "\n",
        "1. 与えられた文から文の分散表現を計算する。\n",
        "2. その分散表現と、説明文の分散表現の間のコサイン類似度を計算する。\n",
        "3. コサイン類似度の高い順に画像の関連情報を表示する。\n",
        "\n",
        "**※なお「いらすとや」さんの広告収入モデルに悪影響を与えないよう、必ず「いらすとや」さんのページへのリンクを張り、画像のダウンロードは「いらすとや」さんのページから行うようにしましょう。その他、[「いらすとや」さんの利用規約](https://www.irasutoya.com/p/terms.html)に違反しないよう十分ご注意ください。**\n"
      ]
    },
    {
      "cell_type": "code",
      "metadata": {
        "id": "DERnyNfUhzuw"
      },
      "source": [
        "from IPython.display import display, HTML, clear_output\n",
        "from html import escape\n",
        "import numpy as np\n",
        "\n",
        "def search_irasuto(sentence, top_n=3):\n",
        "    sentence_vector = get_sentence_vector(sentence)\n",
        "    sims = []\n",
        "    if sentence_vector is None:\n",
        "        print(\"検索できない文章です。もう少し文章を長くしてみてください。\")\n",
        "    else:\n",
        "        for item in items:\n",
        "            v = item[\"vec\"]\n",
        "            if v is None:\n",
        "                sims.append(-1.0)\n",
        "            else:\n",
        "                sim = cos_sim(sentence_vector, v)\n",
        "                sims.append(sim)\n",
        "    \n",
        "    count = 0\n",
        "    for index in np.argsort(sims)[::-1]:\n",
        "        if count >= top_n:\n",
        "            break\n",
        "        item = items[index]\n",
        "        desc = escape(item[\"desc\"])\n",
        "        imgs = item[\"imgs\"]\n",
        "        if len(imgs) == 0:\n",
        "            continue\n",
        "        img = imgs[0]\n",
        "        page = item[\"page\"]\n",
        "        sim = sims[index]\n",
        "        display(HTML(\"<div><a href='\" + page + \"' target='_blank' rel='noopener noreferrer'><img src='\" + img + \"' width='100'>\" + str(sim) + \": \" + desc + \"</a><div>\"))\n",
        "        count += 1"
      ],
      "execution_count": 30,
      "outputs": []
    },
    {
      "cell_type": "markdown",
      "metadata": {
        "id": "Sf2zNh0_pICu"
      },
      "source": [
        "## アプリの動作確認\n",
        "\n",
        "さあ、これでアルゴリズムは完成しました。早速、試してみましょう。  "
      ]
    },
    {
      "cell_type": "code",
      "metadata": {
        "id": "yKIhqhnBh3U6",
        "colab": {
          "base_uri": "https://localhost:8080/",
          "height": 566
        },
        "outputId": "b618612f-42e0-49cb-bfd5-04ec01d4da08"
      },
      "source": [
        "search_irasuto(sentence=\"暴走したAI\", top_n=5)"
      ],
      "execution_count": 31,
      "outputs": [
        {
          "output_type": "display_data",
          "data": {
            "text/plain": [
              "<IPython.core.display.HTML object>"
            ],
            "text/html": [
              "<div><a href='https://www.irasutoya.com/2018/01/ai_67.html' target='_blank' rel='noopener noreferrer'><img src='https://3.bp.blogspot.com/-C2s0Odthnhs/WlGpE022cNI/AAAAAAABJkQ/O3rwM1BtFtYUkf83QIarn9eiHA7jLgHSwCLcBGAs/s400/ai_heart_kokoro.png' width='100'>0.6135173: 感情を持ってしまったAI（人工知能）のイラストです。</a><div>"
            ]
          },
          "metadata": {}
        },
        {
          "output_type": "display_data",
          "data": {
            "text/plain": [
              "<IPython.core.display.HTML object>"
            ],
            "text/html": [
              "<div><a href='https://www.irasutoya.com/2018/01/ai_24.html' target='_blank' rel='noopener noreferrer'><img src='https://1.bp.blogspot.com/-_8SYZZElKrs/WlGpFpPYlHI/AAAAAAABJkY/f2nT1BHBhUMzI_iztmoUPpLZdbl5TDENwCLcBGAs/s400/ai_vs_ai_fight.png' width='100'>0.58708584: AI（人工知能）のキャラクター同士で戦っているイラストです。</a><div>"
            ]
          },
          "metadata": {}
        },
        {
          "output_type": "display_data",
          "data": {
            "text/plain": [
              "<IPython.core.display.HTML object>"
            ],
            "text/html": [
              "<div><a href='https://www.irasutoya.com/2018/03/ai_23.html' target='_blank' rel='noopener noreferrer'><img src='https://1.bp.blogspot.com/-fyYoL91_tQo/Wp0Nn-VLocI/AAAAAAABKiI/3J2ywEvlbwIhjFNsmF8qpluPOg2it_HAQCLcBGAs/s450/ai_kanabou_buki.png' width='100'>0.5236771: 人類に反乱を起こそうと企てているAI（人工知能）のキャラクターです。</a><div>"
            ]
          },
          "metadata": {}
        },
        {
          "output_type": "display_data",
          "data": {
            "text/plain": [
              "<IPython.core.display.HTML object>"
            ],
            "text/html": [
              "<div><a href='https://www.irasutoya.com/2018/08/blog-post_828.html' target='_blank' rel='noopener noreferrer'><img src='https://2.bp.blogspot.com/-PHW69E8l4DE/W2aRKUoipoI/AAAAAAABN2k/zRj1nHf71DgPbFtA7IiI8UVPrCSqpS69ACLcBGAs/s550/ai_oinukareru_singularity.png' width='100'>0.4921878: 人工知能（AI）が人類の知性を超え、さらに予測のできない無限の進化をし始めるといわれる段階を表す、シンギュラリティ（技術的特異点）のイラストです。</a><div>"
            ]
          },
          "metadata": {}
        },
        {
          "output_type": "display_data",
          "data": {
            "text/plain": [
              "<IPython.core.display.HTML object>"
            ],
            "text/html": [
              "<div><a href='https://www.irasutoya.com/2016/12/blog-post_607.html' target='_blank' rel='noopener noreferrer'><img src='https://2.bp.blogspot.com/--RIb-pd-Kdg/WFtH6Um3jmI/AAAAAAABAmQ/wRiSA1kKc8MBYEaEonmSbwB2UZAaiwhwACLcB/s400/ai_kenka.png' width='100'>0.4661097: 人工知能（AI）のキャラクターと人間がつかみ合いの喧嘩をしているイラストです。</a><div>"
            ]
          },
          "metadata": {}
        }
      ]
    },
    {
      "cell_type": "code",
      "metadata": {
        "id": "CI-7oNwlh-zK",
        "colab": {
          "base_uri": "https://localhost:8080/",
          "height": 468
        },
        "outputId": "dca37f3b-c366-4cd2-b2d8-de6b0024ade0"
      },
      "source": [
        "search_irasuto(sentence=\"リモートワークで勉強会\", top_n=5)"
      ],
      "execution_count": 32,
      "outputs": [
        {
          "output_type": "display_data",
          "data": {
            "text/plain": [
              "<IPython.core.display.HTML object>"
            ],
            "text/html": [
              "<div><a href='https://www.irasutoya.com/2017/10/e_20.html' target='_blank' rel='noopener noreferrer'><img src='https://1.bp.blogspot.com/-7UuDOn6CFRY/Wc8fntN-PQI/AAAAAAABHHM/FXmIHaakG3ALVyGuN2x4CVzsomhk0r5SwCLcBGAs/s400/internet_school_e-learning_foreign_woman.png' width='100'>0.58582914: オンラインで受けられる英語の授業（講義・ウェブセミナー）がパソコンの画面に映っているイラストです。</a><div>"
            ]
          },
          "metadata": {}
        },
        {
          "output_type": "display_data",
          "data": {
            "text/plain": [
              "<IPython.core.display.HTML object>"
            ],
            "text/html": [
              "<div><a href='https://www.irasutoya.com/2018/06/e_29.html' target='_blank' rel='noopener noreferrer'><img src='https://2.bp.blogspot.com/-VMOuI_489gk/WxvJyQGGmWI/AAAAAAABMj0/TQSJlPyt55IDIHxYxV0CTdd7c6xRxNnYACLcBGAs/s450/e-learning_smartphone_man.png' width='100'>0.58071864: スマホで見れるオンライン授業（ウェブセミナー）を教えている男性講師のイラストです。</a><div>"
            ]
          },
          "metadata": {}
        },
        {
          "output_type": "display_data",
          "data": {
            "text/plain": [
              "<IPython.core.display.HTML object>"
            ],
            "text/html": [
              "<div><a href='https://www.irasutoya.com/2020/04/blog-post_250.html' target='_blank' rel='noopener noreferrer'><img src='https://1.bp.blogspot.com/-6pDrDpYKUCg/Xor0RTjWgtI/AAAAAAABYL0/-y57hak6vKEhfrtHwOashooPxNMUaYJ8ACNcBGAsYHQ/s400/online_kaigi_man.png' width='100'>0.5776582: テレワーク（在宅勤務）をしている人がパソコンやテレビを使ってWEB会議をしているイラストです。</a><div>"
            ]
          },
          "metadata": {}
        },
        {
          "output_type": "display_data",
          "data": {
            "text/plain": [
              "<IPython.core.display.HTML object>"
            ],
            "text/html": [
              "<div><a href='https://www.irasutoya.com/2017/10/e_21.html' target='_blank' rel='noopener noreferrer'><img src='https://4.bp.blogspot.com/-tU8uNcU8ZDc/Wc8fn8-YGtI/AAAAAAABHHI/YQ9cTvsXzpMSZunR3oOVzqhhGg6iKeVQQCLcBGAs/s400/internet_school_e-learning_man.png' width='100'>0.5739362: 男性講師（教師）がオンラインで講義（授業・ウェブセミナー）をしているイラストです。</a><div>"
            ]
          },
          "metadata": {}
        },
        {
          "output_type": "display_data",
          "data": {
            "text/plain": [
              "<IPython.core.display.HTML object>"
            ],
            "text/html": [
              "<div><a href='https://www.irasutoya.com/2016/04/blog-post_27.html' target='_blank' rel='noopener noreferrer'><img src='https://3.bp.blogspot.com/-MIGXSKcZfFw/VvKZBuQcj7I/AAAAAAAA5Eo/3wvlXmTWUMQZOpOd49dKNuGXLVxVpArXw/s400/juken_rounin.png' width='100'>0.5552651: ちゃんちゃんこを着て夜な夜な勉強をする、受験生（浪人生）のイラストです。</a><div>"
            ]
          },
          "metadata": {}
        }
      ]
    },
    {
      "cell_type": "code",
      "metadata": {
        "id": "v_YeSrnah5k6",
        "colab": {
          "base_uri": "https://localhost:8080/",
          "height": 640
        },
        "outputId": "88d0ae65-2e22-4fb6-e26b-ed1e3bedb3a5"
      },
      "source": [
        "search_irasuto(sentence=\"いらすとやさんに惜しみない拍手を\", top_n=5)"
      ],
      "execution_count": 34,
      "outputs": [
        {
          "output_type": "display_data",
          "data": {
            "text/plain": [
              "<IPython.core.display.HTML object>"
            ],
            "text/html": [
              "<div><a href='https://www.irasutoya.com/2015/01/blog-post_999.html' target='_blank' rel='noopener noreferrer'><img src='https://4.bp.blogspot.com/-GtjTLp56u_0/VJ6XZcw50aI/AAAAAAAAqKU/4oPlYcWPNoA/s450/figure_hakusyu.png' width='100'>0.7213849: ぱちぱちと拍手をしている棒人間のイラストです。</a><div>"
            ]
          },
          "metadata": {}
        },
        {
          "output_type": "display_data",
          "data": {
            "text/plain": [
              "<IPython.core.display.HTML object>"
            ],
            "text/html": [
              "<div><a href='https://www.irasutoya.com/2015/01/blog-post_883.html' target='_blank' rel='noopener noreferrer'><img src='https://4.bp.blogspot.com/-PSd2xMIqM5M/VJ6Xcu17JhI/AAAAAAAAqLE/wSlWHEFvLIg/s400/hakusyu.png' width='100'>0.58870757: 笑顔で拍手を送っている男性のイラストです。</a><div>"
            ]
          },
          "metadata": {}
        },
        {
          "output_type": "display_data",
          "data": {
            "text/plain": [
              "<IPython.core.display.HTML object>"
            ],
            "text/html": [
              "<div><a href='https://www.irasutoya.com/2013/06/thank-you.html' target='_blank' rel='noopener noreferrer'><img src='https://2.bp.blogspot.com/-ihEGPBUkEN8/UWykjlrkseI/AAAAAAAAQkM/CDXGLrzxN3c/s400/message_thank_you.png' width='100'>0.5728079: きらきらと輝く「THANK YOU」という文字が描かれた、メッセージのイラストです。</a><div>"
            ]
          },
          "metadata": {}
        },
        {
          "output_type": "display_data",
          "data": {
            "text/plain": [
              "<IPython.core.display.HTML object>"
            ],
            "text/html": [
              "<div><a href='https://www.irasutoya.com/2015/07/blog-post_719.html' target='_blank' rel='noopener noreferrer'><img src='https://4.bp.blogspot.com/-44UxQKbXHSw/VYJrV-7l6FI/AAAAAAAAubU/9Gt4BwGF0Qk/s300/pyoko1-1_smile.png' width='100'>0.5612179: ぴょこの表情のイラスト「通常・怒った・泣いた・笑った」</a><div>"
            ]
          },
          "metadata": {}
        },
        {
          "output_type": "display_data",
          "data": {
            "text/plain": [
              "<IPython.core.display.HTML object>"
            ],
            "text/html": [
              "<div><a href='https://www.irasutoya.com/2016/05/blog-post_51.html' target='_blank' rel='noopener noreferrer'><img src='https://1.bp.blogspot.com/-yZWRaUcN7Os/VycdqEBDMZI/AAAAAAAA6Sc/vakco09cS9YY_gnsTjs58ocmvvWOE79RwCLcB/s350/hakusyu_boy1.png' width='100'>0.56018037: 男の子が拍手をしている様子を描いたイラストです。</a><div>"
            ]
          },
          "metadata": {}
        }
      ]
    },
    {
      "cell_type": "code",
      "metadata": {
        "id": "TI9ReUvOv2G0"
      },
      "source": [
        ""
      ],
      "execution_count": 33,
      "outputs": []
    }
  ]
}